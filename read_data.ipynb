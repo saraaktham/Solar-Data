{
 "cells": [
  {
   "cell_type": "code",
   "execution_count": 83,
   "metadata": {},
   "outputs": [],
   "source": [
    "import sys, os\n",
    "import pandas as pd\n",
    "import numpy as np\n",
    "\n",
    "from IPython.display import display"
   ]
  },
  {
   "cell_type": "code",
   "execution_count": 84,
   "metadata": {},
   "outputs": [],
   "source": [
    "# Declare all variables as strings. Spaces must be replaced with '+', i.e., change 'John Smith' to 'John+Smith'.\n",
    "# Define the lat, long of the location and the year\n",
    "\n",
    "p1_lat, p1_lon = 39.835694, -105.359097\n",
    "p2_lat, p2_lon = 39.855119, -105.297783\n",
    "p3_lat, p3_lon = 39.655210, -105.402332\n",
    "p4_lat, p4_lon = 39.965930, -105.440591\n",
    "\n",
    "# You must request an NSRDB api key from the link above\n",
    "api_key = '1gHoGjlIGeXbQOpiunnlRrJS9vYYb490MA4n9X7s'\n",
    "# Set the attributes to extract (e.g., dhi, ghi, etc.), separated by commas.\n",
    "attributes = 'air_temperature,solar_zenith_angle,dew_point,relative_humidity,surface_albedo,surface_pressure,total_precipitable_water,wind_speed,wind_direction,ghi,dhi,dni'\n",
    "   \n",
    "# Choose year of data\n",
    "year = '2010'\n",
    "# Set leap year to true or false. True will return leap day data if present, false will not.\n",
    "leap_year = 'false'\n",
    "# Set time interval in minutes, i.e., '30' is half hour intervals. Valid intervals are 30 & 60.\n",
    "interval = '30'\n",
    "# Specify Coordinated Universal Time (UTC), 'true' will use UTC, 'false' will use the local time zone of the data.\n",
    "# NOTE: In order to use the NSRDB data in SAM, you must specify UTC as 'false'. SAM requires the data to be in the\n",
    "# local time zone.\n",
    "utc = 'false'\n",
    "# Your full name, use '+' instead of spaces.\n",
    "your_name = 'Sara+Abouelella'\n",
    "# Your reason for using the NSRDB.\n",
    "reason_for_use = 'interview'\n",
    "# Your affiliation\n",
    "your_affiliation = 'student'\n",
    "# Your email address\n",
    "your_email = 'sabouelella3@gatech.edu'\n",
    "# Please join our mailing list so we can keep you up-to-date on new developments.\n",
    "mailing_list = 'false'\n",
    "\n",
    "# Declare url string\n",
    "url = 'https://developer.nrel.gov/api/nsrdb/v2/solar/psm3-download.csv?wkt=POINT({lon}%20{lat})&names={year}&leap_day={leap}&interval={interval}&utc={utc}&full_name={name}&email={email}&affiliation={affiliation}&mailing_list={mailing_list}&reason={reason}&api_key={api}&attributes={attr}'.format(year=year, lat=p4_lat, lon=p4_lon, leap=leap_year, interval=interval, utc=utc, name=your_name, email=your_email, mailing_list=mailing_list, affiliation=your_affiliation, reason=reason_for_use, api=api_key, attr=attributes)\n",
    "# Return just the first 2 lines to get metadata:\n",
    "info = pd.read_csv(url, nrows=1)\n",
    "# See metadata for specified properties, e.g., timezone and elevation\n",
    "timezone, elevation = info['Local Time Zone'], info['Elevation']"
   ]
  },
  {
   "cell_type": "code",
   "execution_count": 85,
   "metadata": {},
   "outputs": [
    {
     "data": {
      "text/html": [
       "<div>\n",
       "<style scoped>\n",
       "    .dataframe tbody tr th:only-of-type {\n",
       "        vertical-align: middle;\n",
       "    }\n",
       "\n",
       "    .dataframe tbody tr th {\n",
       "        vertical-align: top;\n",
       "    }\n",
       "\n",
       "    .dataframe thead th {\n",
       "        text-align: right;\n",
       "    }\n",
       "</style>\n",
       "<table border=\"1\" class=\"dataframe\">\n",
       "  <thead>\n",
       "    <tr style=\"text-align: right;\">\n",
       "      <th></th>\n",
       "      <th>Source</th>\n",
       "      <th>Location ID</th>\n",
       "      <th>City</th>\n",
       "      <th>State</th>\n",
       "      <th>Country</th>\n",
       "      <th>Latitude</th>\n",
       "      <th>Longitude</th>\n",
       "      <th>Time Zone</th>\n",
       "      <th>Elevation</th>\n",
       "      <th>Local Time Zone</th>\n",
       "      <th>...</th>\n",
       "      <th>Cloud Type 11</th>\n",
       "      <th>Cloud Type 12</th>\n",
       "      <th>Fill Flag 0</th>\n",
       "      <th>Fill Flag 1</th>\n",
       "      <th>Fill Flag 2</th>\n",
       "      <th>Fill Flag 3</th>\n",
       "      <th>Fill Flag 4</th>\n",
       "      <th>Fill Flag 5</th>\n",
       "      <th>Surface Albedo Units</th>\n",
       "      <th>Version</th>\n",
       "    </tr>\n",
       "  </thead>\n",
       "  <tbody>\n",
       "    <tr>\n",
       "      <th>0</th>\n",
       "      <td>NSRDB</td>\n",
       "      <td>148698</td>\n",
       "      <td>-</td>\n",
       "      <td>-</td>\n",
       "      <td>-</td>\n",
       "      <td>39.97</td>\n",
       "      <td>-105.46</td>\n",
       "      <td>-7</td>\n",
       "      <td>2529</td>\n",
       "      <td>-7</td>\n",
       "      <td>...</td>\n",
       "      <td>Dust</td>\n",
       "      <td>Smoke</td>\n",
       "      <td>NaN</td>\n",
       "      <td>Missing Image</td>\n",
       "      <td>Low Irradiance</td>\n",
       "      <td>Exceeds Clearsky</td>\n",
       "      <td>Missing CLoud Properties</td>\n",
       "      <td>Rayleigh Violation</td>\n",
       "      <td>NaN</td>\n",
       "      <td>3.0.6</td>\n",
       "    </tr>\n",
       "  </tbody>\n",
       "</table>\n",
       "<p>1 rows × 46 columns</p>\n",
       "</div>"
      ],
      "text/plain": [
       "  Source  Location ID City State Country  Latitude  Longitude  Time Zone  \\\n",
       "0  NSRDB       148698    -     -       -     39.97    -105.46         -7   \n",
       "\n",
       "   Elevation  Local Time Zone  ... Cloud Type 11 Cloud Type 12 Fill Flag 0  \\\n",
       "0       2529               -7  ...          Dust         Smoke         NaN   \n",
       "\n",
       "     Fill Flag 1     Fill Flag 2       Fill Flag 3               Fill Flag 4  \\\n",
       "0  Missing Image  Low Irradiance  Exceeds Clearsky  Missing CLoud Properties   \n",
       "\n",
       "          Fill Flag 5 Surface Albedo Units Version  \n",
       "0  Rayleigh Violation                  NaN   3.0.6  \n",
       "\n",
       "[1 rows x 46 columns]"
      ]
     },
     "execution_count": 85,
     "metadata": {},
     "output_type": "execute_result"
    }
   ],
   "source": [
    "# View metadata\n",
    "info"
   ]
  },
  {
   "cell_type": "code",
   "execution_count": 86,
   "metadata": {},
   "outputs": [
    {
     "name": "stdout",
     "output_type": "stream",
     "text": [
      "shape: (17520, 17)\n"
     ]
    },
    {
     "data": {
      "text/html": [
       "<div>\n",
       "<style scoped>\n",
       "    .dataframe tbody tr th:only-of-type {\n",
       "        vertical-align: middle;\n",
       "    }\n",
       "\n",
       "    .dataframe tbody tr th {\n",
       "        vertical-align: top;\n",
       "    }\n",
       "\n",
       "    .dataframe thead th {\n",
       "        text-align: right;\n",
       "    }\n",
       "</style>\n",
       "<table border=\"1\" class=\"dataframe\">\n",
       "  <thead>\n",
       "    <tr style=\"text-align: right;\">\n",
       "      <th></th>\n",
       "      <th>Year</th>\n",
       "      <th>Month</th>\n",
       "      <th>Day</th>\n",
       "      <th>Hour</th>\n",
       "      <th>Minute</th>\n",
       "      <th>Temperature</th>\n",
       "      <th>Solar Zenith Angle</th>\n",
       "      <th>Dew Point</th>\n",
       "      <th>Relative Humidity</th>\n",
       "      <th>Surface Albedo</th>\n",
       "      <th>Pressure</th>\n",
       "      <th>Precipitable Water</th>\n",
       "      <th>Wind Speed</th>\n",
       "      <th>Wind Direction</th>\n",
       "      <th>GHI</th>\n",
       "      <th>DHI</th>\n",
       "      <th>DNI</th>\n",
       "    </tr>\n",
       "  </thead>\n",
       "  <tbody>\n",
       "    <tr>\n",
       "      <th>2010-01-01 00:00:00</th>\n",
       "      <td>2010</td>\n",
       "      <td>1</td>\n",
       "      <td>1</td>\n",
       "      <td>0</td>\n",
       "      <td>0</td>\n",
       "      <td>-10</td>\n",
       "      <td>163.12</td>\n",
       "      <td>-16</td>\n",
       "      <td>59.53</td>\n",
       "      <td>0.866</td>\n",
       "      <td>750</td>\n",
       "      <td>0.479</td>\n",
       "      <td>3.8</td>\n",
       "      <td>267.3</td>\n",
       "      <td>0</td>\n",
       "      <td>0</td>\n",
       "      <td>0</td>\n",
       "    </tr>\n",
       "    <tr>\n",
       "      <th>2010-01-01 00:30:00</th>\n",
       "      <td>2010</td>\n",
       "      <td>1</td>\n",
       "      <td>1</td>\n",
       "      <td>0</td>\n",
       "      <td>30</td>\n",
       "      <td>-10</td>\n",
       "      <td>162.32</td>\n",
       "      <td>-16</td>\n",
       "      <td>55.02</td>\n",
       "      <td>0.866</td>\n",
       "      <td>750</td>\n",
       "      <td>0.486</td>\n",
       "      <td>3.8</td>\n",
       "      <td>267.3</td>\n",
       "      <td>0</td>\n",
       "      <td>0</td>\n",
       "      <td>0</td>\n",
       "    </tr>\n",
       "    <tr>\n",
       "      <th>2010-01-01 01:00:00</th>\n",
       "      <td>2010</td>\n",
       "      <td>1</td>\n",
       "      <td>1</td>\n",
       "      <td>1</td>\n",
       "      <td>0</td>\n",
       "      <td>-10</td>\n",
       "      <td>159.50</td>\n",
       "      <td>-16</td>\n",
       "      <td>55.62</td>\n",
       "      <td>0.866</td>\n",
       "      <td>750</td>\n",
       "      <td>0.493</td>\n",
       "      <td>3.9</td>\n",
       "      <td>268.8</td>\n",
       "      <td>0</td>\n",
       "      <td>0</td>\n",
       "      <td>0</td>\n",
       "    </tr>\n",
       "    <tr>\n",
       "      <th>2010-01-01 01:30:00</th>\n",
       "      <td>2010</td>\n",
       "      <td>1</td>\n",
       "      <td>1</td>\n",
       "      <td>1</td>\n",
       "      <td>30</td>\n",
       "      <td>-9</td>\n",
       "      <td>155.34</td>\n",
       "      <td>-16</td>\n",
       "      <td>55.63</td>\n",
       "      <td>0.866</td>\n",
       "      <td>750</td>\n",
       "      <td>0.501</td>\n",
       "      <td>3.9</td>\n",
       "      <td>268.8</td>\n",
       "      <td>0</td>\n",
       "      <td>0</td>\n",
       "      <td>0</td>\n",
       "    </tr>\n",
       "    <tr>\n",
       "      <th>2010-01-01 02:00:00</th>\n",
       "      <td>2010</td>\n",
       "      <td>1</td>\n",
       "      <td>1</td>\n",
       "      <td>2</td>\n",
       "      <td>0</td>\n",
       "      <td>-9</td>\n",
       "      <td>150.42</td>\n",
       "      <td>-15</td>\n",
       "      <td>57.88</td>\n",
       "      <td>0.866</td>\n",
       "      <td>750</td>\n",
       "      <td>0.509</td>\n",
       "      <td>3.9</td>\n",
       "      <td>270.0</td>\n",
       "      <td>0</td>\n",
       "      <td>0</td>\n",
       "      <td>0</td>\n",
       "    </tr>\n",
       "    <tr>\n",
       "      <th>2010-01-01 02:30:00</th>\n",
       "      <td>2010</td>\n",
       "      <td>1</td>\n",
       "      <td>1</td>\n",
       "      <td>2</td>\n",
       "      <td>30</td>\n",
       "      <td>-9</td>\n",
       "      <td>145.08</td>\n",
       "      <td>-15</td>\n",
       "      <td>53.54</td>\n",
       "      <td>0.866</td>\n",
       "      <td>750</td>\n",
       "      <td>0.516</td>\n",
       "      <td>3.8</td>\n",
       "      <td>270.0</td>\n",
       "      <td>0</td>\n",
       "      <td>0</td>\n",
       "      <td>0</td>\n",
       "    </tr>\n",
       "    <tr>\n",
       "      <th>2010-01-01 03:00:00</th>\n",
       "      <td>2010</td>\n",
       "      <td>1</td>\n",
       "      <td>1</td>\n",
       "      <td>3</td>\n",
       "      <td>0</td>\n",
       "      <td>-9</td>\n",
       "      <td>139.51</td>\n",
       "      <td>-14</td>\n",
       "      <td>57.22</td>\n",
       "      <td>0.866</td>\n",
       "      <td>750</td>\n",
       "      <td>0.523</td>\n",
       "      <td>3.8</td>\n",
       "      <td>270.0</td>\n",
       "      <td>0</td>\n",
       "      <td>0</td>\n",
       "      <td>0</td>\n",
       "    </tr>\n",
       "    <tr>\n",
       "      <th>2010-01-01 03:30:00</th>\n",
       "      <td>2010</td>\n",
       "      <td>1</td>\n",
       "      <td>1</td>\n",
       "      <td>3</td>\n",
       "      <td>30</td>\n",
       "      <td>-9</td>\n",
       "      <td>133.81</td>\n",
       "      <td>-14</td>\n",
       "      <td>57.23</td>\n",
       "      <td>0.866</td>\n",
       "      <td>750</td>\n",
       "      <td>0.527</td>\n",
       "      <td>3.7</td>\n",
       "      <td>270.0</td>\n",
       "      <td>0</td>\n",
       "      <td>0</td>\n",
       "      <td>0</td>\n",
       "    </tr>\n",
       "  </tbody>\n",
       "</table>\n",
       "</div>"
      ],
      "text/plain": [
       "                     Year  Month  Day  Hour  Minute  Temperature  \\\n",
       "2010-01-01 00:00:00  2010      1    1     0       0          -10   \n",
       "2010-01-01 00:30:00  2010      1    1     0      30          -10   \n",
       "2010-01-01 01:00:00  2010      1    1     1       0          -10   \n",
       "2010-01-01 01:30:00  2010      1    1     1      30           -9   \n",
       "2010-01-01 02:00:00  2010      1    1     2       0           -9   \n",
       "2010-01-01 02:30:00  2010      1    1     2      30           -9   \n",
       "2010-01-01 03:00:00  2010      1    1     3       0           -9   \n",
       "2010-01-01 03:30:00  2010      1    1     3      30           -9   \n",
       "\n",
       "                     Solar Zenith Angle  Dew Point  Relative Humidity  \\\n",
       "2010-01-01 00:00:00              163.12        -16              59.53   \n",
       "2010-01-01 00:30:00              162.32        -16              55.02   \n",
       "2010-01-01 01:00:00              159.50        -16              55.62   \n",
       "2010-01-01 01:30:00              155.34        -16              55.63   \n",
       "2010-01-01 02:00:00              150.42        -15              57.88   \n",
       "2010-01-01 02:30:00              145.08        -15              53.54   \n",
       "2010-01-01 03:00:00              139.51        -14              57.22   \n",
       "2010-01-01 03:30:00              133.81        -14              57.23   \n",
       "\n",
       "                     Surface Albedo  Pressure  Precipitable Water  Wind Speed  \\\n",
       "2010-01-01 00:00:00           0.866       750               0.479         3.8   \n",
       "2010-01-01 00:30:00           0.866       750               0.486         3.8   \n",
       "2010-01-01 01:00:00           0.866       750               0.493         3.9   \n",
       "2010-01-01 01:30:00           0.866       750               0.501         3.9   \n",
       "2010-01-01 02:00:00           0.866       750               0.509         3.9   \n",
       "2010-01-01 02:30:00           0.866       750               0.516         3.8   \n",
       "2010-01-01 03:00:00           0.866       750               0.523         3.8   \n",
       "2010-01-01 03:30:00           0.866       750               0.527         3.7   \n",
       "\n",
       "                     Wind Direction  GHI  DHI  DNI  \n",
       "2010-01-01 00:00:00           267.3    0    0    0  \n",
       "2010-01-01 00:30:00           267.3    0    0    0  \n",
       "2010-01-01 01:00:00           268.8    0    0    0  \n",
       "2010-01-01 01:30:00           268.8    0    0    0  \n",
       "2010-01-01 02:00:00           270.0    0    0    0  \n",
       "2010-01-01 02:30:00           270.0    0    0    0  \n",
       "2010-01-01 03:00:00           270.0    0    0    0  \n",
       "2010-01-01 03:30:00           270.0    0    0    0  "
      ]
     },
     "execution_count": 86,
     "metadata": {},
     "output_type": "execute_result"
    }
   ],
   "source": [
    "# Return all but first 2 lines of csv to get data:\n",
    "df = pd.read_csv('https://developer.nrel.gov/api/nsrdb/v2/solar/psm3-download.csv?wkt=POINT({lon}%20{lat})&names={year}&leap_day={leap}&interval={interval}&utc={utc}&full_name={name}&email={email}&affiliation={affiliation}&mailing_list={mailing_list}&reason={reason}&api_key={api}&attributes={attr}'.format(year=year, lat=p1_lat, lon=p1_lon, leap=leap_year, interval=interval, utc=utc, name=your_name, email=your_email, mailing_list=mailing_list, affiliation=your_affiliation, reason=reason_for_use, api=api_key, attr=attributes), skiprows=2)\n",
    "\n",
    "# Set the time index in the pandas dataframe:\n",
    "df = df.set_index(pd.date_range('1/1/{yr}'.format(yr=year), freq=interval+'Min', periods=525600/int(interval)))\n",
    "# df.set_index()\n",
    "# take a look\n",
    "print('shape:', df.shape)\n",
    "df.head(8)\n",
    "# print(df.iloc[2,:])"
   ]
  },
  {
   "cell_type": "code",
   "execution_count": 87,
   "metadata": {},
   "outputs": [
    {
     "data": {
      "text/html": [
       "<div>\n",
       "<style scoped>\n",
       "    .dataframe tbody tr th:only-of-type {\n",
       "        vertical-align: middle;\n",
       "    }\n",
       "\n",
       "    .dataframe tbody tr th {\n",
       "        vertical-align: top;\n",
       "    }\n",
       "\n",
       "    .dataframe thead th {\n",
       "        text-align: right;\n",
       "    }\n",
       "</style>\n",
       "<table border=\"1\" class=\"dataframe\">\n",
       "  <thead>\n",
       "    <tr style=\"text-align: right;\">\n",
       "      <th></th>\n",
       "      <th>Month</th>\n",
       "      <th>Day</th>\n",
       "      <th>Hour</th>\n",
       "      <th>Minute</th>\n",
       "      <th>Temperature</th>\n",
       "      <th>Solar Zenith Angle</th>\n",
       "      <th>Dew Point</th>\n",
       "      <th>Relative Humidity</th>\n",
       "      <th>Surface Albedo</th>\n",
       "      <th>Pressure</th>\n",
       "      <th>Precipitable Water</th>\n",
       "      <th>Wind Speed</th>\n",
       "      <th>Wind Direction</th>\n",
       "      <th>GHI</th>\n",
       "      <th>DHI</th>\n",
       "      <th>DNI</th>\n",
       "    </tr>\n",
       "  </thead>\n",
       "  <tbody>\n",
       "    <tr>\n",
       "      <th>2010-01-01 00:00:00</th>\n",
       "      <td>1</td>\n",
       "      <td>1</td>\n",
       "      <td>0</td>\n",
       "      <td>0</td>\n",
       "      <td>-10</td>\n",
       "      <td>163.12</td>\n",
       "      <td>-16</td>\n",
       "      <td>59.53</td>\n",
       "      <td>0.866</td>\n",
       "      <td>750</td>\n",
       "      <td>0.479</td>\n",
       "      <td>3.8</td>\n",
       "      <td>267.3</td>\n",
       "      <td>0</td>\n",
       "      <td>0</td>\n",
       "      <td>0</td>\n",
       "    </tr>\n",
       "    <tr>\n",
       "      <th>2010-01-01 00:30:00</th>\n",
       "      <td>1</td>\n",
       "      <td>1</td>\n",
       "      <td>0</td>\n",
       "      <td>30</td>\n",
       "      <td>-10</td>\n",
       "      <td>162.32</td>\n",
       "      <td>-16</td>\n",
       "      <td>55.02</td>\n",
       "      <td>0.866</td>\n",
       "      <td>750</td>\n",
       "      <td>0.486</td>\n",
       "      <td>3.8</td>\n",
       "      <td>267.3</td>\n",
       "      <td>0</td>\n",
       "      <td>0</td>\n",
       "      <td>0</td>\n",
       "    </tr>\n",
       "    <tr>\n",
       "      <th>2010-01-01 01:00:00</th>\n",
       "      <td>1</td>\n",
       "      <td>1</td>\n",
       "      <td>1</td>\n",
       "      <td>0</td>\n",
       "      <td>-10</td>\n",
       "      <td>159.50</td>\n",
       "      <td>-16</td>\n",
       "      <td>55.62</td>\n",
       "      <td>0.866</td>\n",
       "      <td>750</td>\n",
       "      <td>0.493</td>\n",
       "      <td>3.9</td>\n",
       "      <td>268.8</td>\n",
       "      <td>0</td>\n",
       "      <td>0</td>\n",
       "      <td>0</td>\n",
       "    </tr>\n",
       "    <tr>\n",
       "      <th>2010-01-01 01:30:00</th>\n",
       "      <td>1</td>\n",
       "      <td>1</td>\n",
       "      <td>1</td>\n",
       "      <td>30</td>\n",
       "      <td>-9</td>\n",
       "      <td>155.34</td>\n",
       "      <td>-16</td>\n",
       "      <td>55.63</td>\n",
       "      <td>0.866</td>\n",
       "      <td>750</td>\n",
       "      <td>0.501</td>\n",
       "      <td>3.9</td>\n",
       "      <td>268.8</td>\n",
       "      <td>0</td>\n",
       "      <td>0</td>\n",
       "      <td>0</td>\n",
       "    </tr>\n",
       "    <tr>\n",
       "      <th>2010-01-01 02:00:00</th>\n",
       "      <td>1</td>\n",
       "      <td>1</td>\n",
       "      <td>2</td>\n",
       "      <td>0</td>\n",
       "      <td>-9</td>\n",
       "      <td>150.42</td>\n",
       "      <td>-15</td>\n",
       "      <td>57.88</td>\n",
       "      <td>0.866</td>\n",
       "      <td>750</td>\n",
       "      <td>0.509</td>\n",
       "      <td>3.9</td>\n",
       "      <td>270.0</td>\n",
       "      <td>0</td>\n",
       "      <td>0</td>\n",
       "      <td>0</td>\n",
       "    </tr>\n",
       "  </tbody>\n",
       "</table>\n",
       "</div>"
      ],
      "text/plain": [
       "                     Month  Day  Hour  Minute  Temperature  \\\n",
       "2010-01-01 00:00:00      1    1     0       0          -10   \n",
       "2010-01-01 00:30:00      1    1     0      30          -10   \n",
       "2010-01-01 01:00:00      1    1     1       0          -10   \n",
       "2010-01-01 01:30:00      1    1     1      30           -9   \n",
       "2010-01-01 02:00:00      1    1     2       0           -9   \n",
       "\n",
       "                     Solar Zenith Angle  Dew Point  Relative Humidity  \\\n",
       "2010-01-01 00:00:00              163.12        -16              59.53   \n",
       "2010-01-01 00:30:00              162.32        -16              55.02   \n",
       "2010-01-01 01:00:00              159.50        -16              55.62   \n",
       "2010-01-01 01:30:00              155.34        -16              55.63   \n",
       "2010-01-01 02:00:00              150.42        -15              57.88   \n",
       "\n",
       "                     Surface Albedo  Pressure  Precipitable Water  Wind Speed  \\\n",
       "2010-01-01 00:00:00           0.866       750               0.479         3.8   \n",
       "2010-01-01 00:30:00           0.866       750               0.486         3.8   \n",
       "2010-01-01 01:00:00           0.866       750               0.493         3.9   \n",
       "2010-01-01 01:30:00           0.866       750               0.501         3.9   \n",
       "2010-01-01 02:00:00           0.866       750               0.509         3.9   \n",
       "\n",
       "                     Wind Direction  GHI  DHI  DNI  \n",
       "2010-01-01 00:00:00           267.3    0    0    0  \n",
       "2010-01-01 00:30:00           267.3    0    0    0  \n",
       "2010-01-01 01:00:00           268.8    0    0    0  \n",
       "2010-01-01 01:30:00           268.8    0    0    0  \n",
       "2010-01-01 02:00:00           270.0    0    0    0  "
      ]
     },
     "execution_count": 87,
     "metadata": {},
     "output_type": "execute_result"
    }
   ],
   "source": [
    "# df.insert(3, 'MonthDay', df['Month']*100+df['Day']*10+df['Minute'])\n",
    "dff = df.drop(columns=['Year'], axis=1)\n",
    "\n",
    "dff.head()"
   ]
  },
  {
   "cell_type": "code",
   "execution_count": 88,
   "metadata": {},
   "outputs": [
    {
     "data": {
      "image/png": "[encoded data removed]",
      "text/plain": [
       "<Figure size 640x480 with 2 Axes>"
      ]
     },
     "metadata": {},
     "output_type": "display_data"
    }
   ],
   "source": [
    "import matplotlib.pyplot as plt\n",
    "import seaborn as sns\n",
    "corr_matrix = abs(dff.corr())\n",
    "heatmap = sns.heatmap(abs(corr_matrix))\n",
    "plt.title('Correlation Heatmap')\n",
    "plt.show()"
   ]
  },
  {
   "cell_type": "code",
   "execution_count": 89,
   "metadata": {},
   "outputs": [],
   "source": [
    "# win_size = 8\n",
    "# X = np.zeros((dff.shape[0] - win_size, win_size * dff.shape[1]))\n",
    "# Y = np.zeros((dff.shape[0] - win_size, 1))\n",
    "# print(\"Feature array size:{}, Labels array size{}\".format(X.shape, Y.shape))\n",
    "# for i in range(X.shape[0]):\n",
    "#     chunk_x = dff.iloc[i:i+win_size, :].to_numpy()\n",
    "#     chunk_y = dff.iloc[i+win_size, -1]\n",
    "#     X[i] = np.reshape(chunk_x, (1, dff.shape[1] * win_size))\n",
    "#     Y[i]= chunk_y\n",
    "    # if i == 5:\n",
    "    #     print(\"X = \", X[0])\n",
    "    #     print(\"Y = \", Y[0])"
   ]
  },
  {
   "cell_type": "code",
   "execution_count": 90,
   "metadata": {},
   "outputs": [
    {
     "name": "stdout",
     "output_type": "stream",
     "text": [
      "Features array size:  (17520, 15)\n",
      "Labels array size:  (17520,)\n"
     ]
    }
   ],
   "source": [
    "X = dff.iloc[:, :-1]\n",
    "Y = dff.iloc[:, -1]\n",
    "print(\"Features array size: \", X.shape)\n",
    "print(\"Labels array size: \", Y.shape)"
   ]
  },
  {
   "cell_type": "code",
   "execution_count": 91,
   "metadata": {},
   "outputs": [
    {
     "name": "stdout",
     "output_type": "stream",
     "text": [
      "(12263, 15)\n",
      "(2628, 15)\n",
      "(2629, 15)\n"
     ]
    }
   ],
   "source": [
    "from sklearn.model_selection import train_test_split\n",
    "from sklearn.preprocessing import StandardScaler\n",
    "\n",
    "train_ratio = 0.70\n",
    "validation_ratio = 0.15\n",
    "test_ratio = 0.15\n",
    "\n",
    "trainX, testX, trainY, testY = train_test_split(X, Y, test_size= 1 - train_ratio)\n",
    "\n",
    "# Genearate ValX, TestX, ValY and TestY\n",
    "valX, testX, valY, testY = train_test_split(testX, testY, test_size=test_ratio/(test_ratio + validation_ratio))\n",
    "X_train, X_test, Y_train, Y_test = train_test_split(X, Y, test_size = 0.2, random_state = 0)\n",
    "\n",
    "sc=StandardScaler()\n",
    "scaler = sc.fit(trainX)\n",
    "\n",
    "trainX_scaled = scaler.transform(trainX)\n",
    "valX_scaled = scaler.transform(valX)\n",
    "testX_scaled = scaler.transform(testX)\n",
    "\n",
    "print(trainX_scaled.shape)\n",
    "print(valX_scaled.shape)\n",
    "print(testX_scaled.shape)\n"
   ]
  },
  {
   "cell_type": "code",
   "execution_count": 92,
   "metadata": {},
   "outputs": [
    {
     "name": "stdout",
     "output_type": "stream",
     "text": [
      "Input Shape:15 \n",
      "Batch Size:128\n",
      "Steps per Epoch:95\n",
      "Validation Steps:20\n",
      "Test Steps:20\n",
      "Number of Epochs:120\n"
     ]
    }
   ],
   "source": [
    "input_shape = trainX.shape[1]\n",
    "n_batch_size = 128\n",
    "\n",
    "n_steps_per_epoch = int(trainX.shape[0] / n_batch_size)\n",
    "n_validation_steps = int(valX.shape[0] / n_batch_size)\n",
    "n_test_steps = int(testX.shape[0] / n_batch_size)\n",
    "n_epochs = 120\n",
    "\n",
    "\n",
    "print('Input Shape:{} '.format(input_shape))\n",
    "print('Batch Size:{}'.format(n_batch_size))\n",
    "print('Steps per Epoch:{}'.format(n_steps_per_epoch))\n",
    "print('Validation Steps:{}'.format(n_validation_steps))\n",
    "print('Test Steps:{}'.format(n_test_steps))\n",
    "print('Number of Epochs:{}'.format(n_epochs))\n"
   ]
  },
  {
   "cell_type": "code",
   "execution_count": 93,
   "metadata": {},
   "outputs": [
    {
     "name": "stdout",
     "output_type": "stream",
     "text": [
      "Model: \"sequential_22\"\n",
      "_________________________________________________________________\n",
      " Layer (type)                Output Shape              Param #   \n",
      "=================================================================\n",
      " dense_66 (Dense)            (None, 64)                1024      \n",
      "                                                                 \n",
      " dense_67 (Dense)            (None, 64)                4160      \n",
      "                                                                 \n",
      " dense_68 (Dense)            (None, 1)                 65        \n",
      "                                                                 \n",
      "=================================================================\n",
      "Total params: 5249 (20.50 KB)\n",
      "Trainable params: 5249 (20.50 KB)\n",
      "Non-trainable params: 0 (0.00 Byte)\n",
      "_________________________________________________________________\n"
     ]
    }
   ],
   "source": [
    "import os\n",
    "import shutil\n",
    "import pickle as pk\n",
    "\n",
    "from keras import models\n",
    "from keras import layers\n",
    "from keras.callbacks import EarlyStopping, ModelCheckpoint\n",
    "from keras.models import load_model\n",
    "\n",
    "from sklearn import metrics\n",
    "\n",
    "model = models.Sequential()\n",
    "model.add(layers.Dense(64, activation='relu', input_shape=(input_shape,)))\n",
    "model.add(layers.Dense(64, activation='relu'))\n",
    "model.add(layers.Dense(1))\n",
    "model.summary()"
   ]
  },
  {
   "cell_type": "code",
   "execution_count": 94,
   "metadata": {},
   "outputs": [
    {
     "name": "stdout",
     "output_type": "stream",
     "text": [
      "Epoch 1/120\n",
      " 1/95 [..............................] - ETA: 16s - loss: 205289.5469 - mae: 261.9539INFO:tensorflow:Assets written to: ./ckpt_1_ANN/dnl_forcast_ANN/assets\n"
     ]
    },
    {
     "name": "stderr",
     "output_type": "stream",
     "text": [
      "INFO:tensorflow:Assets written to: ./ckpt_1_ANN/dnl_forcast_ANN/assets\n"
     ]
    },
    {
     "name": "stdout",
     "output_type": "stream",
     "text": [
      "95/95 [==============================] - 0s 3ms/step - loss: 186238.5312 - mae: 246.8657 - val_loss: 172209.3438 - val_mae: 238.1364\n",
      "Epoch 2/120\n",
      " 1/95 [..............................] - ETA: 0s - loss: 160892.6094 - mae: 223.1954INFO:tensorflow:Assets written to: ./ckpt_1_ANN/dnl_forcast_ANN/assets\n"
     ]
    },
    {
     "name": "stderr",
     "output_type": "stream",
     "text": [
      "INFO:tensorflow:Assets written to: ./ckpt_1_ANN/dnl_forcast_ANN/assets\n"
     ]
    },
    {
     "name": "stdout",
     "output_type": "stream",
     "text": [
      "95/95 [==============================] - 0s 2ms/step - loss: 158401.6562 - mae: 233.3485 - val_loss: 131505.0938 - val_mae: 216.3326\n",
      "Epoch 3/120\n",
      " 1/95 [..............................] - ETA: 0s - loss: 150373.7812 - mae: 235.1089INFO:tensorflow:Assets written to: ./ckpt_1_ANN/dnl_forcast_ANN/assets\n"
     ]
    },
    {
     "name": "stderr",
     "output_type": "stream",
     "text": [
      "INFO:tensorflow:Assets written to: ./ckpt_1_ANN/dnl_forcast_ANN/assets\n"
     ]
    },
    {
     "name": "stdout",
     "output_type": "stream",
     "text": [
      "95/95 [==============================] - 0s 2ms/step - loss: 108627.4141 - mae: 207.7228 - val_loss: 79647.0078 - val_mae: 189.4801\n",
      "Epoch 4/120\n",
      " 1/95 [..............................] - ETA: 0s - loss: 73973.7031 - mae: 181.8181INFO:tensorflow:Assets written to: ./ckpt_1_ANN/dnl_forcast_ANN/assets\n"
     ]
    },
    {
     "name": "stderr",
     "output_type": "stream",
     "text": [
      "INFO:tensorflow:Assets written to: ./ckpt_1_ANN/dnl_forcast_ANN/assets\n"
     ]
    },
    {
     "name": "stdout",
     "output_type": "stream",
     "text": [
      "95/95 [==============================] - 0s 2ms/step - loss: 65450.9883 - mae: 181.6438 - val_loss: 54274.1172 - val_mae: 169.4672\n",
      "Epoch 5/120\n",
      " 1/95 [..............................] - ETA: 0s - loss: 49112.8047 - mae: 159.5946INFO:tensorflow:Assets written to: ./ckpt_1_ANN/dnl_forcast_ANN/assets\n"
     ]
    },
    {
     "name": "stderr",
     "output_type": "stream",
     "text": [
      "INFO:tensorflow:Assets written to: ./ckpt_1_ANN/dnl_forcast_ANN/assets\n"
     ]
    },
    {
     "name": "stdout",
     "output_type": "stream",
     "text": [
      "95/95 [==============================] - 0s 2ms/step - loss: 50015.8711 - mae: 162.6373 - val_loss: 45094.3516 - val_mae: 153.1263\n",
      "Epoch 6/120\n",
      " 1/95 [..............................] - ETA: 0s - loss: 41916.3750 - mae: 141.9770INFO:tensorflow:Assets written to: ./ckpt_1_ANN/dnl_forcast_ANN/assets\n"
     ]
    },
    {
     "name": "stderr",
     "output_type": "stream",
     "text": [
      "INFO:tensorflow:Assets written to: ./ckpt_1_ANN/dnl_forcast_ANN/assets\n"
     ]
    },
    {
     "name": "stdout",
     "output_type": "stream",
     "text": [
      "95/95 [==============================] - 0s 2ms/step - loss: 42132.0156 - mae: 147.6372 - val_loss: 37587.9219 - val_mae: 139.3363\n",
      "Epoch 7/120\n",
      " 1/95 [..............................] - ETA: 0s - loss: 35692.2344 - mae: 135.8456INFO:tensorflow:Assets written to: ./ckpt_1_ANN/dnl_forcast_ANN/assets\n"
     ]
    },
    {
     "name": "stderr",
     "output_type": "stream",
     "text": [
      "INFO:tensorflow:Assets written to: ./ckpt_1_ANN/dnl_forcast_ANN/assets\n"
     ]
    },
    {
     "name": "stdout",
     "output_type": "stream",
     "text": [
      "95/95 [==============================] - 0s 2ms/step - loss: 34965.7695 - mae: 133.3392 - val_loss: 31047.9941 - val_mae: 125.5363\n",
      "Epoch 8/120\n",
      " 1/95 [..............................] - ETA: 0s - loss: 33492.0312 - mae: 126.8675INFO:tensorflow:Assets written to: ./ckpt_1_ANN/dnl_forcast_ANN/assets\n"
     ]
    },
    {
     "name": "stderr",
     "output_type": "stream",
     "text": [
      "INFO:tensorflow:Assets written to: ./ckpt_1_ANN/dnl_forcast_ANN/assets\n"
     ]
    },
    {
     "name": "stdout",
     "output_type": "stream",
     "text": [
      "95/95 [==============================] - 0s 2ms/step - loss: 29079.9941 - mae: 120.9314 - val_loss: 25275.6016 - val_mae: 111.5799\n",
      "Epoch 9/120\n",
      " 1/95 [..............................] - ETA: 0s - loss: 24999.0039 - mae: 106.7566INFO:tensorflow:Assets written to: ./ckpt_1_ANN/dnl_forcast_ANN/assets\n"
     ]
    },
    {
     "name": "stderr",
     "output_type": "stream",
     "text": [
      "INFO:tensorflow:Assets written to: ./ckpt_1_ANN/dnl_forcast_ANN/assets\n"
     ]
    },
    {
     "name": "stdout",
     "output_type": "stream",
     "text": [
      "95/95 [==============================] - 0s 2ms/step - loss: 23418.3965 - mae: 106.7633 - val_loss: 20665.5020 - val_mae: 99.6159\n",
      "Epoch 10/120\n",
      " 1/95 [..............................] - ETA: 0s - loss: 20065.2188 - mae: 99.1434INFO:tensorflow:Assets written to: ./ckpt_1_ANN/dnl_forcast_ANN/assets\n"
     ]
    },
    {
     "name": "stderr",
     "output_type": "stream",
     "text": [
      "INFO:tensorflow:Assets written to: ./ckpt_1_ANN/dnl_forcast_ANN/assets\n"
     ]
    },
    {
     "name": "stdout",
     "output_type": "stream",
     "text": [
      "95/95 [==============================] - 0s 2ms/step - loss: 19441.3789 - mae: 98.2600 - val_loss: 17258.6758 - val_mae: 93.1209\n",
      "Epoch 11/120\n",
      " 1/95 [..............................] - ETA: 0s - loss: 14890.8037 - mae: 87.8536INFO:tensorflow:Assets written to: ./ckpt_1_ANN/dnl_forcast_ANN/assets\n"
     ]
    },
    {
     "name": "stderr",
     "output_type": "stream",
     "text": [
      "INFO:tensorflow:Assets written to: ./ckpt_1_ANN/dnl_forcast_ANN/assets\n"
     ]
    },
    {
     "name": "stdout",
     "output_type": "stream",
     "text": [
      "95/95 [==============================] - 0s 2ms/step - loss: 16288.5117 - mae: 89.8607 - val_loss: 14638.8535 - val_mae: 85.9838\n",
      "Epoch 12/120\n",
      " 1/95 [..............................] - ETA: 0s - loss: 13998.0254 - mae: 85.0997INFO:tensorflow:Assets written to: ./ckpt_1_ANN/dnl_forcast_ANN/assets\n"
     ]
    },
    {
     "name": "stderr",
     "output_type": "stream",
     "text": [
      "INFO:tensorflow:Assets written to: ./ckpt_1_ANN/dnl_forcast_ANN/assets\n"
     ]
    },
    {
     "name": "stdout",
     "output_type": "stream",
     "text": [
      "95/95 [==============================] - 0s 2ms/step - loss: 13981.6992 - mae: 83.4597 - val_loss: 12471.5068 - val_mae: 78.7070\n",
      "Epoch 13/120\n",
      " 1/95 [..............................] - ETA: 0s - loss: 13327.1357 - mae: 79.9333INFO:tensorflow:Assets written to: ./ckpt_1_ANN/dnl_forcast_ANN/assets\n"
     ]
    },
    {
     "name": "stderr",
     "output_type": "stream",
     "text": [
      "INFO:tensorflow:Assets written to: ./ckpt_1_ANN/dnl_forcast_ANN/assets\n"
     ]
    },
    {
     "name": "stdout",
     "output_type": "stream",
     "text": [
      "95/95 [==============================] - 0s 2ms/step - loss: 11710.4072 - mae: 75.5175 - val_loss: 10471.8779 - val_mae: 72.2242\n",
      "Epoch 14/120\n",
      " 1/95 [..............................] - ETA: 0s - loss: 12879.7021 - mae: 81.1035INFO:tensorflow:Assets written to: ./ckpt_1_ANN/dnl_forcast_ANN/assets\n"
     ]
    },
    {
     "name": "stderr",
     "output_type": "stream",
     "text": [
      "INFO:tensorflow:Assets written to: ./ckpt_1_ANN/dnl_forcast_ANN/assets\n"
     ]
    },
    {
     "name": "stdout",
     "output_type": "stream",
     "text": [
      "95/95 [==============================] - 0s 4ms/step - loss: 9818.3574 - mae: 68.4175 - val_loss: 8559.5312 - val_mae: 64.5156\n",
      "Epoch 15/120\n",
      " 1/95 [..............................] - ETA: 0s - loss: 11060.8262 - mae: 76.2358INFO:tensorflow:Assets written to: ./ckpt_1_ANN/dnl_forcast_ANN/assets\n"
     ]
    },
    {
     "name": "stderr",
     "output_type": "stream",
     "text": [
      "INFO:tensorflow:Assets written to: ./ckpt_1_ANN/dnl_forcast_ANN/assets\n"
     ]
    },
    {
     "name": "stdout",
     "output_type": "stream",
     "text": [
      "95/95 [==============================] - 0s 2ms/step - loss: 8158.5503 - mae: 61.6245 - val_loss: 7028.0952 - val_mae: 57.0124\n",
      "Epoch 16/120\n",
      " 1/95 [..............................] - ETA: 0s - loss: 5733.6743 - mae: 49.1812INFO:tensorflow:Assets written to: ./ckpt_1_ANN/dnl_forcast_ANN/assets\n"
     ]
    },
    {
     "name": "stderr",
     "output_type": "stream",
     "text": [
      "INFO:tensorflow:Assets written to: ./ckpt_1_ANN/dnl_forcast_ANN/assets\n"
     ]
    },
    {
     "name": "stdout",
     "output_type": "stream",
     "text": [
      "95/95 [==============================] - 0s 2ms/step - loss: 6636.5898 - mae: 54.9531 - val_loss: 5728.8042 - val_mae: 51.5017\n",
      "Epoch 17/120\n",
      " 1/95 [..............................] - ETA: 0s - loss: 7108.3477 - mae: 54.0945INFO:tensorflow:Assets written to: ./ckpt_1_ANN/dnl_forcast_ANN/assets\n"
     ]
    },
    {
     "name": "stderr",
     "output_type": "stream",
     "text": [
      "INFO:tensorflow:Assets written to: ./ckpt_1_ANN/dnl_forcast_ANN/assets\n"
     ]
    },
    {
     "name": "stdout",
     "output_type": "stream",
     "text": [
      "95/95 [==============================] - 0s 2ms/step - loss: 5529.7695 - mae: 49.6910 - val_loss: 4764.1846 - val_mae: 46.9927\n",
      "Epoch 18/120\n",
      " 1/95 [..............................] - ETA: 0s - loss: 3989.3611 - mae: 40.9949INFO:tensorflow:Assets written to: ./ckpt_1_ANN/dnl_forcast_ANN/assets\n"
     ]
    },
    {
     "name": "stderr",
     "output_type": "stream",
     "text": [
      "INFO:tensorflow:Assets written to: ./ckpt_1_ANN/dnl_forcast_ANN/assets\n"
     ]
    },
    {
     "name": "stdout",
     "output_type": "stream",
     "text": [
      "95/95 [==============================] - 0s 2ms/step - loss: 4484.7393 - mae: 44.4697 - val_loss: 3933.4653 - val_mae: 41.8245\n",
      "Epoch 19/120\n",
      " 1/95 [..............................] - ETA: 0s - loss: 5748.5503 - mae: 45.0997INFO:tensorflow:Assets written to: ./ckpt_1_ANN/dnl_forcast_ANN/assets\n"
     ]
    },
    {
     "name": "stderr",
     "output_type": "stream",
     "text": [
      "INFO:tensorflow:Assets written to: ./ckpt_1_ANN/dnl_forcast_ANN/assets\n"
     ]
    },
    {
     "name": "stdout",
     "output_type": "stream",
     "text": [
      "95/95 [==============================] - 0s 2ms/step - loss: 3872.2209 - mae: 41.0072 - val_loss: 3367.0188 - val_mae: 39.8769\n",
      "Epoch 20/120\n",
      " 1/95 [..............................] - ETA: 0s - loss: 4383.1333 - mae: 43.3972INFO:tensorflow:Assets written to: ./ckpt_1_ANN/dnl_forcast_ANN/assets\n"
     ]
    },
    {
     "name": "stderr",
     "output_type": "stream",
     "text": [
      "INFO:tensorflow:Assets written to: ./ckpt_1_ANN/dnl_forcast_ANN/assets\n"
     ]
    },
    {
     "name": "stdout",
     "output_type": "stream",
     "text": [
      "95/95 [==============================] - 0s 2ms/step - loss: 3260.2146 - mae: 37.7738 - val_loss: 2838.6108 - val_mae: 34.9037\n",
      "Epoch 21/120\n",
      " 1/95 [..............................] - ETA: 0s - loss: 4571.3042 - mae: 43.0973INFO:tensorflow:Assets written to: ./ckpt_1_ANN/dnl_forcast_ANN/assets\n"
     ]
    },
    {
     "name": "stderr",
     "output_type": "stream",
     "text": [
      "INFO:tensorflow:Assets written to: ./ckpt_1_ANN/dnl_forcast_ANN/assets\n"
     ]
    },
    {
     "name": "stdout",
     "output_type": "stream",
     "text": [
      "95/95 [==============================] - 0s 2ms/step - loss: 2802.0854 - mae: 34.6081 - val_loss: 2579.7559 - val_mae: 34.0003\n",
      "Epoch 22/120\n",
      " 1/95 [..............................] - ETA: 0s - loss: 2453.7808 - mae: 31.3317INFO:tensorflow:Assets written to: ./ckpt_1_ANN/dnl_forcast_ANN/assets\n"
     ]
    },
    {
     "name": "stderr",
     "output_type": "stream",
     "text": [
      "INFO:tensorflow:Assets written to: ./ckpt_1_ANN/dnl_forcast_ANN/assets\n"
     ]
    },
    {
     "name": "stdout",
     "output_type": "stream",
     "text": [
      "95/95 [==============================] - 0s 2ms/step - loss: 2500.5198 - mae: 32.4640 - val_loss: 2212.8335 - val_mae: 30.9847\n",
      "Epoch 23/120\n",
      " 1/95 [..............................] - ETA: 0s - loss: 1515.7355 - mae: 28.7949INFO:tensorflow:Assets written to: ./ckpt_1_ANN/dnl_forcast_ANN/assets\n"
     ]
    },
    {
     "name": "stderr",
     "output_type": "stream",
     "text": [
      "INFO:tensorflow:Assets written to: ./ckpt_1_ANN/dnl_forcast_ANN/assets\n"
     ]
    },
    {
     "name": "stdout",
     "output_type": "stream",
     "text": [
      "95/95 [==============================] - 0s 2ms/step - loss: 2175.5225 - mae: 30.1537 - val_loss: 1963.6052 - val_mae: 28.6201\n",
      "Epoch 24/120\n",
      " 1/95 [..............................] - ETA: 0s - loss: 2453.4062 - mae: 31.7358INFO:tensorflow:Assets written to: ./ckpt_1_ANN/dnl_forcast_ANN/assets\n"
     ]
    },
    {
     "name": "stderr",
     "output_type": "stream",
     "text": [
      "INFO:tensorflow:Assets written to: ./ckpt_1_ANN/dnl_forcast_ANN/assets\n"
     ]
    },
    {
     "name": "stdout",
     "output_type": "stream",
     "text": [
      "95/95 [==============================] - 0s 2ms/step - loss: 1952.2312 - mae: 28.4153 - val_loss: 1817.9453 - val_mae: 27.0045\n",
      "Epoch 25/120\n",
      " 1/95 [..............................] - ETA: 0s - loss: 1646.9453 - mae: 25.5449INFO:tensorflow:Assets written to: ./ckpt_1_ANN/dnl_forcast_ANN/assets\n"
     ]
    },
    {
     "name": "stderr",
     "output_type": "stream",
     "text": [
      "INFO:tensorflow:Assets written to: ./ckpt_1_ANN/dnl_forcast_ANN/assets\n"
     ]
    },
    {
     "name": "stdout",
     "output_type": "stream",
     "text": [
      "95/95 [==============================] - 0s 2ms/step - loss: 1788.6362 - mae: 27.0954 - val_loss: 1674.4861 - val_mae: 26.9872\n",
      "Epoch 26/120\n",
      " 1/95 [..............................] - ETA: 0s - loss: 1184.1755 - mae: 23.1859INFO:tensorflow:Assets written to: ./ckpt_1_ANN/dnl_forcast_ANN/assets\n"
     ]
    },
    {
     "name": "stderr",
     "output_type": "stream",
     "text": [
      "INFO:tensorflow:Assets written to: ./ckpt_1_ANN/dnl_forcast_ANN/assets\n"
     ]
    },
    {
     "name": "stdout",
     "output_type": "stream",
     "text": [
      "95/95 [==============================] - 0s 2ms/step - loss: 1633.2963 - mae: 26.0587 - val_loss: 1497.7158 - val_mae: 24.5690\n",
      "Epoch 27/120\n",
      " 1/95 [..............................] - ETA: 0s - loss: 1471.7217 - mae: 26.0478INFO:tensorflow:Assets written to: ./ckpt_1_ANN/dnl_forcast_ANN/assets\n"
     ]
    },
    {
     "name": "stderr",
     "output_type": "stream",
     "text": [
      "INFO:tensorflow:Assets written to: ./ckpt_1_ANN/dnl_forcast_ANN/assets\n"
     ]
    },
    {
     "name": "stdout",
     "output_type": "stream",
     "text": [
      "95/95 [==============================] - 0s 2ms/step - loss: 1514.5428 - mae: 24.9466 - val_loss: 1389.5846 - val_mae: 23.2881\n",
      "Epoch 28/120\n",
      " 1/95 [..............................] - ETA: 0s - loss: 771.8157 - mae: 19.9724INFO:tensorflow:Assets written to: ./ckpt_1_ANN/dnl_forcast_ANN/assets\n"
     ]
    },
    {
     "name": "stderr",
     "output_type": "stream",
     "text": [
      "INFO:tensorflow:Assets written to: ./ckpt_1_ANN/dnl_forcast_ANN/assets\n"
     ]
    },
    {
     "name": "stdout",
     "output_type": "stream",
     "text": [
      "95/95 [==============================] - 0s 2ms/step - loss: 1433.6367 - mae: 24.2550 - val_loss: 1317.4932 - val_mae: 23.0952\n",
      "Epoch 29/120\n",
      " 1/95 [..............................] - ETA: 0s - loss: 1348.0645 - mae: 23.0546INFO:tensorflow:Assets written to: ./ckpt_1_ANN/dnl_forcast_ANN/assets\n"
     ]
    },
    {
     "name": "stderr",
     "output_type": "stream",
     "text": [
      "INFO:tensorflow:Assets written to: ./ckpt_1_ANN/dnl_forcast_ANN/assets\n"
     ]
    },
    {
     "name": "stdout",
     "output_type": "stream",
     "text": [
      "95/95 [==============================] - 0s 2ms/step - loss: 1287.3887 - mae: 23.1015 - val_loss: 1203.1047 - val_mae: 21.4286\n",
      "Epoch 30/120\n",
      " 1/95 [..............................] - ETA: 0s - loss: 1092.5231 - mae: 20.9149INFO:tensorflow:Assets written to: ./ckpt_1_ANN/dnl_forcast_ANN/assets\n"
     ]
    },
    {
     "name": "stderr",
     "output_type": "stream",
     "text": [
      "INFO:tensorflow:Assets written to: ./ckpt_1_ANN/dnl_forcast_ANN/assets\n"
     ]
    },
    {
     "name": "stdout",
     "output_type": "stream",
     "text": [
      "95/95 [==============================] - 0s 2ms/step - loss: 1222.0255 - mae: 22.3922 - val_loss: 1162.6525 - val_mae: 21.4980\n",
      "Epoch 31/120\n",
      " 1/95 [..............................] - ETA: 0s - loss: 888.5223 - mae: 19.0540INFO:tensorflow:Assets written to: ./ckpt_1_ANN/dnl_forcast_ANN/assets\n"
     ]
    },
    {
     "name": "stderr",
     "output_type": "stream",
     "text": [
      "INFO:tensorflow:Assets written to: ./ckpt_1_ANN/dnl_forcast_ANN/assets\n"
     ]
    },
    {
     "name": "stdout",
     "output_type": "stream",
     "text": [
      "95/95 [==============================] - 0s 2ms/step - loss: 1166.9598 - mae: 21.8154 - val_loss: 1131.6367 - val_mae: 22.0659\n",
      "Epoch 32/120\n",
      " 1/95 [..............................] - ETA: 0s - loss: 1372.7296 - mae: 23.3934INFO:tensorflow:Assets written to: ./ckpt_1_ANN/dnl_forcast_ANN/assets\n"
     ]
    },
    {
     "name": "stderr",
     "output_type": "stream",
     "text": [
      "INFO:tensorflow:Assets written to: ./ckpt_1_ANN/dnl_forcast_ANN/assets\n"
     ]
    },
    {
     "name": "stdout",
     "output_type": "stream",
     "text": [
      "95/95 [==============================] - 0s 2ms/step - loss: 1091.9375 - mae: 21.3446 - val_loss: 1063.2253 - val_mae: 20.6326\n",
      "Epoch 33/120\n",
      " 1/95 [..............................] - ETA: 0s - loss: 825.5143 - mae: 18.6641INFO:tensorflow:Assets written to: ./ckpt_1_ANN/dnl_forcast_ANN/assets\n"
     ]
    },
    {
     "name": "stderr",
     "output_type": "stream",
     "text": [
      "INFO:tensorflow:Assets written to: ./ckpt_1_ANN/dnl_forcast_ANN/assets\n"
     ]
    },
    {
     "name": "stdout",
     "output_type": "stream",
     "text": [
      "95/95 [==============================] - 0s 2ms/step - loss: 1076.3209 - mae: 20.9170 - val_loss: 973.0657 - val_mae: 19.6516\n",
      "Epoch 34/120\n",
      " 1/95 [..............................] - ETA: 0s - loss: 695.9984 - mae: 18.1841INFO:tensorflow:Assets written to: ./ckpt_1_ANN/dnl_forcast_ANN/assets\n"
     ]
    },
    {
     "name": "stderr",
     "output_type": "stream",
     "text": [
      "INFO:tensorflow:Assets written to: ./ckpt_1_ANN/dnl_forcast_ANN/assets\n"
     ]
    },
    {
     "name": "stdout",
     "output_type": "stream",
     "text": [
      "95/95 [==============================] - 0s 2ms/step - loss: 985.9195 - mae: 20.3649 - val_loss: 970.3861 - val_mae: 20.7816\n",
      "Epoch 35/120\n",
      " 1/95 [..............................] - ETA: 0s - loss: 1106.0992 - mae: 22.9843INFO:tensorflow:Assets written to: ./ckpt_1_ANN/dnl_forcast_ANN/assets\n"
     ]
    },
    {
     "name": "stderr",
     "output_type": "stream",
     "text": [
      "INFO:tensorflow:Assets written to: ./ckpt_1_ANN/dnl_forcast_ANN/assets\n"
     ]
    },
    {
     "name": "stdout",
     "output_type": "stream",
     "text": [
      "95/95 [==============================] - 0s 2ms/step - loss: 954.2339 - mae: 19.8992 - val_loss: 913.5960 - val_mae: 19.7954\n",
      "Epoch 36/120\n",
      "95/95 [==============================] - 0s 625us/step - loss: 923.8867 - mae: 19.4566 - val_loss: 913.7368 - val_mae: 20.5391\n",
      "Epoch 37/120\n",
      " 1/95 [..............................] - ETA: 0s - loss: 1146.2360 - mae: 19.4210INFO:tensorflow:Assets written to: ./ckpt_1_ANN/dnl_forcast_ANN/assets\n"
     ]
    },
    {
     "name": "stderr",
     "output_type": "stream",
     "text": [
      "INFO:tensorflow:Assets written to: ./ckpt_1_ANN/dnl_forcast_ANN/assets\n"
     ]
    },
    {
     "name": "stdout",
     "output_type": "stream",
     "text": [
      "95/95 [==============================] - 0s 4ms/step - loss: 901.2460 - mae: 19.3585 - val_loss: 837.8176 - val_mae: 19.0295\n",
      "Epoch 38/120\n",
      " 1/95 [..............................] - ETA: 0s - loss: 768.3873 - mae: 17.5386INFO:tensorflow:Assets written to: ./ckpt_1_ANN/dnl_forcast_ANN/assets\n"
     ]
    },
    {
     "name": "stderr",
     "output_type": "stream",
     "text": [
      "INFO:tensorflow:Assets written to: ./ckpt_1_ANN/dnl_forcast_ANN/assets\n"
     ]
    },
    {
     "name": "stdout",
     "output_type": "stream",
     "text": [
      "95/95 [==============================] - 0s 2ms/step - loss: 856.2102 - mae: 18.7457 - val_loss: 815.1476 - val_mae: 18.3457\n",
      "Epoch 39/120\n",
      " 1/95 [..............................] - ETA: 0s - loss: 589.9384 - mae: 17.2828INFO:tensorflow:Assets written to: ./ckpt_1_ANN/dnl_forcast_ANN/assets\n"
     ]
    },
    {
     "name": "stderr",
     "output_type": "stream",
     "text": [
      "INFO:tensorflow:Assets written to: ./ckpt_1_ANN/dnl_forcast_ANN/assets\n"
     ]
    },
    {
     "name": "stdout",
     "output_type": "stream",
     "text": [
      "95/95 [==============================] - 0s 2ms/step - loss: 794.9427 - mae: 18.2942 - val_loss: 752.0307 - val_mae: 17.1491\n",
      "Epoch 40/120\n",
      "95/95 [==============================] - 0s 616us/step - loss: 793.9120 - mae: 18.1709 - val_loss: 789.4511 - val_mae: 18.3260\n",
      "Epoch 41/120\n",
      " 1/95 [..............................] - ETA: 0s - loss: 1125.4719 - mae: 20.3016INFO:tensorflow:Assets written to: ./ckpt_1_ANN/dnl_forcast_ANN/assets\n"
     ]
    },
    {
     "name": "stderr",
     "output_type": "stream",
     "text": [
      "INFO:tensorflow:Assets written to: ./ckpt_1_ANN/dnl_forcast_ANN/assets\n"
     ]
    },
    {
     "name": "stdout",
     "output_type": "stream",
     "text": [
      "95/95 [==============================] - 0s 2ms/step - loss: 757.2219 - mae: 17.8647 - val_loss: 706.8212 - val_mae: 16.8044\n",
      "Epoch 42/120\n",
      " 1/95 [..............................] - ETA: 0s - loss: 766.6619 - mae: 17.2563INFO:tensorflow:Assets written to: ./ckpt_1_ANN/dnl_forcast_ANN/assets\n"
     ]
    },
    {
     "name": "stderr",
     "output_type": "stream",
     "text": [
      "INFO:tensorflow:Assets written to: ./ckpt_1_ANN/dnl_forcast_ANN/assets\n"
     ]
    },
    {
     "name": "stdout",
     "output_type": "stream",
     "text": [
      "95/95 [==============================] - 0s 2ms/step - loss: 747.1640 - mae: 17.5581 - val_loss: 683.9175 - val_mae: 15.9945\n",
      "Epoch 43/120\n",
      "95/95 [==============================] - 0s 643us/step - loss: 712.5182 - mae: 17.3463 - val_loss: 684.8973 - val_mae: 16.1169\n",
      "Epoch 44/120\n",
      "95/95 [==============================] - 0s 622us/step - loss: 705.3874 - mae: 17.0451 - val_loss: 707.9451 - val_mae: 17.5146\n",
      "Epoch 45/120\n",
      " 1/95 [..............................] - ETA: 0s - loss: 668.2872 - mae: 17.7020INFO:tensorflow:Assets written to: ./ckpt_1_ANN/dnl_forcast_ANN/assets\n"
     ]
    },
    {
     "name": "stderr",
     "output_type": "stream",
     "text": [
      "INFO:tensorflow:Assets written to: ./ckpt_1_ANN/dnl_forcast_ANN/assets\n"
     ]
    },
    {
     "name": "stdout",
     "output_type": "stream",
     "text": [
      "95/95 [==============================] - 0s 2ms/step - loss: 670.2169 - mae: 16.7526 - val_loss: 650.6348 - val_mae: 16.4020\n",
      "Epoch 46/120\n",
      " 1/95 [..............................] - ETA: 0s - loss: 602.5831 - mae: 14.8114INFO:tensorflow:Assets written to: ./ckpt_1_ANN/dnl_forcast_ANN/assets\n"
     ]
    },
    {
     "name": "stderr",
     "output_type": "stream",
     "text": [
      "INFO:tensorflow:Assets written to: ./ckpt_1_ANN/dnl_forcast_ANN/assets\n"
     ]
    },
    {
     "name": "stdout",
     "output_type": "stream",
     "text": [
      "95/95 [==============================] - 0s 2ms/step - loss: 668.3499 - mae: 16.8028 - val_loss: 631.1500 - val_mae: 15.3680\n",
      "Epoch 47/120\n",
      " 1/95 [..............................] - ETA: 0s - loss: 677.5801 - mae: 16.9850INFO:tensorflow:Assets written to: ./ckpt_1_ANN/dnl_forcast_ANN/assets\n"
     ]
    },
    {
     "name": "stderr",
     "output_type": "stream",
     "text": [
      "INFO:tensorflow:Assets written to: ./ckpt_1_ANN/dnl_forcast_ANN/assets\n"
     ]
    },
    {
     "name": "stdout",
     "output_type": "stream",
     "text": [
      "95/95 [==============================] - 0s 2ms/step - loss: 649.4653 - mae: 16.5290 - val_loss: 601.2897 - val_mae: 14.9541\n",
      "Epoch 48/120\n",
      "95/95 [==============================] - 0s 608us/step - loss: 613.7762 - mae: 16.1665 - val_loss: 682.9534 - val_mae: 18.8039\n",
      "Epoch 49/120\n",
      "95/95 [==============================] - 0s 613us/step - loss: 616.7432 - mae: 16.1551 - val_loss: 678.0598 - val_mae: 17.5816\n",
      "Epoch 50/120\n",
      " 1/95 [..............................] - ETA: 0s - loss: 510.6822 - mae: 16.6914INFO:tensorflow:Assets written to: ./ckpt_1_ANN/dnl_forcast_ANN/assets\n"
     ]
    },
    {
     "name": "stderr",
     "output_type": "stream",
     "text": [
      "INFO:tensorflow:Assets written to: ./ckpt_1_ANN/dnl_forcast_ANN/assets\n"
     ]
    },
    {
     "name": "stdout",
     "output_type": "stream",
     "text": [
      "95/95 [==============================] - 0s 2ms/step - loss: 624.6323 - mae: 16.1101 - val_loss: 567.7614 - val_mae: 15.0301\n",
      "Epoch 51/120\n",
      " 1/95 [..............................] - ETA: 0s - loss: 444.8715 - mae: 14.0524INFO:tensorflow:Assets written to: ./ckpt_1_ANN/dnl_forcast_ANN/assets\n"
     ]
    },
    {
     "name": "stderr",
     "output_type": "stream",
     "text": [
      "INFO:tensorflow:Assets written to: ./ckpt_1_ANN/dnl_forcast_ANN/assets\n"
     ]
    },
    {
     "name": "stdout",
     "output_type": "stream",
     "text": [
      "95/95 [==============================] - 0s 2ms/step - loss: 560.8197 - mae: 15.7162 - val_loss: 545.5687 - val_mae: 14.4533\n",
      "Epoch 52/120\n",
      "95/95 [==============================] - 0s 630us/step - loss: 597.8952 - mae: 15.7543 - val_loss: 556.9982 - val_mae: 15.3211\n",
      "Epoch 53/120\n",
      " 1/95 [..............................] - ETA: 0s - loss: 931.8821 - mae: 15.6822INFO:tensorflow:Assets written to: ./ckpt_1_ANN/dnl_forcast_ANN/assets\n"
     ]
    },
    {
     "name": "stderr",
     "output_type": "stream",
     "text": [
      "INFO:tensorflow:Assets written to: ./ckpt_1_ANN/dnl_forcast_ANN/assets\n"
     ]
    },
    {
     "name": "stdout",
     "output_type": "stream",
     "text": [
      "95/95 [==============================] - 0s 2ms/step - loss: 573.1788 - mae: 15.4258 - val_loss: 513.3777 - val_mae: 13.7069\n",
      "Epoch 54/120\n",
      "95/95 [==============================] - 0s 643us/step - loss: 547.8427 - mae: 15.4197 - val_loss: 549.7880 - val_mae: 14.8318\n",
      "Epoch 55/120\n",
      "95/95 [==============================] - 0s 616us/step - loss: 537.2905 - mae: 15.0337 - val_loss: 554.2699 - val_mae: 15.1828\n",
      "Epoch 56/120\n",
      " 1/95 [..............................] - ETA: 0s - loss: 339.6220 - mae: 11.4850INFO:tensorflow:Assets written to: ./ckpt_1_ANN/dnl_forcast_ANN/assets\n"
     ]
    },
    {
     "name": "stderr",
     "output_type": "stream",
     "text": [
      "INFO:tensorflow:Assets written to: ./ckpt_1_ANN/dnl_forcast_ANN/assets\n"
     ]
    },
    {
     "name": "stdout",
     "output_type": "stream",
     "text": [
      "95/95 [==============================] - 0s 2ms/step - loss: 559.8905 - mae: 15.3750 - val_loss: 508.6024 - val_mae: 14.3483\n",
      "Epoch 57/120\n",
      " 1/95 [..............................] - ETA: 0s - loss: 336.1811 - mae: 12.1679INFO:tensorflow:Assets written to: ./ckpt_1_ANN/dnl_forcast_ANN/assets\n"
     ]
    },
    {
     "name": "stderr",
     "output_type": "stream",
     "text": [
      "INFO:tensorflow:Assets written to: ./ckpt_1_ANN/dnl_forcast_ANN/assets\n"
     ]
    },
    {
     "name": "stdout",
     "output_type": "stream",
     "text": [
      "95/95 [==============================] - 0s 2ms/step - loss: 531.6933 - mae: 14.9940 - val_loss: 496.4420 - val_mae: 13.8463\n",
      "Epoch 58/120\n",
      "95/95 [==============================] - 0s 631us/step - loss: 512.1933 - mae: 14.6217 - val_loss: 497.4257 - val_mae: 13.9665\n",
      "Epoch 59/120\n",
      "95/95 [==============================] - 0s 628us/step - loss: 509.2557 - mae: 14.8837 - val_loss: 508.2559 - val_mae: 14.8562\n",
      "Epoch 60/120\n",
      " 1/95 [..............................] - ETA: 0s - loss: 456.1891 - mae: 15.0661INFO:tensorflow:Assets written to: ./ckpt_1_ANN/dnl_forcast_ANN/assets\n"
     ]
    },
    {
     "name": "stderr",
     "output_type": "stream",
     "text": [
      "INFO:tensorflow:Assets written to: ./ckpt_1_ANN/dnl_forcast_ANN/assets\n"
     ]
    },
    {
     "name": "stdout",
     "output_type": "stream",
     "text": [
      "95/95 [==============================] - 0s 2ms/step - loss: 519.5083 - mae: 14.9093 - val_loss: 466.2764 - val_mae: 13.2814\n",
      "Epoch 61/120\n",
      "95/95 [==============================] - 0s 611us/step - loss: 479.8073 - mae: 14.5610 - val_loss: 535.8122 - val_mae: 15.4834\n",
      "Epoch 62/120\n",
      "95/95 [==============================] - 0s 612us/step - loss: 488.8543 - mae: 14.3093 - val_loss: 611.1734 - val_mae: 17.6743\n",
      "Epoch 63/120\n",
      " 1/95 [..............................] - ETA: 0s - loss: 899.1395 - mae: 19.8478INFO:tensorflow:Assets written to: ./ckpt_1_ANN/dnl_forcast_ANN/assets\n"
     ]
    },
    {
     "name": "stderr",
     "output_type": "stream",
     "text": [
      "INFO:tensorflow:Assets written to: ./ckpt_1_ANN/dnl_forcast_ANN/assets\n"
     ]
    },
    {
     "name": "stdout",
     "output_type": "stream",
     "text": [
      "95/95 [==============================] - 0s 2ms/step - loss: 489.6457 - mae: 14.3940 - val_loss: 461.6537 - val_mae: 13.5410\n",
      "Epoch 64/120\n",
      " 1/95 [..............................] - ETA: 0s - loss: 811.1360 - mae: 15.6920INFO:tensorflow:Assets written to: ./ckpt_1_ANN/dnl_forcast_ANN/assets\n"
     ]
    },
    {
     "name": "stderr",
     "output_type": "stream",
     "text": [
      "INFO:tensorflow:Assets written to: ./ckpt_1_ANN/dnl_forcast_ANN/assets\n"
     ]
    },
    {
     "name": "stdout",
     "output_type": "stream",
     "text": [
      "95/95 [==============================] - 0s 2ms/step - loss: 461.6682 - mae: 14.1935 - val_loss: 456.6820 - val_mae: 13.7448\n",
      "Epoch 65/120\n",
      "95/95 [==============================] - 0s 608us/step - loss: 458.8546 - mae: 14.0077 - val_loss: 461.2099 - val_mae: 13.6295\n",
      "Epoch 66/120\n",
      " 1/95 [..............................] - ETA: 0s - loss: 393.0763 - mae: 14.2491INFO:tensorflow:Assets written to: ./ckpt_1_ANN/dnl_forcast_ANN/assets\n"
     ]
    },
    {
     "name": "stderr",
     "output_type": "stream",
     "text": [
      "INFO:tensorflow:Assets written to: ./ckpt_1_ANN/dnl_forcast_ANN/assets\n"
     ]
    },
    {
     "name": "stdout",
     "output_type": "stream",
     "text": [
      "95/95 [==============================] - 0s 2ms/step - loss: 479.6543 - mae: 14.3422 - val_loss: 453.2707 - val_mae: 13.4087\n",
      "Epoch 67/120\n",
      " 1/95 [..............................] - ETA: 0s - loss: 518.1184 - mae: 12.2145INFO:tensorflow:Assets written to: ./ckpt_1_ANN/dnl_forcast_ANN/assets\n"
     ]
    },
    {
     "name": "stderr",
     "output_type": "stream",
     "text": [
      "INFO:tensorflow:Assets written to: ./ckpt_1_ANN/dnl_forcast_ANN/assets\n"
     ]
    },
    {
     "name": "stdout",
     "output_type": "stream",
     "text": [
      "95/95 [==============================] - 0s 2ms/step - loss: 451.3361 - mae: 14.0874 - val_loss: 416.2350 - val_mae: 12.2371\n",
      "Epoch 68/120\n",
      "95/95 [==============================] - 0s 622us/step - loss: 441.6300 - mae: 13.8478 - val_loss: 555.6956 - val_mae: 17.6341\n",
      "Epoch 69/120\n",
      " 1/95 [..............................] - ETA: 0s - loss: 668.7200 - mae: 18.6749INFO:tensorflow:Assets written to: ./ckpt_1_ANN/dnl_forcast_ANN/assets\n"
     ]
    },
    {
     "name": "stderr",
     "output_type": "stream",
     "text": [
      "INFO:tensorflow:Assets written to: ./ckpt_1_ANN/dnl_forcast_ANN/assets\n"
     ]
    },
    {
     "name": "stdout",
     "output_type": "stream",
     "text": [
      "95/95 [==============================] - 0s 2ms/step - loss: 454.1799 - mae: 13.7829 - val_loss: 411.4803 - val_mae: 12.5674\n",
      "Epoch 70/120\n",
      " 1/95 [..............................] - ETA: 0s - loss: 310.3885 - mae: 12.2120INFO:tensorflow:Assets written to: ./ckpt_1_ANN/dnl_forcast_ANN/assets\n"
     ]
    },
    {
     "name": "stderr",
     "output_type": "stream",
     "text": [
      "INFO:tensorflow:Assets written to: ./ckpt_1_ANN/dnl_forcast_ANN/assets\n"
     ]
    },
    {
     "name": "stdout",
     "output_type": "stream",
     "text": [
      "95/95 [==============================] - 0s 2ms/step - loss: 416.7766 - mae: 13.8101 - val_loss: 405.8725 - val_mae: 11.7888\n",
      "Epoch 71/120\n",
      " 1/95 [..............................] - ETA: 0s - loss: 634.1844 - mae: 11.9429INFO:tensorflow:Assets written to: ./ckpt_1_ANN/dnl_forcast_ANN/assets\n"
     ]
    },
    {
     "name": "stderr",
     "output_type": "stream",
     "text": [
      "INFO:tensorflow:Assets written to: ./ckpt_1_ANN/dnl_forcast_ANN/assets\n"
     ]
    },
    {
     "name": "stdout",
     "output_type": "stream",
     "text": [
      "95/95 [==============================] - 0s 2ms/step - loss: 441.3985 - mae: 13.5628 - val_loss: 395.8547 - val_mae: 11.7316\n",
      "Epoch 72/120\n",
      "95/95 [==============================] - 0s 640us/step - loss: 432.5961 - mae: 13.5472 - val_loss: 438.8639 - val_mae: 13.8899\n",
      "Epoch 73/120\n",
      " 1/95 [..............................] - ETA: 0s - loss: 336.3906 - mae: 12.7420INFO:tensorflow:Assets written to: ./ckpt_1_ANN/dnl_forcast_ANN/assets\n"
     ]
    },
    {
     "name": "stderr",
     "output_type": "stream",
     "text": [
      "INFO:tensorflow:Assets written to: ./ckpt_1_ANN/dnl_forcast_ANN/assets\n"
     ]
    },
    {
     "name": "stdout",
     "output_type": "stream",
     "text": [
      "95/95 [==============================] - 0s 2ms/step - loss: 424.6280 - mae: 13.6009 - val_loss: 394.9521 - val_mae: 12.4525\n",
      "Epoch 74/120\n",
      " 1/95 [..............................] - ETA: 0s - loss: 164.1964 - mae: 9.0708INFO:tensorflow:Assets written to: ./ckpt_1_ANN/dnl_forcast_ANN/assets\n"
     ]
    },
    {
     "name": "stderr",
     "output_type": "stream",
     "text": [
      "INFO:tensorflow:Assets written to: ./ckpt_1_ANN/dnl_forcast_ANN/assets\n"
     ]
    },
    {
     "name": "stdout",
     "output_type": "stream",
     "text": [
      "95/95 [==============================] - 0s 3ms/step - loss: 420.2375 - mae: 13.5418 - val_loss: 389.2524 - val_mae: 12.3164\n",
      "Epoch 75/120\n",
      "95/95 [==============================] - 0s 593us/step - loss: 407.3612 - mae: 13.3549 - val_loss: 471.0142 - val_mae: 15.5581\n",
      "Epoch 76/120\n",
      " 1/95 [..............................] - ETA: 0s - loss: 308.0861 - mae: 14.3081INFO:tensorflow:Assets written to: ./ckpt_1_ANN/dnl_forcast_ANN/assets\n"
     ]
    },
    {
     "name": "stderr",
     "output_type": "stream",
     "text": [
      "INFO:tensorflow:Assets written to: ./ckpt_1_ANN/dnl_forcast_ANN/assets\n"
     ]
    },
    {
     "name": "stdout",
     "output_type": "stream",
     "text": [
      "95/95 [==============================] - 0s 2ms/step - loss: 409.5648 - mae: 13.3279 - val_loss: 386.4605 - val_mae: 12.0393\n",
      "Epoch 77/120\n",
      " 1/95 [..............................] - ETA: 0s - loss: 278.3457 - mae: 12.0265INFO:tensorflow:Assets written to: ./ckpt_1_ANN/dnl_forcast_ANN/assets\n"
     ]
    },
    {
     "name": "stderr",
     "output_type": "stream",
     "text": [
      "INFO:tensorflow:Assets written to: ./ckpt_1_ANN/dnl_forcast_ANN/assets\n"
     ]
    },
    {
     "name": "stdout",
     "output_type": "stream",
     "text": [
      "95/95 [==============================] - 0s 2ms/step - loss: 413.2989 - mae: 13.3512 - val_loss: 375.0550 - val_mae: 12.2145\n",
      "Epoch 78/120\n",
      "95/95 [==============================] - 0s 601us/step - loss: 391.9977 - mae: 12.9139 - val_loss: 375.6478 - val_mae: 12.0474\n",
      "Epoch 79/120\n",
      "95/95 [==============================] - 0s 606us/step - loss: 387.4217 - mae: 13.1402 - val_loss: 413.8414 - val_mae: 13.5088\n",
      "Epoch 80/120\n",
      "95/95 [==============================] - 0s 607us/step - loss: 403.8120 - mae: 13.3082 - val_loss: 522.6631 - val_mae: 16.5579\n",
      "Epoch 81/120\n",
      "95/95 [==============================] - 0s 603us/step - loss: 377.2907 - mae: 12.8467 - val_loss: 419.5261 - val_mae: 13.8422\n",
      "Epoch 82/120\n",
      " 1/95 [..............................] - ETA: 0s - loss: 1058.4724 - mae: 16.4252INFO:tensorflow:Assets written to: ./ckpt_1_ANN/dnl_forcast_ANN/assets\n"
     ]
    },
    {
     "name": "stderr",
     "output_type": "stream",
     "text": [
      "INFO:tensorflow:Assets written to: ./ckpt_1_ANN/dnl_forcast_ANN/assets\n"
     ]
    },
    {
     "name": "stdout",
     "output_type": "stream",
     "text": [
      "95/95 [==============================] - 0s 2ms/step - loss: 384.2392 - mae: 12.7276 - val_loss: 360.2014 - val_mae: 11.7530\n",
      "Epoch 83/120\n",
      "95/95 [==============================] - 0s 610us/step - loss: 367.5782 - mae: 12.7904 - val_loss: 367.4543 - val_mae: 12.3783\n",
      "Epoch 84/120\n",
      "95/95 [==============================] - 0s 607us/step - loss: 377.8029 - mae: 13.0208 - val_loss: 405.1989 - val_mae: 13.5734\n",
      "Epoch 85/120\n",
      " 1/95 [..............................] - ETA: 0s - loss: 304.6132 - mae: 13.5090INFO:tensorflow:Assets written to: ./ckpt_1_ANN/dnl_forcast_ANN/assets\n"
     ]
    },
    {
     "name": "stderr",
     "output_type": "stream",
     "text": [
      "INFO:tensorflow:Assets written to: ./ckpt_1_ANN/dnl_forcast_ANN/assets\n"
     ]
    },
    {
     "name": "stdout",
     "output_type": "stream",
     "text": [
      "95/95 [==============================] - 0s 2ms/step - loss: 372.5961 - mae: 12.6253 - val_loss: 324.7247 - val_mae: 10.7523\n",
      "Epoch 86/120\n",
      "95/95 [==============================] - 0s 610us/step - loss: 356.5289 - mae: 12.7020 - val_loss: 416.9613 - val_mae: 14.1213\n",
      "Epoch 87/120\n",
      "95/95 [==============================] - 0s 610us/step - loss: 372.2338 - mae: 12.7629 - val_loss: 343.9587 - val_mae: 11.4948\n",
      "Epoch 88/120\n",
      " 1/95 [..............................] - ETA: 0s - loss: 179.9514 - mae: 9.9825INFO:tensorflow:Assets written to: ./ckpt_1_ANN/dnl_forcast_ANN/assets\n"
     ]
    },
    {
     "name": "stderr",
     "output_type": "stream",
     "text": [
      "INFO:tensorflow:Assets written to: ./ckpt_1_ANN/dnl_forcast_ANN/assets\n"
     ]
    },
    {
     "name": "stdout",
     "output_type": "stream",
     "text": [
      "95/95 [==============================] - 0s 2ms/step - loss: 358.2717 - mae: 12.6814 - val_loss: 324.3150 - val_mae: 10.8645\n",
      "Epoch 89/120\n",
      " 1/95 [..............................] - ETA: 0s - loss: 279.3668 - mae: 10.7744INFO:tensorflow:Assets written to: ./ckpt_1_ANN/dnl_forcast_ANN/assets\n"
     ]
    },
    {
     "name": "stderr",
     "output_type": "stream",
     "text": [
      "INFO:tensorflow:Assets written to: ./ckpt_1_ANN/dnl_forcast_ANN/assets\n"
     ]
    },
    {
     "name": "stdout",
     "output_type": "stream",
     "text": [
      "95/95 [==============================] - 0s 2ms/step - loss: 355.9037 - mae: 12.5438 - val_loss: 321.1025 - val_mae: 10.8980\n",
      "Epoch 90/120\n",
      "95/95 [==============================] - 0s 618us/step - loss: 355.3857 - mae: 12.5450 - val_loss: 363.8178 - val_mae: 12.7082\n",
      "Epoch 91/120\n",
      "95/95 [==============================] - 0s 623us/step - loss: 347.1338 - mae: 12.2324 - val_loss: 363.7800 - val_mae: 12.5113\n",
      "Epoch 92/120\n",
      "95/95 [==============================] - 0s 615us/step - loss: 343.0297 - mae: 12.2547 - val_loss: 577.4366 - val_mae: 18.1044\n",
      "Epoch 93/120\n",
      "95/95 [==============================] - 0s 612us/step - loss: 348.1499 - mae: 12.5228 - val_loss: 399.5506 - val_mae: 14.3155\n",
      "Epoch 94/120\n",
      "95/95 [==============================] - 0s 611us/step - loss: 340.2978 - mae: 12.3077 - val_loss: 381.5325 - val_mae: 13.2462\n",
      "Epoch 95/120\n",
      " 1/95 [..............................] - ETA: 0s - loss: 595.7864 - mae: 15.6358INFO:tensorflow:Assets written to: ./ckpt_1_ANN/dnl_forcast_ANN/assets\n"
     ]
    },
    {
     "name": "stderr",
     "output_type": "stream",
     "text": [
      "INFO:tensorflow:Assets written to: ./ckpt_1_ANN/dnl_forcast_ANN/assets\n"
     ]
    },
    {
     "name": "stdout",
     "output_type": "stream",
     "text": [
      "95/95 [==============================] - 0s 2ms/step - loss: 341.2421 - mae: 12.1649 - val_loss: 301.2487 - val_mae: 10.5906\n",
      "Epoch 96/120\n",
      "95/95 [==============================] - 0s 605us/step - loss: 334.5120 - mae: 12.2824 - val_loss: 363.4308 - val_mae: 12.9750\n",
      "Epoch 97/120\n",
      "95/95 [==============================] - 0s 609us/step - loss: 333.3970 - mae: 12.2166 - val_loss: 316.5945 - val_mae: 11.6392\n",
      "Epoch 98/120\n",
      "95/95 [==============================] - 0s 616us/step - loss: 334.9667 - mae: 12.2368 - val_loss: 315.8642 - val_mae: 11.6413\n",
      "Epoch 99/120\n",
      "95/95 [==============================] - 0s 608us/step - loss: 331.3796 - mae: 12.1561 - val_loss: 377.8800 - val_mae: 13.1306\n",
      "Epoch 100/120\n",
      " 1/95 [..............................] - ETA: 0s - loss: 393.3197 - mae: 14.1872INFO:tensorflow:Assets written to: ./ckpt_1_ANN/dnl_forcast_ANN/assets\n"
     ]
    },
    {
     "name": "stderr",
     "output_type": "stream",
     "text": [
      "INFO:tensorflow:Assets written to: ./ckpt_1_ANN/dnl_forcast_ANN/assets\n"
     ]
    },
    {
     "name": "stdout",
     "output_type": "stream",
     "text": [
      "95/95 [==============================] - 0s 2ms/step - loss: 330.1833 - mae: 12.1355 - val_loss: 292.1326 - val_mae: 10.3179\n",
      "Epoch 101/120\n",
      "57/95 [=================>............] - ETA: 0s - loss: 333.2024 - mae: 12.1605INFO:tensorflow:Assets written to: ./ckpt_1_ANN/dnl_forcast_ANN/assets\n"
     ]
    },
    {
     "name": "stderr",
     "output_type": "stream",
     "text": [
      "INFO:tensorflow:Assets written to: ./ckpt_1_ANN/dnl_forcast_ANN/assets\n"
     ]
    },
    {
     "name": "stdout",
     "output_type": "stream",
     "text": [
      "95/95 [==============================] - 0s 2ms/step - loss: 325.9707 - mae: 12.1153 - val_loss: 287.4696 - val_mae: 9.9520\n",
      "Epoch 102/120\n",
      " 1/95 [..............................] - ETA: 0s - loss: 131.4496 - mae: 7.4507INFO:tensorflow:Assets written to: ./ckpt_1_ANN/dnl_forcast_ANN/assets\n"
     ]
    },
    {
     "name": "stderr",
     "output_type": "stream",
     "text": [
      "INFO:tensorflow:Assets written to: ./ckpt_1_ANN/dnl_forcast_ANN/assets\n"
     ]
    },
    {
     "name": "stdout",
     "output_type": "stream",
     "text": [
      "95/95 [==============================] - 0s 2ms/step - loss: 324.4794 - mae: 11.9082 - val_loss: 283.5799 - val_mae: 10.3063\n",
      "Epoch 103/120\n",
      "95/95 [==============================] - 0s 632us/step - loss: 320.5102 - mae: 11.9405 - val_loss: 293.8571 - val_mae: 10.6548\n",
      "Epoch 104/120\n",
      "95/95 [==============================] - 0s 654us/step - loss: 319.0296 - mae: 12.0376 - val_loss: 287.6084 - val_mae: 10.5701\n",
      "Epoch 105/120\n",
      "95/95 [==============================] - 0s 659us/step - loss: 312.7851 - mae: 11.7632 - val_loss: 289.9217 - val_mae: 10.7088\n",
      "Epoch 106/120\n",
      "95/95 [==============================] - 0s 663us/step - loss: 315.9722 - mae: 11.9375 - val_loss: 305.7651 - val_mae: 11.3919\n",
      "Epoch 107/120\n",
      " 1/95 [..............................] - ETA: 0s - loss: 153.2220 - mae: 8.9880INFO:tensorflow:Assets written to: ./ckpt_1_ANN/dnl_forcast_ANN/assets\n"
     ]
    },
    {
     "name": "stderr",
     "output_type": "stream",
     "text": [
      "INFO:tensorflow:Assets written to: ./ckpt_1_ANN/dnl_forcast_ANN/assets\n"
     ]
    },
    {
     "name": "stdout",
     "output_type": "stream",
     "text": [
      "95/95 [==============================] - 0s 2ms/step - loss: 326.8016 - mae: 11.9671 - val_loss: 281.3640 - val_mae: 10.2600\n",
      "Epoch 108/120\n",
      "95/95 [==============================] - 0s 650us/step - loss: 287.9102 - mae: 11.4466 - val_loss: 301.6710 - val_mae: 11.5254\n",
      "Epoch 109/120\n",
      " 1/95 [..............................] - ETA: 0s - loss: 849.1061 - mae: 14.0215INFO:tensorflow:Assets written to: ./ckpt_1_ANN/dnl_forcast_ANN/assets\n"
     ]
    },
    {
     "name": "stderr",
     "output_type": "stream",
     "text": [
      "INFO:tensorflow:Assets written to: ./ckpt_1_ANN/dnl_forcast_ANN/assets\n"
     ]
    },
    {
     "name": "stdout",
     "output_type": "stream",
     "text": [
      "95/95 [==============================] - 0s 2ms/step - loss: 329.0441 - mae: 12.0101 - val_loss: 271.9166 - val_mae: 9.8633\n",
      "Epoch 110/120\n",
      " 1/95 [..............................] - ETA: 0s - loss: 222.8870 - mae: 10.0355INFO:tensorflow:Assets written to: ./ckpt_1_ANN/dnl_forcast_ANN/assets\n"
     ]
    },
    {
     "name": "stderr",
     "output_type": "stream",
     "text": [
      "INFO:tensorflow:Assets written to: ./ckpt_1_ANN/dnl_forcast_ANN/assets\n"
     ]
    },
    {
     "name": "stdout",
     "output_type": "stream",
     "text": [
      "95/95 [==============================] - 0s 2ms/step - loss: 301.0939 - mae: 11.6245 - val_loss: 265.9126 - val_mae: 9.7470\n",
      "Epoch 111/120\n",
      " 1/95 [..............................] - ETA: 0s - loss: 158.0358 - mae: 8.7601INFO:tensorflow:Assets written to: ./ckpt_1_ANN/dnl_forcast_ANN/assets\n"
     ]
    },
    {
     "name": "stderr",
     "output_type": "stream",
     "text": [
      "INFO:tensorflow:Assets written to: ./ckpt_1_ANN/dnl_forcast_ANN/assets\n"
     ]
    },
    {
     "name": "stdout",
     "output_type": "stream",
     "text": [
      "95/95 [==============================] - 0s 2ms/step - loss: 302.6100 - mae: 11.7296 - val_loss: 260.5922 - val_mae: 9.5081\n",
      "Epoch 112/120\n",
      "95/95 [==============================] - 0s 610us/step - loss: 299.7818 - mae: 11.5475 - val_loss: 416.1352 - val_mae: 14.8436\n",
      "Epoch 113/120\n",
      "95/95 [==============================] - 0s 625us/step - loss: 289.5749 - mae: 11.3701 - val_loss: 264.2334 - val_mae: 10.0234\n",
      "Epoch 114/120\n",
      "95/95 [==============================] - 0s 633us/step - loss: 322.9323 - mae: 11.9211 - val_loss: 328.8117 - val_mae: 12.2152\n",
      "Epoch 115/120\n",
      "95/95 [==============================] - 0s 637us/step - loss: 289.7023 - mae: 11.3975 - val_loss: 384.7028 - val_mae: 13.7714\n",
      "Epoch 116/120\n",
      "95/95 [==============================] - 0s 632us/step - loss: 296.1424 - mae: 11.5964 - val_loss: 263.2724 - val_mae: 9.6778\n",
      "Epoch 117/120\n",
      "95/95 [==============================] - 0s 638us/step - loss: 291.5349 - mae: 11.3728 - val_loss: 298.8521 - val_mae: 11.4732\n",
      "Epoch 118/120\n",
      "95/95 [==============================] - 0s 629us/step - loss: 296.6077 - mae: 11.5882 - val_loss: 395.9963 - val_mae: 14.8253\n",
      "Epoch 119/120\n",
      " 1/95 [..............................] - ETA: 0s - loss: 473.5875 - mae: 15.8999INFO:tensorflow:Assets written to: ./ckpt_1_ANN/dnl_forcast_ANN/assets\n"
     ]
    },
    {
     "name": "stderr",
     "output_type": "stream",
     "text": [
      "INFO:tensorflow:Assets written to: ./ckpt_1_ANN/dnl_forcast_ANN/assets\n"
     ]
    },
    {
     "name": "stdout",
     "output_type": "stream",
     "text": [
      "95/95 [==============================] - 0s 2ms/step - loss: 293.5359 - mae: 11.2518 - val_loss: 246.3918 - val_mae: 9.0605\n",
      "Epoch 120/120\n",
      "95/95 [==============================] - 0s 618us/step - loss: 281.2029 - mae: 11.3722 - val_loss: 254.8957 - val_mae: 9.6860\n"
     ]
    }
   ],
   "source": [
    "model.compile(loss='mse', optimizer='rmsprop', metrics=['mae'])\n",
    "# Prepare a directory to store all the checkpoints.\n",
    "checkpoint_no = 'ckpt_1_ANN'\n",
    "model_name = 'dnl_forcast_ANN'\n",
    "checkpoint_dir = './'+ checkpoint_no\n",
    "if not os.path.exists(checkpoint_dir):\n",
    "    os.makedirs(checkpoint_dir)\n",
    "\n",
    "keras_callbacks = [ModelCheckpoint(filepath = checkpoint_dir + '/' + model_name, monitor='val_loss', save_best_only=True, mode='auto')]\n",
    "\n",
    "history = model.fit(trainX_scaled,\n",
    "                    trainY,\n",
    "                    steps_per_epoch=n_steps_per_epoch,\n",
    "                    epochs=n_epochs,\n",
    "                    batch_size=n_batch_size,\n",
    "                    validation_data=(valX_scaled, valY),\n",
    "                    validation_steps=n_validation_steps,\n",
    "                    callbacks=[keras_callbacks])"
   ]
  },
  {
   "cell_type": "code",
   "execution_count": 95,
   "metadata": {},
   "outputs": [
    {
     "data": {
      "text/html": [
       "<div>\n",
       "<style scoped>\n",
       "    .dataframe tbody tr th:only-of-type {\n",
       "        vertical-align: middle;\n",
       "    }\n",
       "\n",
       "    .dataframe tbody tr th {\n",
       "        vertical-align: top;\n",
       "    }\n",
       "\n",
       "    .dataframe thead th {\n",
       "        text-align: right;\n",
       "    }\n",
       "</style>\n",
       "<table border=\"1\" class=\"dataframe\">\n",
       "  <thead>\n",
       "    <tr style=\"text-align: right;\">\n",
       "      <th></th>\n",
       "      <th>epoch</th>\n",
       "      <th>loss</th>\n",
       "      <th>mae</th>\n",
       "      <th>val_loss</th>\n",
       "      <th>val_mae</th>\n",
       "    </tr>\n",
       "  </thead>\n",
       "  <tbody>\n",
       "    <tr>\n",
       "      <th>0</th>\n",
       "      <td>1</td>\n",
       "      <td>186238.531250</td>\n",
       "      <td>246.865723</td>\n",
       "      <td>172209.343750</td>\n",
       "      <td>238.136398</td>\n",
       "    </tr>\n",
       "    <tr>\n",
       "      <th>1</th>\n",
       "      <td>2</td>\n",
       "      <td>158401.656250</td>\n",
       "      <td>233.348480</td>\n",
       "      <td>131505.093750</td>\n",
       "      <td>216.332611</td>\n",
       "    </tr>\n",
       "    <tr>\n",
       "      <th>2</th>\n",
       "      <td>3</td>\n",
       "      <td>108627.414062</td>\n",
       "      <td>207.722763</td>\n",
       "      <td>79647.007812</td>\n",
       "      <td>189.480057</td>\n",
       "    </tr>\n",
       "    <tr>\n",
       "      <th>3</th>\n",
       "      <td>4</td>\n",
       "      <td>65450.988281</td>\n",
       "      <td>181.643845</td>\n",
       "      <td>54274.117188</td>\n",
       "      <td>169.467194</td>\n",
       "    </tr>\n",
       "    <tr>\n",
       "      <th>4</th>\n",
       "      <td>5</td>\n",
       "      <td>50015.871094</td>\n",
       "      <td>162.637344</td>\n",
       "      <td>45094.351562</td>\n",
       "      <td>153.126266</td>\n",
       "    </tr>\n",
       "  </tbody>\n",
       "</table>\n",
       "</div>"
      ],
      "text/plain": [
       "   epoch           loss         mae       val_loss     val_mae\n",
       "0      1  186238.531250  246.865723  172209.343750  238.136398\n",
       "1      2  158401.656250  233.348480  131505.093750  216.332611\n",
       "2      3  108627.414062  207.722763   79647.007812  189.480057\n",
       "3      4   65450.988281  181.643845   54274.117188  169.467194\n",
       "4      5   50015.871094  162.637344   45094.351562  153.126266"
      ]
     },
     "execution_count": 95,
     "metadata": {},
     "output_type": "execute_result"
    }
   ],
   "source": [
    "hist_df = pd.DataFrame(history.history)\n",
    "hist_df['epoch'] = hist_df.index + 1\n",
    "cols = list(hist_df.columns)\n",
    "cols = [cols[-1]] + cols[:-1]\n",
    "hist_df = hist_df[cols]\n",
    "hist_df.to_csv(checkpoint_no + '/' + 'history_df_' + model_name + '.csv')\n",
    "hist_df.head()"
   ]
  },
  {
   "cell_type": "code",
   "execution_count": 96,
   "metadata": {},
   "outputs": [
    {
     "data": {
      "text/html": [
       "<div>\n",
       "<style scoped>\n",
       "    .dataframe tbody tr th:only-of-type {\n",
       "        vertical-align: middle;\n",
       "    }\n",
       "\n",
       "    .dataframe tbody tr th {\n",
       "        vertical-align: top;\n",
       "    }\n",
       "\n",
       "    .dataframe thead th {\n",
       "        text-align: right;\n",
       "    }\n",
       "</style>\n",
       "<table border=\"1\" class=\"dataframe\">\n",
       "  <thead>\n",
       "    <tr style=\"text-align: right;\">\n",
       "      <th></th>\n",
       "      <th>epoch</th>\n",
       "      <th>loss</th>\n",
       "      <th>mae</th>\n",
       "      <th>val_loss</th>\n",
       "      <th>val_mae</th>\n",
       "    </tr>\n",
       "  </thead>\n",
       "  <tbody>\n",
       "    <tr>\n",
       "      <th>118</th>\n",
       "      <td>119</td>\n",
       "      <td>293.535858</td>\n",
       "      <td>11.251813</td>\n",
       "      <td>246.3918</td>\n",
       "      <td>9.060496</td>\n",
       "    </tr>\n",
       "  </tbody>\n",
       "</table>\n",
       "</div>"
      ],
      "text/plain": [
       "     epoch        loss        mae  val_loss   val_mae\n",
       "118    119  293.535858  11.251813  246.3918  9.060496"
      ]
     },
     "execution_count": 96,
     "metadata": {},
     "output_type": "execute_result"
    }
   ],
   "source": [
    "values_of_best_model = hist_df[hist_df.val_loss == hist_df.val_loss.min()]\n",
    "values_of_best_model"
   ]
  },
  {
   "cell_type": "code",
   "execution_count": 97,
   "metadata": {},
   "outputs": [],
   "source": [
    "pk.dump(scaler, open(checkpoint_no + '/' + 'scaler.pkl', 'wb'))"
   ]
  },
  {
   "cell_type": "code",
   "execution_count": 98,
   "metadata": {},
   "outputs": [
    {
     "data": {
      "image/png": "[encoded data removed]",
      "text/plain": [
       "<Figure size 640x480 with 1 Axes>"
      ]
     },
     "metadata": {},
     "output_type": "display_data"
    },
    {
     "data": {
      "image/png": "[encoded data removed]",
      "text/plain": [
       "<Figure size 640x480 with 1 Axes>"
      ]
     },
     "metadata": {},
     "output_type": "display_data"
    }
   ],
   "source": [
    "mae = history.history['mae']\n",
    "val_mae = history.history['val_mae']\n",
    "loss = history.history['loss']\n",
    "val_loss = history.history['val_loss']\n",
    "\n",
    "epochs = range(1, len(mae) + 1)\n",
    "\n",
    "plt.plot(epochs, mae, 'bo', label='Training MAE')\n",
    "plt.plot(epochs, val_mae, 'b', label='Validation MAE')\n",
    "plt.title('Training and validation MAE')\n",
    "plt.legend()\n",
    "\n",
    "plt.figure()\n",
    "\n",
    "plt.plot(epochs, loss, 'bo', label='Training loss')\n",
    "plt.plot(epochs, val_loss, 'b', label='Validation loss')\n",
    "plt.title('Training and validation loss')\n",
    "plt.legend()\n",
    "\n",
    "plt.show()"
   ]
  },
  {
   "cell_type": "code",
   "execution_count": 99,
   "metadata": {},
   "outputs": [],
   "source": [
    "def build_model():\n",
    "    model = models.Sequential()\n",
    "    model.add(layers.Dense(64, activation='relu',\n",
    "                           input_shape=(input_shape,)))\n",
    "    model.add(layers.Dense(64, activation='relu'))\n",
    "    model.add(layers.Dense(1))\n",
    "    model.compile(loss='mse', optimizer='rmsprop', metrics=['mae'])\n",
    "    return model"
   ]
  },
  {
   "cell_type": "code",
   "execution_count": 100,
   "metadata": {},
   "outputs": [
    {
     "name": "stdout",
     "output_type": "stream",
     "text": [
      "Processing Fold 0\n"
     ]
    },
    {
     "name": "stdout",
     "output_type": "stream",
     "text": [
      "MAE: 11.91681957244873\n",
      "========================\n",
      "Processing Fold 1\n",
      "MAE: 8.945703506469727\n",
      "========================\n",
      "Processing Fold 2\n",
      "MAE: 12.387532234191895\n",
      "========================\n",
      "Processing Fold 3\n",
      "MAE: 8.152060508728027\n",
      "========================\n",
      "Processing Fold 4\n",
      "MAE: 9.531498908996582\n",
      "========================\n"
     ]
    }
   ],
   "source": [
    "k = 5\n",
    "num_val_samples = len(trainX) // k\n",
    "all_scores = []\n",
    "for i in range(k):\n",
    "    print('Processing Fold', i)\n",
    "    val_data = trainX_scaled[i * num_val_samples: (i + 1) * num_val_samples]\n",
    "    val_targets = trainY[i * num_val_samples: (i + 1) * num_val_samples]\n",
    "\n",
    "    partial_train_data = np.concatenate(\n",
    "        [trainX_scaled[:i * num_val_samples],\n",
    "         trainX_scaled[(i + 1) * num_val_samples:]],\n",
    "        axis=0)\n",
    "    partial_train_targets = np.concatenate(\n",
    "        [trainY[:i * num_val_samples],\n",
    "         trainY[(i + 1) * num_val_samples:]],\n",
    "        axis=0)\n",
    "\n",
    "    model = build_model()\n",
    "    model.fit(partial_train_data, partial_train_targets,\n",
    "              epochs=n_epochs, batch_size=n_batch_size, verbose=0)\n",
    "    val_mse, val_mae = model.evaluate(val_data, val_targets, verbose=0)\n",
    "    all_scores.append(val_mae)\n",
    "    print('MAE: ' + str(val_mae))\n",
    "    print('========================')\n"
   ]
  },
  {
   "cell_type": "code",
   "execution_count": 101,
   "metadata": {},
   "outputs": [
    {
     "name": "stdout",
     "output_type": "stream",
     "text": [
      "Fold 0: MAE of 11.91681957244873\n",
      "Fold 1: MAE of 8.945703506469727\n",
      "Fold 2: MAE of 12.387532234191895\n",
      "Fold 3: MAE of 8.152060508728027\n",
      "Fold 4: MAE of 9.531498908996582\n",
      "Mean MAE of all folds: 10.186722946166991\n"
     ]
    }
   ],
   "source": [
    "for i, val in enumerate(all_scores):\n",
    "    print('Fold ' + str(i) +': ' + 'MAE of', val)\n",
    "\n",
    "print('Mean MAE of all folds: ' + str(np.mean(all_scores)))"
   ]
  },
  {
   "cell_type": "code",
   "execution_count": 102,
   "metadata": {},
   "outputs": [
    {
     "name": "stdout",
     "output_type": "stream",
     "text": [
      "Processing Fold 0\n",
      "Processing Fold 1\n",
      "Processing Fold 2\n",
      "Processing Fold 3\n",
      "Processing Fold 4\n"
     ]
    }
   ],
   "source": [
    "all_mae_histories = []\n",
    "for i in range(k):\n",
    "    print('Processing Fold', i)\n",
    "    val_data = trainX_scaled[i * num_val_samples: (i + 1) * num_val_samples]\n",
    "    val_targets = trainY[i * num_val_samples: (i + 1) * num_val_samples]\n",
    "    partial_train_data = np.concatenate(\n",
    "        [trainX_scaled[:i * num_val_samples],\n",
    "         trainX_scaled[(i + 1) * num_val_samples:]],\n",
    "        axis=0)\n",
    "    partial_train_targets = np.concatenate(\n",
    "        [trainY[:i * num_val_samples],\n",
    "         trainY[(i + 1) * num_val_samples:]],\n",
    "        axis=0)\n",
    "\n",
    "    model = build_model()\n",
    "    history = model.fit(partial_train_data, partial_train_targets,\n",
    "                        validation_data=(val_data, val_targets),\n",
    "                        epochs=n_epochs, batch_size=n_batch_size, verbose=0)\n",
    "    mae_history = history.history['val_mae']\n",
    "    all_mae_histories.append(mae_history)"
   ]
  },
  {
   "cell_type": "code",
   "execution_count": 103,
   "metadata": {},
   "outputs": [
    {
     "data": {
      "text/plain": [
       "120"
      ]
     },
     "execution_count": 103,
     "metadata": {},
     "output_type": "execute_result"
    }
   ],
   "source": [
    "average_mae_history = [np.mean([x[i] for x in all_mae_histories]) for i in range(n_epochs)]\n",
    "\n",
    "len(average_mae_history)"
   ]
  },
  {
   "cell_type": "code",
   "execution_count": 104,
   "metadata": {},
   "outputs": [
    {
     "data": {
      "image/png": "[encoded data removed]",
      "text/plain": [
       "<Figure size 640x480 with 1 Axes>"
      ]
     },
     "metadata": {},
     "output_type": "display_data"
    }
   ],
   "source": [
    "plt.plot(range(1, len(average_mae_history) + 1), average_mae_history)\n",
    "plt.title('Validation MAE per Epoch')\n",
    "plt.xlabel('Epochs')\n",
    "plt.ylabel('Validation MAE')\n",
    "plt.show()"
   ]
  },
  {
   "cell_type": "code",
   "execution_count": 105,
   "metadata": {},
   "outputs": [
    {
     "name": "stderr",
     "output_type": "stream",
     "text": [
      "/Users/saraabouelella/anaconda3/envs/nrel311/lib/python3.11/site-packages/keras/src/engine/training.py:3103: UserWarning: You are saving your model as an HDF5 file via `model.save()`. This file format is considered legacy. We recommend using instead the native Keras format, e.g. `model.save('my_model.keras')`.\n",
      "  saving_api.save_model(\n"
     ]
    }
   ],
   "source": [
    "model_reloaded = load_model(checkpoint_no + '/' + model_name)\n",
    "\n",
    "# Saving the best model in the correct path and format\n",
    "root_directory = os.getcwd()\n",
    "checkpoint_dir = os.path.join(root_directory, checkpoint_no)\n",
    "model_name_temp = os.path.join(checkpoint_dir, model_name + '.h5')\n",
    "model_reloaded.save(model_name_temp)\n",
    "\n",
    "# Deletion of the automatically created folder under Model Checkpoint File.\n",
    "folder_name_temp = os.path.join(checkpoint_dir, model_name)\n",
    "shutil.rmtree(folder_name_temp, ignore_errors=True)\n",
    "best_model = load_model(model_name_temp)"
   ]
  },
  {
   "cell_type": "code",
   "execution_count": 106,
   "metadata": {},
   "outputs": [
    {
     "name": "stdout",
     "output_type": "stream",
     "text": [
      "20/20 [==============================] - 0s 559us/step - loss: 216.2997 - mae: 8.7716\n",
      "\n",
      "Test MAE: 8.77160358428955\n"
     ]
    }
   ],
   "source": [
    "test_loss, test_mae = best_model.evaluate(testX_scaled, testY, steps=n_test_steps)\n",
    "print()\n",
    "print('Test MAE:', test_mae)"
   ]
  },
  {
   "cell_type": "code",
   "execution_count": 107,
   "metadata": {},
   "outputs": [
    {
     "name": "stdout",
     "output_type": "stream",
     "text": [
      "83/83 [==============================] - 0s 338us/step\n"
     ]
    },
    {
     "data": {
      "text/plain": [
       "array([[ 374.52332],\n",
       "       [  -5.31682],\n",
       "       [ 578.8653 ],\n",
       "       [ -20.70949],\n",
       "       [1057.7192 ]], dtype=float32)"
      ]
     },
     "execution_count": 107,
     "metadata": {},
     "output_type": "execute_result"
    }
   ],
   "source": [
    "y_pred = model.predict(testX_scaled)\n",
    "y_pred[:5]"
   ]
  },
  {
   "cell_type": "code",
   "execution_count": 108,
   "metadata": {},
   "outputs": [
    {
     "data": {
      "text/html": [
       "<div>\n",
       "<style scoped>\n",
       "    .dataframe tbody tr th:only-of-type {\n",
       "        vertical-align: middle;\n",
       "    }\n",
       "\n",
       "    .dataframe tbody tr th {\n",
       "        vertical-align: top;\n",
       "    }\n",
       "\n",
       "    .dataframe thead th {\n",
       "        text-align: right;\n",
       "    }\n",
       "</style>\n",
       "<table border=\"1\" class=\"dataframe\">\n",
       "  <thead>\n",
       "    <tr style=\"text-align: right;\">\n",
       "      <th></th>\n",
       "      <th>Actual</th>\n",
       "      <th>Predicted</th>\n",
       "    </tr>\n",
       "  </thead>\n",
       "  <tbody>\n",
       "    <tr>\n",
       "      <th>0</th>\n",
       "      <td>367</td>\n",
       "      <td>374.523315</td>\n",
       "    </tr>\n",
       "    <tr>\n",
       "      <th>1</th>\n",
       "      <td>0</td>\n",
       "      <td>-5.316820</td>\n",
       "    </tr>\n",
       "    <tr>\n",
       "      <th>2</th>\n",
       "      <td>581</td>\n",
       "      <td>578.865295</td>\n",
       "    </tr>\n",
       "    <tr>\n",
       "      <th>3</th>\n",
       "      <td>0</td>\n",
       "      <td>-20.709490</td>\n",
       "    </tr>\n",
       "    <tr>\n",
       "      <th>4</th>\n",
       "      <td>1037</td>\n",
       "      <td>1057.719238</td>\n",
       "    </tr>\n",
       "    <tr>\n",
       "      <th>...</th>\n",
       "      <td>...</td>\n",
       "      <td>...</td>\n",
       "    </tr>\n",
       "    <tr>\n",
       "      <th>2624</th>\n",
       "      <td>0</td>\n",
       "      <td>8.197737</td>\n",
       "    </tr>\n",
       "    <tr>\n",
       "      <th>2625</th>\n",
       "      <td>466</td>\n",
       "      <td>454.232513</td>\n",
       "    </tr>\n",
       "    <tr>\n",
       "      <th>2626</th>\n",
       "      <td>474</td>\n",
       "      <td>482.973633</td>\n",
       "    </tr>\n",
       "    <tr>\n",
       "      <th>2627</th>\n",
       "      <td>973</td>\n",
       "      <td>971.618042</td>\n",
       "    </tr>\n",
       "    <tr>\n",
       "      <th>2628</th>\n",
       "      <td>0</td>\n",
       "      <td>-10.731462</td>\n",
       "    </tr>\n",
       "  </tbody>\n",
       "</table>\n",
       "<p>2629 rows × 2 columns</p>\n",
       "</div>"
      ],
      "text/plain": [
       "      Actual    Predicted\n",
       "0        367   374.523315\n",
       "1          0    -5.316820\n",
       "2        581   578.865295\n",
       "3          0   -20.709490\n",
       "4       1037  1057.719238\n",
       "...      ...          ...\n",
       "2624       0     8.197737\n",
       "2625     466   454.232513\n",
       "2626     474   482.973633\n",
       "2627     973   971.618042\n",
       "2628       0   -10.731462\n",
       "\n",
       "[2629 rows x 2 columns]"
      ]
     },
     "execution_count": 108,
     "metadata": {},
     "output_type": "execute_result"
    }
   ],
   "source": [
    "df_testY = pd.DataFrame(testY)\n",
    "df_y_pred = pd.DataFrame(y_pred)\n",
    "\n",
    "df_testY.reset_index(drop=True, inplace=True)\n",
    "df_y_pred.reset_index(drop=True, inplace=True)\n",
    "\n",
    "df_results = pd.concat([df_testY, df_y_pred], axis=1)\n",
    "df_results.columns = ['Actual', 'Predicted']\n",
    "\n",
    "df_results"
   ]
  },
  {
   "cell_type": "code",
   "execution_count": 109,
   "metadata": {},
   "outputs": [
    {
     "name": "stdout",
     "output_type": "stream",
     "text": [
      "Mean Absolute Error: 12.78945501606108\n",
      "Mean Squared Error: 350.7798473086723\n",
      "Root Mean Squared Error: 18.72911763294449\n",
      "Mean Absolute Percentage Error: 2.844244701013504e+16\n"
     ]
    }
   ],
   "source": [
    "print('Mean Absolute Error:', metrics.mean_absolute_error(testY, y_pred))\n",
    "print('Mean Squared Error:', metrics.mean_squared_error(testY, y_pred))\n",
    "print('Root Mean Squared Error:', metrics.mean_squared_error(testY, y_pred, squared=False))\n",
    "print('Mean Absolute Percentage Error:', metrics.mean_absolute_percentage_error(testY, y_pred))"
   ]
  },
  {
   "cell_type": "code",
   "execution_count": 112,
   "metadata": {},
   "outputs": [
    {
     "name": "stdout",
     "output_type": "stream",
     "text": [
      "commite\n"
     ]
    }
   ],
   "source": [
    "print(\"commite\")"
   ]
  }
 ],
 "metadata": {
  "kernelspec": {
   "display_name": "nreldata",
   "language": "python",
   "name": "python3"
  },
  "language_info": {
   "codemirror_mode": {
    "name": "ipython",
    "version": 3
   },
   "file_extension": ".py",
   "mimetype": "text/x-python",
   "name": "python",
   "nbconvert_exporter": "python",
   "pygments_lexer": "ipython3",
   "version": "3.11.5"
  }
 },
 "nbformat": 4,
 "nbformat_minor": 2
}
