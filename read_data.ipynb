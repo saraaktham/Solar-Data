{
 "cells": [
  {
   "cell_type": "code",
   "execution_count": 173,
   "metadata": {},
   "outputs": [],
   "source": [
    "import sys, os\n",
    "import pandas as pd\n",
    "import numpy as np\n",
    "\n",
    "from IPython.display import display"
   ]
  },
  {
   "cell_type": "code",
   "execution_count": 174,
   "metadata": {},
   "outputs": [],
   "source": [
    "# Declare all variables as strings. Spaces must be replaced with '+', i.e., change 'John Smith' to 'John+Smith'.\n",
    "# Define the lat, long of the location and the year\n",
    "\n",
    "p1_lat, p1_lon = 39.835694, -105.359097\n",
    "p2_lat, p2_lon = 39.855119, -105.297783\n",
    "p3_lat, p3_lon = 39.655210, -105.402332\n",
    "p4_lat, p4_lon = 39.965930, -105.440591\n",
    "\n",
    "# You must request an NSRDB api key from the link above\n",
    "api_key = '1gHoGjlIGeXbQOpiunnlRrJS9vYYb490MA4n9X7s'\n",
    "# Set the attributes to extract (e.g., dhi, ghi, etc.), separated by commas.\n",
    "attributes = 'air_temperature,solar_zenith_angle,dew_point,relative_humidity,surface_albedo,surface_pressure,total_precipitable_water,wind_speed,wind_direction,ghi,dhi,dni'\n",
    "   \n",
    "# Choose year of data\n",
    "year = '2010'\n",
    "# Set leap year to true or false. True will return leap day data if present, false will not.\n",
    "leap_year = 'false'\n",
    "# Set time interval in minutes, i.e., '30' is half hour intervals. Valid intervals are 30 & 60.\n",
    "interval = '30'\n",
    "# Specify Coordinated Universal Time (UTC), 'true' will use UTC, 'false' will use the local time zone of the data.\n",
    "# NOTE: In order to use the NSRDB data in SAM, you must specify UTC as 'false'. SAM requires the data to be in the\n",
    "# local time zone.\n",
    "utc = 'false'\n",
    "# Your full name, use '+' instead of spaces.\n",
    "your_name = 'Sara+Abouelella'\n",
    "# Your reason for using the NSRDB.\n",
    "reason_for_use = 'interview'\n",
    "# Your affiliation\n",
    "your_affiliation = 'student'\n",
    "# Your email address\n",
    "your_email = 'sabouelella3@gatech.edu'\n",
    "# Please join our mailing list so we can keep you up-to-date on new developments.\n",
    "mailing_list = 'false'\n",
    "\n",
    "# Declare url string\n",
    "url = 'https://developer.nrel.gov/api/nsrdb/v2/solar/psm3-download.csv?wkt=POINT({lon}%20{lat})&names={year}&leap_day={leap}&interval={interval}&utc={utc}&full_name={name}&email={email}&affiliation={affiliation}&mailing_list={mailing_list}&reason={reason}&api_key={api}&attributes={attr}'.format(year=year, lat=p4_lat, lon=p4_lon, leap=leap_year, interval=interval, utc=utc, name=your_name, email=your_email, mailing_list=mailing_list, affiliation=your_affiliation, reason=reason_for_use, api=api_key, attr=attributes)\n",
    "# Return just the first 2 lines to get metadata:\n",
    "info = pd.read_csv(url, nrows=1)\n",
    "# See metadata for specified properties, e.g., timezone and elevation\n",
    "timezone, elevation = info['Local Time Zone'], info['Elevation']"
   ]
  },
  {
   "cell_type": "code",
   "execution_count": 175,
   "metadata": {},
   "outputs": [
    {
     "data": {
      "text/html": [
       "<div>\n",
       "<style scoped>\n",
       "    .dataframe tbody tr th:only-of-type {\n",
       "        vertical-align: middle;\n",
       "    }\n",
       "\n",
       "    .dataframe tbody tr th {\n",
       "        vertical-align: top;\n",
       "    }\n",
       "\n",
       "    .dataframe thead th {\n",
       "        text-align: right;\n",
       "    }\n",
       "</style>\n",
       "<table border=\"1\" class=\"dataframe\">\n",
       "  <thead>\n",
       "    <tr style=\"text-align: right;\">\n",
       "      <th></th>\n",
       "      <th>Source</th>\n",
       "      <th>Location ID</th>\n",
       "      <th>City</th>\n",
       "      <th>State</th>\n",
       "      <th>Country</th>\n",
       "      <th>Latitude</th>\n",
       "      <th>Longitude</th>\n",
       "      <th>Time Zone</th>\n",
       "      <th>Elevation</th>\n",
       "      <th>Local Time Zone</th>\n",
       "      <th>...</th>\n",
       "      <th>Cloud Type 11</th>\n",
       "      <th>Cloud Type 12</th>\n",
       "      <th>Fill Flag 0</th>\n",
       "      <th>Fill Flag 1</th>\n",
       "      <th>Fill Flag 2</th>\n",
       "      <th>Fill Flag 3</th>\n",
       "      <th>Fill Flag 4</th>\n",
       "      <th>Fill Flag 5</th>\n",
       "      <th>Surface Albedo Units</th>\n",
       "      <th>Version</th>\n",
       "    </tr>\n",
       "  </thead>\n",
       "  <tbody>\n",
       "    <tr>\n",
       "      <th>0</th>\n",
       "      <td>NSRDB</td>\n",
       "      <td>148698</td>\n",
       "      <td>-</td>\n",
       "      <td>-</td>\n",
       "      <td>-</td>\n",
       "      <td>39.97</td>\n",
       "      <td>-105.46</td>\n",
       "      <td>-7</td>\n",
       "      <td>2529</td>\n",
       "      <td>-7</td>\n",
       "      <td>...</td>\n",
       "      <td>Dust</td>\n",
       "      <td>Smoke</td>\n",
       "      <td>NaN</td>\n",
       "      <td>Missing Image</td>\n",
       "      <td>Low Irradiance</td>\n",
       "      <td>Exceeds Clearsky</td>\n",
       "      <td>Missing CLoud Properties</td>\n",
       "      <td>Rayleigh Violation</td>\n",
       "      <td>NaN</td>\n",
       "      <td>3.0.6</td>\n",
       "    </tr>\n",
       "  </tbody>\n",
       "</table>\n",
       "<p>1 rows × 46 columns</p>\n",
       "</div>"
      ],
      "text/plain": [
       "  Source  Location ID City State Country  Latitude  Longitude  Time Zone  \\\n",
       "0  NSRDB       148698    -     -       -     39.97    -105.46         -7   \n",
       "\n",
       "   Elevation  Local Time Zone  ... Cloud Type 11 Cloud Type 12 Fill Flag 0  \\\n",
       "0       2529               -7  ...          Dust         Smoke         NaN   \n",
       "\n",
       "     Fill Flag 1     Fill Flag 2       Fill Flag 3               Fill Flag 4  \\\n",
       "0  Missing Image  Low Irradiance  Exceeds Clearsky  Missing CLoud Properties   \n",
       "\n",
       "          Fill Flag 5 Surface Albedo Units Version  \n",
       "0  Rayleigh Violation                  NaN   3.0.6  \n",
       "\n",
       "[1 rows x 46 columns]"
      ]
     },
     "execution_count": 175,
     "metadata": {},
     "output_type": "execute_result"
    }
   ],
   "source": [
    "# View metadata\n",
    "info"
   ]
  },
  {
   "cell_type": "code",
   "execution_count": 176,
   "metadata": {},
   "outputs": [
    {
     "name": "stdout",
     "output_type": "stream",
     "text": [
      "shape: (17520, 17)\n"
     ]
    },
    {
     "data": {
      "text/html": [
       "<div>\n",
       "<style scoped>\n",
       "    .dataframe tbody tr th:only-of-type {\n",
       "        vertical-align: middle;\n",
       "    }\n",
       "\n",
       "    .dataframe tbody tr th {\n",
       "        vertical-align: top;\n",
       "    }\n",
       "\n",
       "    .dataframe thead th {\n",
       "        text-align: right;\n",
       "    }\n",
       "</style>\n",
       "<table border=\"1\" class=\"dataframe\">\n",
       "  <thead>\n",
       "    <tr style=\"text-align: right;\">\n",
       "      <th></th>\n",
       "      <th>Year</th>\n",
       "      <th>Month</th>\n",
       "      <th>Day</th>\n",
       "      <th>Hour</th>\n",
       "      <th>Minute</th>\n",
       "      <th>Temperature</th>\n",
       "      <th>Solar Zenith Angle</th>\n",
       "      <th>Dew Point</th>\n",
       "      <th>Relative Humidity</th>\n",
       "      <th>Surface Albedo</th>\n",
       "      <th>Pressure</th>\n",
       "      <th>Precipitable Water</th>\n",
       "      <th>Wind Speed</th>\n",
       "      <th>Wind Direction</th>\n",
       "      <th>GHI</th>\n",
       "      <th>DHI</th>\n",
       "      <th>DNI</th>\n",
       "    </tr>\n",
       "  </thead>\n",
       "  <tbody>\n",
       "    <tr>\n",
       "      <th>2010-01-01 00:00:00</th>\n",
       "      <td>2010</td>\n",
       "      <td>1</td>\n",
       "      <td>1</td>\n",
       "      <td>0</td>\n",
       "      <td>0</td>\n",
       "      <td>-10</td>\n",
       "      <td>163.12</td>\n",
       "      <td>-16</td>\n",
       "      <td>59.53</td>\n",
       "      <td>0.866</td>\n",
       "      <td>750</td>\n",
       "      <td>0.479</td>\n",
       "      <td>3.8</td>\n",
       "      <td>267.3</td>\n",
       "      <td>0</td>\n",
       "      <td>0</td>\n",
       "      <td>0</td>\n",
       "    </tr>\n",
       "    <tr>\n",
       "      <th>2010-01-01 00:30:00</th>\n",
       "      <td>2010</td>\n",
       "      <td>1</td>\n",
       "      <td>1</td>\n",
       "      <td>0</td>\n",
       "      <td>30</td>\n",
       "      <td>-10</td>\n",
       "      <td>162.32</td>\n",
       "      <td>-16</td>\n",
       "      <td>55.02</td>\n",
       "      <td>0.866</td>\n",
       "      <td>750</td>\n",
       "      <td>0.486</td>\n",
       "      <td>3.8</td>\n",
       "      <td>267.3</td>\n",
       "      <td>0</td>\n",
       "      <td>0</td>\n",
       "      <td>0</td>\n",
       "    </tr>\n",
       "    <tr>\n",
       "      <th>2010-01-01 01:00:00</th>\n",
       "      <td>2010</td>\n",
       "      <td>1</td>\n",
       "      <td>1</td>\n",
       "      <td>1</td>\n",
       "      <td>0</td>\n",
       "      <td>-10</td>\n",
       "      <td>159.50</td>\n",
       "      <td>-16</td>\n",
       "      <td>55.62</td>\n",
       "      <td>0.866</td>\n",
       "      <td>750</td>\n",
       "      <td>0.493</td>\n",
       "      <td>3.9</td>\n",
       "      <td>268.8</td>\n",
       "      <td>0</td>\n",
       "      <td>0</td>\n",
       "      <td>0</td>\n",
       "    </tr>\n",
       "    <tr>\n",
       "      <th>2010-01-01 01:30:00</th>\n",
       "      <td>2010</td>\n",
       "      <td>1</td>\n",
       "      <td>1</td>\n",
       "      <td>1</td>\n",
       "      <td>30</td>\n",
       "      <td>-9</td>\n",
       "      <td>155.34</td>\n",
       "      <td>-16</td>\n",
       "      <td>55.63</td>\n",
       "      <td>0.866</td>\n",
       "      <td>750</td>\n",
       "      <td>0.501</td>\n",
       "      <td>3.9</td>\n",
       "      <td>268.8</td>\n",
       "      <td>0</td>\n",
       "      <td>0</td>\n",
       "      <td>0</td>\n",
       "    </tr>\n",
       "    <tr>\n",
       "      <th>2010-01-01 02:00:00</th>\n",
       "      <td>2010</td>\n",
       "      <td>1</td>\n",
       "      <td>1</td>\n",
       "      <td>2</td>\n",
       "      <td>0</td>\n",
       "      <td>-9</td>\n",
       "      <td>150.42</td>\n",
       "      <td>-15</td>\n",
       "      <td>57.88</td>\n",
       "      <td>0.866</td>\n",
       "      <td>750</td>\n",
       "      <td>0.509</td>\n",
       "      <td>3.9</td>\n",
       "      <td>270.0</td>\n",
       "      <td>0</td>\n",
       "      <td>0</td>\n",
       "      <td>0</td>\n",
       "    </tr>\n",
       "    <tr>\n",
       "      <th>2010-01-01 02:30:00</th>\n",
       "      <td>2010</td>\n",
       "      <td>1</td>\n",
       "      <td>1</td>\n",
       "      <td>2</td>\n",
       "      <td>30</td>\n",
       "      <td>-9</td>\n",
       "      <td>145.08</td>\n",
       "      <td>-15</td>\n",
       "      <td>53.54</td>\n",
       "      <td>0.866</td>\n",
       "      <td>750</td>\n",
       "      <td>0.516</td>\n",
       "      <td>3.8</td>\n",
       "      <td>270.0</td>\n",
       "      <td>0</td>\n",
       "      <td>0</td>\n",
       "      <td>0</td>\n",
       "    </tr>\n",
       "    <tr>\n",
       "      <th>2010-01-01 03:00:00</th>\n",
       "      <td>2010</td>\n",
       "      <td>1</td>\n",
       "      <td>1</td>\n",
       "      <td>3</td>\n",
       "      <td>0</td>\n",
       "      <td>-9</td>\n",
       "      <td>139.51</td>\n",
       "      <td>-14</td>\n",
       "      <td>57.22</td>\n",
       "      <td>0.866</td>\n",
       "      <td>750</td>\n",
       "      <td>0.523</td>\n",
       "      <td>3.8</td>\n",
       "      <td>270.0</td>\n",
       "      <td>0</td>\n",
       "      <td>0</td>\n",
       "      <td>0</td>\n",
       "    </tr>\n",
       "    <tr>\n",
       "      <th>2010-01-01 03:30:00</th>\n",
       "      <td>2010</td>\n",
       "      <td>1</td>\n",
       "      <td>1</td>\n",
       "      <td>3</td>\n",
       "      <td>30</td>\n",
       "      <td>-9</td>\n",
       "      <td>133.81</td>\n",
       "      <td>-14</td>\n",
       "      <td>57.23</td>\n",
       "      <td>0.866</td>\n",
       "      <td>750</td>\n",
       "      <td>0.527</td>\n",
       "      <td>3.7</td>\n",
       "      <td>270.0</td>\n",
       "      <td>0</td>\n",
       "      <td>0</td>\n",
       "      <td>0</td>\n",
       "    </tr>\n",
       "  </tbody>\n",
       "</table>\n",
       "</div>"
      ],
      "text/plain": [
       "                     Year  Month  Day  Hour  Minute  Temperature  \\\n",
       "2010-01-01 00:00:00  2010      1    1     0       0          -10   \n",
       "2010-01-01 00:30:00  2010      1    1     0      30          -10   \n",
       "2010-01-01 01:00:00  2010      1    1     1       0          -10   \n",
       "2010-01-01 01:30:00  2010      1    1     1      30           -9   \n",
       "2010-01-01 02:00:00  2010      1    1     2       0           -9   \n",
       "2010-01-01 02:30:00  2010      1    1     2      30           -9   \n",
       "2010-01-01 03:00:00  2010      1    1     3       0           -9   \n",
       "2010-01-01 03:30:00  2010      1    1     3      30           -9   \n",
       "\n",
       "                     Solar Zenith Angle  Dew Point  Relative Humidity  \\\n",
       "2010-01-01 00:00:00              163.12        -16              59.53   \n",
       "2010-01-01 00:30:00              162.32        -16              55.02   \n",
       "2010-01-01 01:00:00              159.50        -16              55.62   \n",
       "2010-01-01 01:30:00              155.34        -16              55.63   \n",
       "2010-01-01 02:00:00              150.42        -15              57.88   \n",
       "2010-01-01 02:30:00              145.08        -15              53.54   \n",
       "2010-01-01 03:00:00              139.51        -14              57.22   \n",
       "2010-01-01 03:30:00              133.81        -14              57.23   \n",
       "\n",
       "                     Surface Albedo  Pressure  Precipitable Water  Wind Speed  \\\n",
       "2010-01-01 00:00:00           0.866       750               0.479         3.8   \n",
       "2010-01-01 00:30:00           0.866       750               0.486         3.8   \n",
       "2010-01-01 01:00:00           0.866       750               0.493         3.9   \n",
       "2010-01-01 01:30:00           0.866       750               0.501         3.9   \n",
       "2010-01-01 02:00:00           0.866       750               0.509         3.9   \n",
       "2010-01-01 02:30:00           0.866       750               0.516         3.8   \n",
       "2010-01-01 03:00:00           0.866       750               0.523         3.8   \n",
       "2010-01-01 03:30:00           0.866       750               0.527         3.7   \n",
       "\n",
       "                     Wind Direction  GHI  DHI  DNI  \n",
       "2010-01-01 00:00:00           267.3    0    0    0  \n",
       "2010-01-01 00:30:00           267.3    0    0    0  \n",
       "2010-01-01 01:00:00           268.8    0    0    0  \n",
       "2010-01-01 01:30:00           268.8    0    0    0  \n",
       "2010-01-01 02:00:00           270.0    0    0    0  \n",
       "2010-01-01 02:30:00           270.0    0    0    0  \n",
       "2010-01-01 03:00:00           270.0    0    0    0  \n",
       "2010-01-01 03:30:00           270.0    0    0    0  "
      ]
     },
     "execution_count": 176,
     "metadata": {},
     "output_type": "execute_result"
    }
   ],
   "source": [
    "# Return all but first 2 lines of csv to get data:\n",
    "df = pd.read_csv('https://developer.nrel.gov/api/nsrdb/v2/solar/psm3-download.csv?wkt=POINT({lon}%20{lat})&names={year}&leap_day={leap}&interval={interval}&utc={utc}&full_name={name}&email={email}&affiliation={affiliation}&mailing_list={mailing_list}&reason={reason}&api_key={api}&attributes={attr}'.format(year=year, lat=p1_lat, lon=p1_lon, leap=leap_year, interval=interval, utc=utc, name=your_name, email=your_email, mailing_list=mailing_list, affiliation=your_affiliation, reason=reason_for_use, api=api_key, attr=attributes), skiprows=2)\n",
    "\n",
    "# Set the time index in the pandas dataframe:\n",
    "df = df.set_index(pd.date_range('1/1/{yr}'.format(yr=year), freq=interval+'Min', periods=525600/int(interval)))\n",
    "# df.set_index()\n",
    "# take a look\n",
    "print('shape:', df.shape)\n",
    "df.head(8)\n",
    "# print(df.iloc[2,:])"
   ]
  },
  {
   "cell_type": "code",
   "execution_count": 177,
   "metadata": {},
   "outputs": [
    {
     "data": {
      "text/html": [
       "<div>\n",
       "<style scoped>\n",
       "    .dataframe tbody tr th:only-of-type {\n",
       "        vertical-align: middle;\n",
       "    }\n",
       "\n",
       "    .dataframe tbody tr th {\n",
       "        vertical-align: top;\n",
       "    }\n",
       "\n",
       "    .dataframe thead th {\n",
       "        text-align: right;\n",
       "    }\n",
       "</style>\n",
       "<table border=\"1\" class=\"dataframe\">\n",
       "  <thead>\n",
       "    <tr style=\"text-align: right;\">\n",
       "      <th></th>\n",
       "      <th>Month</th>\n",
       "      <th>Day</th>\n",
       "      <th>Hour</th>\n",
       "      <th>Minute</th>\n",
       "      <th>Temperature</th>\n",
       "      <th>Solar Zenith Angle</th>\n",
       "      <th>Dew Point</th>\n",
       "      <th>Relative Humidity</th>\n",
       "      <th>Surface Albedo</th>\n",
       "      <th>Pressure</th>\n",
       "      <th>Precipitable Water</th>\n",
       "      <th>Wind Speed</th>\n",
       "      <th>Wind Direction</th>\n",
       "      <th>GHI</th>\n",
       "      <th>DHI</th>\n",
       "      <th>DNI</th>\n",
       "    </tr>\n",
       "  </thead>\n",
       "  <tbody>\n",
       "    <tr>\n",
       "      <th>2010-01-01 00:00:00</th>\n",
       "      <td>1</td>\n",
       "      <td>1</td>\n",
       "      <td>0</td>\n",
       "      <td>0</td>\n",
       "      <td>-10</td>\n",
       "      <td>163.12</td>\n",
       "      <td>-16</td>\n",
       "      <td>59.53</td>\n",
       "      <td>0.866</td>\n",
       "      <td>750</td>\n",
       "      <td>0.479</td>\n",
       "      <td>3.8</td>\n",
       "      <td>267.3</td>\n",
       "      <td>0</td>\n",
       "      <td>0</td>\n",
       "      <td>0</td>\n",
       "    </tr>\n",
       "    <tr>\n",
       "      <th>2010-01-01 00:30:00</th>\n",
       "      <td>1</td>\n",
       "      <td>1</td>\n",
       "      <td>0</td>\n",
       "      <td>30</td>\n",
       "      <td>-10</td>\n",
       "      <td>162.32</td>\n",
       "      <td>-16</td>\n",
       "      <td>55.02</td>\n",
       "      <td>0.866</td>\n",
       "      <td>750</td>\n",
       "      <td>0.486</td>\n",
       "      <td>3.8</td>\n",
       "      <td>267.3</td>\n",
       "      <td>0</td>\n",
       "      <td>0</td>\n",
       "      <td>0</td>\n",
       "    </tr>\n",
       "    <tr>\n",
       "      <th>2010-01-01 01:00:00</th>\n",
       "      <td>1</td>\n",
       "      <td>1</td>\n",
       "      <td>1</td>\n",
       "      <td>0</td>\n",
       "      <td>-10</td>\n",
       "      <td>159.50</td>\n",
       "      <td>-16</td>\n",
       "      <td>55.62</td>\n",
       "      <td>0.866</td>\n",
       "      <td>750</td>\n",
       "      <td>0.493</td>\n",
       "      <td>3.9</td>\n",
       "      <td>268.8</td>\n",
       "      <td>0</td>\n",
       "      <td>0</td>\n",
       "      <td>0</td>\n",
       "    </tr>\n",
       "    <tr>\n",
       "      <th>2010-01-01 01:30:00</th>\n",
       "      <td>1</td>\n",
       "      <td>1</td>\n",
       "      <td>1</td>\n",
       "      <td>30</td>\n",
       "      <td>-9</td>\n",
       "      <td>155.34</td>\n",
       "      <td>-16</td>\n",
       "      <td>55.63</td>\n",
       "      <td>0.866</td>\n",
       "      <td>750</td>\n",
       "      <td>0.501</td>\n",
       "      <td>3.9</td>\n",
       "      <td>268.8</td>\n",
       "      <td>0</td>\n",
       "      <td>0</td>\n",
       "      <td>0</td>\n",
       "    </tr>\n",
       "    <tr>\n",
       "      <th>2010-01-01 02:00:00</th>\n",
       "      <td>1</td>\n",
       "      <td>1</td>\n",
       "      <td>2</td>\n",
       "      <td>0</td>\n",
       "      <td>-9</td>\n",
       "      <td>150.42</td>\n",
       "      <td>-15</td>\n",
       "      <td>57.88</td>\n",
       "      <td>0.866</td>\n",
       "      <td>750</td>\n",
       "      <td>0.509</td>\n",
       "      <td>3.9</td>\n",
       "      <td>270.0</td>\n",
       "      <td>0</td>\n",
       "      <td>0</td>\n",
       "      <td>0</td>\n",
       "    </tr>\n",
       "  </tbody>\n",
       "</table>\n",
       "</div>"
      ],
      "text/plain": [
       "                     Month  Day  Hour  Minute  Temperature  \\\n",
       "2010-01-01 00:00:00      1    1     0       0          -10   \n",
       "2010-01-01 00:30:00      1    1     0      30          -10   \n",
       "2010-01-01 01:00:00      1    1     1       0          -10   \n",
       "2010-01-01 01:30:00      1    1     1      30           -9   \n",
       "2010-01-01 02:00:00      1    1     2       0           -9   \n",
       "\n",
       "                     Solar Zenith Angle  Dew Point  Relative Humidity  \\\n",
       "2010-01-01 00:00:00              163.12        -16              59.53   \n",
       "2010-01-01 00:30:00              162.32        -16              55.02   \n",
       "2010-01-01 01:00:00              159.50        -16              55.62   \n",
       "2010-01-01 01:30:00              155.34        -16              55.63   \n",
       "2010-01-01 02:00:00              150.42        -15              57.88   \n",
       "\n",
       "                     Surface Albedo  Pressure  Precipitable Water  Wind Speed  \\\n",
       "2010-01-01 00:00:00           0.866       750               0.479         3.8   \n",
       "2010-01-01 00:30:00           0.866       750               0.486         3.8   \n",
       "2010-01-01 01:00:00           0.866       750               0.493         3.9   \n",
       "2010-01-01 01:30:00           0.866       750               0.501         3.9   \n",
       "2010-01-01 02:00:00           0.866       750               0.509         3.9   \n",
       "\n",
       "                     Wind Direction  GHI  DHI  DNI  \n",
       "2010-01-01 00:00:00           267.3    0    0    0  \n",
       "2010-01-01 00:30:00           267.3    0    0    0  \n",
       "2010-01-01 01:00:00           268.8    0    0    0  \n",
       "2010-01-01 01:30:00           268.8    0    0    0  \n",
       "2010-01-01 02:00:00           270.0    0    0    0  "
      ]
     },
     "execution_count": 177,
     "metadata": {},
     "output_type": "execute_result"
    }
   ],
   "source": [
    "# df.insert(3, 'MonthDay', df['Month']*100+df['Day']*10+df['Minute'])\n",
    "dff = df.drop(columns=['Year'], axis=1)\n",
    "\n",
    "dff.head()"
   ]
  },
  {
   "cell_type": "code",
   "execution_count": 178,
   "metadata": {},
   "outputs": [
    {
     "data": {
      "image/png": "[encoded data removed]",
      "text/plain": [
       "<Figure size 640x480 with 2 Axes>"
      ]
     },
     "metadata": {},
     "output_type": "display_data"
    }
   ],
   "source": [
    "import matplotlib.pyplot as plt\n",
    "import seaborn as sns\n",
    "corr_matrix = abs(dff.corr())\n",
    "heatmap = sns.heatmap(abs(corr_matrix))\n",
    "plt.title('Correlation Heatmap')\n",
    "plt.show()"
   ]
  },
  {
   "cell_type": "code",
   "execution_count": 179,
   "metadata": {},
   "outputs": [
    {
     "data": {
      "text/html": [
       "<div>\n",
       "<style scoped>\n",
       "    .dataframe tbody tr th:only-of-type {\n",
       "        vertical-align: middle;\n",
       "    }\n",
       "\n",
       "    .dataframe tbody tr th {\n",
       "        vertical-align: top;\n",
       "    }\n",
       "\n",
       "    .dataframe thead th {\n",
       "        text-align: right;\n",
       "    }\n",
       "</style>\n",
       "<table border=\"1\" class=\"dataframe\">\n",
       "  <thead>\n",
       "    <tr style=\"text-align: right;\">\n",
       "      <th></th>\n",
       "      <th>Year</th>\n",
       "      <th>Month</th>\n",
       "      <th>Day</th>\n",
       "      <th>Hour</th>\n",
       "      <th>Minute</th>\n",
       "      <th>Temperature</th>\n",
       "      <th>Solar Zenith Angle</th>\n",
       "      <th>Dew Point</th>\n",
       "      <th>Relative Humidity</th>\n",
       "      <th>Surface Albedo</th>\n",
       "      <th>...</th>\n",
       "      <th>DHI</th>\n",
       "      <th>DNI</th>\n",
       "      <th>DNI after 0.5h</th>\n",
       "      <th>DNI after 1.0h</th>\n",
       "      <th>DNI after 1.5h</th>\n",
       "      <th>DNI after 2.0h</th>\n",
       "      <th>DNI after 2.5h</th>\n",
       "      <th>DNI after 3.0h</th>\n",
       "      <th>DNI after 3.5h</th>\n",
       "      <th>DNI after 4.0h</th>\n",
       "    </tr>\n",
       "  </thead>\n",
       "  <tbody>\n",
       "    <tr>\n",
       "      <th>2010-01-01 00:00:00</th>\n",
       "      <td>2010</td>\n",
       "      <td>1</td>\n",
       "      <td>1</td>\n",
       "      <td>0</td>\n",
       "      <td>0</td>\n",
       "      <td>-10</td>\n",
       "      <td>163.12</td>\n",
       "      <td>-16</td>\n",
       "      <td>59.53</td>\n",
       "      <td>0.866</td>\n",
       "      <td>...</td>\n",
       "      <td>0</td>\n",
       "      <td>0</td>\n",
       "      <td>NaN</td>\n",
       "      <td>NaN</td>\n",
       "      <td>NaN</td>\n",
       "      <td>NaN</td>\n",
       "      <td>NaN</td>\n",
       "      <td>NaN</td>\n",
       "      <td>NaN</td>\n",
       "      <td>NaN</td>\n",
       "    </tr>\n",
       "    <tr>\n",
       "      <th>2010-01-01 00:30:00</th>\n",
       "      <td>2010</td>\n",
       "      <td>1</td>\n",
       "      <td>1</td>\n",
       "      <td>0</td>\n",
       "      <td>30</td>\n",
       "      <td>-10</td>\n",
       "      <td>162.32</td>\n",
       "      <td>-16</td>\n",
       "      <td>55.02</td>\n",
       "      <td>0.866</td>\n",
       "      <td>...</td>\n",
       "      <td>0</td>\n",
       "      <td>0</td>\n",
       "      <td>0.0</td>\n",
       "      <td>NaN</td>\n",
       "      <td>NaN</td>\n",
       "      <td>NaN</td>\n",
       "      <td>NaN</td>\n",
       "      <td>NaN</td>\n",
       "      <td>NaN</td>\n",
       "      <td>NaN</td>\n",
       "    </tr>\n",
       "    <tr>\n",
       "      <th>2010-01-01 01:00:00</th>\n",
       "      <td>2010</td>\n",
       "      <td>1</td>\n",
       "      <td>1</td>\n",
       "      <td>1</td>\n",
       "      <td>0</td>\n",
       "      <td>-10</td>\n",
       "      <td>159.50</td>\n",
       "      <td>-16</td>\n",
       "      <td>55.62</td>\n",
       "      <td>0.866</td>\n",
       "      <td>...</td>\n",
       "      <td>0</td>\n",
       "      <td>0</td>\n",
       "      <td>0.0</td>\n",
       "      <td>0.0</td>\n",
       "      <td>NaN</td>\n",
       "      <td>NaN</td>\n",
       "      <td>NaN</td>\n",
       "      <td>NaN</td>\n",
       "      <td>NaN</td>\n",
       "      <td>NaN</td>\n",
       "    </tr>\n",
       "    <tr>\n",
       "      <th>2010-01-01 01:30:00</th>\n",
       "      <td>2010</td>\n",
       "      <td>1</td>\n",
       "      <td>1</td>\n",
       "      <td>1</td>\n",
       "      <td>30</td>\n",
       "      <td>-9</td>\n",
       "      <td>155.34</td>\n",
       "      <td>-16</td>\n",
       "      <td>55.63</td>\n",
       "      <td>0.866</td>\n",
       "      <td>...</td>\n",
       "      <td>0</td>\n",
       "      <td>0</td>\n",
       "      <td>0.0</td>\n",
       "      <td>0.0</td>\n",
       "      <td>0.0</td>\n",
       "      <td>NaN</td>\n",
       "      <td>NaN</td>\n",
       "      <td>NaN</td>\n",
       "      <td>NaN</td>\n",
       "      <td>NaN</td>\n",
       "    </tr>\n",
       "    <tr>\n",
       "      <th>2010-01-01 02:00:00</th>\n",
       "      <td>2010</td>\n",
       "      <td>1</td>\n",
       "      <td>1</td>\n",
       "      <td>2</td>\n",
       "      <td>0</td>\n",
       "      <td>-9</td>\n",
       "      <td>150.42</td>\n",
       "      <td>-15</td>\n",
       "      <td>57.88</td>\n",
       "      <td>0.866</td>\n",
       "      <td>...</td>\n",
       "      <td>0</td>\n",
       "      <td>0</td>\n",
       "      <td>0.0</td>\n",
       "      <td>0.0</td>\n",
       "      <td>0.0</td>\n",
       "      <td>0.0</td>\n",
       "      <td>NaN</td>\n",
       "      <td>NaN</td>\n",
       "      <td>NaN</td>\n",
       "      <td>NaN</td>\n",
       "    </tr>\n",
       "  </tbody>\n",
       "</table>\n",
       "<p>5 rows × 25 columns</p>\n",
       "</div>"
      ],
      "text/plain": [
       "                     Year  Month  Day  Hour  Minute  Temperature  \\\n",
       "2010-01-01 00:00:00  2010      1    1     0       0          -10   \n",
       "2010-01-01 00:30:00  2010      1    1     0      30          -10   \n",
       "2010-01-01 01:00:00  2010      1    1     1       0          -10   \n",
       "2010-01-01 01:30:00  2010      1    1     1      30           -9   \n",
       "2010-01-01 02:00:00  2010      1    1     2       0           -9   \n",
       "\n",
       "                     Solar Zenith Angle  Dew Point  Relative Humidity  \\\n",
       "2010-01-01 00:00:00              163.12        -16              59.53   \n",
       "2010-01-01 00:30:00              162.32        -16              55.02   \n",
       "2010-01-01 01:00:00              159.50        -16              55.62   \n",
       "2010-01-01 01:30:00              155.34        -16              55.63   \n",
       "2010-01-01 02:00:00              150.42        -15              57.88   \n",
       "\n",
       "                     Surface Albedo  ...  DHI  DNI  DNI after 0.5h  \\\n",
       "2010-01-01 00:00:00           0.866  ...    0    0             NaN   \n",
       "2010-01-01 00:30:00           0.866  ...    0    0             0.0   \n",
       "2010-01-01 01:00:00           0.866  ...    0    0             0.0   \n",
       "2010-01-01 01:30:00           0.866  ...    0    0             0.0   \n",
       "2010-01-01 02:00:00           0.866  ...    0    0             0.0   \n",
       "\n",
       "                     DNI after 1.0h  DNI after 1.5h  DNI after 2.0h  \\\n",
       "2010-01-01 00:00:00             NaN             NaN             NaN   \n",
       "2010-01-01 00:30:00             NaN             NaN             NaN   \n",
       "2010-01-01 01:00:00             0.0             NaN             NaN   \n",
       "2010-01-01 01:30:00             0.0             0.0             NaN   \n",
       "2010-01-01 02:00:00             0.0             0.0             0.0   \n",
       "\n",
       "                     DNI after 2.5h  DNI after 3.0h  DNI after 3.5h  \\\n",
       "2010-01-01 00:00:00             NaN             NaN             NaN   \n",
       "2010-01-01 00:30:00             NaN             NaN             NaN   \n",
       "2010-01-01 01:00:00             NaN             NaN             NaN   \n",
       "2010-01-01 01:30:00             NaN             NaN             NaN   \n",
       "2010-01-01 02:00:00             NaN             NaN             NaN   \n",
       "\n",
       "                     DNI after 4.0h  \n",
       "2010-01-01 00:00:00             NaN  \n",
       "2010-01-01 00:30:00             NaN  \n",
       "2010-01-01 01:00:00             NaN  \n",
       "2010-01-01 01:30:00             NaN  \n",
       "2010-01-01 02:00:00             NaN  \n",
       "\n",
       "[5 rows x 25 columns]"
      ]
     },
     "execution_count": 179,
     "metadata": {},
     "output_type": "execute_result"
    }
   ],
   "source": [
    "df['DNI after 0.5h'] = df[['DNI']].shift(1)\n",
    "df['DNI after 1.0h'] = df[['DNI']].shift(2)\n",
    "df['DNI after 1.5h'] = df[['DNI']].shift(3)\n",
    "df['DNI after 2.0h'] = df[['DNI']].shift(4)\n",
    "df['DNI after 2.5h'] = df[['DNI']].shift(5)\n",
    "df['DNI after 3.0h'] = df[['DNI']].shift(6)\n",
    "df['DNI after 3.5h'] = df[['DNI']].shift(7)\n",
    "df['DNI after 4.0h'] = df[['DNI']].shift(8)\n",
    "df.head()"
   ]
  },
  {
   "cell_type": "code",
   "execution_count": 180,
   "metadata": {},
   "outputs": [
    {
     "data": {
      "text/html": [
       "<div>\n",
       "<style scoped>\n",
       "    .dataframe tbody tr th:only-of-type {\n",
       "        vertical-align: middle;\n",
       "    }\n",
       "\n",
       "    .dataframe tbody tr th {\n",
       "        vertical-align: top;\n",
       "    }\n",
       "\n",
       "    .dataframe thead th {\n",
       "        text-align: right;\n",
       "    }\n",
       "</style>\n",
       "<table border=\"1\" class=\"dataframe\">\n",
       "  <thead>\n",
       "    <tr style=\"text-align: right;\">\n",
       "      <th></th>\n",
       "      <th>Temperature</th>\n",
       "      <th>Solar Zenith Angle</th>\n",
       "      <th>Dew Point</th>\n",
       "      <th>Relative Humidity</th>\n",
       "      <th>Surface Albedo</th>\n",
       "      <th>Pressure</th>\n",
       "      <th>Precipitable Water</th>\n",
       "      <th>Wind Speed</th>\n",
       "      <th>Wind Direction</th>\n",
       "      <th>GHI</th>\n",
       "      <th>DHI</th>\n",
       "      <th>DNI</th>\n",
       "      <th>DNI after 0.5h</th>\n",
       "      <th>DNI after 1.0h</th>\n",
       "      <th>DNI after 1.5h</th>\n",
       "      <th>DNI after 2.0h</th>\n",
       "      <th>DNI after 2.5h</th>\n",
       "      <th>DNI after 3.0h</th>\n",
       "      <th>DNI after 3.5h</th>\n",
       "      <th>DNI after 4.0h</th>\n",
       "    </tr>\n",
       "  </thead>\n",
       "  <tbody>\n",
       "    <tr>\n",
       "      <th>2010-01-01 00:00:00</th>\n",
       "      <td>-10</td>\n",
       "      <td>163.12</td>\n",
       "      <td>-16</td>\n",
       "      <td>59.53</td>\n",
       "      <td>0.866</td>\n",
       "      <td>750</td>\n",
       "      <td>0.479</td>\n",
       "      <td>3.8</td>\n",
       "      <td>267.3</td>\n",
       "      <td>0</td>\n",
       "      <td>0</td>\n",
       "      <td>0</td>\n",
       "      <td>NaN</td>\n",
       "      <td>NaN</td>\n",
       "      <td>NaN</td>\n",
       "      <td>NaN</td>\n",
       "      <td>NaN</td>\n",
       "      <td>NaN</td>\n",
       "      <td>NaN</td>\n",
       "      <td>NaN</td>\n",
       "    </tr>\n",
       "    <tr>\n",
       "      <th>2010-01-01 00:30:00</th>\n",
       "      <td>-10</td>\n",
       "      <td>162.32</td>\n",
       "      <td>-16</td>\n",
       "      <td>55.02</td>\n",
       "      <td>0.866</td>\n",
       "      <td>750</td>\n",
       "      <td>0.486</td>\n",
       "      <td>3.8</td>\n",
       "      <td>267.3</td>\n",
       "      <td>0</td>\n",
       "      <td>0</td>\n",
       "      <td>0</td>\n",
       "      <td>0.0</td>\n",
       "      <td>NaN</td>\n",
       "      <td>NaN</td>\n",
       "      <td>NaN</td>\n",
       "      <td>NaN</td>\n",
       "      <td>NaN</td>\n",
       "      <td>NaN</td>\n",
       "      <td>NaN</td>\n",
       "    </tr>\n",
       "    <tr>\n",
       "      <th>2010-01-01 01:00:00</th>\n",
       "      <td>-10</td>\n",
       "      <td>159.50</td>\n",
       "      <td>-16</td>\n",
       "      <td>55.62</td>\n",
       "      <td>0.866</td>\n",
       "      <td>750</td>\n",
       "      <td>0.493</td>\n",
       "      <td>3.9</td>\n",
       "      <td>268.8</td>\n",
       "      <td>0</td>\n",
       "      <td>0</td>\n",
       "      <td>0</td>\n",
       "      <td>0.0</td>\n",
       "      <td>0.0</td>\n",
       "      <td>NaN</td>\n",
       "      <td>NaN</td>\n",
       "      <td>NaN</td>\n",
       "      <td>NaN</td>\n",
       "      <td>NaN</td>\n",
       "      <td>NaN</td>\n",
       "    </tr>\n",
       "    <tr>\n",
       "      <th>2010-01-01 01:30:00</th>\n",
       "      <td>-9</td>\n",
       "      <td>155.34</td>\n",
       "      <td>-16</td>\n",
       "      <td>55.63</td>\n",
       "      <td>0.866</td>\n",
       "      <td>750</td>\n",
       "      <td>0.501</td>\n",
       "      <td>3.9</td>\n",
       "      <td>268.8</td>\n",
       "      <td>0</td>\n",
       "      <td>0</td>\n",
       "      <td>0</td>\n",
       "      <td>0.0</td>\n",
       "      <td>0.0</td>\n",
       "      <td>0.0</td>\n",
       "      <td>NaN</td>\n",
       "      <td>NaN</td>\n",
       "      <td>NaN</td>\n",
       "      <td>NaN</td>\n",
       "      <td>NaN</td>\n",
       "    </tr>\n",
       "    <tr>\n",
       "      <th>2010-01-01 02:00:00</th>\n",
       "      <td>-9</td>\n",
       "      <td>150.42</td>\n",
       "      <td>-15</td>\n",
       "      <td>57.88</td>\n",
       "      <td>0.866</td>\n",
       "      <td>750</td>\n",
       "      <td>0.509</td>\n",
       "      <td>3.9</td>\n",
       "      <td>270.0</td>\n",
       "      <td>0</td>\n",
       "      <td>0</td>\n",
       "      <td>0</td>\n",
       "      <td>0.0</td>\n",
       "      <td>0.0</td>\n",
       "      <td>0.0</td>\n",
       "      <td>0.0</td>\n",
       "      <td>NaN</td>\n",
       "      <td>NaN</td>\n",
       "      <td>NaN</td>\n",
       "      <td>NaN</td>\n",
       "    </tr>\n",
       "  </tbody>\n",
       "</table>\n",
       "</div>"
      ],
      "text/plain": [
       "                     Temperature  Solar Zenith Angle  Dew Point  \\\n",
       "2010-01-01 00:00:00          -10              163.12        -16   \n",
       "2010-01-01 00:30:00          -10              162.32        -16   \n",
       "2010-01-01 01:00:00          -10              159.50        -16   \n",
       "2010-01-01 01:30:00           -9              155.34        -16   \n",
       "2010-01-01 02:00:00           -9              150.42        -15   \n",
       "\n",
       "                     Relative Humidity  Surface Albedo  Pressure  \\\n",
       "2010-01-01 00:00:00              59.53           0.866       750   \n",
       "2010-01-01 00:30:00              55.02           0.866       750   \n",
       "2010-01-01 01:00:00              55.62           0.866       750   \n",
       "2010-01-01 01:30:00              55.63           0.866       750   \n",
       "2010-01-01 02:00:00              57.88           0.866       750   \n",
       "\n",
       "                     Precipitable Water  Wind Speed  Wind Direction  GHI  DHI  \\\n",
       "2010-01-01 00:00:00               0.479         3.8           267.3    0    0   \n",
       "2010-01-01 00:30:00               0.486         3.8           267.3    0    0   \n",
       "2010-01-01 01:00:00               0.493         3.9           268.8    0    0   \n",
       "2010-01-01 01:30:00               0.501         3.9           268.8    0    0   \n",
       "2010-01-01 02:00:00               0.509         3.9           270.0    0    0   \n",
       "\n",
       "                     DNI  DNI after 0.5h  DNI after 1.0h  DNI after 1.5h  \\\n",
       "2010-01-01 00:00:00    0             NaN             NaN             NaN   \n",
       "2010-01-01 00:30:00    0             0.0             NaN             NaN   \n",
       "2010-01-01 01:00:00    0             0.0             0.0             NaN   \n",
       "2010-01-01 01:30:00    0             0.0             0.0             0.0   \n",
       "2010-01-01 02:00:00    0             0.0             0.0             0.0   \n",
       "\n",
       "                     DNI after 2.0h  DNI after 2.5h  DNI after 3.0h  \\\n",
       "2010-01-01 00:00:00             NaN             NaN             NaN   \n",
       "2010-01-01 00:30:00             NaN             NaN             NaN   \n",
       "2010-01-01 01:00:00             NaN             NaN             NaN   \n",
       "2010-01-01 01:30:00             NaN             NaN             NaN   \n",
       "2010-01-01 02:00:00             0.0             NaN             NaN   \n",
       "\n",
       "                     DNI after 3.5h  DNI after 4.0h  \n",
       "2010-01-01 00:00:00             NaN             NaN  \n",
       "2010-01-01 00:30:00             NaN             NaN  \n",
       "2010-01-01 01:00:00             NaN             NaN  \n",
       "2010-01-01 01:30:00             NaN             NaN  \n",
       "2010-01-01 02:00:00             NaN             NaN  "
      ]
     },
     "execution_count": 180,
     "metadata": {},
     "output_type": "execute_result"
    }
   ],
   "source": [
    "sub_df = df.iloc[:, 5:]\n",
    "sub_df.head()"
   ]
  },
  {
   "cell_type": "code",
   "execution_count": 181,
   "metadata": {},
   "outputs": [
    {
     "data": {
      "image/png": "[encoded data removed]",
      "text/plain": [
       "<Figure size 640x480 with 2 Axes>"
      ]
     },
     "metadata": {},
     "output_type": "display_data"
    }
   ],
   "source": [
    "corr_matrix = abs(sub_df.corr()) \n",
    "dataplot = sns.heatmap(corr_matrix)\n",
    "# displaying heatmap\n",
    "plt.show()"
   ]
  },
  {
   "cell_type": "code",
   "execution_count": 182,
   "metadata": {},
   "outputs": [
    {
     "data": {
      "text/html": [
       "<div>\n",
       "<style scoped>\n",
       "    .dataframe tbody tr th:only-of-type {\n",
       "        vertical-align: middle;\n",
       "    }\n",
       "\n",
       "    .dataframe tbody tr th {\n",
       "        vertical-align: top;\n",
       "    }\n",
       "\n",
       "    .dataframe thead th {\n",
       "        text-align: right;\n",
       "    }\n",
       "</style>\n",
       "<table border=\"1\" class=\"dataframe\">\n",
       "  <thead>\n",
       "    <tr style=\"text-align: right;\">\n",
       "      <th></th>\n",
       "      <th>Temperature</th>\n",
       "      <th>Solar Zenith Angle</th>\n",
       "      <th>Relative Humidity</th>\n",
       "      <th>GHI</th>\n",
       "      <th>DHI</th>\n",
       "      <th>DNI</th>\n",
       "      <th>DNI after 0.5h</th>\n",
       "      <th>DNI after 1.0h</th>\n",
       "      <th>DNI after 1.5h</th>\n",
       "      <th>DNI after 2.0h</th>\n",
       "      <th>DNI after 2.5h</th>\n",
       "      <th>DNI after 3.0h</th>\n",
       "      <th>DNI after 3.5h</th>\n",
       "      <th>DNI after 4.0h</th>\n",
       "    </tr>\n",
       "  </thead>\n",
       "  <tbody>\n",
       "    <tr>\n",
       "      <th>2010-01-01 00:00:00</th>\n",
       "      <td>-10</td>\n",
       "      <td>163.12</td>\n",
       "      <td>59.53</td>\n",
       "      <td>0</td>\n",
       "      <td>0</td>\n",
       "      <td>0</td>\n",
       "      <td>NaN</td>\n",
       "      <td>NaN</td>\n",
       "      <td>NaN</td>\n",
       "      <td>NaN</td>\n",
       "      <td>NaN</td>\n",
       "      <td>NaN</td>\n",
       "      <td>NaN</td>\n",
       "      <td>NaN</td>\n",
       "    </tr>\n",
       "    <tr>\n",
       "      <th>2010-01-01 00:30:00</th>\n",
       "      <td>-10</td>\n",
       "      <td>162.32</td>\n",
       "      <td>55.02</td>\n",
       "      <td>0</td>\n",
       "      <td>0</td>\n",
       "      <td>0</td>\n",
       "      <td>0.0</td>\n",
       "      <td>NaN</td>\n",
       "      <td>NaN</td>\n",
       "      <td>NaN</td>\n",
       "      <td>NaN</td>\n",
       "      <td>NaN</td>\n",
       "      <td>NaN</td>\n",
       "      <td>NaN</td>\n",
       "    </tr>\n",
       "    <tr>\n",
       "      <th>2010-01-01 01:00:00</th>\n",
       "      <td>-10</td>\n",
       "      <td>159.50</td>\n",
       "      <td>55.62</td>\n",
       "      <td>0</td>\n",
       "      <td>0</td>\n",
       "      <td>0</td>\n",
       "      <td>0.0</td>\n",
       "      <td>0.0</td>\n",
       "      <td>NaN</td>\n",
       "      <td>NaN</td>\n",
       "      <td>NaN</td>\n",
       "      <td>NaN</td>\n",
       "      <td>NaN</td>\n",
       "      <td>NaN</td>\n",
       "    </tr>\n",
       "    <tr>\n",
       "      <th>2010-01-01 01:30:00</th>\n",
       "      <td>-9</td>\n",
       "      <td>155.34</td>\n",
       "      <td>55.63</td>\n",
       "      <td>0</td>\n",
       "      <td>0</td>\n",
       "      <td>0</td>\n",
       "      <td>0.0</td>\n",
       "      <td>0.0</td>\n",
       "      <td>0.0</td>\n",
       "      <td>NaN</td>\n",
       "      <td>NaN</td>\n",
       "      <td>NaN</td>\n",
       "      <td>NaN</td>\n",
       "      <td>NaN</td>\n",
       "    </tr>\n",
       "    <tr>\n",
       "      <th>2010-01-01 02:00:00</th>\n",
       "      <td>-9</td>\n",
       "      <td>150.42</td>\n",
       "      <td>57.88</td>\n",
       "      <td>0</td>\n",
       "      <td>0</td>\n",
       "      <td>0</td>\n",
       "      <td>0.0</td>\n",
       "      <td>0.0</td>\n",
       "      <td>0.0</td>\n",
       "      <td>0.0</td>\n",
       "      <td>NaN</td>\n",
       "      <td>NaN</td>\n",
       "      <td>NaN</td>\n",
       "      <td>NaN</td>\n",
       "    </tr>\n",
       "  </tbody>\n",
       "</table>\n",
       "</div>"
      ],
      "text/plain": [
       "                     Temperature  Solar Zenith Angle  Relative Humidity  GHI  \\\n",
       "2010-01-01 00:00:00          -10              163.12              59.53    0   \n",
       "2010-01-01 00:30:00          -10              162.32              55.02    0   \n",
       "2010-01-01 01:00:00          -10              159.50              55.62    0   \n",
       "2010-01-01 01:30:00           -9              155.34              55.63    0   \n",
       "2010-01-01 02:00:00           -9              150.42              57.88    0   \n",
       "\n",
       "                     DHI  DNI  DNI after 0.5h  DNI after 1.0h  DNI after 1.5h  \\\n",
       "2010-01-01 00:00:00    0    0             NaN             NaN             NaN   \n",
       "2010-01-01 00:30:00    0    0             0.0             NaN             NaN   \n",
       "2010-01-01 01:00:00    0    0             0.0             0.0             NaN   \n",
       "2010-01-01 01:30:00    0    0             0.0             0.0             0.0   \n",
       "2010-01-01 02:00:00    0    0             0.0             0.0             0.0   \n",
       "\n",
       "                     DNI after 2.0h  DNI after 2.5h  DNI after 3.0h  \\\n",
       "2010-01-01 00:00:00             NaN             NaN             NaN   \n",
       "2010-01-01 00:30:00             NaN             NaN             NaN   \n",
       "2010-01-01 01:00:00             NaN             NaN             NaN   \n",
       "2010-01-01 01:30:00             NaN             NaN             NaN   \n",
       "2010-01-01 02:00:00             0.0             NaN             NaN   \n",
       "\n",
       "                     DNI after 3.5h  DNI after 4.0h  \n",
       "2010-01-01 00:00:00             NaN             NaN  \n",
       "2010-01-01 00:30:00             NaN             NaN  \n",
       "2010-01-01 01:00:00             NaN             NaN  \n",
       "2010-01-01 01:30:00             NaN             NaN  \n",
       "2010-01-01 02:00:00             NaN             NaN  "
      ]
     },
     "execution_count": 182,
     "metadata": {},
     "output_type": "execute_result"
    }
   ],
   "source": [
    "sub_df.drop(['Dew Point', 'Surface Albedo', 'Pressure', 'Precipitable Water', 'Wind Speed', 'Wind Direction'], axis=1, inplace=True)\n",
    "sub_df.head()"
   ]
  },
  {
   "cell_type": "code",
   "execution_count": 183,
   "metadata": {},
   "outputs": [
    {
     "data": {
      "image/png": "[encoded data removed]",
      "text/plain": [
       "<Figure size 640x480 with 2 Axes>"
      ]
     },
     "metadata": {},
     "output_type": "display_data"
    }
   ],
   "source": [
    "corr_matrix = abs(sub_df.corr()) \n",
    "dataplot = sns.heatmap(corr_matrix)\n",
    "# displaying heatmap\n",
    "plt.show()"
   ]
  },
  {
   "cell_type": "code",
   "execution_count": 188,
   "metadata": {},
   "outputs": [
    {
     "name": "stdout",
     "output_type": "stream",
     "text": [
      "Feature array size:(17512, 48), Labels array size(17512, 1)\n"
     ]
    }
   ],
   "source": [
    "win_size = 8\n",
    "df_fetures = sub_df.iloc[:,:-8]\n",
    "\n",
    "X = np.zeros((df_fetures.shape[0] - win_size, win_size * df_fetures.shape[1]))\n",
    "Y = np.zeros((df_fetures.shape[0] - win_size, 1))\n",
    "\n",
    "print(\"Feature array size:{}, Labels array size{}\".format(X.shape, Y.shape))\n",
    "\n",
    "for i in range(X.shape[0]):\n",
    "    chunk_x = df_fetures.iloc[i:i+win_size, :].to_numpy()\n",
    "    chunk_y = df_fetures.iloc[i+win_size, -1]\n",
    "    X[i] = np.reshape(chunk_x, (1, df_fetures.shape[1] * win_size))\n",
    "    Y[i]= chunk_y\n",
    "    # if i == 5:\n",
    "    #     print(\"X = \", X[0])\n",
    "    #     print(\"Y = \", Y[0])"
   ]
  },
  {
   "cell_type": "code",
   "execution_count": 189,
   "metadata": {},
   "outputs": [],
   "source": [
    "####################### This cell is for prediction not forcasting ############################\n",
    "# X = dff.iloc[:, :-1]\n",
    "# Y = dff.iloc[:, -1]\n",
    "# print(\"Features array size: \", X.shape)\n",
    "# print(\"Labels array size: \", Y.shape)"
   ]
  },
  {
   "cell_type": "code",
   "execution_count": 190,
   "metadata": {},
   "outputs": [
    {
     "name": "stdout",
     "output_type": "stream",
     "text": [
      "(12258, 48)\n",
      "(2627, 48)\n",
      "(2627, 48)\n"
     ]
    }
   ],
   "source": [
    "from sklearn.model_selection import train_test_split\n",
    "from sklearn.preprocessing import StandardScaler\n",
    "\n",
    "train_ratio = 0.70\n",
    "validation_ratio = 0.15\n",
    "test_ratio = 0.15\n",
    "\n",
    "trainX, testX, trainY, testY = train_test_split(X, Y, test_size= 1 - train_ratio)\n",
    "\n",
    "# Genearate ValX, TestX, ValY and TestY\n",
    "valX, testX, valY, testY = train_test_split(testX, testY, test_size=test_ratio/(test_ratio + validation_ratio))\n",
    "X_train, X_test, Y_train, Y_test = train_test_split(X, Y, test_size = 0.2, random_state = 0)\n",
    "\n",
    "sc=StandardScaler()\n",
    "scaler = sc.fit(trainX)\n",
    "\n",
    "trainX_scaled = scaler.transform(trainX)\n",
    "valX_scaled = scaler.transform(valX)\n",
    "testX_scaled = scaler.transform(testX)\n",
    "\n",
    "print(trainX_scaled.shape)\n",
    "print(valX_scaled.shape)\n",
    "print(testX_scaled.shape)\n"
   ]
  },
  {
   "cell_type": "code",
   "execution_count": 218,
   "metadata": {},
   "outputs": [
    {
     "name": "stdout",
     "output_type": "stream",
     "text": [
      "Mean Absolute Error: 79.63432405605226\n",
      "Mean Squared Error: 18920.642001403397\n",
      "Root Mean Squared Error: 137.55232459469158\n",
      "Mean Absolute Percentage Error: 9.009076414469739e+16\n"
     ]
    }
   ],
   "source": [
    "# let's try linear regression first\n",
    "from sklearn import linear_model, metrics\n",
    "\n",
    "\n",
    "# Create linear regression object\n",
    "regr = linear_model.LinearRegression()\n",
    "\n",
    "# Train the model using the training sets\n",
    "regr.fit(trainX_scaled, trainY)\n",
    "\n",
    "# Make predictions using the testing set\n",
    "y_pred_linreg = regr.predict(testX_scaled)\n",
    "\n",
    "print('Mean Absolute Error:', metrics.mean_absolute_error(testY, y_pred_linreg))\n",
    "print('Mean Squared Error:', metrics.mean_squared_error(testY, y_pred_linreg))\n",
    "print('Root Mean Squared Error:', metrics.mean_squared_error(testY, y_pred_linreg, squared=False))\n",
    "print('Mean Absolute Percentage Error:', metrics.mean_absolute_percentage_error(testY, y_pred_linreg))\n"
   ]
  },
  {
   "cell_type": "code",
   "execution_count": 222,
   "metadata": {},
   "outputs": [
    {
     "name": "stderr",
     "output_type": "stream",
     "text": [
      "/Users/saraabouelella/anaconda3/envs/nrel311/lib/python3.11/site-packages/sklearn/utils/validation.py:1183: DataConversionWarning: A column-vector y was passed when a 1d array was expected. Please change the shape of y to (n_samples, ), for example using ravel().\n",
      "  y = column_or_1d(y, warn=True)\n"
     ]
    },
    {
     "name": "stdout",
     "output_type": "stream",
     "text": [
      "Mean Absolute Error: 124.78035968548973\n",
      "Mean Squared Error: 40285.17661750173\n",
      "Root Mean Squared Error: 200.71167533928298\n",
      "Mean Absolute Percentage Error: 6.080882735577462e+16\n"
     ]
    }
   ],
   "source": [
    "from sklearn.svm import SVR\n",
    "regressor = SVR(kernel='rbf')\n",
    "regressor.fit(trainX_scaled,trainY)\n",
    "y_pred_svr = regressor.predict(testX_scaled)\n",
    "\n",
    "print('Mean Absolute Error:', metrics.mean_absolute_error(testY, y_pred_svr))\n",
    "print('Mean Squared Error:', metrics.mean_squared_error(testY, y_pred_svr))\n",
    "print('Root Mean Squared Error:', metrics.mean_squared_error(testY, y_pred_svr, squared=False))\n",
    "print('Mean Absolute Percentage Error:', metrics.mean_absolute_percentage_error(testY, y_pred_svr))\n"
   ]
  },
  {
   "cell_type": "code",
   "execution_count": 191,
   "metadata": {},
   "outputs": [
    {
     "name": "stdout",
     "output_type": "stream",
     "text": [
      "Input Shape:48 \n",
      "Batch Size:128\n",
      "Steps per Epoch:95\n",
      "Validation Steps:20\n",
      "Test Steps:20\n",
      "Number of Epochs:120\n"
     ]
    }
   ],
   "source": [
    "input_shape = trainX.shape[1]\n",
    "n_batch_size = 128\n",
    "\n",
    "n_steps_per_epoch = int(trainX.shape[0] / n_batch_size)\n",
    "n_validation_steps = int(valX.shape[0] / n_batch_size)\n",
    "n_test_steps = int(testX.shape[0] / n_batch_size)\n",
    "n_epochs = 120\n",
    "\n",
    "\n",
    "print('Input Shape:{} '.format(input_shape))\n",
    "print('Batch Size:{}'.format(n_batch_size))\n",
    "print('Steps per Epoch:{}'.format(n_steps_per_epoch))\n",
    "print('Validation Steps:{}'.format(n_validation_steps))\n",
    "print('Test Steps:{}'.format(n_test_steps))\n",
    "print('Number of Epochs:{}'.format(n_epochs))\n"
   ]
  },
  {
   "cell_type": "code",
   "execution_count": 193,
   "metadata": {},
   "outputs": [
    {
     "name": "stdout",
     "output_type": "stream",
     "text": [
      "Model: \"sequential_34\"\n",
      "_________________________________________________________________\n",
      " Layer (type)                Output Shape              Param #   \n",
      "=================================================================\n",
      " dense_102 (Dense)           (None, 64)                3136      \n",
      "                                                                 \n",
      " dense_103 (Dense)           (None, 64)                4160      \n",
      "                                                                 \n",
      " dense_104 (Dense)           (None, 1)                 65        \n",
      "                                                                 \n",
      "=================================================================\n",
      "Total params: 7361 (28.75 KB)\n",
      "Trainable params: 7361 (28.75 KB)\n",
      "Non-trainable params: 0 (0.00 Byte)\n",
      "_________________________________________________________________\n"
     ]
    }
   ],
   "source": [
    "import os\n",
    "import shutil\n",
    "import pickle as pk\n",
    "\n",
    "from keras import models\n",
    "from keras import layers\n",
    "from keras.callbacks import EarlyStopping, ModelCheckpoint\n",
    "from keras.models import load_model\n",
    "\n",
    "from sklearn import metrics\n",
    "\n",
    "model = models.Sequential()\n",
    "model.add(layers.Dense(64, activation='relu', input_shape=(input_shape,)))\n",
    "model.add(layers.Dense(64, activation='relu'))\n",
    "model.add(layers.Dense(1))\n",
    "model.summary()"
   ]
  },
  {
   "cell_type": "code",
   "execution_count": 194,
   "metadata": {},
   "outputs": [
    {
     "name": "stdout",
     "output_type": "stream",
     "text": [
      "Epoch 1/120\n",
      " 1/95 [..............................] - ETA: 18s - loss: 123193.3281 - mae: 169.5404INFO:tensorflow:Assets written to: ./ckpt_1_ANN/dnl_forcast_ANN/assets\n"
     ]
    },
    {
     "name": "stderr",
     "output_type": "stream",
     "text": [
      "INFO:tensorflow:Assets written to: ./ckpt_1_ANN/dnl_forcast_ANN/assets\n"
     ]
    },
    {
     "name": "stdout",
     "output_type": "stream",
     "text": [
      "95/95 [==============================] - 0s 3ms/step - loss: 154709.4062 - mae: 227.3428 - val_loss: 122860.5156 - val_mae: 214.7874\n",
      "Epoch 2/120\n",
      " 1/95 [..............................] - ETA: 0s - loss: 106559.7422 - mae: 198.5663INFO:tensorflow:Assets written to: ./ckpt_1_ANN/dnl_forcast_ANN/assets\n"
     ]
    },
    {
     "name": "stderr",
     "output_type": "stream",
     "text": [
      "INFO:tensorflow:Assets written to: ./ckpt_1_ANN/dnl_forcast_ANN/assets\n"
     ]
    },
    {
     "name": "stdout",
     "output_type": "stream",
     "text": [
      "95/95 [==============================] - 0s 2ms/step - loss: 82210.0938 - mae: 182.3765 - val_loss: 63810.7109 - val_mae: 168.6549\n",
      "Epoch 3/120\n",
      " 1/95 [..............................] - ETA: 0s - loss: 66533.5234 - mae: 167.5466INFO:tensorflow:Assets written to: ./ckpt_1_ANN/dnl_forcast_ANN/assets\n"
     ]
    },
    {
     "name": "stderr",
     "output_type": "stream",
     "text": [
      "INFO:tensorflow:Assets written to: ./ckpt_1_ANN/dnl_forcast_ANN/assets\n"
     ]
    },
    {
     "name": "stdout",
     "output_type": "stream",
     "text": [
      "95/95 [==============================] - 0s 2ms/step - loss: 42251.0547 - mae: 135.9754 - val_loss: 33413.0859 - val_mae: 121.8639\n",
      "Epoch 4/120\n",
      " 1/95 [..............................] - ETA: 0s - loss: 36161.3125 - mae: 131.0654INFO:tensorflow:Assets written to: ./ckpt_1_ANN/dnl_forcast_ANN/assets\n"
     ]
    },
    {
     "name": "stderr",
     "output_type": "stream",
     "text": [
      "INFO:tensorflow:Assets written to: ./ckpt_1_ANN/dnl_forcast_ANN/assets\n"
     ]
    },
    {
     "name": "stdout",
     "output_type": "stream",
     "text": [
      "95/95 [==============================] - 0s 2ms/step - loss: 29448.4648 - mae: 111.1103 - val_loss: 27634.7305 - val_mae: 108.9746\n",
      "Epoch 5/120\n",
      " 1/95 [..............................] - ETA: 0s - loss: 31740.4922 - mae: 119.6285INFO:tensorflow:Assets written to: ./ckpt_1_ANN/dnl_forcast_ANN/assets\n"
     ]
    },
    {
     "name": "stderr",
     "output_type": "stream",
     "text": [
      "INFO:tensorflow:Assets written to: ./ckpt_1_ANN/dnl_forcast_ANN/assets\n"
     ]
    },
    {
     "name": "stdout",
     "output_type": "stream",
     "text": [
      "95/95 [==============================] - 0s 2ms/step - loss: 25693.3848 - mae: 102.6306 - val_loss: 25046.1660 - val_mae: 101.9452\n",
      "Epoch 6/120\n",
      " 1/95 [..............................] - ETA: 0s - loss: 35974.9844 - mae: 116.4941INFO:tensorflow:Assets written to: ./ckpt_1_ANN/dnl_forcast_ANN/assets\n"
     ]
    },
    {
     "name": "stderr",
     "output_type": "stream",
     "text": [
      "INFO:tensorflow:Assets written to: ./ckpt_1_ANN/dnl_forcast_ANN/assets\n"
     ]
    },
    {
     "name": "stdout",
     "output_type": "stream",
     "text": [
      "95/95 [==============================] - 0s 2ms/step - loss: 23700.3418 - mae: 96.0028 - val_loss: 23425.0664 - val_mae: 95.1648\n",
      "Epoch 7/120\n",
      " 1/95 [..............................] - ETA: 0s - loss: 22792.4648 - mae: 103.8036INFO:tensorflow:Assets written to: ./ckpt_1_ANN/dnl_forcast_ANN/assets\n"
     ]
    },
    {
     "name": "stderr",
     "output_type": "stream",
     "text": [
      "INFO:tensorflow:Assets written to: ./ckpt_1_ANN/dnl_forcast_ANN/assets\n"
     ]
    },
    {
     "name": "stdout",
     "output_type": "stream",
     "text": [
      "95/95 [==============================] - 0s 2ms/step - loss: 22149.6328 - mae: 91.1074 - val_loss: 22243.6582 - val_mae: 89.3881\n",
      "Epoch 8/120\n",
      "50/95 [==============>...............] - ETA: 0s - loss: 21575.5781 - mae: 87.6866 INFO:tensorflow:Assets written to: ./ckpt_1_ANN/dnl_forcast_ANN/assets\n"
     ]
    },
    {
     "name": "stderr",
     "output_type": "stream",
     "text": [
      "INFO:tensorflow:Assets written to: ./ckpt_1_ANN/dnl_forcast_ANN/assets\n"
     ]
    },
    {
     "name": "stdout",
     "output_type": "stream",
     "text": [
      "95/95 [==============================] - 0s 2ms/step - loss: 21333.5293 - mae: 86.8864 - val_loss: 21451.5039 - val_mae: 86.6864\n",
      "Epoch 9/120\n",
      " 1/95 [..............................] - ETA: 0s - loss: 13563.4551 - mae: 73.2571INFO:tensorflow:Assets written to: ./ckpt_1_ANN/dnl_forcast_ANN/assets\n"
     ]
    },
    {
     "name": "stderr",
     "output_type": "stream",
     "text": [
      "INFO:tensorflow:Assets written to: ./ckpt_1_ANN/dnl_forcast_ANN/assets\n"
     ]
    },
    {
     "name": "stdout",
     "output_type": "stream",
     "text": [
      "95/95 [==============================] - 0s 2ms/step - loss: 20749.0332 - mae: 84.6799 - val_loss: 20896.7812 - val_mae: 83.0479\n",
      "Epoch 10/120\n",
      " 1/95 [..............................] - ETA: 0s - loss: 24381.2715 - mae: 96.9925INFO:tensorflow:Assets written to: ./ckpt_1_ANN/dnl_forcast_ANN/assets\n"
     ]
    },
    {
     "name": "stderr",
     "output_type": "stream",
     "text": [
      "INFO:tensorflow:Assets written to: ./ckpt_1_ANN/dnl_forcast_ANN/assets\n"
     ]
    },
    {
     "name": "stdout",
     "output_type": "stream",
     "text": [
      "95/95 [==============================] - 0s 2ms/step - loss: 20265.9238 - mae: 82.1645 - val_loss: 20705.1992 - val_mae: 81.3837\n",
      "Epoch 11/120\n",
      " 1/95 [..............................] - ETA: 0s - loss: 17011.0469 - mae: 68.5241INFO:tensorflow:Assets written to: ./ckpt_1_ANN/dnl_forcast_ANN/assets\n"
     ]
    },
    {
     "name": "stderr",
     "output_type": "stream",
     "text": [
      "INFO:tensorflow:Assets written to: ./ckpt_1_ANN/dnl_forcast_ANN/assets\n"
     ]
    },
    {
     "name": "stdout",
     "output_type": "stream",
     "text": [
      "95/95 [==============================] - 0s 2ms/step - loss: 19813.4883 - mae: 79.8237 - val_loss: 20157.5215 - val_mae: 79.9839\n",
      "Epoch 12/120\n",
      " 1/95 [..............................] - ETA: 0s - loss: 10396.6025 - mae: 62.0920INFO:tensorflow:Assets written to: ./ckpt_1_ANN/dnl_forcast_ANN/assets\n"
     ]
    },
    {
     "name": "stderr",
     "output_type": "stream",
     "text": [
      "INFO:tensorflow:Assets written to: ./ckpt_1_ANN/dnl_forcast_ANN/assets\n"
     ]
    },
    {
     "name": "stdout",
     "output_type": "stream",
     "text": [
      "95/95 [==============================] - 0s 2ms/step - loss: 19328.5098 - mae: 77.4923 - val_loss: 19861.3145 - val_mae: 77.5558\n",
      "Epoch 13/120\n",
      " 1/95 [..............................] - ETA: 0s - loss: 15110.9580 - mae: 70.0873INFO:tensorflow:Assets written to: ./ckpt_1_ANN/dnl_forcast_ANN/assets\n"
     ]
    },
    {
     "name": "stderr",
     "output_type": "stream",
     "text": [
      "INFO:tensorflow:Assets written to: ./ckpt_1_ANN/dnl_forcast_ANN/assets\n"
     ]
    },
    {
     "name": "stdout",
     "output_type": "stream",
     "text": [
      "95/95 [==============================] - 0s 2ms/step - loss: 19615.2988 - mae: 78.0078 - val_loss: 19677.1621 - val_mae: 76.9648\n",
      "Epoch 14/120\n",
      " 1/95 [..............................] - ETA: 0s - loss: 21836.0352 - mae: 83.8523INFO:tensorflow:Assets written to: ./ckpt_1_ANN/dnl_forcast_ANN/assets\n"
     ]
    },
    {
     "name": "stderr",
     "output_type": "stream",
     "text": [
      "INFO:tensorflow:Assets written to: ./ckpt_1_ANN/dnl_forcast_ANN/assets\n"
     ]
    },
    {
     "name": "stdout",
     "output_type": "stream",
     "text": [
      "95/95 [==============================] - 0s 2ms/step - loss: 18313.5703 - mae: 74.4296 - val_loss: 19606.6289 - val_mae: 79.1850\n",
      "Epoch 15/120\n",
      " 1/95 [..............................] - ETA: 0s - loss: 15920.3057 - mae: 73.7381INFO:tensorflow:Assets written to: ./ckpt_1_ANN/dnl_forcast_ANN/assets\n"
     ]
    },
    {
     "name": "stderr",
     "output_type": "stream",
     "text": [
      "INFO:tensorflow:Assets written to: ./ckpt_1_ANN/dnl_forcast_ANN/assets\n"
     ]
    },
    {
     "name": "stdout",
     "output_type": "stream",
     "text": [
      "95/95 [==============================] - 0s 5ms/step - loss: 18958.3184 - mae: 75.5313 - val_loss: 19309.1289 - val_mae: 76.4230\n",
      "Epoch 16/120\n",
      "95/95 [==============================] - 0s 640us/step - loss: 18951.5156 - mae: 74.9874 - val_loss: 19522.9883 - val_mae: 79.5511\n",
      "Epoch 17/120\n",
      " 1/95 [..............................] - ETA: 0s - loss: 22587.8770 - mae: 76.3176INFO:tensorflow:Assets written to: ./ckpt_1_ANN/dnl_forcast_ANN/assets\n"
     ]
    },
    {
     "name": "stderr",
     "output_type": "stream",
     "text": [
      "INFO:tensorflow:Assets written to: ./ckpt_1_ANN/dnl_forcast_ANN/assets\n"
     ]
    },
    {
     "name": "stdout",
     "output_type": "stream",
     "text": [
      "95/95 [==============================] - 0s 2ms/step - loss: 18366.3027 - mae: 73.8316 - val_loss: 19109.7480 - val_mae: 75.2675\n",
      "Epoch 18/120\n",
      " 1/95 [..............................] - ETA: 0s - loss: 16774.3184 - mae: 70.4886INFO:tensorflow:Assets written to: ./ckpt_1_ANN/dnl_forcast_ANN/assets\n"
     ]
    },
    {
     "name": "stderr",
     "output_type": "stream",
     "text": [
      "INFO:tensorflow:Assets written to: ./ckpt_1_ANN/dnl_forcast_ANN/assets\n"
     ]
    },
    {
     "name": "stdout",
     "output_type": "stream",
     "text": [
      "95/95 [==============================] - 0s 2ms/step - loss: 18384.6641 - mae: 73.5719 - val_loss: 19047.3555 - val_mae: 73.5548\n",
      "Epoch 19/120\n",
      "95/95 [==============================] - 0s 929us/step - loss: 18462.7051 - mae: 72.8913 - val_loss: 19111.8086 - val_mae: 72.6958\n",
      "Epoch 20/120\n",
      " 1/95 [..............................] - ETA: 0s - loss: 15283.6904 - mae: 69.8952INFO:tensorflow:Assets written to: ./ckpt_1_ANN/dnl_forcast_ANN/assets\n"
     ]
    },
    {
     "name": "stderr",
     "output_type": "stream",
     "text": [
      "INFO:tensorflow:Assets written to: ./ckpt_1_ANN/dnl_forcast_ANN/assets\n"
     ]
    },
    {
     "name": "stdout",
     "output_type": "stream",
     "text": [
      "95/95 [==============================] - 0s 2ms/step - loss: 18055.6504 - mae: 72.4431 - val_loss: 18974.3242 - val_mae: 75.6274\n",
      "Epoch 21/120\n",
      " 1/95 [..............................] - ETA: 0s - loss: 13494.6543 - mae: 66.5029INFO:tensorflow:Assets written to: ./ckpt_1_ANN/dnl_forcast_ANN/assets\n"
     ]
    },
    {
     "name": "stderr",
     "output_type": "stream",
     "text": [
      "INFO:tensorflow:Assets written to: ./ckpt_1_ANN/dnl_forcast_ANN/assets\n"
     ]
    },
    {
     "name": "stdout",
     "output_type": "stream",
     "text": [
      "95/95 [==============================] - 0s 2ms/step - loss: 18366.7598 - mae: 72.8493 - val_loss: 18903.1602 - val_mae: 72.9237\n",
      "Epoch 22/120\n",
      " 1/95 [..............................] - ETA: 0s - loss: 23475.4180 - mae: 72.8584INFO:tensorflow:Assets written to: ./ckpt_1_ANN/dnl_forcast_ANN/assets\n"
     ]
    },
    {
     "name": "stderr",
     "output_type": "stream",
     "text": [
      "INFO:tensorflow:Assets written to: ./ckpt_1_ANN/dnl_forcast_ANN/assets\n"
     ]
    },
    {
     "name": "stdout",
     "output_type": "stream",
     "text": [
      "95/95 [==============================] - 0s 2ms/step - loss: 18392.1484 - mae: 71.9463 - val_loss: 18808.1426 - val_mae: 72.6950\n",
      "Epoch 23/120\n",
      " 1/95 [..............................] - ETA: 0s - loss: 18750.1113 - mae: 75.7505INFO:tensorflow:Assets written to: ./ckpt_1_ANN/dnl_forcast_ANN/assets\n"
     ]
    },
    {
     "name": "stderr",
     "output_type": "stream",
     "text": [
      "INFO:tensorflow:Assets written to: ./ckpt_1_ANN/dnl_forcast_ANN/assets\n"
     ]
    },
    {
     "name": "stdout",
     "output_type": "stream",
     "text": [
      "95/95 [==============================] - 0s 2ms/step - loss: 17804.3340 - mae: 71.5731 - val_loss: 18786.9980 - val_mae: 72.0091\n",
      "Epoch 24/120\n",
      " 1/95 [..............................] - ETA: 0s - loss: 26311.1133 - mae: 82.8773INFO:tensorflow:Assets written to: ./ckpt_1_ANN/dnl_forcast_ANN/assets\n"
     ]
    },
    {
     "name": "stderr",
     "output_type": "stream",
     "text": [
      "INFO:tensorflow:Assets written to: ./ckpt_1_ANN/dnl_forcast_ANN/assets\n"
     ]
    },
    {
     "name": "stdout",
     "output_type": "stream",
     "text": [
      "95/95 [==============================] - 0s 2ms/step - loss: 18179.8379 - mae: 70.9778 - val_loss: 18717.5801 - val_mae: 72.7282\n",
      "Epoch 25/120\n",
      "95/95 [==============================] - 0s 662us/step - loss: 18432.7695 - mae: 72.7284 - val_loss: 18728.1055 - val_mae: 73.7744\n",
      "Epoch 26/120\n",
      "95/95 [==============================] - 0s 653us/step - loss: 17512.5469 - mae: 70.8336 - val_loss: 19029.3223 - val_mae: 70.5159\n",
      "Epoch 27/120\n",
      "95/95 [==============================] - 0s 664us/step - loss: 17814.9668 - mae: 70.7974 - val_loss: 18756.4043 - val_mae: 74.0913\n",
      "Epoch 28/120\n",
      "95/95 [==============================] - 0s 675us/step - loss: 17589.8848 - mae: 70.4573 - val_loss: 18843.3027 - val_mae: 74.7280\n",
      "Epoch 29/120\n",
      " 1/95 [..............................] - ETA: 0s - loss: 32480.0391 - mae: 95.2136INFO:tensorflow:Assets written to: ./ckpt_1_ANN/dnl_forcast_ANN/assets\n"
     ]
    },
    {
     "name": "stderr",
     "output_type": "stream",
     "text": [
      "INFO:tensorflow:Assets written to: ./ckpt_1_ANN/dnl_forcast_ANN/assets\n"
     ]
    },
    {
     "name": "stdout",
     "output_type": "stream",
     "text": [
      "95/95 [==============================] - 0s 2ms/step - loss: 18483.6270 - mae: 72.2661 - val_loss: 18699.7500 - val_mae: 73.4010\n",
      "Epoch 30/120\n",
      "95/95 [==============================] - 0s 682us/step - loss: 17410.2852 - mae: 69.8899 - val_loss: 18792.0488 - val_mae: 70.9994\n",
      "Epoch 31/120\n",
      " 1/95 [..............................] - ETA: 0s - loss: 17918.1875 - mae: 73.6963INFO:tensorflow:Assets written to: ./ckpt_1_ANN/dnl_forcast_ANN/assets\n"
     ]
    },
    {
     "name": "stderr",
     "output_type": "stream",
     "text": [
      "INFO:tensorflow:Assets written to: ./ckpt_1_ANN/dnl_forcast_ANN/assets\n"
     ]
    },
    {
     "name": "stdout",
     "output_type": "stream",
     "text": [
      "95/95 [==============================] - 0s 2ms/step - loss: 17966.0312 - mae: 71.9282 - val_loss: 18574.1758 - val_mae: 72.4325\n",
      "Epoch 32/120\n",
      "95/95 [==============================] - 0s 689us/step - loss: 17452.2383 - mae: 69.6882 - val_loss: 18624.6035 - val_mae: 70.7723\n",
      "Epoch 33/120\n",
      "95/95 [==============================] - 0s 673us/step - loss: 17618.1113 - mae: 70.5145 - val_loss: 18693.5430 - val_mae: 70.6904\n",
      "Epoch 34/120\n",
      "95/95 [==============================] - 0s 669us/step - loss: 17926.7969 - mae: 70.9782 - val_loss: 18623.4883 - val_mae: 72.6921\n",
      "Epoch 35/120\n",
      "95/95 [==============================] - 0s 660us/step - loss: 17933.6406 - mae: 71.3209 - val_loss: 18690.5488 - val_mae: 73.2132\n",
      "Epoch 36/120\n",
      "95/95 [==============================] - 0s 664us/step - loss: 17134.4062 - mae: 69.2758 - val_loss: 18674.6484 - val_mae: 73.4167\n",
      "Epoch 37/120\n",
      "95/95 [==============================] - 0s 661us/step - loss: 17792.8730 - mae: 71.3012 - val_loss: 18656.6719 - val_mae: 70.9413\n",
      "Epoch 38/120\n",
      "95/95 [==============================] - 0s 665us/step - loss: 17523.3750 - mae: 70.2016 - val_loss: 18705.8555 - val_mae: 73.2015\n",
      "Epoch 39/120\n",
      " 1/95 [..............................] - ETA: 0s - loss: 13111.9434 - mae: 63.0713INFO:tensorflow:Assets written to: ./ckpt_1_ANN/dnl_forcast_ANN/assets\n"
     ]
    },
    {
     "name": "stderr",
     "output_type": "stream",
     "text": [
      "INFO:tensorflow:Assets written to: ./ckpt_1_ANN/dnl_forcast_ANN/assets\n"
     ]
    },
    {
     "name": "stdout",
     "output_type": "stream",
     "text": [
      "95/95 [==============================] - 0s 2ms/step - loss: 17360.6309 - mae: 70.1209 - val_loss: 18502.9883 - val_mae: 73.0512\n",
      "Epoch 40/120\n",
      "95/95 [==============================] - 0s 671us/step - loss: 17208.5430 - mae: 69.1886 - val_loss: 18588.0137 - val_mae: 73.3728\n",
      "Epoch 41/120\n",
      " 1/95 [..............................] - ETA: 0s - loss: 11212.8848 - mae: 59.2040INFO:tensorflow:Assets written to: ./ckpt_1_ANN/dnl_forcast_ANN/assets\n"
     ]
    },
    {
     "name": "stderr",
     "output_type": "stream",
     "text": [
      "INFO:tensorflow:Assets written to: ./ckpt_1_ANN/dnl_forcast_ANN/assets\n"
     ]
    },
    {
     "name": "stdout",
     "output_type": "stream",
     "text": [
      "95/95 [==============================] - 0s 2ms/step - loss: 17780.3535 - mae: 70.8856 - val_loss: 18472.3125 - val_mae: 70.8875\n",
      "Epoch 42/120\n",
      "95/95 [==============================] - 0s 666us/step - loss: 17385.3965 - mae: 70.2905 - val_loss: 18725.1211 - val_mae: 75.1221\n",
      "Epoch 43/120\n",
      "95/95 [==============================] - 0s 650us/step - loss: 16893.8242 - mae: 68.3453 - val_loss: 18485.8711 - val_mae: 71.6078\n",
      "Epoch 44/120\n",
      "95/95 [==============================] - 0s 649us/step - loss: 17179.9414 - mae: 69.7784 - val_loss: 18802.0586 - val_mae: 74.9031\n",
      "Epoch 45/120\n",
      " 1/95 [..............................] - ETA: 0s - loss: 17776.1758 - mae: 68.1594INFO:tensorflow:Assets written to: ./ckpt_1_ANN/dnl_forcast_ANN/assets\n"
     ]
    },
    {
     "name": "stderr",
     "output_type": "stream",
     "text": [
      "INFO:tensorflow:Assets written to: ./ckpt_1_ANN/dnl_forcast_ANN/assets\n"
     ]
    },
    {
     "name": "stdout",
     "output_type": "stream",
     "text": [
      "95/95 [==============================] - 0s 2ms/step - loss: 17349.2676 - mae: 70.1122 - val_loss: 18447.5977 - val_mae: 71.3957\n",
      "Epoch 46/120\n",
      "95/95 [==============================] - 0s 659us/step - loss: 17093.6699 - mae: 69.2324 - val_loss: 18480.0684 - val_mae: 70.9358\n",
      "Epoch 47/120\n",
      " 1/95 [..............................] - ETA: 0s - loss: 17464.2227 - mae: 69.7572INFO:tensorflow:Assets written to: ./ckpt_1_ANN/dnl_forcast_ANN/assets\n"
     ]
    },
    {
     "name": "stderr",
     "output_type": "stream",
     "text": [
      "INFO:tensorflow:Assets written to: ./ckpt_1_ANN/dnl_forcast_ANN/assets\n"
     ]
    },
    {
     "name": "stdout",
     "output_type": "stream",
     "text": [
      "95/95 [==============================] - 0s 2ms/step - loss: 17363.0957 - mae: 70.1193 - val_loss: 18374.2090 - val_mae: 71.4245\n",
      "Epoch 48/120\n",
      "95/95 [==============================] - 0s 998us/step - loss: 16777.3340 - mae: 68.4621 - val_loss: 18487.2031 - val_mae: 71.7233\n",
      "Epoch 49/120\n",
      " 1/95 [..............................] - ETA: 0s - loss: 17545.2559 - mae: 73.6367INFO:tensorflow:Assets written to: ./ckpt_1_ANN/dnl_forcast_ANN/assets\n"
     ]
    },
    {
     "name": "stderr",
     "output_type": "stream",
     "text": [
      "INFO:tensorflow:Assets written to: ./ckpt_1_ANN/dnl_forcast_ANN/assets\n"
     ]
    },
    {
     "name": "stdout",
     "output_type": "stream",
     "text": [
      "95/95 [==============================] - 0s 2ms/step - loss: 17221.2715 - mae: 70.0135 - val_loss: 18280.3398 - val_mae: 70.9846\n",
      "Epoch 50/120\n",
      "95/95 [==============================] - 0s 683us/step - loss: 17141.3047 - mae: 69.4999 - val_loss: 18334.3066 - val_mae: 70.6055\n",
      "Epoch 51/120\n",
      "95/95 [==============================] - 0s 654us/step - loss: 16502.1543 - mae: 68.2422 - val_loss: 18395.4043 - val_mae: 71.1379\n",
      "Epoch 52/120\n",
      "95/95 [==============================] - 0s 665us/step - loss: 17853.7715 - mae: 71.1960 - val_loss: 18500.9023 - val_mae: 75.9330\n",
      "Epoch 53/120\n",
      "95/95 [==============================] - 0s 675us/step - loss: 16315.4971 - mae: 67.9010 - val_loss: 18289.7383 - val_mae: 71.6711\n",
      "Epoch 54/120\n",
      "95/95 [==============================] - 0s 656us/step - loss: 16880.9414 - mae: 68.9675 - val_loss: 18689.6621 - val_mae: 74.2480\n",
      "Epoch 55/120\n",
      "95/95 [==============================] - 0s 636us/step - loss: 17241.8711 - mae: 69.7262 - val_loss: 18406.2422 - val_mae: 70.5702\n",
      "Epoch 56/120\n",
      " 1/95 [..............................] - ETA: 0s - loss: 15253.0605 - mae: 65.4732INFO:tensorflow:Assets written to: ./ckpt_1_ANN/dnl_forcast_ANN/assets\n"
     ]
    },
    {
     "name": "stderr",
     "output_type": "stream",
     "text": [
      "INFO:tensorflow:Assets written to: ./ckpt_1_ANN/dnl_forcast_ANN/assets\n"
     ]
    },
    {
     "name": "stdout",
     "output_type": "stream",
     "text": [
      "95/95 [==============================] - 0s 2ms/step - loss: 16933.8887 - mae: 69.1933 - val_loss: 18272.8105 - val_mae: 71.1083\n",
      "Epoch 57/120\n",
      " 1/95 [..............................] - ETA: 0s - loss: 9735.0703 - mae: 52.6275INFO:tensorflow:Assets written to: ./ckpt_1_ANN/dnl_forcast_ANN/assets\n"
     ]
    },
    {
     "name": "stderr",
     "output_type": "stream",
     "text": [
      "INFO:tensorflow:Assets written to: ./ckpt_1_ANN/dnl_forcast_ANN/assets\n"
     ]
    },
    {
     "name": "stdout",
     "output_type": "stream",
     "text": [
      "95/95 [==============================] - 0s 2ms/step - loss: 16938.1211 - mae: 68.7096 - val_loss: 18257.4316 - val_mae: 70.0112\n",
      "Epoch 58/120\n",
      " 1/95 [..............................] - ETA: 0s - loss: 13744.2910 - mae: 60.4792INFO:tensorflow:Assets written to: ./ckpt_1_ANN/dnl_forcast_ANN/assets\n"
     ]
    },
    {
     "name": "stderr",
     "output_type": "stream",
     "text": [
      "INFO:tensorflow:Assets written to: ./ckpt_1_ANN/dnl_forcast_ANN/assets\n"
     ]
    },
    {
     "name": "stdout",
     "output_type": "stream",
     "text": [
      "95/95 [==============================] - 0s 2ms/step - loss: 16627.6270 - mae: 68.4873 - val_loss: 18196.7715 - val_mae: 71.5105\n",
      "Epoch 59/120\n",
      "95/95 [==============================] - 0s 690us/step - loss: 16819.0039 - mae: 69.2001 - val_loss: 18325.0215 - val_mae: 69.8184\n",
      "Epoch 60/120\n",
      "95/95 [==============================] - 0s 668us/step - loss: 16652.9746 - mae: 68.4635 - val_loss: 18724.9219 - val_mae: 74.5028\n",
      "Epoch 61/120\n",
      " 1/95 [..............................] - ETA: 0s - loss: 19560.6387 - mae: 78.4008INFO:tensorflow:Assets written to: ./ckpt_1_ANN/dnl_forcast_ANN/assets\n"
     ]
    },
    {
     "name": "stderr",
     "output_type": "stream",
     "text": [
      "INFO:tensorflow:Assets written to: ./ckpt_1_ANN/dnl_forcast_ANN/assets\n"
     ]
    },
    {
     "name": "stdout",
     "output_type": "stream",
     "text": [
      "95/95 [==============================] - 0s 2ms/step - loss: 16731.3789 - mae: 68.7117 - val_loss: 18085.0918 - val_mae: 71.3643\n",
      "Epoch 62/120\n",
      "95/95 [==============================] - 0s 688us/step - loss: 16796.7246 - mae: 68.9415 - val_loss: 18395.2812 - val_mae: 73.4806\n",
      "Epoch 63/120\n",
      "95/95 [==============================] - 0s 671us/step - loss: 16843.1016 - mae: 68.7050 - val_loss: 18116.1934 - val_mae: 71.7994\n",
      "Epoch 64/120\n",
      "95/95 [==============================] - 0s 660us/step - loss: 16503.6328 - mae: 68.3926 - val_loss: 18234.7656 - val_mae: 70.4584\n",
      "Epoch 65/120\n",
      "95/95 [==============================] - 0s 661us/step - loss: 16791.0996 - mae: 69.0909 - val_loss: 18361.2871 - val_mae: 76.0362\n",
      "Epoch 66/120\n",
      "95/95 [==============================] - 0s 668us/step - loss: 16493.8398 - mae: 67.8258 - val_loss: 18121.7949 - val_mae: 71.3152\n",
      "Epoch 67/120\n",
      "95/95 [==============================] - 0s 672us/step - loss: 17290.6641 - mae: 70.0568 - val_loss: 18208.4297 - val_mae: 71.6534\n",
      "Epoch 68/120\n",
      "95/95 [==============================] - 0s 674us/step - loss: 15991.6064 - mae: 66.9804 - val_loss: 18124.2500 - val_mae: 70.4117\n",
      "Epoch 69/120\n",
      " 1/95 [..............................] - ETA: 0s - loss: 16711.4395 - mae: 61.3361INFO:tensorflow:Assets written to: ./ckpt_1_ANN/dnl_forcast_ANN/assets\n"
     ]
    },
    {
     "name": "stderr",
     "output_type": "stream",
     "text": [
      "INFO:tensorflow:Assets written to: ./ckpt_1_ANN/dnl_forcast_ANN/assets\n"
     ]
    },
    {
     "name": "stdout",
     "output_type": "stream",
     "text": [
      "95/95 [==============================] - 0s 2ms/step - loss: 16755.4023 - mae: 69.0883 - val_loss: 17969.3320 - val_mae: 71.1230\n",
      "Epoch 70/120\n",
      "95/95 [==============================] - 0s 687us/step - loss: 16407.7109 - mae: 67.7927 - val_loss: 18417.0020 - val_mae: 72.0927\n",
      "Epoch 71/120\n",
      "95/95 [==============================] - 0s 681us/step - loss: 16908.2266 - mae: 68.9543 - val_loss: 18076.5742 - val_mae: 70.5732\n",
      "Epoch 72/120\n",
      "95/95 [==============================] - 0s 678us/step - loss: 16222.0977 - mae: 68.0844 - val_loss: 18148.1465 - val_mae: 70.4575\n",
      "Epoch 73/120\n",
      "95/95 [==============================] - 0s 679us/step - loss: 16654.7871 - mae: 68.2984 - val_loss: 18041.9160 - val_mae: 71.5996\n",
      "Epoch 74/120\n",
      "95/95 [==============================] - 0s 677us/step - loss: 16347.9268 - mae: 67.6679 - val_loss: 18179.1094 - val_mae: 70.0029\n",
      "Epoch 75/120\n",
      "95/95 [==============================] - 0s 642us/step - loss: 16580.0078 - mae: 68.6580 - val_loss: 18107.0215 - val_mae: 73.9394\n",
      "Epoch 76/120\n",
      "95/95 [==============================] - 0s 637us/step - loss: 16311.3418 - mae: 67.6421 - val_loss: 18068.6367 - val_mae: 71.1099\n",
      "Epoch 77/120\n",
      "95/95 [==============================] - 0s 644us/step - loss: 16086.5137 - mae: 67.5873 - val_loss: 18123.8926 - val_mae: 70.6806\n",
      "Epoch 78/120\n",
      "95/95 [==============================] - 0s 652us/step - loss: 16814.5859 - mae: 68.9099 - val_loss: 18331.5391 - val_mae: 76.0841\n",
      "Epoch 79/120\n",
      "95/95 [==============================] - 0s 662us/step - loss: 16160.4521 - mae: 67.8259 - val_loss: 18121.4258 - val_mae: 72.2650\n",
      "Epoch 80/120\n",
      "95/95 [==============================] - 0s 675us/step - loss: 16372.2266 - mae: 67.8982 - val_loss: 18112.5957 - val_mae: 71.3539\n",
      "Epoch 81/120\n",
      "95/95 [==============================] - 0s 688us/step - loss: 16753.1309 - mae: 68.6178 - val_loss: 18183.0273 - val_mae: 73.5058\n",
      "Epoch 82/120\n",
      "95/95 [==============================] - 0s 748us/step - loss: 16136.6895 - mae: 67.5711 - val_loss: 18066.0430 - val_mae: 70.8631\n",
      "Epoch 83/120\n",
      "95/95 [==============================] - 0s 705us/step - loss: 16495.9512 - mae: 68.2730 - val_loss: 18003.2617 - val_mae: 71.1517\n",
      "Epoch 84/120\n",
      "95/95 [==============================] - 0s 707us/step - loss: 15661.1855 - mae: 66.4675 - val_loss: 18177.9648 - val_mae: 69.4687\n",
      "Epoch 85/120\n",
      "95/95 [==============================] - 0s 660us/step - loss: 16509.9512 - mae: 68.5781 - val_loss: 18104.9785 - val_mae: 71.1321\n",
      "Epoch 86/120\n",
      " 1/95 [..............................] - ETA: 0s - loss: 21194.7539 - mae: 70.3694INFO:tensorflow:Assets written to: ./ckpt_1_ANN/dnl_forcast_ANN/assets\n"
     ]
    },
    {
     "name": "stderr",
     "output_type": "stream",
     "text": [
      "INFO:tensorflow:Assets written to: ./ckpt_1_ANN/dnl_forcast_ANN/assets\n"
     ]
    },
    {
     "name": "stdout",
     "output_type": "stream",
     "text": [
      "95/95 [==============================] - 0s 2ms/step - loss: 16595.6914 - mae: 68.1261 - val_loss: 17963.7461 - val_mae: 70.0371\n",
      "Epoch 87/120\n",
      "95/95 [==============================] - 0s 748us/step - loss: 16389.3008 - mae: 68.0883 - val_loss: 18483.3867 - val_mae: 77.3866\n",
      "Epoch 88/120\n",
      "95/95 [==============================] - 0s 643us/step - loss: 16148.2344 - mae: 67.5088 - val_loss: 18005.1113 - val_mae: 71.8790\n",
      "Epoch 89/120\n",
      "95/95 [==============================] - 0s 899us/step - loss: 16131.9902 - mae: 66.9800 - val_loss: 18137.9414 - val_mae: 70.8445\n",
      "Epoch 90/120\n",
      "95/95 [==============================] - 0s 647us/step - loss: 16191.7441 - mae: 67.5532 - val_loss: 18127.5586 - val_mae: 72.0367\n",
      "Epoch 91/120\n",
      "95/95 [==============================] - 0s 657us/step - loss: 16577.1777 - mae: 68.2213 - val_loss: 18005.9492 - val_mae: 71.0562\n",
      "Epoch 92/120\n",
      " 1/95 [..............................] - ETA: 0s - loss: 17973.3945 - mae: 76.6553INFO:tensorflow:Assets written to: ./ckpt_1_ANN/dnl_forcast_ANN/assets\n"
     ]
    },
    {
     "name": "stderr",
     "output_type": "stream",
     "text": [
      "INFO:tensorflow:Assets written to: ./ckpt_1_ANN/dnl_forcast_ANN/assets\n"
     ]
    },
    {
     "name": "stdout",
     "output_type": "stream",
     "text": [
      "95/95 [==============================] - 0s 2ms/step - loss: 16110.4990 - mae: 67.5057 - val_loss: 17932.2520 - val_mae: 71.7511\n",
      "Epoch 93/120\n",
      "95/95 [==============================] - 0s 679us/step - loss: 16098.7939 - mae: 67.4232 - val_loss: 18018.5332 - val_mae: 71.2439\n",
      "Epoch 94/120\n",
      "95/95 [==============================] - 0s 649us/step - loss: 16248.2285 - mae: 67.4218 - val_loss: 18103.4473 - val_mae: 71.7840\n",
      "Epoch 95/120\n",
      "95/95 [==============================] - 0s 634us/step - loss: 16306.0654 - mae: 67.8934 - val_loss: 18173.1660 - val_mae: 72.3471\n",
      "Epoch 96/120\n",
      "95/95 [==============================] - 0s 639us/step - loss: 16101.6123 - mae: 67.0052 - val_loss: 18221.6445 - val_mae: 69.9674\n",
      "Epoch 97/120\n",
      "95/95 [==============================] - 0s 634us/step - loss: 16154.6484 - mae: 67.3937 - val_loss: 17984.8398 - val_mae: 70.9529\n",
      "Epoch 98/120\n",
      "95/95 [==============================] - 0s 635us/step - loss: 16160.0420 - mae: 67.4085 - val_loss: 17962.7012 - val_mae: 69.8255\n",
      "Epoch 99/120\n",
      "95/95 [==============================] - 0s 633us/step - loss: 16120.8809 - mae: 67.0795 - val_loss: 17959.2129 - val_mae: 70.3865\n",
      "Epoch 100/120\n",
      "95/95 [==============================] - 0s 640us/step - loss: 16167.6045 - mae: 67.3171 - val_loss: 18069.4961 - val_mae: 72.5344\n",
      "Epoch 101/120\n",
      "95/95 [==============================] - 0s 632us/step - loss: 15943.4473 - mae: 66.8858 - val_loss: 17932.5801 - val_mae: 71.8905\n",
      "Epoch 102/120\n",
      "95/95 [==============================] - 0s 636us/step - loss: 16105.3828 - mae: 67.2849 - val_loss: 17944.1992 - val_mae: 71.7053\n",
      "Epoch 103/120\n",
      "95/95 [==============================] - 0s 643us/step - loss: 16127.7168 - mae: 66.9413 - val_loss: 18249.9102 - val_mae: 75.3294\n",
      "Epoch 104/120\n",
      "95/95 [==============================] - 0s 635us/step - loss: 15899.1104 - mae: 67.2132 - val_loss: 18373.2344 - val_mae: 70.9349\n",
      "Epoch 105/120\n",
      "95/95 [==============================] - 0s 634us/step - loss: 16256.5225 - mae: 67.1627 - val_loss: 18044.2559 - val_mae: 69.9520\n",
      "Epoch 106/120\n",
      "95/95 [==============================] - 0s 652us/step - loss: 16135.6396 - mae: 67.4663 - val_loss: 17973.2910 - val_mae: 71.2759\n",
      "Epoch 107/120\n",
      "95/95 [==============================] - 0s 635us/step - loss: 15877.1973 - mae: 66.7342 - val_loss: 18085.4688 - val_mae: 72.0950\n",
      "Epoch 108/120\n",
      "95/95 [==============================] - 0s 631us/step - loss: 16307.2314 - mae: 67.8121 - val_loss: 18053.8574 - val_mae: 70.9215\n",
      "Epoch 109/120\n",
      "95/95 [==============================] - 0s 629us/step - loss: 15962.4268 - mae: 66.9054 - val_loss: 17962.3848 - val_mae: 70.8443\n",
      "Epoch 110/120\n",
      "95/95 [==============================] - 0s 627us/step - loss: 15897.9551 - mae: 66.5583 - val_loss: 18232.3340 - val_mae: 71.5722\n",
      "Epoch 111/120\n",
      "95/95 [==============================] - 0s 637us/step - loss: 15918.0391 - mae: 66.8612 - val_loss: 18172.1348 - val_mae: 71.1956\n",
      "Epoch 112/120\n",
      "95/95 [==============================] - 0s 629us/step - loss: 16022.1982 - mae: 67.3477 - val_loss: 18001.1152 - val_mae: 69.3610\n",
      "Epoch 113/120\n",
      "95/95 [==============================] - 0s 626us/step - loss: 15812.1152 - mae: 66.2781 - val_loss: 17936.9453 - val_mae: 70.3894\n",
      "Epoch 114/120\n",
      "95/95 [==============================] - 0s 628us/step - loss: 16143.1094 - mae: 67.2889 - val_loss: 17983.5430 - val_mae: 69.6474\n",
      "Epoch 115/120\n",
      "95/95 [==============================] - 0s 632us/step - loss: 16085.3525 - mae: 67.5812 - val_loss: 18207.2539 - val_mae: 69.8779\n",
      "Epoch 116/120\n",
      "95/95 [==============================] - 0s 634us/step - loss: 15410.5801 - mae: 65.0133 - val_loss: 18347.1133 - val_mae: 73.3003\n",
      "Epoch 117/120\n",
      "95/95 [==============================] - 0s 632us/step - loss: 16327.6465 - mae: 68.0769 - val_loss: 18115.6621 - val_mae: 72.7040\n",
      "Epoch 118/120\n",
      "95/95 [==============================] - 0s 630us/step - loss: 15563.6924 - mae: 65.9609 - val_loss: 18127.5293 - val_mae: 71.0674\n",
      "Epoch 119/120\n",
      "95/95 [==============================] - 0s 629us/step - loss: 15956.3379 - mae: 67.0905 - val_loss: 18163.4160 - val_mae: 69.8200\n",
      "Epoch 120/120\n",
      "95/95 [==============================] - 0s 628us/step - loss: 16280.1318 - mae: 66.9979 - val_loss: 18149.2695 - val_mae: 73.9683\n"
     ]
    }
   ],
   "source": [
    "model.compile(loss='mse', optimizer='rmsprop', metrics=['mae'])\n",
    "# Prepare a directory to store all the checkpoints.\n",
    "checkpoint_no = 'ckpt_1_ANN'\n",
    "model_name = 'dnl_forcast_ANN'\n",
    "checkpoint_dir = './'+ checkpoint_no\n",
    "if not os.path.exists(checkpoint_dir):\n",
    "    os.makedirs(checkpoint_dir)\n",
    "\n",
    "keras_callbacks = [ModelCheckpoint(filepath = checkpoint_dir + '/' + model_name, monitor='val_loss', save_best_only=True, mode='auto')]\n",
    "\n",
    "history = model.fit(trainX_scaled,\n",
    "                    trainY,\n",
    "                    steps_per_epoch=n_steps_per_epoch,\n",
    "                    epochs=n_epochs,\n",
    "                    batch_size=n_batch_size,\n",
    "                    validation_data=(valX_scaled, valY),\n",
    "                    validation_steps=n_validation_steps,\n",
    "                    callbacks=[keras_callbacks])"
   ]
  },
  {
   "cell_type": "code",
   "execution_count": 195,
   "metadata": {},
   "outputs": [
    {
     "data": {
      "text/html": [
       "<div>\n",
       "<style scoped>\n",
       "    .dataframe tbody tr th:only-of-type {\n",
       "        vertical-align: middle;\n",
       "    }\n",
       "\n",
       "    .dataframe tbody tr th {\n",
       "        vertical-align: top;\n",
       "    }\n",
       "\n",
       "    .dataframe thead th {\n",
       "        text-align: right;\n",
       "    }\n",
       "</style>\n",
       "<table border=\"1\" class=\"dataframe\">\n",
       "  <thead>\n",
       "    <tr style=\"text-align: right;\">\n",
       "      <th></th>\n",
       "      <th>epoch</th>\n",
       "      <th>loss</th>\n",
       "      <th>mae</th>\n",
       "      <th>val_loss</th>\n",
       "      <th>val_mae</th>\n",
       "    </tr>\n",
       "  </thead>\n",
       "  <tbody>\n",
       "    <tr>\n",
       "      <th>0</th>\n",
       "      <td>1</td>\n",
       "      <td>154709.406250</td>\n",
       "      <td>227.342819</td>\n",
       "      <td>122860.515625</td>\n",
       "      <td>214.787445</td>\n",
       "    </tr>\n",
       "    <tr>\n",
       "      <th>1</th>\n",
       "      <td>2</td>\n",
       "      <td>82210.093750</td>\n",
       "      <td>182.376465</td>\n",
       "      <td>63810.710938</td>\n",
       "      <td>168.654877</td>\n",
       "    </tr>\n",
       "    <tr>\n",
       "      <th>2</th>\n",
       "      <td>3</td>\n",
       "      <td>42251.054688</td>\n",
       "      <td>135.975357</td>\n",
       "      <td>33413.085938</td>\n",
       "      <td>121.863853</td>\n",
       "    </tr>\n",
       "    <tr>\n",
       "      <th>3</th>\n",
       "      <td>4</td>\n",
       "      <td>29448.464844</td>\n",
       "      <td>111.110336</td>\n",
       "      <td>27634.730469</td>\n",
       "      <td>108.974609</td>\n",
       "    </tr>\n",
       "    <tr>\n",
       "      <th>4</th>\n",
       "      <td>5</td>\n",
       "      <td>25693.384766</td>\n",
       "      <td>102.630615</td>\n",
       "      <td>25046.166016</td>\n",
       "      <td>101.945190</td>\n",
       "    </tr>\n",
       "  </tbody>\n",
       "</table>\n",
       "</div>"
      ],
      "text/plain": [
       "   epoch           loss         mae       val_loss     val_mae\n",
       "0      1  154709.406250  227.342819  122860.515625  214.787445\n",
       "1      2   82210.093750  182.376465   63810.710938  168.654877\n",
       "2      3   42251.054688  135.975357   33413.085938  121.863853\n",
       "3      4   29448.464844  111.110336   27634.730469  108.974609\n",
       "4      5   25693.384766  102.630615   25046.166016  101.945190"
      ]
     },
     "execution_count": 195,
     "metadata": {},
     "output_type": "execute_result"
    }
   ],
   "source": [
    "hist_df = pd.DataFrame(history.history)\n",
    "hist_df['epoch'] = hist_df.index + 1\n",
    "cols = list(hist_df.columns)\n",
    "cols = [cols[-1]] + cols[:-1]\n",
    "hist_df = hist_df[cols]\n",
    "hist_df.to_csv(checkpoint_no + '/' + 'history_df_' + model_name + '.csv')\n",
    "hist_df.head()"
   ]
  },
  {
   "cell_type": "code",
   "execution_count": 196,
   "metadata": {},
   "outputs": [
    {
     "data": {
      "text/html": [
       "<div>\n",
       "<style scoped>\n",
       "    .dataframe tbody tr th:only-of-type {\n",
       "        vertical-align: middle;\n",
       "    }\n",
       "\n",
       "    .dataframe tbody tr th {\n",
       "        vertical-align: top;\n",
       "    }\n",
       "\n",
       "    .dataframe thead th {\n",
       "        text-align: right;\n",
       "    }\n",
       "</style>\n",
       "<table border=\"1\" class=\"dataframe\">\n",
       "  <thead>\n",
       "    <tr style=\"text-align: right;\">\n",
       "      <th></th>\n",
       "      <th>epoch</th>\n",
       "      <th>loss</th>\n",
       "      <th>mae</th>\n",
       "      <th>val_loss</th>\n",
       "      <th>val_mae</th>\n",
       "    </tr>\n",
       "  </thead>\n",
       "  <tbody>\n",
       "    <tr>\n",
       "      <th>91</th>\n",
       "      <td>92</td>\n",
       "      <td>16110.499023</td>\n",
       "      <td>67.505707</td>\n",
       "      <td>17932.251953</td>\n",
       "      <td>71.751091</td>\n",
       "    </tr>\n",
       "  </tbody>\n",
       "</table>\n",
       "</div>"
      ],
      "text/plain": [
       "    epoch          loss        mae      val_loss    val_mae\n",
       "91     92  16110.499023  67.505707  17932.251953  71.751091"
      ]
     },
     "execution_count": 196,
     "metadata": {},
     "output_type": "execute_result"
    }
   ],
   "source": [
    "values_of_best_model = hist_df[hist_df.val_loss == hist_df.val_loss.min()]\n",
    "values_of_best_model"
   ]
  },
  {
   "cell_type": "code",
   "execution_count": 197,
   "metadata": {},
   "outputs": [],
   "source": [
    "pk.dump(scaler, open(checkpoint_no + '/' + 'scaler.pkl', 'wb'))"
   ]
  },
  {
   "cell_type": "code",
   "execution_count": 198,
   "metadata": {},
   "outputs": [
    {
     "data": {
      "image/png": "[encoded data removed]",
      "text/plain": [
       "<Figure size 640x480 with 1 Axes>"
      ]
     },
     "metadata": {},
     "output_type": "display_data"
    },
    {
     "data": {
      "image/png": "[encoded data removed]",
      "text/plain": [
       "<Figure size 640x480 with 1 Axes>"
      ]
     },
     "metadata": {},
     "output_type": "display_data"
    }
   ],
   "source": [
    "mae = history.history['mae']\n",
    "val_mae = history.history['val_mae']\n",
    "loss = history.history['loss']\n",
    "val_loss = history.history['val_loss']\n",
    "\n",
    "epochs = range(1, len(mae) + 1)\n",
    "\n",
    "plt.plot(epochs, mae, 'bo', label='Training MAE')\n",
    "plt.plot(epochs, val_mae, 'b', label='Validation MAE')\n",
    "plt.title('Training and validation MAE')\n",
    "plt.legend()\n",
    "\n",
    "plt.figure()\n",
    "\n",
    "plt.plot(epochs, loss, 'bo', label='Training loss')\n",
    "plt.plot(epochs, val_loss, 'b', label='Validation loss')\n",
    "plt.title('Training and validation loss')\n",
    "plt.legend()\n",
    "\n",
    "plt.show()"
   ]
  },
  {
   "cell_type": "code",
   "execution_count": 199,
   "metadata": {},
   "outputs": [],
   "source": [
    "def build_model():\n",
    "    model = models.Sequential()\n",
    "    model.add(layers.Dense(64, activation='relu',\n",
    "                           input_shape=(input_shape,)))\n",
    "    model.add(layers.Dense(64, activation='relu'))\n",
    "    model.add(layers.Dense(1))\n",
    "    model.compile(loss='mse', optimizer='rmsprop', metrics=['mae'])\n",
    "    return model"
   ]
  },
  {
   "cell_type": "code",
   "execution_count": 200,
   "metadata": {},
   "outputs": [
    {
     "name": "stdout",
     "output_type": "stream",
     "text": [
      "Processing Fold 0\n",
      "MAE: 71.35858154296875\n",
      "========================\n",
      "Processing Fold 1\n",
      "MAE: 67.29618072509766\n",
      "========================\n",
      "Processing Fold 2\n",
      "MAE: 71.0232162475586\n",
      "========================\n",
      "Processing Fold 3\n",
      "MAE: 68.46066284179688\n",
      "========================\n",
      "Processing Fold 4\n",
      "MAE: 64.0823745727539\n",
      "========================\n"
     ]
    }
   ],
   "source": [
    "k = 5\n",
    "num_val_samples = len(trainX) // k\n",
    "all_scores = []\n",
    "for i in range(k):\n",
    "    print('Processing Fold', i)\n",
    "    val_data = trainX_scaled[i * num_val_samples: (i + 1) * num_val_samples]\n",
    "    val_targets = trainY[i * num_val_samples: (i + 1) * num_val_samples]\n",
    "\n",
    "    partial_train_data = np.concatenate(\n",
    "        [trainX_scaled[:i * num_val_samples],\n",
    "         trainX_scaled[(i + 1) * num_val_samples:]],\n",
    "        axis=0)\n",
    "    partial_train_targets = np.concatenate(\n",
    "        [trainY[:i * num_val_samples],\n",
    "         trainY[(i + 1) * num_val_samples:]],\n",
    "        axis=0)\n",
    "\n",
    "    model = build_model()\n",
    "    model.fit(partial_train_data, partial_train_targets,\n",
    "              epochs=n_epochs, batch_size=n_batch_size, verbose=0)\n",
    "    val_mse, val_mae = model.evaluate(val_data, val_targets, verbose=0)\n",
    "    all_scores.append(val_mae)\n",
    "    print('MAE: ' + str(val_mae))\n",
    "    print('========================')\n"
   ]
  },
  {
   "cell_type": "code",
   "execution_count": 201,
   "metadata": {},
   "outputs": [
    {
     "name": "stdout",
     "output_type": "stream",
     "text": [
      "Fold 0: MAE of 71.35858154296875\n",
      "Fold 1: MAE of 67.29618072509766\n",
      "Fold 2: MAE of 71.0232162475586\n",
      "Fold 3: MAE of 68.46066284179688\n",
      "Fold 4: MAE of 64.0823745727539\n",
      "Mean MAE of all folds: 68.44420318603515\n"
     ]
    }
   ],
   "source": [
    "for i, val in enumerate(all_scores):\n",
    "    print('Fold ' + str(i) +': ' + 'MAE of', val)\n",
    "\n",
    "print('Mean MAE of all folds: ' + str(np.mean(all_scores)))"
   ]
  },
  {
   "cell_type": "code",
   "execution_count": 202,
   "metadata": {},
   "outputs": [
    {
     "name": "stdout",
     "output_type": "stream",
     "text": [
      "Processing Fold 0\n",
      "Processing Fold 1\n",
      "Processing Fold 2\n",
      "Processing Fold 3\n",
      "Processing Fold 4\n"
     ]
    }
   ],
   "source": [
    "all_mae_histories = []\n",
    "for i in range(k):\n",
    "    print('Processing Fold', i)\n",
    "    val_data = trainX_scaled[i * num_val_samples: (i + 1) * num_val_samples]\n",
    "    val_targets = trainY[i * num_val_samples: (i + 1) * num_val_samples]\n",
    "    partial_train_data = np.concatenate(\n",
    "        [trainX_scaled[:i * num_val_samples],\n",
    "         trainX_scaled[(i + 1) * num_val_samples:]],\n",
    "        axis=0)\n",
    "    partial_train_targets = np.concatenate(\n",
    "        [trainY[:i * num_val_samples],\n",
    "         trainY[(i + 1) * num_val_samples:]],\n",
    "        axis=0)\n",
    "\n",
    "    model = build_model()\n",
    "    history = model.fit(partial_train_data, partial_train_targets,\n",
    "                        validation_data=(val_data, val_targets),\n",
    "                        epochs=n_epochs, batch_size=n_batch_size, verbose=0)\n",
    "    mae_history = history.history['val_mae']\n",
    "    all_mae_histories.append(mae_history)"
   ]
  },
  {
   "cell_type": "code",
   "execution_count": 203,
   "metadata": {},
   "outputs": [
    {
     "data": {
      "text/plain": [
       "120"
      ]
     },
     "execution_count": 203,
     "metadata": {},
     "output_type": "execute_result"
    }
   ],
   "source": [
    "average_mae_history = [np.mean([x[i] for x in all_mae_histories]) for i in range(n_epochs)]\n",
    "\n",
    "len(average_mae_history)"
   ]
  },
  {
   "cell_type": "code",
   "execution_count": 204,
   "metadata": {},
   "outputs": [
    {
     "data": {
      "image/png": "[encoded data removed]",
      "text/plain": [
       "<Figure size 640x480 with 1 Axes>"
      ]
     },
     "metadata": {},
     "output_type": "display_data"
    }
   ],
   "source": [
    "plt.plot(range(1, len(average_mae_history) + 1), average_mae_history)\n",
    "plt.title('Validation MAE per Epoch')\n",
    "plt.xlabel('Epochs')\n",
    "plt.ylabel('Validation MAE')\n",
    "plt.show()"
   ]
  },
  {
   "cell_type": "code",
   "execution_count": 205,
   "metadata": {},
   "outputs": [
    {
     "name": "stderr",
     "output_type": "stream",
     "text": [
      "/Users/saraabouelella/anaconda3/envs/nrel311/lib/python3.11/site-packages/keras/src/engine/training.py:3103: UserWarning: You are saving your model as an HDF5 file via `model.save()`. This file format is considered legacy. We recommend using instead the native Keras format, e.g. `model.save('my_model.keras')`.\n",
      "  saving_api.save_model(\n"
     ]
    }
   ],
   "source": [
    "model_reloaded = load_model(checkpoint_no + '/' + model_name)\n",
    "\n",
    "# Saving the best model in the correct path and format\n",
    "root_directory = os.getcwd()\n",
    "checkpoint_dir = os.path.join(root_directory, checkpoint_no)\n",
    "model_name_temp = os.path.join(checkpoint_dir, model_name + '.h5')\n",
    "model_reloaded.save(model_name_temp)\n",
    "\n",
    "# Deletion of the automatically created folder under Model Checkpoint File.\n",
    "folder_name_temp = os.path.join(checkpoint_dir, model_name)\n",
    "shutil.rmtree(folder_name_temp, ignore_errors=True)\n",
    "best_model = load_model(model_name_temp)"
   ]
  },
  {
   "cell_type": "code",
   "execution_count": 206,
   "metadata": {},
   "outputs": [
    {
     "name": "stdout",
     "output_type": "stream",
     "text": [
      "20/20 [==============================] - 0s 441us/step - loss: 17059.7070 - mae: 69.4256\n",
      "\n",
      "Test MAE: 69.42559051513672\n"
     ]
    }
   ],
   "source": [
    "test_loss, test_mae = best_model.evaluate(testX_scaled, testY, steps=n_test_steps)\n",
    "print()\n",
    "print('Test MAE:', test_mae)"
   ]
  },
  {
   "cell_type": "code",
   "execution_count": 207,
   "metadata": {},
   "outputs": [
    {
     "name": "stdout",
     "output_type": "stream",
     "text": [
      "83/83 [==============================] - 0s 324us/step\n"
     ]
    },
    {
     "data": {
      "text/plain": [
       "array([[ 3.5274594e+02],\n",
       "       [-2.2005206e-01],\n",
       "       [ 1.2228978e+02],\n",
       "       [ 8.5911914e+02],\n",
       "       [-1.3809292e+00]], dtype=float32)"
      ]
     },
     "execution_count": 207,
     "metadata": {},
     "output_type": "execute_result"
    }
   ],
   "source": [
    "y_pred = model.predict(testX_scaled)\n",
    "y_pred[:5]"
   ]
  },
  {
   "cell_type": "code",
   "execution_count": 208,
   "metadata": {},
   "outputs": [
    {
     "data": {
      "text/html": [
       "<div>\n",
       "<style scoped>\n",
       "    .dataframe tbody tr th:only-of-type {\n",
       "        vertical-align: middle;\n",
       "    }\n",
       "\n",
       "    .dataframe tbody tr th {\n",
       "        vertical-align: top;\n",
       "    }\n",
       "\n",
       "    .dataframe thead th {\n",
       "        text-align: right;\n",
       "    }\n",
       "</style>\n",
       "<table border=\"1\" class=\"dataframe\">\n",
       "  <thead>\n",
       "    <tr style=\"text-align: right;\">\n",
       "      <th></th>\n",
       "      <th>Actual</th>\n",
       "      <th>Predicted</th>\n",
       "    </tr>\n",
       "  </thead>\n",
       "  <tbody>\n",
       "    <tr>\n",
       "      <th>0</th>\n",
       "      <td>32.0</td>\n",
       "      <td>352.745941</td>\n",
       "    </tr>\n",
       "    <tr>\n",
       "      <th>1</th>\n",
       "      <td>0.0</td>\n",
       "      <td>-0.220052</td>\n",
       "    </tr>\n",
       "    <tr>\n",
       "      <th>2</th>\n",
       "      <td>361.0</td>\n",
       "      <td>122.289780</td>\n",
       "    </tr>\n",
       "    <tr>\n",
       "      <th>3</th>\n",
       "      <td>859.0</td>\n",
       "      <td>859.119141</td>\n",
       "    </tr>\n",
       "    <tr>\n",
       "      <th>4</th>\n",
       "      <td>0.0</td>\n",
       "      <td>-1.380929</td>\n",
       "    </tr>\n",
       "    <tr>\n",
       "      <th>...</th>\n",
       "      <td>...</td>\n",
       "      <td>...</td>\n",
       "    </tr>\n",
       "    <tr>\n",
       "      <th>2622</th>\n",
       "      <td>999.0</td>\n",
       "      <td>973.508911</td>\n",
       "    </tr>\n",
       "    <tr>\n",
       "      <th>2623</th>\n",
       "      <td>889.0</td>\n",
       "      <td>841.459473</td>\n",
       "    </tr>\n",
       "    <tr>\n",
       "      <th>2624</th>\n",
       "      <td>946.0</td>\n",
       "      <td>878.875671</td>\n",
       "    </tr>\n",
       "    <tr>\n",
       "      <th>2625</th>\n",
       "      <td>0.0</td>\n",
       "      <td>-7.424745</td>\n",
       "    </tr>\n",
       "    <tr>\n",
       "      <th>2626</th>\n",
       "      <td>0.0</td>\n",
       "      <td>5.004378</td>\n",
       "    </tr>\n",
       "  </tbody>\n",
       "</table>\n",
       "<p>2627 rows × 2 columns</p>\n",
       "</div>"
      ],
      "text/plain": [
       "      Actual   Predicted\n",
       "0       32.0  352.745941\n",
       "1        0.0   -0.220052\n",
       "2      361.0  122.289780\n",
       "3      859.0  859.119141\n",
       "4        0.0   -1.380929\n",
       "...      ...         ...\n",
       "2622   999.0  973.508911\n",
       "2623   889.0  841.459473\n",
       "2624   946.0  878.875671\n",
       "2625     0.0   -7.424745\n",
       "2626     0.0    5.004378\n",
       "\n",
       "[2627 rows x 2 columns]"
      ]
     },
     "execution_count": 208,
     "metadata": {},
     "output_type": "execute_result"
    }
   ],
   "source": [
    "df_testY = pd.DataFrame(testY)\n",
    "df_y_pred = pd.DataFrame(y_pred)\n",
    "\n",
    "df_testY.reset_index(drop=True, inplace=True)\n",
    "df_y_pred.reset_index(drop=True, inplace=True)\n",
    "\n",
    "df_results = pd.concat([df_testY, df_y_pred], axis=1)\n",
    "df_results.columns = ['Actual', 'Predicted']\n",
    "\n",
    "df_results"
   ]
  },
  {
   "cell_type": "code",
   "execution_count": 224,
   "metadata": {},
   "outputs": [
    {
     "name": "stdout",
     "output_type": "stream",
     "text": [
      "Neural Network\n",
      "Mean Absolute Error: 69.07765476105556\n",
      "Mean Squared Error: 17442.218143082595\n",
      "Root Mean Squared Error: 132.06899008882667\n",
      "Mean Absolute Percentage Error: 5.801590813751698e+16\n",
      "=================================================================\n",
      "\n",
      "Linear Regression\n",
      "Mean Absolute Error: 79.63432405605226\n",
      "Mean Squared Error: 18920.642001403397\n",
      "Root Mean Squared Error: 137.55232459469158\n",
      "Mean Absolute Percentage Error: 9.009076414469739e+16\n",
      "=================================================================\n",
      "\n",
      "SVR\n",
      "Mean Absolute Error: 124.78035968548973\n",
      "Mean Squared Error: 40285.17661750173\n",
      "Root Mean Squared Error: 200.71167533928298\n",
      "Mean Absolute Percentage Error: 6.080882735577462e+16\n"
     ]
    }
   ],
   "source": [
    "print(\"Neural Network\")\n",
    "print('Mean Absolute Error:', metrics.mean_absolute_error(testY, y_pred))\n",
    "print('Mean Squared Error:', metrics.mean_squared_error(testY, y_pred))\n",
    "print('Root Mean Squared Error:', metrics.mean_squared_error(testY, y_pred, squared=False))\n",
    "print('Mean Absolute Percentage Error:', metrics.mean_absolute_percentage_error(testY, y_pred))\n",
    "print(\"=================================================================\\n\")\n",
    "print(\"Linear Regression\")\n",
    "print('Mean Absolute Error:', metrics.mean_absolute_error(testY, y_pred_linreg))\n",
    "print('Mean Squared Error:', metrics.mean_squared_error(testY, y_pred_linreg))\n",
    "print('Root Mean Squared Error:', metrics.mean_squared_error(testY, y_pred_linreg, squared=False))\n",
    "print('Mean Absolute Percentage Error:', metrics.mean_absolute_percentage_error(testY, y_pred_linreg))\n",
    "print(\"=================================================================\\n\")\n",
    "print(\"SVR\")\n",
    "print('Mean Absolute Error:', metrics.mean_absolute_error(testY, y_pred_svr))\n",
    "print('Mean Squared Error:', metrics.mean_squared_error(testY, y_pred_svr))\n",
    "print('Root Mean Squared Error:', metrics.mean_squared_error(testY, y_pred_svr, squared=False))\n",
    "print('Mean Absolute Percentage Error:', metrics.mean_absolute_percentage_error(testY, y_pred_svr))\n"
   ]
  },
  {
   "cell_type": "code",
   "execution_count": 216,
   "metadata": {},
   "outputs": [
    {
     "name": "stdout",
     "output_type": "stream",
     "text": [
      "17520\n"
     ]
    },
    {
     "data": {
      "text/plain": [
       "2627"
      ]
     },
     "execution_count": 216,
     "metadata": {},
     "output_type": "execute_result"
    }
   ],
   "source": [
    "print(df.shape[0])\n",
    "testY.shape[0]"
   ]
  }
 ],
 "metadata": {
  "kernelspec": {
   "display_name": "nreldata",
   "language": "python",
   "name": "python3"
  },
  "language_info": {
   "codemirror_mode": {
    "name": "ipython",
    "version": 3
   },
   "file_extension": ".py",
   "mimetype": "text/x-python",
   "name": "python",
   "nbconvert_exporter": "python",
   "pygments_lexer": "ipython3",
   "version": "3.11.5"
  }
 },
 "nbformat": 4,
 "nbformat_minor": 2
}
