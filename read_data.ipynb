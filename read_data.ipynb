{
 "cells": [
  {
   "cell_type": "code",
   "execution_count": 387,
   "metadata": {},
   "outputs": [],
   "source": [
    "import sys, os\n",
    "import pandas as pd\n",
    "import numpy as np\n",
    "\n",
    "from IPython.display import display"
   ]
  },
  {
   "cell_type": "code",
   "execution_count": 388,
   "metadata": {},
   "outputs": [],
   "source": [
    "# Declare all variables as strings. Spaces must be replaced with '+', i.e., change 'John Smith' to 'John+Smith'.\n",
    "# Define the lat, long of the location and the year\n",
    "\n",
    "p1_lat, p1_lon = 39.835694, -105.359097\n",
    "p2_lat, p2_lon = 39.855119, -105.297783\n",
    "p3_lat, p3_lon = 39.655210, -105.402332\n",
    "p4_lat, p4_lon = 39.965930, -105.440591\n",
    "\n",
    "# You must request an NSRDB api key from the link above\n",
    "api_key = '1gHoGjlIGeXbQOpiunnlRrJS9vYYb490MA4n9X7s'\n",
    "# Set the attributes to extract (e.g., dhi, ghi, etc.), separated by commas.\n",
    "attributes = 'air_temperature,solar_zenith_angle,dew_point,relative_humidity,surface_albedo,surface_pressure,total_precipitable_water,wind_speed,wind_direction,ghi,dhi,dni'\n",
    "   \n",
    "# Choose year of data\n",
    "year = '2010'\n",
    "# Set leap year to true or false. True will return leap day data if present, false will not.\n",
    "leap_year = 'false'\n",
    "# Set time interval in minutes, i.e., '30' is half hour intervals. Valid intervals are 30 & 60.\n",
    "interval = '30'\n",
    "# Specify Coordinated Universal Time (UTC), 'true' will use UTC, 'false' will use the local time zone of the data.\n",
    "# NOTE: In order to use the NSRDB data in SAM, you must specify UTC as 'false'. SAM requires the data to be in the\n",
    "# local time zone.\n",
    "utc = 'false'\n",
    "# Your full name, use '+' instead of spaces.\n",
    "your_name = 'Sara+Abouelella'\n",
    "# Your reason for using the NSRDB.\n",
    "reason_for_use = 'interview'\n",
    "# Your affiliation\n",
    "your_affiliation = 'student'\n",
    "# Your email address\n",
    "your_email = 'sabouelella3@gatech.edu'\n",
    "# Please join our mailing list so we can keep you up-to-date on new developments.\n",
    "mailing_list = 'false'\n",
    "\n",
    "# Declare url string\n",
    "url = 'https://developer.nrel.gov/api/nsrdb/v2/solar/psm3-download.csv?wkt=POINT({lon}%20{lat})&names={year}&leap_day={leap}&interval={interval}&utc={utc}&full_name={name}&email={email}&affiliation={affiliation}&mailing_list={mailing_list}&reason={reason}&api_key={api}&attributes={attr}'.format(year=year, lat=p4_lat, lon=p4_lon, leap=leap_year, interval=interval, utc=utc, name=your_name, email=your_email, mailing_list=mailing_list, affiliation=your_affiliation, reason=reason_for_use, api=api_key, attr=attributes)\n",
    "# Return just the first 2 lines to get metadata:\n",
    "info = pd.read_csv(url, nrows=1)\n",
    "# See metadata for specified properties, e.g., timezone and elevation\n",
    "timezone, elevation = info['Local Time Zone'], info['Elevation']"
   ]
  },
  {
   "cell_type": "code",
   "execution_count": 389,
   "metadata": {},
   "outputs": [
    {
     "data": {
      "text/html": [
       "<div>\n",
       "<style scoped>\n",
       "    .dataframe tbody tr th:only-of-type {\n",
       "        vertical-align: middle;\n",
       "    }\n",
       "\n",
       "    .dataframe tbody tr th {\n",
       "        vertical-align: top;\n",
       "    }\n",
       "\n",
       "    .dataframe thead th {\n",
       "        text-align: right;\n",
       "    }\n",
       "</style>\n",
       "<table border=\"1\" class=\"dataframe\">\n",
       "  <thead>\n",
       "    <tr style=\"text-align: right;\">\n",
       "      <th></th>\n",
       "      <th>Source</th>\n",
       "      <th>Location ID</th>\n",
       "      <th>City</th>\n",
       "      <th>State</th>\n",
       "      <th>Country</th>\n",
       "      <th>Latitude</th>\n",
       "      <th>Longitude</th>\n",
       "      <th>Time Zone</th>\n",
       "      <th>Elevation</th>\n",
       "      <th>Local Time Zone</th>\n",
       "      <th>...</th>\n",
       "      <th>Cloud Type 11</th>\n",
       "      <th>Cloud Type 12</th>\n",
       "      <th>Fill Flag 0</th>\n",
       "      <th>Fill Flag 1</th>\n",
       "      <th>Fill Flag 2</th>\n",
       "      <th>Fill Flag 3</th>\n",
       "      <th>Fill Flag 4</th>\n",
       "      <th>Fill Flag 5</th>\n",
       "      <th>Surface Albedo Units</th>\n",
       "      <th>Version</th>\n",
       "    </tr>\n",
       "  </thead>\n",
       "  <tbody>\n",
       "    <tr>\n",
       "      <th>0</th>\n",
       "      <td>NSRDB</td>\n",
       "      <td>148698</td>\n",
       "      <td>-</td>\n",
       "      <td>-</td>\n",
       "      <td>-</td>\n",
       "      <td>39.97</td>\n",
       "      <td>-105.46</td>\n",
       "      <td>-7</td>\n",
       "      <td>2529</td>\n",
       "      <td>-7</td>\n",
       "      <td>...</td>\n",
       "      <td>Dust</td>\n",
       "      <td>Smoke</td>\n",
       "      <td>NaN</td>\n",
       "      <td>Missing Image</td>\n",
       "      <td>Low Irradiance</td>\n",
       "      <td>Exceeds Clearsky</td>\n",
       "      <td>Missing CLoud Properties</td>\n",
       "      <td>Rayleigh Violation</td>\n",
       "      <td>NaN</td>\n",
       "      <td>3.0.6</td>\n",
       "    </tr>\n",
       "  </tbody>\n",
       "</table>\n",
       "<p>1 rows × 46 columns</p>\n",
       "</div>"
      ],
      "text/plain": [
       "  Source  Location ID City State Country  Latitude  Longitude  Time Zone  \\\n",
       "0  NSRDB       148698    -     -       -     39.97    -105.46         -7   \n",
       "\n",
       "   Elevation  Local Time Zone  ... Cloud Type 11 Cloud Type 12 Fill Flag 0  \\\n",
       "0       2529               -7  ...          Dust         Smoke         NaN   \n",
       "\n",
       "     Fill Flag 1     Fill Flag 2       Fill Flag 3               Fill Flag 4  \\\n",
       "0  Missing Image  Low Irradiance  Exceeds Clearsky  Missing CLoud Properties   \n",
       "\n",
       "          Fill Flag 5 Surface Albedo Units Version  \n",
       "0  Rayleigh Violation                  NaN   3.0.6  \n",
       "\n",
       "[1 rows x 46 columns]"
      ]
     },
     "execution_count": 389,
     "metadata": {},
     "output_type": "execute_result"
    }
   ],
   "source": [
    "# View metadata\n",
    "info"
   ]
  },
  {
   "cell_type": "code",
   "execution_count": 390,
   "metadata": {},
   "outputs": [
    {
     "name": "stdout",
     "output_type": "stream",
     "text": [
      "shape: (17520, 17)\n"
     ]
    },
    {
     "data": {
      "text/html": [
       "<div>\n",
       "<style scoped>\n",
       "    .dataframe tbody tr th:only-of-type {\n",
       "        vertical-align: middle;\n",
       "    }\n",
       "\n",
       "    .dataframe tbody tr th {\n",
       "        vertical-align: top;\n",
       "    }\n",
       "\n",
       "    .dataframe thead th {\n",
       "        text-align: right;\n",
       "    }\n",
       "</style>\n",
       "<table border=\"1\" class=\"dataframe\">\n",
       "  <thead>\n",
       "    <tr style=\"text-align: right;\">\n",
       "      <th></th>\n",
       "      <th>Year</th>\n",
       "      <th>Month</th>\n",
       "      <th>Day</th>\n",
       "      <th>Hour</th>\n",
       "      <th>Minute</th>\n",
       "      <th>Temperature</th>\n",
       "      <th>Solar Zenith Angle</th>\n",
       "      <th>Dew Point</th>\n",
       "      <th>Relative Humidity</th>\n",
       "      <th>Surface Albedo</th>\n",
       "      <th>Pressure</th>\n",
       "      <th>Precipitable Water</th>\n",
       "      <th>Wind Speed</th>\n",
       "      <th>Wind Direction</th>\n",
       "      <th>GHI</th>\n",
       "      <th>DHI</th>\n",
       "      <th>DNI</th>\n",
       "    </tr>\n",
       "  </thead>\n",
       "  <tbody>\n",
       "    <tr>\n",
       "      <th>2010-01-01 00:00:00</th>\n",
       "      <td>2010</td>\n",
       "      <td>1</td>\n",
       "      <td>1</td>\n",
       "      <td>0</td>\n",
       "      <td>0</td>\n",
       "      <td>-10</td>\n",
       "      <td>163.12</td>\n",
       "      <td>-16</td>\n",
       "      <td>59.53</td>\n",
       "      <td>0.866</td>\n",
       "      <td>750</td>\n",
       "      <td>0.479</td>\n",
       "      <td>3.8</td>\n",
       "      <td>267.3</td>\n",
       "      <td>0</td>\n",
       "      <td>0</td>\n",
       "      <td>0</td>\n",
       "    </tr>\n",
       "    <tr>\n",
       "      <th>2010-01-01 00:30:00</th>\n",
       "      <td>2010</td>\n",
       "      <td>1</td>\n",
       "      <td>1</td>\n",
       "      <td>0</td>\n",
       "      <td>30</td>\n",
       "      <td>-10</td>\n",
       "      <td>162.32</td>\n",
       "      <td>-16</td>\n",
       "      <td>55.02</td>\n",
       "      <td>0.866</td>\n",
       "      <td>750</td>\n",
       "      <td>0.486</td>\n",
       "      <td>3.8</td>\n",
       "      <td>267.3</td>\n",
       "      <td>0</td>\n",
       "      <td>0</td>\n",
       "      <td>0</td>\n",
       "    </tr>\n",
       "    <tr>\n",
       "      <th>2010-01-01 01:00:00</th>\n",
       "      <td>2010</td>\n",
       "      <td>1</td>\n",
       "      <td>1</td>\n",
       "      <td>1</td>\n",
       "      <td>0</td>\n",
       "      <td>-10</td>\n",
       "      <td>159.50</td>\n",
       "      <td>-16</td>\n",
       "      <td>55.62</td>\n",
       "      <td>0.866</td>\n",
       "      <td>750</td>\n",
       "      <td>0.493</td>\n",
       "      <td>3.9</td>\n",
       "      <td>268.8</td>\n",
       "      <td>0</td>\n",
       "      <td>0</td>\n",
       "      <td>0</td>\n",
       "    </tr>\n",
       "    <tr>\n",
       "      <th>2010-01-01 01:30:00</th>\n",
       "      <td>2010</td>\n",
       "      <td>1</td>\n",
       "      <td>1</td>\n",
       "      <td>1</td>\n",
       "      <td>30</td>\n",
       "      <td>-9</td>\n",
       "      <td>155.34</td>\n",
       "      <td>-16</td>\n",
       "      <td>55.63</td>\n",
       "      <td>0.866</td>\n",
       "      <td>750</td>\n",
       "      <td>0.501</td>\n",
       "      <td>3.9</td>\n",
       "      <td>268.8</td>\n",
       "      <td>0</td>\n",
       "      <td>0</td>\n",
       "      <td>0</td>\n",
       "    </tr>\n",
       "    <tr>\n",
       "      <th>2010-01-01 02:00:00</th>\n",
       "      <td>2010</td>\n",
       "      <td>1</td>\n",
       "      <td>1</td>\n",
       "      <td>2</td>\n",
       "      <td>0</td>\n",
       "      <td>-9</td>\n",
       "      <td>150.42</td>\n",
       "      <td>-15</td>\n",
       "      <td>57.88</td>\n",
       "      <td>0.866</td>\n",
       "      <td>750</td>\n",
       "      <td>0.509</td>\n",
       "      <td>3.9</td>\n",
       "      <td>270.0</td>\n",
       "      <td>0</td>\n",
       "      <td>0</td>\n",
       "      <td>0</td>\n",
       "    </tr>\n",
       "    <tr>\n",
       "      <th>2010-01-01 02:30:00</th>\n",
       "      <td>2010</td>\n",
       "      <td>1</td>\n",
       "      <td>1</td>\n",
       "      <td>2</td>\n",
       "      <td>30</td>\n",
       "      <td>-9</td>\n",
       "      <td>145.08</td>\n",
       "      <td>-15</td>\n",
       "      <td>53.54</td>\n",
       "      <td>0.866</td>\n",
       "      <td>750</td>\n",
       "      <td>0.516</td>\n",
       "      <td>3.8</td>\n",
       "      <td>270.0</td>\n",
       "      <td>0</td>\n",
       "      <td>0</td>\n",
       "      <td>0</td>\n",
       "    </tr>\n",
       "    <tr>\n",
       "      <th>2010-01-01 03:00:00</th>\n",
       "      <td>2010</td>\n",
       "      <td>1</td>\n",
       "      <td>1</td>\n",
       "      <td>3</td>\n",
       "      <td>0</td>\n",
       "      <td>-9</td>\n",
       "      <td>139.51</td>\n",
       "      <td>-14</td>\n",
       "      <td>57.22</td>\n",
       "      <td>0.866</td>\n",
       "      <td>750</td>\n",
       "      <td>0.523</td>\n",
       "      <td>3.8</td>\n",
       "      <td>270.0</td>\n",
       "      <td>0</td>\n",
       "      <td>0</td>\n",
       "      <td>0</td>\n",
       "    </tr>\n",
       "    <tr>\n",
       "      <th>2010-01-01 03:30:00</th>\n",
       "      <td>2010</td>\n",
       "      <td>1</td>\n",
       "      <td>1</td>\n",
       "      <td>3</td>\n",
       "      <td>30</td>\n",
       "      <td>-9</td>\n",
       "      <td>133.81</td>\n",
       "      <td>-14</td>\n",
       "      <td>57.23</td>\n",
       "      <td>0.866</td>\n",
       "      <td>750</td>\n",
       "      <td>0.527</td>\n",
       "      <td>3.7</td>\n",
       "      <td>270.0</td>\n",
       "      <td>0</td>\n",
       "      <td>0</td>\n",
       "      <td>0</td>\n",
       "    </tr>\n",
       "  </tbody>\n",
       "</table>\n",
       "</div>"
      ],
      "text/plain": [
       "                     Year  Month  Day  Hour  Minute  Temperature  \\\n",
       "2010-01-01 00:00:00  2010      1    1     0       0          -10   \n",
       "2010-01-01 00:30:00  2010      1    1     0      30          -10   \n",
       "2010-01-01 01:00:00  2010      1    1     1       0          -10   \n",
       "2010-01-01 01:30:00  2010      1    1     1      30           -9   \n",
       "2010-01-01 02:00:00  2010      1    1     2       0           -9   \n",
       "2010-01-01 02:30:00  2010      1    1     2      30           -9   \n",
       "2010-01-01 03:00:00  2010      1    1     3       0           -9   \n",
       "2010-01-01 03:30:00  2010      1    1     3      30           -9   \n",
       "\n",
       "                     Solar Zenith Angle  Dew Point  Relative Humidity  \\\n",
       "2010-01-01 00:00:00              163.12        -16              59.53   \n",
       "2010-01-01 00:30:00              162.32        -16              55.02   \n",
       "2010-01-01 01:00:00              159.50        -16              55.62   \n",
       "2010-01-01 01:30:00              155.34        -16              55.63   \n",
       "2010-01-01 02:00:00              150.42        -15              57.88   \n",
       "2010-01-01 02:30:00              145.08        -15              53.54   \n",
       "2010-01-01 03:00:00              139.51        -14              57.22   \n",
       "2010-01-01 03:30:00              133.81        -14              57.23   \n",
       "\n",
       "                     Surface Albedo  Pressure  Precipitable Water  Wind Speed  \\\n",
       "2010-01-01 00:00:00           0.866       750               0.479         3.8   \n",
       "2010-01-01 00:30:00           0.866       750               0.486         3.8   \n",
       "2010-01-01 01:00:00           0.866       750               0.493         3.9   \n",
       "2010-01-01 01:30:00           0.866       750               0.501         3.9   \n",
       "2010-01-01 02:00:00           0.866       750               0.509         3.9   \n",
       "2010-01-01 02:30:00           0.866       750               0.516         3.8   \n",
       "2010-01-01 03:00:00           0.866       750               0.523         3.8   \n",
       "2010-01-01 03:30:00           0.866       750               0.527         3.7   \n",
       "\n",
       "                     Wind Direction  GHI  DHI  DNI  \n",
       "2010-01-01 00:00:00           267.3    0    0    0  \n",
       "2010-01-01 00:30:00           267.3    0    0    0  \n",
       "2010-01-01 01:00:00           268.8    0    0    0  \n",
       "2010-01-01 01:30:00           268.8    0    0    0  \n",
       "2010-01-01 02:00:00           270.0    0    0    0  \n",
       "2010-01-01 02:30:00           270.0    0    0    0  \n",
       "2010-01-01 03:00:00           270.0    0    0    0  \n",
       "2010-01-01 03:30:00           270.0    0    0    0  "
      ]
     },
     "execution_count": 390,
     "metadata": {},
     "output_type": "execute_result"
    }
   ],
   "source": [
    "# Return all but first 2 lines of csv to get data:\n",
    "df = pd.read_csv('https://developer.nrel.gov/api/nsrdb/v2/solar/psm3-download.csv?wkt=POINT({lon}%20{lat})&names={year}&leap_day={leap}&interval={interval}&utc={utc}&full_name={name}&email={email}&affiliation={affiliation}&mailing_list={mailing_list}&reason={reason}&api_key={api}&attributes={attr}'.format(year=year, lat=p1_lat, lon=p1_lon, leap=leap_year, interval=interval, utc=utc, name=your_name, email=your_email, mailing_list=mailing_list, affiliation=your_affiliation, reason=reason_for_use, api=api_key, attr=attributes), skiprows=2)\n",
    "\n",
    "# Set the time index in the pandas dataframe:\n",
    "df = df.set_index(pd.date_range('1/1/{yr}'.format(yr=year), freq=interval+'Min', periods=525600/int(interval)))\n",
    "# df.set_index()\n",
    "# take a look\n",
    "print('shape:', df.shape)\n",
    "df.head(8)\n",
    "# print(df.iloc[2,:])"
   ]
  },
  {
   "cell_type": "code",
   "execution_count": 391,
   "metadata": {},
   "outputs": [
    {
     "data": {
      "text/html": [
       "<div>\n",
       "<style scoped>\n",
       "    .dataframe tbody tr th:only-of-type {\n",
       "        vertical-align: middle;\n",
       "    }\n",
       "\n",
       "    .dataframe tbody tr th {\n",
       "        vertical-align: top;\n",
       "    }\n",
       "\n",
       "    .dataframe thead th {\n",
       "        text-align: right;\n",
       "    }\n",
       "</style>\n",
       "<table border=\"1\" class=\"dataframe\">\n",
       "  <thead>\n",
       "    <tr style=\"text-align: right;\">\n",
       "      <th></th>\n",
       "      <th>Month</th>\n",
       "      <th>Day</th>\n",
       "      <th>Hour</th>\n",
       "      <th>Minute</th>\n",
       "      <th>Temperature</th>\n",
       "      <th>Solar Zenith Angle</th>\n",
       "      <th>Dew Point</th>\n",
       "      <th>Relative Humidity</th>\n",
       "      <th>Surface Albedo</th>\n",
       "      <th>Pressure</th>\n",
       "      <th>Precipitable Water</th>\n",
       "      <th>Wind Speed</th>\n",
       "      <th>Wind Direction</th>\n",
       "      <th>GHI</th>\n",
       "      <th>DHI</th>\n",
       "      <th>DNI</th>\n",
       "    </tr>\n",
       "  </thead>\n",
       "  <tbody>\n",
       "    <tr>\n",
       "      <th>2010-01-01 00:00:00</th>\n",
       "      <td>1</td>\n",
       "      <td>1</td>\n",
       "      <td>0</td>\n",
       "      <td>0</td>\n",
       "      <td>-10</td>\n",
       "      <td>163.12</td>\n",
       "      <td>-16</td>\n",
       "      <td>59.53</td>\n",
       "      <td>0.866</td>\n",
       "      <td>750</td>\n",
       "      <td>0.479</td>\n",
       "      <td>3.8</td>\n",
       "      <td>267.3</td>\n",
       "      <td>0</td>\n",
       "      <td>0</td>\n",
       "      <td>0</td>\n",
       "    </tr>\n",
       "    <tr>\n",
       "      <th>2010-01-01 00:30:00</th>\n",
       "      <td>1</td>\n",
       "      <td>1</td>\n",
       "      <td>0</td>\n",
       "      <td>30</td>\n",
       "      <td>-10</td>\n",
       "      <td>162.32</td>\n",
       "      <td>-16</td>\n",
       "      <td>55.02</td>\n",
       "      <td>0.866</td>\n",
       "      <td>750</td>\n",
       "      <td>0.486</td>\n",
       "      <td>3.8</td>\n",
       "      <td>267.3</td>\n",
       "      <td>0</td>\n",
       "      <td>0</td>\n",
       "      <td>0</td>\n",
       "    </tr>\n",
       "    <tr>\n",
       "      <th>2010-01-01 01:00:00</th>\n",
       "      <td>1</td>\n",
       "      <td>1</td>\n",
       "      <td>1</td>\n",
       "      <td>0</td>\n",
       "      <td>-10</td>\n",
       "      <td>159.50</td>\n",
       "      <td>-16</td>\n",
       "      <td>55.62</td>\n",
       "      <td>0.866</td>\n",
       "      <td>750</td>\n",
       "      <td>0.493</td>\n",
       "      <td>3.9</td>\n",
       "      <td>268.8</td>\n",
       "      <td>0</td>\n",
       "      <td>0</td>\n",
       "      <td>0</td>\n",
       "    </tr>\n",
       "    <tr>\n",
       "      <th>2010-01-01 01:30:00</th>\n",
       "      <td>1</td>\n",
       "      <td>1</td>\n",
       "      <td>1</td>\n",
       "      <td>30</td>\n",
       "      <td>-9</td>\n",
       "      <td>155.34</td>\n",
       "      <td>-16</td>\n",
       "      <td>55.63</td>\n",
       "      <td>0.866</td>\n",
       "      <td>750</td>\n",
       "      <td>0.501</td>\n",
       "      <td>3.9</td>\n",
       "      <td>268.8</td>\n",
       "      <td>0</td>\n",
       "      <td>0</td>\n",
       "      <td>0</td>\n",
       "    </tr>\n",
       "    <tr>\n",
       "      <th>2010-01-01 02:00:00</th>\n",
       "      <td>1</td>\n",
       "      <td>1</td>\n",
       "      <td>2</td>\n",
       "      <td>0</td>\n",
       "      <td>-9</td>\n",
       "      <td>150.42</td>\n",
       "      <td>-15</td>\n",
       "      <td>57.88</td>\n",
       "      <td>0.866</td>\n",
       "      <td>750</td>\n",
       "      <td>0.509</td>\n",
       "      <td>3.9</td>\n",
       "      <td>270.0</td>\n",
       "      <td>0</td>\n",
       "      <td>0</td>\n",
       "      <td>0</td>\n",
       "    </tr>\n",
       "  </tbody>\n",
       "</table>\n",
       "</div>"
      ],
      "text/plain": [
       "                     Month  Day  Hour  Minute  Temperature  \\\n",
       "2010-01-01 00:00:00      1    1     0       0          -10   \n",
       "2010-01-01 00:30:00      1    1     0      30          -10   \n",
       "2010-01-01 01:00:00      1    1     1       0          -10   \n",
       "2010-01-01 01:30:00      1    1     1      30           -9   \n",
       "2010-01-01 02:00:00      1    1     2       0           -9   \n",
       "\n",
       "                     Solar Zenith Angle  Dew Point  Relative Humidity  \\\n",
       "2010-01-01 00:00:00              163.12        -16              59.53   \n",
       "2010-01-01 00:30:00              162.32        -16              55.02   \n",
       "2010-01-01 01:00:00              159.50        -16              55.62   \n",
       "2010-01-01 01:30:00              155.34        -16              55.63   \n",
       "2010-01-01 02:00:00              150.42        -15              57.88   \n",
       "\n",
       "                     Surface Albedo  Pressure  Precipitable Water  Wind Speed  \\\n",
       "2010-01-01 00:00:00           0.866       750               0.479         3.8   \n",
       "2010-01-01 00:30:00           0.866       750               0.486         3.8   \n",
       "2010-01-01 01:00:00           0.866       750               0.493         3.9   \n",
       "2010-01-01 01:30:00           0.866       750               0.501         3.9   \n",
       "2010-01-01 02:00:00           0.866       750               0.509         3.9   \n",
       "\n",
       "                     Wind Direction  GHI  DHI  DNI  \n",
       "2010-01-01 00:00:00           267.3    0    0    0  \n",
       "2010-01-01 00:30:00           267.3    0    0    0  \n",
       "2010-01-01 01:00:00           268.8    0    0    0  \n",
       "2010-01-01 01:30:00           268.8    0    0    0  \n",
       "2010-01-01 02:00:00           270.0    0    0    0  "
      ]
     },
     "execution_count": 391,
     "metadata": {},
     "output_type": "execute_result"
    }
   ],
   "source": [
    "# df.insert(3, 'MonthDay', df['Month']*100+df['Day']*10+df['Minute'])\n",
    "dff = df.drop(columns=['Year'], axis=1)\n",
    "\n",
    "dff.head()"
   ]
  },
  {
   "cell_type": "code",
   "execution_count": 392,
   "metadata": {},
   "outputs": [
    {
     "data": {
      "image/png": "[encoded data removed]",
      "text/plain": [
       "<Figure size 640x480 with 2 Axes>"
      ]
     },
     "metadata": {},
     "output_type": "display_data"
    }
   ],
   "source": [
    "import matplotlib.pyplot as plt\n",
    "import seaborn as sns\n",
    "corr_matrix = abs(dff.corr())\n",
    "heatmap = sns.heatmap(abs(corr_matrix))\n",
    "plt.title('Correlation Heatmap')\n",
    "plt.show()"
   ]
  },
  {
   "cell_type": "code",
   "execution_count": 393,
   "metadata": {},
   "outputs": [
    {
     "data": {
      "text/html": [
       "<div>\n",
       "<style scoped>\n",
       "    .dataframe tbody tr th:only-of-type {\n",
       "        vertical-align: middle;\n",
       "    }\n",
       "\n",
       "    .dataframe tbody tr th {\n",
       "        vertical-align: top;\n",
       "    }\n",
       "\n",
       "    .dataframe thead th {\n",
       "        text-align: right;\n",
       "    }\n",
       "</style>\n",
       "<table border=\"1\" class=\"dataframe\">\n",
       "  <thead>\n",
       "    <tr style=\"text-align: right;\">\n",
       "      <th></th>\n",
       "      <th>Year</th>\n",
       "      <th>Month</th>\n",
       "      <th>Day</th>\n",
       "      <th>Hour</th>\n",
       "      <th>Minute</th>\n",
       "      <th>Temperature</th>\n",
       "      <th>Solar Zenith Angle</th>\n",
       "      <th>Dew Point</th>\n",
       "      <th>Relative Humidity</th>\n",
       "      <th>Surface Albedo</th>\n",
       "      <th>...</th>\n",
       "      <th>DHI</th>\n",
       "      <th>DNI</th>\n",
       "      <th>DNI after 0.5h</th>\n",
       "      <th>DNI after 1.0h</th>\n",
       "      <th>DNI after 1.5h</th>\n",
       "      <th>DNI after 2.0h</th>\n",
       "      <th>DNI after 2.5h</th>\n",
       "      <th>DNI after 3.0h</th>\n",
       "      <th>DNI after 3.5h</th>\n",
       "      <th>DNI after 4.0h</th>\n",
       "    </tr>\n",
       "  </thead>\n",
       "  <tbody>\n",
       "    <tr>\n",
       "      <th>2010-01-01 00:00:00</th>\n",
       "      <td>2010</td>\n",
       "      <td>1</td>\n",
       "      <td>1</td>\n",
       "      <td>0</td>\n",
       "      <td>0</td>\n",
       "      <td>-10</td>\n",
       "      <td>163.12</td>\n",
       "      <td>-16</td>\n",
       "      <td>59.53</td>\n",
       "      <td>0.866</td>\n",
       "      <td>...</td>\n",
       "      <td>0</td>\n",
       "      <td>0</td>\n",
       "      <td>NaN</td>\n",
       "      <td>NaN</td>\n",
       "      <td>NaN</td>\n",
       "      <td>NaN</td>\n",
       "      <td>NaN</td>\n",
       "      <td>NaN</td>\n",
       "      <td>NaN</td>\n",
       "      <td>NaN</td>\n",
       "    </tr>\n",
       "    <tr>\n",
       "      <th>2010-01-01 00:30:00</th>\n",
       "      <td>2010</td>\n",
       "      <td>1</td>\n",
       "      <td>1</td>\n",
       "      <td>0</td>\n",
       "      <td>30</td>\n",
       "      <td>-10</td>\n",
       "      <td>162.32</td>\n",
       "      <td>-16</td>\n",
       "      <td>55.02</td>\n",
       "      <td>0.866</td>\n",
       "      <td>...</td>\n",
       "      <td>0</td>\n",
       "      <td>0</td>\n",
       "      <td>0.0</td>\n",
       "      <td>NaN</td>\n",
       "      <td>NaN</td>\n",
       "      <td>NaN</td>\n",
       "      <td>NaN</td>\n",
       "      <td>NaN</td>\n",
       "      <td>NaN</td>\n",
       "      <td>NaN</td>\n",
       "    </tr>\n",
       "    <tr>\n",
       "      <th>2010-01-01 01:00:00</th>\n",
       "      <td>2010</td>\n",
       "      <td>1</td>\n",
       "      <td>1</td>\n",
       "      <td>1</td>\n",
       "      <td>0</td>\n",
       "      <td>-10</td>\n",
       "      <td>159.50</td>\n",
       "      <td>-16</td>\n",
       "      <td>55.62</td>\n",
       "      <td>0.866</td>\n",
       "      <td>...</td>\n",
       "      <td>0</td>\n",
       "      <td>0</td>\n",
       "      <td>0.0</td>\n",
       "      <td>0.0</td>\n",
       "      <td>NaN</td>\n",
       "      <td>NaN</td>\n",
       "      <td>NaN</td>\n",
       "      <td>NaN</td>\n",
       "      <td>NaN</td>\n",
       "      <td>NaN</td>\n",
       "    </tr>\n",
       "    <tr>\n",
       "      <th>2010-01-01 01:30:00</th>\n",
       "      <td>2010</td>\n",
       "      <td>1</td>\n",
       "      <td>1</td>\n",
       "      <td>1</td>\n",
       "      <td>30</td>\n",
       "      <td>-9</td>\n",
       "      <td>155.34</td>\n",
       "      <td>-16</td>\n",
       "      <td>55.63</td>\n",
       "      <td>0.866</td>\n",
       "      <td>...</td>\n",
       "      <td>0</td>\n",
       "      <td>0</td>\n",
       "      <td>0.0</td>\n",
       "      <td>0.0</td>\n",
       "      <td>0.0</td>\n",
       "      <td>NaN</td>\n",
       "      <td>NaN</td>\n",
       "      <td>NaN</td>\n",
       "      <td>NaN</td>\n",
       "      <td>NaN</td>\n",
       "    </tr>\n",
       "    <tr>\n",
       "      <th>2010-01-01 02:00:00</th>\n",
       "      <td>2010</td>\n",
       "      <td>1</td>\n",
       "      <td>1</td>\n",
       "      <td>2</td>\n",
       "      <td>0</td>\n",
       "      <td>-9</td>\n",
       "      <td>150.42</td>\n",
       "      <td>-15</td>\n",
       "      <td>57.88</td>\n",
       "      <td>0.866</td>\n",
       "      <td>...</td>\n",
       "      <td>0</td>\n",
       "      <td>0</td>\n",
       "      <td>0.0</td>\n",
       "      <td>0.0</td>\n",
       "      <td>0.0</td>\n",
       "      <td>0.0</td>\n",
       "      <td>NaN</td>\n",
       "      <td>NaN</td>\n",
       "      <td>NaN</td>\n",
       "      <td>NaN</td>\n",
       "    </tr>\n",
       "  </tbody>\n",
       "</table>\n",
       "<p>5 rows × 25 columns</p>\n",
       "</div>"
      ],
      "text/plain": [
       "                     Year  Month  Day  Hour  Minute  Temperature  \\\n",
       "2010-01-01 00:00:00  2010      1    1     0       0          -10   \n",
       "2010-01-01 00:30:00  2010      1    1     0      30          -10   \n",
       "2010-01-01 01:00:00  2010      1    1     1       0          -10   \n",
       "2010-01-01 01:30:00  2010      1    1     1      30           -9   \n",
       "2010-01-01 02:00:00  2010      1    1     2       0           -9   \n",
       "\n",
       "                     Solar Zenith Angle  Dew Point  Relative Humidity  \\\n",
       "2010-01-01 00:00:00              163.12        -16              59.53   \n",
       "2010-01-01 00:30:00              162.32        -16              55.02   \n",
       "2010-01-01 01:00:00              159.50        -16              55.62   \n",
       "2010-01-01 01:30:00              155.34        -16              55.63   \n",
       "2010-01-01 02:00:00              150.42        -15              57.88   \n",
       "\n",
       "                     Surface Albedo  ...  DHI  DNI  DNI after 0.5h  \\\n",
       "2010-01-01 00:00:00           0.866  ...    0    0             NaN   \n",
       "2010-01-01 00:30:00           0.866  ...    0    0             0.0   \n",
       "2010-01-01 01:00:00           0.866  ...    0    0             0.0   \n",
       "2010-01-01 01:30:00           0.866  ...    0    0             0.0   \n",
       "2010-01-01 02:00:00           0.866  ...    0    0             0.0   \n",
       "\n",
       "                     DNI after 1.0h  DNI after 1.5h  DNI after 2.0h  \\\n",
       "2010-01-01 00:00:00             NaN             NaN             NaN   \n",
       "2010-01-01 00:30:00             NaN             NaN             NaN   \n",
       "2010-01-01 01:00:00             0.0             NaN             NaN   \n",
       "2010-01-01 01:30:00             0.0             0.0             NaN   \n",
       "2010-01-01 02:00:00             0.0             0.0             0.0   \n",
       "\n",
       "                     DNI after 2.5h  DNI after 3.0h  DNI after 3.5h  \\\n",
       "2010-01-01 00:00:00             NaN             NaN             NaN   \n",
       "2010-01-01 00:30:00             NaN             NaN             NaN   \n",
       "2010-01-01 01:00:00             NaN             NaN             NaN   \n",
       "2010-01-01 01:30:00             NaN             NaN             NaN   \n",
       "2010-01-01 02:00:00             NaN             NaN             NaN   \n",
       "\n",
       "                     DNI after 4.0h  \n",
       "2010-01-01 00:00:00             NaN  \n",
       "2010-01-01 00:30:00             NaN  \n",
       "2010-01-01 01:00:00             NaN  \n",
       "2010-01-01 01:30:00             NaN  \n",
       "2010-01-01 02:00:00             NaN  \n",
       "\n",
       "[5 rows x 25 columns]"
      ]
     },
     "execution_count": 393,
     "metadata": {},
     "output_type": "execute_result"
    }
   ],
   "source": [
    "df['DNI after 0.5h'] = df[['DNI']].shift(1)\n",
    "df['DNI after 1.0h'] = df[['DNI']].shift(2)\n",
    "df['DNI after 1.5h'] = df[['DNI']].shift(3)\n",
    "df['DNI after 2.0h'] = df[['DNI']].shift(4)\n",
    "df['DNI after 2.5h'] = df[['DNI']].shift(5)\n",
    "df['DNI after 3.0h'] = df[['DNI']].shift(6)\n",
    "df['DNI after 3.5h'] = df[['DNI']].shift(7)\n",
    "df['DNI after 4.0h'] = df[['DNI']].shift(8)\n",
    "df.head()"
   ]
  },
  {
   "cell_type": "code",
   "execution_count": 394,
   "metadata": {},
   "outputs": [
    {
     "data": {
      "text/html": [
       "<div>\n",
       "<style scoped>\n",
       "    .dataframe tbody tr th:only-of-type {\n",
       "        vertical-align: middle;\n",
       "    }\n",
       "\n",
       "    .dataframe tbody tr th {\n",
       "        vertical-align: top;\n",
       "    }\n",
       "\n",
       "    .dataframe thead th {\n",
       "        text-align: right;\n",
       "    }\n",
       "</style>\n",
       "<table border=\"1\" class=\"dataframe\">\n",
       "  <thead>\n",
       "    <tr style=\"text-align: right;\">\n",
       "      <th></th>\n",
       "      <th>Temperature</th>\n",
       "      <th>Solar Zenith Angle</th>\n",
       "      <th>Dew Point</th>\n",
       "      <th>Relative Humidity</th>\n",
       "      <th>Surface Albedo</th>\n",
       "      <th>Pressure</th>\n",
       "      <th>Precipitable Water</th>\n",
       "      <th>Wind Speed</th>\n",
       "      <th>Wind Direction</th>\n",
       "      <th>GHI</th>\n",
       "      <th>DHI</th>\n",
       "      <th>DNI</th>\n",
       "      <th>DNI after 0.5h</th>\n",
       "      <th>DNI after 1.0h</th>\n",
       "      <th>DNI after 1.5h</th>\n",
       "      <th>DNI after 2.0h</th>\n",
       "      <th>DNI after 2.5h</th>\n",
       "      <th>DNI after 3.0h</th>\n",
       "      <th>DNI after 3.5h</th>\n",
       "      <th>DNI after 4.0h</th>\n",
       "    </tr>\n",
       "  </thead>\n",
       "  <tbody>\n",
       "    <tr>\n",
       "      <th>2010-01-01 00:00:00</th>\n",
       "      <td>-10</td>\n",
       "      <td>163.12</td>\n",
       "      <td>-16</td>\n",
       "      <td>59.53</td>\n",
       "      <td>0.866</td>\n",
       "      <td>750</td>\n",
       "      <td>0.479</td>\n",
       "      <td>3.8</td>\n",
       "      <td>267.3</td>\n",
       "      <td>0</td>\n",
       "      <td>0</td>\n",
       "      <td>0</td>\n",
       "      <td>NaN</td>\n",
       "      <td>NaN</td>\n",
       "      <td>NaN</td>\n",
       "      <td>NaN</td>\n",
       "      <td>NaN</td>\n",
       "      <td>NaN</td>\n",
       "      <td>NaN</td>\n",
       "      <td>NaN</td>\n",
       "    </tr>\n",
       "    <tr>\n",
       "      <th>2010-01-01 00:30:00</th>\n",
       "      <td>-10</td>\n",
       "      <td>162.32</td>\n",
       "      <td>-16</td>\n",
       "      <td>55.02</td>\n",
       "      <td>0.866</td>\n",
       "      <td>750</td>\n",
       "      <td>0.486</td>\n",
       "      <td>3.8</td>\n",
       "      <td>267.3</td>\n",
       "      <td>0</td>\n",
       "      <td>0</td>\n",
       "      <td>0</td>\n",
       "      <td>0.0</td>\n",
       "      <td>NaN</td>\n",
       "      <td>NaN</td>\n",
       "      <td>NaN</td>\n",
       "      <td>NaN</td>\n",
       "      <td>NaN</td>\n",
       "      <td>NaN</td>\n",
       "      <td>NaN</td>\n",
       "    </tr>\n",
       "    <tr>\n",
       "      <th>2010-01-01 01:00:00</th>\n",
       "      <td>-10</td>\n",
       "      <td>159.50</td>\n",
       "      <td>-16</td>\n",
       "      <td>55.62</td>\n",
       "      <td>0.866</td>\n",
       "      <td>750</td>\n",
       "      <td>0.493</td>\n",
       "      <td>3.9</td>\n",
       "      <td>268.8</td>\n",
       "      <td>0</td>\n",
       "      <td>0</td>\n",
       "      <td>0</td>\n",
       "      <td>0.0</td>\n",
       "      <td>0.0</td>\n",
       "      <td>NaN</td>\n",
       "      <td>NaN</td>\n",
       "      <td>NaN</td>\n",
       "      <td>NaN</td>\n",
       "      <td>NaN</td>\n",
       "      <td>NaN</td>\n",
       "    </tr>\n",
       "    <tr>\n",
       "      <th>2010-01-01 01:30:00</th>\n",
       "      <td>-9</td>\n",
       "      <td>155.34</td>\n",
       "      <td>-16</td>\n",
       "      <td>55.63</td>\n",
       "      <td>0.866</td>\n",
       "      <td>750</td>\n",
       "      <td>0.501</td>\n",
       "      <td>3.9</td>\n",
       "      <td>268.8</td>\n",
       "      <td>0</td>\n",
       "      <td>0</td>\n",
       "      <td>0</td>\n",
       "      <td>0.0</td>\n",
       "      <td>0.0</td>\n",
       "      <td>0.0</td>\n",
       "      <td>NaN</td>\n",
       "      <td>NaN</td>\n",
       "      <td>NaN</td>\n",
       "      <td>NaN</td>\n",
       "      <td>NaN</td>\n",
       "    </tr>\n",
       "    <tr>\n",
       "      <th>2010-01-01 02:00:00</th>\n",
       "      <td>-9</td>\n",
       "      <td>150.42</td>\n",
       "      <td>-15</td>\n",
       "      <td>57.88</td>\n",
       "      <td>0.866</td>\n",
       "      <td>750</td>\n",
       "      <td>0.509</td>\n",
       "      <td>3.9</td>\n",
       "      <td>270.0</td>\n",
       "      <td>0</td>\n",
       "      <td>0</td>\n",
       "      <td>0</td>\n",
       "      <td>0.0</td>\n",
       "      <td>0.0</td>\n",
       "      <td>0.0</td>\n",
       "      <td>0.0</td>\n",
       "      <td>NaN</td>\n",
       "      <td>NaN</td>\n",
       "      <td>NaN</td>\n",
       "      <td>NaN</td>\n",
       "    </tr>\n",
       "  </tbody>\n",
       "</table>\n",
       "</div>"
      ],
      "text/plain": [
       "                     Temperature  Solar Zenith Angle  Dew Point  \\\n",
       "2010-01-01 00:00:00          -10              163.12        -16   \n",
       "2010-01-01 00:30:00          -10              162.32        -16   \n",
       "2010-01-01 01:00:00          -10              159.50        -16   \n",
       "2010-01-01 01:30:00           -9              155.34        -16   \n",
       "2010-01-01 02:00:00           -9              150.42        -15   \n",
       "\n",
       "                     Relative Humidity  Surface Albedo  Pressure  \\\n",
       "2010-01-01 00:00:00              59.53           0.866       750   \n",
       "2010-01-01 00:30:00              55.02           0.866       750   \n",
       "2010-01-01 01:00:00              55.62           0.866       750   \n",
       "2010-01-01 01:30:00              55.63           0.866       750   \n",
       "2010-01-01 02:00:00              57.88           0.866       750   \n",
       "\n",
       "                     Precipitable Water  Wind Speed  Wind Direction  GHI  DHI  \\\n",
       "2010-01-01 00:00:00               0.479         3.8           267.3    0    0   \n",
       "2010-01-01 00:30:00               0.486         3.8           267.3    0    0   \n",
       "2010-01-01 01:00:00               0.493         3.9           268.8    0    0   \n",
       "2010-01-01 01:30:00               0.501         3.9           268.8    0    0   \n",
       "2010-01-01 02:00:00               0.509         3.9           270.0    0    0   \n",
       "\n",
       "                     DNI  DNI after 0.5h  DNI after 1.0h  DNI after 1.5h  \\\n",
       "2010-01-01 00:00:00    0             NaN             NaN             NaN   \n",
       "2010-01-01 00:30:00    0             0.0             NaN             NaN   \n",
       "2010-01-01 01:00:00    0             0.0             0.0             NaN   \n",
       "2010-01-01 01:30:00    0             0.0             0.0             0.0   \n",
       "2010-01-01 02:00:00    0             0.0             0.0             0.0   \n",
       "\n",
       "                     DNI after 2.0h  DNI after 2.5h  DNI after 3.0h  \\\n",
       "2010-01-01 00:00:00             NaN             NaN             NaN   \n",
       "2010-01-01 00:30:00             NaN             NaN             NaN   \n",
       "2010-01-01 01:00:00             NaN             NaN             NaN   \n",
       "2010-01-01 01:30:00             NaN             NaN             NaN   \n",
       "2010-01-01 02:00:00             0.0             NaN             NaN   \n",
       "\n",
       "                     DNI after 3.5h  DNI after 4.0h  \n",
       "2010-01-01 00:00:00             NaN             NaN  \n",
       "2010-01-01 00:30:00             NaN             NaN  \n",
       "2010-01-01 01:00:00             NaN             NaN  \n",
       "2010-01-01 01:30:00             NaN             NaN  \n",
       "2010-01-01 02:00:00             NaN             NaN  "
      ]
     },
     "execution_count": 394,
     "metadata": {},
     "output_type": "execute_result"
    }
   ],
   "source": [
    "sub_df = df.iloc[:, 5:]\n",
    "sub_df.head()"
   ]
  },
  {
   "cell_type": "code",
   "execution_count": 395,
   "metadata": {},
   "outputs": [
    {
     "data": {
      "image/png": "[encoded data removed]",
      "text/plain": [
       "<Figure size 640x480 with 2 Axes>"
      ]
     },
     "metadata": {},
     "output_type": "display_data"
    }
   ],
   "source": [
    "corr_matrix = abs(sub_df.corr()) \n",
    "dataplot = sns.heatmap(corr_matrix)\n",
    "# displaying heatmap\n",
    "plt.show()"
   ]
  },
  {
   "cell_type": "code",
   "execution_count": 396,
   "metadata": {},
   "outputs": [
    {
     "data": {
      "text/html": [
       "<div>\n",
       "<style scoped>\n",
       "    .dataframe tbody tr th:only-of-type {\n",
       "        vertical-align: middle;\n",
       "    }\n",
       "\n",
       "    .dataframe tbody tr th {\n",
       "        vertical-align: top;\n",
       "    }\n",
       "\n",
       "    .dataframe thead th {\n",
       "        text-align: right;\n",
       "    }\n",
       "</style>\n",
       "<table border=\"1\" class=\"dataframe\">\n",
       "  <thead>\n",
       "    <tr style=\"text-align: right;\">\n",
       "      <th></th>\n",
       "      <th>Temperature</th>\n",
       "      <th>Solar Zenith Angle</th>\n",
       "      <th>Relative Humidity</th>\n",
       "      <th>GHI</th>\n",
       "      <th>DHI</th>\n",
       "      <th>DNI</th>\n",
       "      <th>DNI after 0.5h</th>\n",
       "      <th>DNI after 1.0h</th>\n",
       "      <th>DNI after 1.5h</th>\n",
       "      <th>DNI after 2.0h</th>\n",
       "      <th>DNI after 2.5h</th>\n",
       "      <th>DNI after 3.0h</th>\n",
       "      <th>DNI after 3.5h</th>\n",
       "      <th>DNI after 4.0h</th>\n",
       "    </tr>\n",
       "  </thead>\n",
       "  <tbody>\n",
       "    <tr>\n",
       "      <th>2010-01-01 00:00:00</th>\n",
       "      <td>-10</td>\n",
       "      <td>163.12</td>\n",
       "      <td>59.53</td>\n",
       "      <td>0</td>\n",
       "      <td>0</td>\n",
       "      <td>0</td>\n",
       "      <td>NaN</td>\n",
       "      <td>NaN</td>\n",
       "      <td>NaN</td>\n",
       "      <td>NaN</td>\n",
       "      <td>NaN</td>\n",
       "      <td>NaN</td>\n",
       "      <td>NaN</td>\n",
       "      <td>NaN</td>\n",
       "    </tr>\n",
       "    <tr>\n",
       "      <th>2010-01-01 00:30:00</th>\n",
       "      <td>-10</td>\n",
       "      <td>162.32</td>\n",
       "      <td>55.02</td>\n",
       "      <td>0</td>\n",
       "      <td>0</td>\n",
       "      <td>0</td>\n",
       "      <td>0.0</td>\n",
       "      <td>NaN</td>\n",
       "      <td>NaN</td>\n",
       "      <td>NaN</td>\n",
       "      <td>NaN</td>\n",
       "      <td>NaN</td>\n",
       "      <td>NaN</td>\n",
       "      <td>NaN</td>\n",
       "    </tr>\n",
       "    <tr>\n",
       "      <th>2010-01-01 01:00:00</th>\n",
       "      <td>-10</td>\n",
       "      <td>159.50</td>\n",
       "      <td>55.62</td>\n",
       "      <td>0</td>\n",
       "      <td>0</td>\n",
       "      <td>0</td>\n",
       "      <td>0.0</td>\n",
       "      <td>0.0</td>\n",
       "      <td>NaN</td>\n",
       "      <td>NaN</td>\n",
       "      <td>NaN</td>\n",
       "      <td>NaN</td>\n",
       "      <td>NaN</td>\n",
       "      <td>NaN</td>\n",
       "    </tr>\n",
       "    <tr>\n",
       "      <th>2010-01-01 01:30:00</th>\n",
       "      <td>-9</td>\n",
       "      <td>155.34</td>\n",
       "      <td>55.63</td>\n",
       "      <td>0</td>\n",
       "      <td>0</td>\n",
       "      <td>0</td>\n",
       "      <td>0.0</td>\n",
       "      <td>0.0</td>\n",
       "      <td>0.0</td>\n",
       "      <td>NaN</td>\n",
       "      <td>NaN</td>\n",
       "      <td>NaN</td>\n",
       "      <td>NaN</td>\n",
       "      <td>NaN</td>\n",
       "    </tr>\n",
       "    <tr>\n",
       "      <th>2010-01-01 02:00:00</th>\n",
       "      <td>-9</td>\n",
       "      <td>150.42</td>\n",
       "      <td>57.88</td>\n",
       "      <td>0</td>\n",
       "      <td>0</td>\n",
       "      <td>0</td>\n",
       "      <td>0.0</td>\n",
       "      <td>0.0</td>\n",
       "      <td>0.0</td>\n",
       "      <td>0.0</td>\n",
       "      <td>NaN</td>\n",
       "      <td>NaN</td>\n",
       "      <td>NaN</td>\n",
       "      <td>NaN</td>\n",
       "    </tr>\n",
       "  </tbody>\n",
       "</table>\n",
       "</div>"
      ],
      "text/plain": [
       "                     Temperature  Solar Zenith Angle  Relative Humidity  GHI  \\\n",
       "2010-01-01 00:00:00          -10              163.12              59.53    0   \n",
       "2010-01-01 00:30:00          -10              162.32              55.02    0   \n",
       "2010-01-01 01:00:00          -10              159.50              55.62    0   \n",
       "2010-01-01 01:30:00           -9              155.34              55.63    0   \n",
       "2010-01-01 02:00:00           -9              150.42              57.88    0   \n",
       "\n",
       "                     DHI  DNI  DNI after 0.5h  DNI after 1.0h  DNI after 1.5h  \\\n",
       "2010-01-01 00:00:00    0    0             NaN             NaN             NaN   \n",
       "2010-01-01 00:30:00    0    0             0.0             NaN             NaN   \n",
       "2010-01-01 01:00:00    0    0             0.0             0.0             NaN   \n",
       "2010-01-01 01:30:00    0    0             0.0             0.0             0.0   \n",
       "2010-01-01 02:00:00    0    0             0.0             0.0             0.0   \n",
       "\n",
       "                     DNI after 2.0h  DNI after 2.5h  DNI after 3.0h  \\\n",
       "2010-01-01 00:00:00             NaN             NaN             NaN   \n",
       "2010-01-01 00:30:00             NaN             NaN             NaN   \n",
       "2010-01-01 01:00:00             NaN             NaN             NaN   \n",
       "2010-01-01 01:30:00             NaN             NaN             NaN   \n",
       "2010-01-01 02:00:00             0.0             NaN             NaN   \n",
       "\n",
       "                     DNI after 3.5h  DNI after 4.0h  \n",
       "2010-01-01 00:00:00             NaN             NaN  \n",
       "2010-01-01 00:30:00             NaN             NaN  \n",
       "2010-01-01 01:00:00             NaN             NaN  \n",
       "2010-01-01 01:30:00             NaN             NaN  \n",
       "2010-01-01 02:00:00             NaN             NaN  "
      ]
     },
     "execution_count": 396,
     "metadata": {},
     "output_type": "execute_result"
    }
   ],
   "source": [
    "sub_df.drop(['Dew Point', 'Surface Albedo', 'Pressure', 'Precipitable Water', 'Wind Speed', 'Wind Direction'], axis=1, inplace=True)\n",
    "sub_df.head()"
   ]
  },
  {
   "cell_type": "code",
   "execution_count": 397,
   "metadata": {},
   "outputs": [
    {
     "data": {
      "image/png": "[encoded data removed]",
      "text/plain": [
       "<Figure size 640x480 with 2 Axes>"
      ]
     },
     "metadata": {},
     "output_type": "display_data"
    }
   ],
   "source": [
    "corr_matrix = abs(sub_df.corr()) \n",
    "dataplot = sns.heatmap(corr_matrix)\n",
    "# displaying heatmap\n",
    "plt.show()"
   ]
  },
  {
   "cell_type": "code",
   "execution_count": 398,
   "metadata": {},
   "outputs": [
    {
     "name": "stdout",
     "output_type": "stream",
     "text": [
      "Feature array size:(17512, 48), Labels array size(17512, 1)\n"
     ]
    }
   ],
   "source": [
    "win_size = 8\n",
    "df_fetures = sub_df.iloc[:,:-8]\n",
    "\n",
    "X = np.zeros((df_fetures.shape[0] - win_size, win_size * df_fetures.shape[1]))\n",
    "Y = np.zeros((df_fetures.shape[0] - win_size, 1))\n",
    "\n",
    "print(\"Feature array size:{}, Labels array size{}\".format(X.shape, Y.shape))\n",
    "\n",
    "for i in range(X.shape[0]):\n",
    "    chunk_x = df_fetures.iloc[i:i+win_size, :].to_numpy()\n",
    "    chunk_y = df_fetures.iloc[i+win_size, -1]\n",
    "    X[i] = np.reshape(chunk_x, (1, df_fetures.shape[1] * win_size))\n",
    "    Y[i]= chunk_y\n",
    "    # if i == 12:\n",
    "    #     print(\"X = \", X[i])\n",
    "    #     print(\"Y = \", Y[i])"
   ]
  },
  {
   "cell_type": "code",
   "execution_count": 399,
   "metadata": {},
   "outputs": [
    {
     "name": "stdout",
     "output_type": "stream",
     "text": [
      "6925\n",
      "0.0\n",
      "Feature array size:(10587, 48), Labels array size(10587, 1)\n"
     ]
    }
   ],
   "source": [
    "# Remove the labels that we are sure they have DNI of 0\n",
    "zero_index = []\n",
    "for i in range(31, 50):\n",
    "    ## 31 means 7pm, and 50 means 5:30 am\n",
    "    zero_index = zero_index + list(range(i, Y.shape[0], 48))\n",
    "# zero1 = list(range(34, Y.shape[0], 48))    #10pm\n",
    "# zero2 = list(range(35, Y.shape[0], 48))    #11pm\n",
    "print(len(zero_index))\n",
    "print(np.sum(np.take(Y, zero_index)))\n",
    "\n",
    "Y = np.delete(Y, zero_index, axis=0)\n",
    "X = np.delete(X, zero_index, axis=0)\n",
    "\n",
    "print(\"Feature array size:{}, Labels array size{}\".format(X.shape, Y.shape))\n"
   ]
  },
  {
   "cell_type": "code",
   "execution_count": 400,
   "metadata": {},
   "outputs": [],
   "source": [
    "####################### This cell is for prediction not forcasting ############################\n",
    "# X = dff.iloc[:, :-1]\n",
    "# Y = dff.iloc[:, -1]\n",
    "# print(\"Features array size: \", X.shape)\n",
    "# print(\"Labels array size: \", Y.shape)"
   ]
  },
  {
   "cell_type": "code",
   "execution_count": 401,
   "metadata": {},
   "outputs": [
    {
     "name": "stdout",
     "output_type": "stream",
     "text": [
      "trainx size:  (7410, 48)\n",
      "testx size:  (3177, 48)\n",
      "==============\n",
      "trainy size:  (7410, 1)\n",
      "testy size:  (3177, 1)\n"
     ]
    }
   ],
   "source": [
    "from sklearn.model_selection import train_test_split\n",
    "from sklearn.preprocessing import StandardScaler\n",
    "\n",
    "train_ratio = 0.70\n",
    "# validation_ratio = 0.15\n",
    "test_ratio = 0.30\n",
    "\n",
    "trainX, testX, trainY, testY = train_test_split(X, Y, test_size= 1 - train_ratio)\n",
    "\n",
    "\n",
    "# valX, testX, valY, testY = train_test_split(testX, testY, test_size=test_ratio/(test_ratio + validation_ratio))\n",
    "# X_train, X_test, Y_train, Y_test = train_test_split(X, Y, test_size = 0.2, random_state = 0)\n",
    "\n",
    "sc=StandardScaler()\n",
    "scaler = sc.fit(trainX)\n",
    "\n",
    "trainX_scaled = scaler.transform(trainX)\n",
    "testX_scaled = scaler.transform(testX)\n",
    "\n",
    "print(\"trainx size: \", trainX_scaled.shape)\n",
    "print(\"testx size: \", testX_scaled.shape)\n",
    "print(\"==============\")\n",
    "print(\"trainy size: \", trainY.shape)\n",
    "print(\"testy size: \", testY.shape)\n"
   ]
  },
  {
   "cell_type": "code",
   "execution_count": 402,
   "metadata": {},
   "outputs": [
    {
     "name": "stdout",
     "output_type": "stream",
     "text": [
      "Mean Absolute Error: 121.09410653734832\n",
      "Mean Squared Error: 30894.657464090058\n",
      "Root Mean Squared Error: 175.76876134310686\n"
     ]
    }
   ],
   "source": [
    "# let's try linear regression first\n",
    "from sklearn import linear_model, metrics\n",
    "\n",
    "\n",
    "# Create linear regression object\n",
    "regr = linear_model.LinearRegression()\n",
    "\n",
    "# Train the model using the training sets\n",
    "regr.fit(trainX_scaled, trainY)\n",
    "\n",
    "# Make predictions using the testing set\n",
    "y_pred_linreg = regr.predict(testX_scaled)\n",
    "\n",
    "print('Mean Absolute Error:', metrics.mean_absolute_error(testY, y_pred_linreg))\n",
    "print('Mean Squared Error:', metrics.mean_squared_error(testY, y_pred_linreg))\n",
    "print('Root Mean Squared Error:', metrics.mean_squared_error(testY, y_pred_linreg, squared=False))\n"
   ]
  },
  {
   "cell_type": "code",
   "execution_count": 403,
   "metadata": {},
   "outputs": [
    {
     "name": "stderr",
     "output_type": "stream",
     "text": [
      "/Users/saraabouelella/anaconda3/envs/nrel311/lib/python3.11/site-packages/sklearn/utils/validation.py:1183: DataConversionWarning: A column-vector y was passed when a 1d array was expected. Please change the shape of y to (n_samples, ), for example using ravel().\n",
      "  y = column_or_1d(y, warn=True)\n"
     ]
    },
    {
     "name": "stdout",
     "output_type": "stream",
     "text": [
      "Mean Absolute Error: 252.1271735758908\n",
      "Mean Squared Error: 88746.9671952672\n",
      "Root Mean Squared Error: 297.904292005448\n"
     ]
    }
   ],
   "source": [
    "from sklearn.svm import SVR\n",
    "regressor = SVR(kernel='poly')\n",
    "regressor.fit(trainX_scaled,trainY)\n",
    "y_pred_svr = regressor.predict(testX_scaled)\n",
    "\n",
    "print('Mean Absolute Error:', metrics.mean_absolute_error(testY, y_pred_svr))\n",
    "print('Mean Squared Error:', metrics.mean_squared_error(testY, y_pred_svr))\n",
    "print('Root Mean Squared Error:', metrics.mean_squared_error(testY, y_pred_svr, squared=False))\n"
   ]
  },
  {
   "cell_type": "code",
   "execution_count": 404,
   "metadata": {},
   "outputs": [
    {
     "name": "stdout",
     "output_type": "stream",
     "text": [
      "Input Shape:48 \n",
      "Batch Size:128\n",
      "Steps per Epoch:57\n",
      "Validation Steps:20\n",
      "Test Steps:24\n",
      "Number of Epochs:120\n"
     ]
    }
   ],
   "source": [
    "input_shape = trainX.shape[1]\n",
    "n_batch_size = 128\n",
    "\n",
    "n_steps_per_epoch = int(trainX.shape[0] / n_batch_size)\n",
    "n_validation_steps = int(valX.shape[0] / n_batch_size)\n",
    "n_test_steps = int(testX.shape[0] / n_batch_size)\n",
    "n_epochs = 120\n",
    "\n",
    "\n",
    "print('Input Shape:{} '.format(input_shape))\n",
    "print('Batch Size:{}'.format(n_batch_size))\n",
    "print('Steps per Epoch:{}'.format(n_steps_per_epoch))\n",
    "print('Validation Steps:{}'.format(n_validation_steps))\n",
    "print('Test Steps:{}'.format(n_test_steps))\n",
    "print('Number of Epochs:{}'.format(n_epochs))\n"
   ]
  },
  {
   "cell_type": "code",
   "execution_count": 405,
   "metadata": {},
   "outputs": [
    {
     "name": "stdout",
     "output_type": "stream",
     "text": [
      "Model: \"sequential_67\"\n",
      "_________________________________________________________________\n",
      " Layer (type)                Output Shape              Param #   \n",
      "=================================================================\n",
      " dense_201 (Dense)           (None, 64)                3136      \n",
      "                                                                 \n",
      " dense_202 (Dense)           (None, 64)                4160      \n",
      "                                                                 \n",
      " dense_203 (Dense)           (None, 1)                 65        \n",
      "                                                                 \n",
      "=================================================================\n",
      "Total params: 7361 (28.75 KB)\n",
      "Trainable params: 7361 (28.75 KB)\n",
      "Non-trainable params: 0 (0.00 Byte)\n",
      "_________________________________________________________________\n"
     ]
    }
   ],
   "source": [
    "import os\n",
    "import shutil\n",
    "import pickle as pk\n",
    "\n",
    "from keras import models\n",
    "from keras import layers\n",
    "from keras.callbacks import EarlyStopping, ModelCheckpoint\n",
    "from keras.models import load_model\n",
    "\n",
    "from sklearn import metrics\n",
    "\n",
    "model = models.Sequential()\n",
    "model.add(layers.Dense(64, activation='relu', input_shape=(input_shape,)))\n",
    "model.add(layers.Dense(64, activation='relu'))\n",
    "model.add(layers.Dense(1))\n",
    "model.summary()"
   ]
  },
  {
   "cell_type": "code",
   "execution_count": 406,
   "metadata": {},
   "outputs": [
    {
     "name": "stdout",
     "output_type": "stream",
     "text": [
      "Epoch 1/120\n",
      " 1/57 [..............................] - ETA: 11s - loss: 303889.3438 - mae: 396.3735INFO:tensorflow:Assets written to: ./ckpt_1_ANN/dnl_forcast_ANN/assets\n"
     ]
    },
    {
     "name": "stderr",
     "output_type": "stream",
     "text": [
      "INFO:tensorflow:Assets written to: ./ckpt_1_ANN/dnl_forcast_ANN/assets\n"
     ]
    },
    {
     "name": "stdout",
     "output_type": "stream",
     "text": [
      "57/57 [==============================] - 0s 4ms/step - loss: 291690.6250 - mae: 393.4323 - val_loss: 166339.7812 - val_mae: 247.5110\n",
      "Epoch 2/120\n",
      " 1/57 [..............................] - ETA: 0s - loss: 298066.6250 - mae: 425.5113INFO:tensorflow:Assets written to: ./ckpt_1_ANN/dnl_forcast_ANN/assets\n"
     ]
    },
    {
     "name": "stderr",
     "output_type": "stream",
     "text": [
      "INFO:tensorflow:Assets written to: ./ckpt_1_ANN/dnl_forcast_ANN/assets\n"
     ]
    },
    {
     "name": "stdout",
     "output_type": "stream",
     "text": [
      "57/57 [==============================] - 0s 3ms/step - loss: 230896.4062 - mae: 359.9840 - val_loss: 112427.2031 - val_mae: 234.9893\n",
      "Epoch 3/120\n",
      " 1/57 [..............................] - ETA: 0s - loss: 170729.2500 - mae: 326.7437INFO:tensorflow:Assets written to: ./ckpt_1_ANN/dnl_forcast_ANN/assets\n"
     ]
    },
    {
     "name": "stderr",
     "output_type": "stream",
     "text": [
      "INFO:tensorflow:Assets written to: ./ckpt_1_ANN/dnl_forcast_ANN/assets\n"
     ]
    },
    {
     "name": "stdout",
     "output_type": "stream",
     "text": [
      "57/57 [==============================] - 0s 3ms/step - loss: 154135.1250 - mae: 310.1289 - val_loss: 90229.6953 - val_mae: 238.2802\n",
      "Epoch 4/120\n",
      " 1/57 [..............................] - ETA: 0s - loss: 118887.1406 - mae: 275.7096INFO:tensorflow:Assets written to: ./ckpt_1_ANN/dnl_forcast_ANN/assets\n"
     ]
    },
    {
     "name": "stderr",
     "output_type": "stream",
     "text": [
      "INFO:tensorflow:Assets written to: ./ckpt_1_ANN/dnl_forcast_ANN/assets\n"
     ]
    },
    {
     "name": "stdout",
     "output_type": "stream",
     "text": [
      "57/57 [==============================] - 0s 3ms/step - loss: 107785.0000 - mae: 266.4265 - val_loss: 74209.0000 - val_mae: 221.5958\n",
      "Epoch 5/120\n",
      "51/57 [=========================>....] - ETA: 0s - loss: 75557.2891 - mae: 221.7160INFO:tensorflow:Assets written to: ./ckpt_1_ANN/dnl_forcast_ANN/assets\n"
     ]
    },
    {
     "name": "stderr",
     "output_type": "stream",
     "text": [
      "INFO:tensorflow:Assets written to: ./ckpt_1_ANN/dnl_forcast_ANN/assets\n"
     ]
    },
    {
     "name": "stdout",
     "output_type": "stream",
     "text": [
      "57/57 [==============================] - 0s 4ms/step - loss: 74161.8438 - mae: 218.9385 - val_loss: 54941.4570 - val_mae: 189.5740\n",
      "Epoch 6/120\n",
      " 1/57 [..............................] - ETA: 0s - loss: 55747.1328 - mae: 192.7775INFO:tensorflow:Assets written to: ./ckpt_1_ANN/dnl_forcast_ANN/assets\n"
     ]
    },
    {
     "name": "stderr",
     "output_type": "stream",
     "text": [
      "INFO:tensorflow:Assets written to: ./ckpt_1_ANN/dnl_forcast_ANN/assets\n"
     ]
    },
    {
     "name": "stdout",
     "output_type": "stream",
     "text": [
      "57/57 [==============================] - 1s 11ms/step - loss: 55350.7617 - mae: 182.2979 - val_loss: 50180.4922 - val_mae: 182.9673\n",
      "Epoch 7/120\n",
      " 1/57 [..............................] - ETA: 0s - loss: 49297.7031 - mae: 183.5175INFO:tensorflow:Assets written to: ./ckpt_1_ANN/dnl_forcast_ANN/assets\n"
     ]
    },
    {
     "name": "stderr",
     "output_type": "stream",
     "text": [
      "INFO:tensorflow:Assets written to: ./ckpt_1_ANN/dnl_forcast_ANN/assets\n"
     ]
    },
    {
     "name": "stdout",
     "output_type": "stream",
     "text": [
      "57/57 [==============================] - 0s 3ms/step - loss: 47742.6562 - mae: 166.1349 - val_loss: 45297.0078 - val_mae: 172.9240\n",
      "Epoch 8/120\n",
      "57/57 [==============================] - 0s 840us/step - loss: 42644.3320 - mae: 156.8356 - val_loss: 45462.1328 - val_mae: 171.7307\n",
      "Epoch 9/120\n",
      "57/57 [==============================] - 0s 921us/step - loss: 40977.9141 - mae: 151.3421 - val_loss: 47331.2266 - val_mae: 178.5344\n",
      "Epoch 10/120\n",
      " 1/57 [..............................] - ETA: 0s - loss: 42182.3281 - mae: 165.5481INFO:tensorflow:Assets written to: ./ckpt_1_ANN/dnl_forcast_ANN/assets\n"
     ]
    },
    {
     "name": "stderr",
     "output_type": "stream",
     "text": [
      "INFO:tensorflow:Assets written to: ./ckpt_1_ANN/dnl_forcast_ANN/assets\n"
     ]
    },
    {
     "name": "stdout",
     "output_type": "stream",
     "text": [
      "57/57 [==============================] - 0s 3ms/step - loss: 38452.0938 - mae: 146.4758 - val_loss: 44321.0000 - val_mae: 170.5698\n",
      "Epoch 11/120\n",
      " 1/57 [..............................] - ETA: 0s - loss: 33332.6406 - mae: 137.6561INFO:tensorflow:Assets written to: ./ckpt_1_ANN/dnl_forcast_ANN/assets\n"
     ]
    },
    {
     "name": "stderr",
     "output_type": "stream",
     "text": [
      "INFO:tensorflow:Assets written to: ./ckpt_1_ANN/dnl_forcast_ANN/assets\n"
     ]
    },
    {
     "name": "stdout",
     "output_type": "stream",
     "text": [
      "57/57 [==============================] - 0s 3ms/step - loss: 38140.5234 - mae: 144.0474 - val_loss: 44158.4375 - val_mae: 170.7207\n",
      "Epoch 12/120\n",
      "57/57 [==============================] - 0s 811us/step - loss: 35483.9883 - mae: 138.0776 - val_loss: 45340.5508 - val_mae: 174.6500\n",
      "Epoch 13/120\n",
      "57/57 [==============================] - 0s 859us/step - loss: 35975.0625 - mae: 137.7865 - val_loss: 44343.6445 - val_mae: 170.1938\n",
      "Epoch 14/120\n",
      "57/57 [==============================] - 0s 789us/step - loss: 34344.5781 - mae: 133.8415 - val_loss: 46131.2148 - val_mae: 174.7010\n",
      "Epoch 15/120\n",
      "57/57 [==============================] - 0s 760us/step - loss: 34419.4258 - mae: 132.9896 - val_loss: 44600.7070 - val_mae: 170.4700\n",
      "Epoch 16/120\n",
      "57/57 [==============================] - 0s 769us/step - loss: 34597.3711 - mae: 131.6546 - val_loss: 45654.4492 - val_mae: 172.7612\n",
      "Epoch 17/120\n",
      " 1/57 [..............................] - ETA: 0s - loss: 38901.2969 - mae: 132.0433INFO:tensorflow:Assets written to: ./ckpt_1_ANN/dnl_forcast_ANN/assets\n"
     ]
    },
    {
     "name": "stderr",
     "output_type": "stream",
     "text": [
      "INFO:tensorflow:Assets written to: ./ckpt_1_ANN/dnl_forcast_ANN/assets\n"
     ]
    },
    {
     "name": "stdout",
     "output_type": "stream",
     "text": [
      "57/57 [==============================] - 0s 3ms/step - loss: 33569.1484 - mae: 130.3700 - val_loss: 43768.7891 - val_mae: 168.7591\n",
      "Epoch 18/120\n",
      " 1/57 [..............................] - ETA: 0s - loss: 33112.7891 - mae: 117.3937INFO:tensorflow:Assets written to: ./ckpt_1_ANN/dnl_forcast_ANN/assets\n"
     ]
    },
    {
     "name": "stderr",
     "output_type": "stream",
     "text": [
      "INFO:tensorflow:Assets written to: ./ckpt_1_ANN/dnl_forcast_ANN/assets\n"
     ]
    },
    {
     "name": "stdout",
     "output_type": "stream",
     "text": [
      "57/57 [==============================] - 0s 3ms/step - loss: 31951.0000 - mae: 124.9621 - val_loss: 42506.9062 - val_mae: 168.7479\n",
      "Epoch 19/120\n",
      "57/57 [==============================] - 0s 764us/step - loss: 32922.1484 - mae: 127.5096 - val_loss: 43958.9883 - val_mae: 170.1612\n",
      "Epoch 20/120\n",
      " 1/57 [..............................] - ETA: 0s - loss: 25463.9883 - mae: 114.1119INFO:tensorflow:Assets written to: ./ckpt_1_ANN/dnl_forcast_ANN/assets\n"
     ]
    },
    {
     "name": "stderr",
     "output_type": "stream",
     "text": [
      "INFO:tensorflow:Assets written to: ./ckpt_1_ANN/dnl_forcast_ANN/assets\n"
     ]
    },
    {
     "name": "stdout",
     "output_type": "stream",
     "text": [
      "57/57 [==============================] - 0s 3ms/step - loss: 33028.1992 - mae: 126.1459 - val_loss: 42455.7812 - val_mae: 166.8384\n",
      "Epoch 21/120\n",
      " 1/57 [..............................] - ETA: 0s - loss: 32137.4453 - mae: 121.8704INFO:tensorflow:Assets written to: ./ckpt_1_ANN/dnl_forcast_ANN/assets\n"
     ]
    },
    {
     "name": "stderr",
     "output_type": "stream",
     "text": [
      "INFO:tensorflow:Assets written to: ./ckpt_1_ANN/dnl_forcast_ANN/assets\n"
     ]
    },
    {
     "name": "stdout",
     "output_type": "stream",
     "text": [
      "57/57 [==============================] - 0s 3ms/step - loss: 32083.0273 - mae: 123.1414 - val_loss: 41467.7109 - val_mae: 162.5729\n",
      "Epoch 22/120\n",
      "57/57 [==============================] - 0s 754us/step - loss: 31338.8418 - mae: 121.3491 - val_loss: 42713.8164 - val_mae: 163.0932\n",
      "Epoch 23/120\n",
      " 1/57 [..............................] - ETA: 0s - loss: 34163.5742 - mae: 116.3483INFO:tensorflow:Assets written to: ./ckpt_1_ANN/dnl_forcast_ANN/assets\n"
     ]
    },
    {
     "name": "stderr",
     "output_type": "stream",
     "text": [
      "INFO:tensorflow:Assets written to: ./ckpt_1_ANN/dnl_forcast_ANN/assets\n"
     ]
    },
    {
     "name": "stdout",
     "output_type": "stream",
     "text": [
      "57/57 [==============================] - 0s 3ms/step - loss: 31111.0684 - mae: 120.8269 - val_loss: 40375.2109 - val_mae: 160.5376\n",
      "Epoch 24/120\n",
      "57/57 [==============================] - 0s 814us/step - loss: 32014.6523 - mae: 120.9408 - val_loss: 42031.6211 - val_mae: 161.6615\n",
      "Epoch 25/120\n",
      " 1/57 [..............................] - ETA: 0s - loss: 24485.7422 - mae: 101.6931INFO:tensorflow:Assets written to: ./ckpt_1_ANN/dnl_forcast_ANN/assets\n"
     ]
    },
    {
     "name": "stderr",
     "output_type": "stream",
     "text": [
      "INFO:tensorflow:Assets written to: ./ckpt_1_ANN/dnl_forcast_ANN/assets\n"
     ]
    },
    {
     "name": "stdout",
     "output_type": "stream",
     "text": [
      "57/57 [==============================] - 0s 3ms/step - loss: 30889.6387 - mae: 118.4629 - val_loss: 39448.4688 - val_mae: 160.3335\n",
      "Epoch 26/120\n",
      "57/57 [==============================] - 0s 835us/step - loss: 30637.5859 - mae: 116.5586 - val_loss: 41481.7617 - val_mae: 163.2932\n",
      "Epoch 27/120\n",
      "57/57 [==============================] - 0s 837us/step - loss: 31379.7109 - mae: 118.4359 - val_loss: 40917.1523 - val_mae: 159.9483\n",
      "Epoch 28/120\n",
      "57/57 [==============================] - 0s 851us/step - loss: 29783.4004 - mae: 114.6780 - val_loss: 41849.0391 - val_mae: 162.3922\n",
      "Epoch 29/120\n",
      "57/57 [==============================] - 0s 796us/step - loss: 31322.6953 - mae: 116.8317 - val_loss: 40934.8359 - val_mae: 160.7021\n",
      "Epoch 30/120\n",
      "57/57 [==============================] - 0s 795us/step - loss: 29118.6641 - mae: 111.8441 - val_loss: 40883.8945 - val_mae: 162.1184\n",
      "Epoch 31/120\n",
      "57/57 [==============================] - 0s 809us/step - loss: 30184.0293 - mae: 115.0534 - val_loss: 40366.5430 - val_mae: 160.2945\n",
      "Epoch 32/120\n",
      "57/57 [==============================] - 0s 808us/step - loss: 29047.1758 - mae: 111.2474 - val_loss: 45175.7344 - val_mae: 170.1249\n",
      "Epoch 33/120\n",
      "57/57 [==============================] - 0s 825us/step - loss: 30423.9180 - mae: 115.4273 - val_loss: 42169.5625 - val_mae: 165.2974\n",
      "Epoch 34/120\n",
      "57/57 [==============================] - 0s 813us/step - loss: 30148.9980 - mae: 114.0576 - val_loss: 40508.5156 - val_mae: 160.3582\n",
      "Epoch 35/120\n",
      "57/57 [==============================] - 0s 799us/step - loss: 28415.6191 - mae: 110.1375 - val_loss: 43179.0703 - val_mae: 166.4307\n",
      "Epoch 36/120\n",
      "57/57 [==============================] - 0s 756us/step - loss: 30028.4082 - mae: 113.8227 - val_loss: 41628.5000 - val_mae: 163.2123\n",
      "Epoch 37/120\n",
      "57/57 [==============================] - 0s 761us/step - loss: 28586.2930 - mae: 111.9226 - val_loss: 41242.7422 - val_mae: 161.8219\n",
      "Epoch 38/120\n",
      "57/57 [==============================] - 0s 759us/step - loss: 29838.0547 - mae: 112.1147 - val_loss: 41285.8359 - val_mae: 163.8196\n",
      "Epoch 39/120\n",
      "57/57 [==============================] - 0s 766us/step - loss: 28013.8828 - mae: 109.8890 - val_loss: 40983.7070 - val_mae: 160.7155\n",
      "Epoch 40/120\n",
      "57/57 [==============================] - 0s 2ms/step - loss: 29851.2578 - mae: 112.7052 - val_loss: 41357.9453 - val_mae: 161.7247\n",
      "Epoch 41/120\n",
      "57/57 [==============================] - 0s 1ms/step - loss: 28407.8203 - mae: 110.7977 - val_loss: 42097.9023 - val_mae: 161.6485\n",
      "Epoch 42/120\n",
      "57/57 [==============================] - 0s 985us/step - loss: 29021.8164 - mae: 110.7022 - val_loss: 40849.3359 - val_mae: 163.3824\n",
      "Epoch 43/120\n",
      "57/57 [==============================] - 0s 822us/step - loss: 28664.9258 - mae: 111.7400 - val_loss: 41348.7266 - val_mae: 163.9178\n",
      "Epoch 44/120\n",
      "57/57 [==============================] - 0s 905us/step - loss: 28559.6543 - mae: 109.1215 - val_loss: 41859.4453 - val_mae: 162.7292\n",
      "Epoch 45/120\n",
      "57/57 [==============================] - 0s 835us/step - loss: 28501.8574 - mae: 111.2889 - val_loss: 40735.4062 - val_mae: 160.8058\n",
      "Epoch 46/120\n",
      "57/57 [==============================] - 0s 1ms/step - loss: 28508.9297 - mae: 109.3953 - val_loss: 40467.4883 - val_mae: 156.3104\n",
      "Epoch 47/120\n",
      " 1/57 [..............................] - ETA: 0s - loss: 26571.0977 - mae: 106.6599INFO:tensorflow:Assets written to: ./ckpt_1_ANN/dnl_forcast_ANN/assets\n"
     ]
    },
    {
     "name": "stderr",
     "output_type": "stream",
     "text": [
      "INFO:tensorflow:Assets written to: ./ckpt_1_ANN/dnl_forcast_ANN/assets\n"
     ]
    },
    {
     "name": "stdout",
     "output_type": "stream",
     "text": [
      "57/57 [==============================] - 0s 4ms/step - loss: 28361.3242 - mae: 110.5081 - val_loss: 39408.6641 - val_mae: 157.5219\n",
      "Epoch 48/120\n",
      "57/57 [==============================] - 0s 922us/step - loss: 28811.8281 - mae: 109.8640 - val_loss: 44306.5703 - val_mae: 166.3007\n",
      "Epoch 49/120\n",
      "57/57 [==============================] - 0s 2ms/step - loss: 27383.2266 - mae: 107.7821 - val_loss: 41481.5391 - val_mae: 161.9707\n",
      "Epoch 50/120\n",
      "57/57 [==============================] - 0s 766us/step - loss: 28899.9883 - mae: 110.7571 - val_loss: 42923.1875 - val_mae: 165.7999\n",
      "Epoch 51/120\n",
      "57/57 [==============================] - 0s 781us/step - loss: 28140.0117 - mae: 109.3234 - val_loss: 39822.2109 - val_mae: 154.0377\n",
      "Epoch 52/120\n",
      "57/57 [==============================] - 0s 758us/step - loss: 28205.7520 - mae: 108.9556 - val_loss: 41642.9688 - val_mae: 162.5993\n",
      "Epoch 53/120\n",
      "57/57 [==============================] - 0s 762us/step - loss: 28188.6387 - mae: 108.8908 - val_loss: 41694.5430 - val_mae: 164.3694\n",
      "Epoch 54/120\n",
      " 1/57 [..............................] - ETA: 0s - loss: 25222.5859 - mae: 113.2211INFO:tensorflow:Assets written to: ./ckpt_1_ANN/dnl_forcast_ANN/assets\n"
     ]
    },
    {
     "name": "stderr",
     "output_type": "stream",
     "text": [
      "INFO:tensorflow:Assets written to: ./ckpt_1_ANN/dnl_forcast_ANN/assets\n"
     ]
    },
    {
     "name": "stdout",
     "output_type": "stream",
     "text": [
      "57/57 [==============================] - 0s 3ms/step - loss: 28062.8418 - mae: 108.6258 - val_loss: 39242.0000 - val_mae: 158.9198\n",
      "Epoch 55/120\n",
      "57/57 [==============================] - 0s 773us/step - loss: 27962.8613 - mae: 108.7386 - val_loss: 40830.3633 - val_mae: 161.6408\n",
      "Epoch 56/120\n",
      "57/57 [==============================] - 0s 802us/step - loss: 27736.4805 - mae: 107.9943 - val_loss: 43900.1953 - val_mae: 169.6926\n",
      "Epoch 57/120\n",
      "57/57 [==============================] - 0s 846us/step - loss: 27869.4473 - mae: 108.6931 - val_loss: 41180.6953 - val_mae: 163.7303\n",
      "Epoch 58/120\n",
      "57/57 [==============================] - 0s 859us/step - loss: 27809.4199 - mae: 108.1630 - val_loss: 42244.4414 - val_mae: 165.8521\n",
      "Epoch 59/120\n",
      "57/57 [==============================] - 0s 939us/step - loss: 27796.3594 - mae: 108.4746 - val_loss: 40450.2266 - val_mae: 161.5760\n",
      "Epoch 60/120\n",
      "57/57 [==============================] - 0s 852us/step - loss: 28001.8887 - mae: 108.8379 - val_loss: 42307.7266 - val_mae: 164.9861\n",
      "Epoch 61/120\n",
      "57/57 [==============================] - 0s 834us/step - loss: 27194.7090 - mae: 106.5371 - val_loss: 40021.1367 - val_mae: 160.5403\n",
      "Epoch 62/120\n",
      "57/57 [==============================] - 0s 925us/step - loss: 28241.8711 - mae: 109.4379 - val_loss: 43586.1055 - val_mae: 167.9634\n",
      "Epoch 63/120\n",
      "57/57 [==============================] - 0s 886us/step - loss: 27380.7773 - mae: 107.2113 - val_loss: 40690.9258 - val_mae: 161.1246\n",
      "Epoch 64/120\n",
      "57/57 [==============================] - 0s 823us/step - loss: 28088.4453 - mae: 108.5811 - val_loss: 41988.7500 - val_mae: 164.5051\n",
      "Epoch 65/120\n",
      "57/57 [==============================] - 0s 817us/step - loss: 27398.4453 - mae: 107.3923 - val_loss: 42540.5859 - val_mae: 165.1686\n",
      "Epoch 66/120\n",
      "57/57 [==============================] - 0s 865us/step - loss: 27245.9004 - mae: 107.2568 - val_loss: 44072.7539 - val_mae: 167.5013\n",
      "Epoch 67/120\n",
      "57/57 [==============================] - 0s 799us/step - loss: 27686.6250 - mae: 106.7993 - val_loss: 41419.3438 - val_mae: 164.9585\n",
      "Epoch 68/120\n",
      "57/57 [==============================] - 0s 755us/step - loss: 27787.0918 - mae: 108.2576 - val_loss: 43849.5391 - val_mae: 169.7723\n",
      "Epoch 69/120\n",
      "57/57 [==============================] - 0s 756us/step - loss: 26960.5625 - mae: 106.2501 - val_loss: 44056.1797 - val_mae: 164.5782\n",
      "Epoch 70/120\n",
      "57/57 [==============================] - 0s 796us/step - loss: 27731.2676 - mae: 107.9470 - val_loss: 40612.8086 - val_mae: 159.0460\n",
      "Epoch 71/120\n",
      "57/57 [==============================] - 0s 805us/step - loss: 27621.2598 - mae: 107.7814 - val_loss: 43737.4258 - val_mae: 169.4097\n",
      "Epoch 72/120\n",
      "57/57 [==============================] - 0s 817us/step - loss: 27083.2637 - mae: 106.3126 - val_loss: 43171.7344 - val_mae: 165.8152\n",
      "Epoch 73/120\n",
      "57/57 [==============================] - 0s 814us/step - loss: 27765.5703 - mae: 107.9033 - val_loss: 42486.9219 - val_mae: 158.6448\n",
      "Epoch 74/120\n",
      "57/57 [==============================] - 0s 816us/step - loss: 27071.3965 - mae: 106.1613 - val_loss: 44663.1406 - val_mae: 170.3631\n",
      "Epoch 75/120\n",
      "57/57 [==============================] - 0s 802us/step - loss: 27448.3184 - mae: 107.2916 - val_loss: 41383.3516 - val_mae: 159.3037\n",
      "Epoch 76/120\n",
      "57/57 [==============================] - 0s 814us/step - loss: 26635.7559 - mae: 105.4871 - val_loss: 44219.5664 - val_mae: 165.1131\n",
      "Epoch 77/120\n",
      "57/57 [==============================] - 0s 898us/step - loss: 27518.4707 - mae: 107.7278 - val_loss: 41890.8398 - val_mae: 166.1407\n",
      "Epoch 78/120\n",
      "57/57 [==============================] - 0s 821us/step - loss: 27350.5977 - mae: 106.3847 - val_loss: 43161.0195 - val_mae: 165.5329\n",
      "Epoch 79/120\n",
      "57/57 [==============================] - 0s 788us/step - loss: 27191.3789 - mae: 106.1696 - val_loss: 40834.4102 - val_mae: 163.2916\n",
      "Epoch 80/120\n",
      "57/57 [==============================] - 0s 807us/step - loss: 27174.6816 - mae: 106.7024 - val_loss: 45458.3867 - val_mae: 167.6972\n",
      "Epoch 81/120\n",
      "57/57 [==============================] - 0s 829us/step - loss: 27006.3711 - mae: 106.5576 - val_loss: 41745.8984 - val_mae: 161.8694\n",
      "Epoch 82/120\n",
      "57/57 [==============================] - 0s 827us/step - loss: 27378.9023 - mae: 107.1294 - val_loss: 44023.8867 - val_mae: 168.1150\n",
      "Epoch 83/120\n",
      "57/57 [==============================] - 0s 807us/step - loss: 27193.7695 - mae: 106.1819 - val_loss: 42668.6016 - val_mae: 162.8111\n",
      "Epoch 84/120\n",
      "57/57 [==============================] - 0s 844us/step - loss: 26764.2578 - mae: 106.1695 - val_loss: 40729.9766 - val_mae: 160.0236\n",
      "Epoch 85/120\n",
      "57/57 [==============================] - 0s 758us/step - loss: 28010.1289 - mae: 107.6178 - val_loss: 43042.0664 - val_mae: 165.7828\n",
      "Epoch 86/120\n",
      "57/57 [==============================] - 0s 767us/step - loss: 27347.4883 - mae: 106.5507 - val_loss: 42400.8672 - val_mae: 162.4382\n",
      "Epoch 87/120\n",
      "57/57 [==============================] - 0s 765us/step - loss: 26181.5781 - mae: 105.0630 - val_loss: 42435.8359 - val_mae: 167.2629\n",
      "Epoch 88/120\n",
      "57/57 [==============================] - 0s 866us/step - loss: 27105.4570 - mae: 106.3467 - val_loss: 43650.2891 - val_mae: 165.2003\n",
      "Epoch 89/120\n",
      " 1/57 [..............................] - ETA: 0s - loss: 37044.4727 - mae: 116.0554INFO:tensorflow:Assets written to: ./ckpt_1_ANN/dnl_forcast_ANN/assets\n"
     ]
    },
    {
     "name": "stderr",
     "output_type": "stream",
     "text": [
      "INFO:tensorflow:Assets written to: ./ckpt_1_ANN/dnl_forcast_ANN/assets\n"
     ]
    },
    {
     "name": "stdout",
     "output_type": "stream",
     "text": [
      "57/57 [==============================] - 0s 3ms/step - loss: 27296.1758 - mae: 106.1189 - val_loss: 39161.7344 - val_mae: 154.4438\n",
      "Epoch 90/120\n",
      "57/57 [==============================] - 0s 1ms/step - loss: 26203.9785 - mae: 104.5532 - val_loss: 43184.0938 - val_mae: 164.9984\n",
      "Epoch 91/120\n",
      "57/57 [==============================] - 0s 985us/step - loss: 27449.8516 - mae: 107.5223 - val_loss: 42515.3828 - val_mae: 161.3538\n",
      "Epoch 92/120\n",
      "57/57 [==============================] - 0s 904us/step - loss: 26784.3359 - mae: 105.1890 - val_loss: 42468.1992 - val_mae: 168.0418\n",
      "Epoch 93/120\n",
      "57/57 [==============================] - 0s 906us/step - loss: 27819.2461 - mae: 108.2081 - val_loss: 40684.6641 - val_mae: 161.4739\n",
      "Epoch 94/120\n",
      "57/57 [==============================] - 0s 861us/step - loss: 26712.6270 - mae: 104.7316 - val_loss: 45642.4453 - val_mae: 173.7004\n",
      "Epoch 95/120\n",
      "57/57 [==============================] - 0s 798us/step - loss: 26471.3945 - mae: 104.7513 - val_loss: 44151.3867 - val_mae: 168.7444\n",
      "Epoch 96/120\n",
      "57/57 [==============================] - 0s 797us/step - loss: 27265.7266 - mae: 107.1174 - val_loss: 40904.8359 - val_mae: 161.0395\n",
      "Epoch 97/120\n",
      "57/57 [==============================] - 0s 838us/step - loss: 26685.2578 - mae: 105.4074 - val_loss: 43393.6211 - val_mae: 163.5934\n",
      "Epoch 98/120\n",
      "57/57 [==============================] - 0s 768us/step - loss: 26060.2227 - mae: 104.2184 - val_loss: 40413.5742 - val_mae: 158.7948\n",
      "Epoch 99/120\n",
      "57/57 [==============================] - 0s 840us/step - loss: 27121.6484 - mae: 105.4734 - val_loss: 44557.5977 - val_mae: 170.7261\n",
      "Epoch 100/120\n",
      "57/57 [==============================] - 0s 793us/step - loss: 26735.0293 - mae: 105.7330 - val_loss: 44932.6953 - val_mae: 173.0765\n",
      "Epoch 101/120\n",
      "57/57 [==============================] - 0s 797us/step - loss: 26829.6855 - mae: 106.2231 - val_loss: 44129.9141 - val_mae: 167.6865\n",
      "Epoch 102/120\n",
      "57/57 [==============================] - 0s 813us/step - loss: 27446.6660 - mae: 106.6227 - val_loss: 41205.1211 - val_mae: 160.6134\n",
      "Epoch 103/120\n",
      "57/57 [==============================] - 0s 779us/step - loss: 26450.9492 - mae: 104.2829 - val_loss: 43521.3281 - val_mae: 165.8377\n",
      "Epoch 104/120\n",
      "57/57 [==============================] - 0s 841us/step - loss: 26406.6738 - mae: 105.1070 - val_loss: 40262.3281 - val_mae: 159.6265\n",
      "Epoch 105/120\n",
      "57/57 [==============================] - 0s 792us/step - loss: 26862.7930 - mae: 106.0367 - val_loss: 43053.7930 - val_mae: 161.9299\n",
      "Epoch 106/120\n",
      "57/57 [==============================] - 0s 775us/step - loss: 26367.2891 - mae: 104.2943 - val_loss: 40960.0117 - val_mae: 159.6951\n",
      "Epoch 107/120\n",
      "57/57 [==============================] - 0s 774us/step - loss: 27192.9648 - mae: 106.7435 - val_loss: 41853.0781 - val_mae: 160.4414\n",
      "Epoch 108/120\n",
      "57/57 [==============================] - 0s 783us/step - loss: 26415.4766 - mae: 104.6016 - val_loss: 42343.3750 - val_mae: 163.3350\n",
      "Epoch 109/120\n",
      "57/57 [==============================] - 0s 2ms/step - loss: 26168.9863 - mae: 104.0982 - val_loss: 41085.4766 - val_mae: 161.9301\n",
      "Epoch 110/120\n",
      "57/57 [==============================] - 0s 2ms/step - loss: 27010.8438 - mae: 106.1777 - val_loss: 40337.8516 - val_mae: 158.4157\n",
      "Epoch 111/120\n",
      "57/57 [==============================] - 0s 2ms/step - loss: 26632.7441 - mae: 104.9944 - val_loss: 44257.1367 - val_mae: 166.2065\n",
      "Epoch 112/120\n",
      "57/57 [==============================] - 0s 1ms/step - loss: 26823.1680 - mae: 105.5973 - val_loss: 40155.9492 - val_mae: 159.1503\n",
      "Epoch 113/120\n",
      "57/57 [==============================] - 0s 2ms/step - loss: 26491.5156 - mae: 105.1686 - val_loss: 42281.4570 - val_mae: 157.7263\n",
      "Epoch 114/120\n",
      "57/57 [==============================] - 0s 1ms/step - loss: 26711.9336 - mae: 104.8246 - val_loss: 40270.3242 - val_mae: 158.6323\n",
      "Epoch 115/120\n",
      " 1/57 [..............................] - ETA: 0s - loss: 24565.5391 - mae: 101.5524INFO:tensorflow:Assets written to: ./ckpt_1_ANN/dnl_forcast_ANN/assets\n"
     ]
    },
    {
     "name": "stderr",
     "output_type": "stream",
     "text": [
      "INFO:tensorflow:Assets written to: ./ckpt_1_ANN/dnl_forcast_ANN/assets\n"
     ]
    },
    {
     "name": "stdout",
     "output_type": "stream",
     "text": [
      "57/57 [==============================] - 0s 5ms/step - loss: 26551.0449 - mae: 105.0778 - val_loss: 38967.2188 - val_mae: 155.0146\n",
      "Epoch 116/120\n",
      "57/57 [==============================] - 0s 883us/step - loss: 26315.3340 - mae: 104.9701 - val_loss: 43292.2305 - val_mae: 165.2348\n",
      "Epoch 117/120\n",
      "57/57 [==============================] - 0s 783us/step - loss: 26563.8066 - mae: 104.6099 - val_loss: 45631.2969 - val_mae: 173.4002\n",
      "Epoch 118/120\n",
      "57/57 [==============================] - 0s 749us/step - loss: 26689.1465 - mae: 105.4700 - val_loss: 41677.5312 - val_mae: 162.6286\n",
      "Epoch 119/120\n",
      "57/57 [==============================] - 0s 3ms/step - loss: 26302.6680 - mae: 104.3273 - val_loss: 45519.6797 - val_mae: 172.2066\n",
      "Epoch 120/120\n",
      "57/57 [==============================] - 0s 2ms/step - loss: 26456.5488 - mae: 104.7596 - val_loss: 41848.8047 - val_mae: 161.2453\n"
     ]
    }
   ],
   "source": [
    "model.compile(loss='mse', optimizer='rmsprop', metrics=['mae'])\n",
    "# Prepare a directory to store all the checkpoints.\n",
    "checkpoint_no = 'ckpt_1_ANN'\n",
    "model_name = 'dnl_forcast_ANN'\n",
    "checkpoint_dir = './'+ checkpoint_no\n",
    "if not os.path.exists(checkpoint_dir):\n",
    "    os.makedirs(checkpoint_dir)\n",
    "\n",
    "keras_callbacks = [ModelCheckpoint(filepath = checkpoint_dir + '/' + model_name, monitor='val_loss', save_best_only=True, mode='auto')]\n",
    "\n",
    "history = model.fit(trainX_scaled,\n",
    "                    trainY,\n",
    "                    steps_per_epoch=n_steps_per_epoch,\n",
    "                    epochs=n_epochs,\n",
    "                    batch_size=n_batch_size,\n",
    "                    validation_data=(valX_scaled, valY),\n",
    "                    validation_steps=n_validation_steps,\n",
    "                    callbacks=[keras_callbacks])"
   ]
  },
  {
   "cell_type": "code",
   "execution_count": 407,
   "metadata": {},
   "outputs": [
    {
     "data": {
      "text/html": [
       "<div>\n",
       "<style scoped>\n",
       "    .dataframe tbody tr th:only-of-type {\n",
       "        vertical-align: middle;\n",
       "    }\n",
       "\n",
       "    .dataframe tbody tr th {\n",
       "        vertical-align: top;\n",
       "    }\n",
       "\n",
       "    .dataframe thead th {\n",
       "        text-align: right;\n",
       "    }\n",
       "</style>\n",
       "<table border=\"1\" class=\"dataframe\">\n",
       "  <thead>\n",
       "    <tr style=\"text-align: right;\">\n",
       "      <th></th>\n",
       "      <th>epoch</th>\n",
       "      <th>loss</th>\n",
       "      <th>mae</th>\n",
       "      <th>val_loss</th>\n",
       "      <th>val_mae</th>\n",
       "    </tr>\n",
       "  </thead>\n",
       "  <tbody>\n",
       "    <tr>\n",
       "      <th>0</th>\n",
       "      <td>1</td>\n",
       "      <td>291690.62500</td>\n",
       "      <td>393.432281</td>\n",
       "      <td>166339.781250</td>\n",
       "      <td>247.510986</td>\n",
       "    </tr>\n",
       "    <tr>\n",
       "      <th>1</th>\n",
       "      <td>2</td>\n",
       "      <td>230896.40625</td>\n",
       "      <td>359.983978</td>\n",
       "      <td>112427.203125</td>\n",
       "      <td>234.989304</td>\n",
       "    </tr>\n",
       "    <tr>\n",
       "      <th>2</th>\n",
       "      <td>3</td>\n",
       "      <td>154135.12500</td>\n",
       "      <td>310.128937</td>\n",
       "      <td>90229.695312</td>\n",
       "      <td>238.280151</td>\n",
       "    </tr>\n",
       "    <tr>\n",
       "      <th>3</th>\n",
       "      <td>4</td>\n",
       "      <td>107785.00000</td>\n",
       "      <td>266.426483</td>\n",
       "      <td>74209.000000</td>\n",
       "      <td>221.595825</td>\n",
       "    </tr>\n",
       "    <tr>\n",
       "      <th>4</th>\n",
       "      <td>5</td>\n",
       "      <td>74161.84375</td>\n",
       "      <td>218.938507</td>\n",
       "      <td>54941.457031</td>\n",
       "      <td>189.574005</td>\n",
       "    </tr>\n",
       "  </tbody>\n",
       "</table>\n",
       "</div>"
      ],
      "text/plain": [
       "   epoch          loss         mae       val_loss     val_mae\n",
       "0      1  291690.62500  393.432281  166339.781250  247.510986\n",
       "1      2  230896.40625  359.983978  112427.203125  234.989304\n",
       "2      3  154135.12500  310.128937   90229.695312  238.280151\n",
       "3      4  107785.00000  266.426483   74209.000000  221.595825\n",
       "4      5   74161.84375  218.938507   54941.457031  189.574005"
      ]
     },
     "execution_count": 407,
     "metadata": {},
     "output_type": "execute_result"
    }
   ],
   "source": [
    "hist_df = pd.DataFrame(history.history)\n",
    "hist_df['epoch'] = hist_df.index + 1\n",
    "cols = list(hist_df.columns)\n",
    "cols = [cols[-1]] + cols[:-1]\n",
    "hist_df = hist_df[cols]\n",
    "hist_df.to_csv(checkpoint_no + '/' + 'history_df_' + model_name + '.csv')\n",
    "hist_df.head()"
   ]
  },
  {
   "cell_type": "code",
   "execution_count": 408,
   "metadata": {},
   "outputs": [
    {
     "data": {
      "text/html": [
       "<div>\n",
       "<style scoped>\n",
       "    .dataframe tbody tr th:only-of-type {\n",
       "        vertical-align: middle;\n",
       "    }\n",
       "\n",
       "    .dataframe tbody tr th {\n",
       "        vertical-align: top;\n",
       "    }\n",
       "\n",
       "    .dataframe thead th {\n",
       "        text-align: right;\n",
       "    }\n",
       "</style>\n",
       "<table border=\"1\" class=\"dataframe\">\n",
       "  <thead>\n",
       "    <tr style=\"text-align: right;\">\n",
       "      <th></th>\n",
       "      <th>epoch</th>\n",
       "      <th>loss</th>\n",
       "      <th>mae</th>\n",
       "      <th>val_loss</th>\n",
       "      <th>val_mae</th>\n",
       "    </tr>\n",
       "  </thead>\n",
       "  <tbody>\n",
       "    <tr>\n",
       "      <th>114</th>\n",
       "      <td>115</td>\n",
       "      <td>26551.044922</td>\n",
       "      <td>105.077751</td>\n",
       "      <td>38967.21875</td>\n",
       "      <td>155.014603</td>\n",
       "    </tr>\n",
       "  </tbody>\n",
       "</table>\n",
       "</div>"
      ],
      "text/plain": [
       "     epoch          loss         mae     val_loss     val_mae\n",
       "114    115  26551.044922  105.077751  38967.21875  155.014603"
      ]
     },
     "execution_count": 408,
     "metadata": {},
     "output_type": "execute_result"
    }
   ],
   "source": [
    "values_of_best_model = hist_df[hist_df.val_loss == hist_df.val_loss.min()]\n",
    "values_of_best_model"
   ]
  },
  {
   "cell_type": "code",
   "execution_count": 409,
   "metadata": {},
   "outputs": [],
   "source": [
    "pk.dump(scaler, open(checkpoint_no + '/' + 'scaler.pkl', 'wb'))"
   ]
  },
  {
   "cell_type": "code",
   "execution_count": 410,
   "metadata": {},
   "outputs": [
    {
     "data": {
      "image/png": "[encoded data removed]",
      "text/plain": [
       "<Figure size 640x480 with 1 Axes>"
      ]
     },
     "metadata": {},
     "output_type": "display_data"
    },
    {
     "data": {
      "image/png": "[encoded data removed]",
      "text/plain": [
       "<Figure size 640x480 with 1 Axes>"
      ]
     },
     "metadata": {},
     "output_type": "display_data"
    }
   ],
   "source": [
    "mae = history.history['mae']\n",
    "val_mae = history.history['val_mae']\n",
    "loss = history.history['loss']\n",
    "val_loss = history.history['val_loss']\n",
    "\n",
    "epochs = range(1, len(mae) + 1)\n",
    "\n",
    "plt.plot(epochs, mae, 'bo', label='Training MAE')\n",
    "plt.plot(epochs, val_mae, 'b', label='Validation MAE')\n",
    "plt.title('Training and validation MAE')\n",
    "plt.legend()\n",
    "\n",
    "plt.figure()\n",
    "\n",
    "plt.plot(epochs, loss, 'bo', label='Training loss')\n",
    "plt.plot(epochs, val_loss, 'b', label='Validation loss')\n",
    "plt.title('Training and validation loss')\n",
    "plt.legend()\n",
    "\n",
    "plt.show()"
   ]
  },
  {
   "cell_type": "code",
   "execution_count": 411,
   "metadata": {},
   "outputs": [],
   "source": [
    "def build_model():\n",
    "    model = models.Sequential()\n",
    "    model.add(layers.Dense(64, activation='relu',\n",
    "                           input_shape=(input_shape,)))\n",
    "    model.add(layers.Dense(64, activation='relu'))\n",
    "    model.add(layers.Dense(1))\n",
    "    model.compile(loss='mse', optimizer='rmsprop', metrics=['mae'])\n",
    "    return model"
   ]
  },
  {
   "cell_type": "code",
   "execution_count": 412,
   "metadata": {},
   "outputs": [
    {
     "name": "stdout",
     "output_type": "stream",
     "text": [
      "Processing Fold 0\n",
      "MAE: 103.58251953125\n",
      "========================\n",
      "Processing Fold 1\n",
      "MAE: 109.24756622314453\n",
      "========================\n",
      "Processing Fold 2\n",
      "MAE: 109.35411071777344\n",
      "========================\n",
      "Processing Fold 3\n",
      "MAE: 107.9531021118164\n",
      "========================\n",
      "Processing Fold 4\n",
      "MAE: 113.7798080444336\n",
      "========================\n"
     ]
    }
   ],
   "source": [
    "k = 5\n",
    "num_val_samples = len(trainX) // k\n",
    "all_scores = []\n",
    "for i in range(k):\n",
    "    print('Processing Fold', i)\n",
    "    val_data = trainX_scaled[i * num_val_samples: (i + 1) * num_val_samples]\n",
    "    val_targets = trainY[i * num_val_samples: (i + 1) * num_val_samples]\n",
    "\n",
    "    partial_train_data = np.concatenate(\n",
    "        [trainX_scaled[:i * num_val_samples],\n",
    "         trainX_scaled[(i + 1) * num_val_samples:]],\n",
    "        axis=0)\n",
    "    partial_train_targets = np.concatenate(\n",
    "        [trainY[:i * num_val_samples],\n",
    "         trainY[(i + 1) * num_val_samples:]],\n",
    "        axis=0)\n",
    "\n",
    "    model = build_model()\n",
    "    model.fit(partial_train_data, partial_train_targets,\n",
    "              epochs=n_epochs, batch_size=n_batch_size, verbose=0)\n",
    "    val_mse, val_mae = model.evaluate(val_data, val_targets, verbose=0)\n",
    "    all_scores.append(val_mae)\n",
    "    print('MAE: ' + str(val_mae))\n",
    "    print('========================')\n"
   ]
  },
  {
   "cell_type": "code",
   "execution_count": 413,
   "metadata": {},
   "outputs": [
    {
     "name": "stdout",
     "output_type": "stream",
     "text": [
      "Fold 0: MAE of 103.58251953125\n",
      "Fold 1: MAE of 109.24756622314453\n",
      "Fold 2: MAE of 109.35411071777344\n",
      "Fold 3: MAE of 107.9531021118164\n",
      "Fold 4: MAE of 113.7798080444336\n",
      "Mean MAE of all folds: 108.78342132568359\n"
     ]
    }
   ],
   "source": [
    "for i, val in enumerate(all_scores):\n",
    "    print('Fold ' + str(i) +': ' + 'MAE of', val)\n",
    "\n",
    "print('Mean MAE of all folds: ' + str(np.mean(all_scores)))"
   ]
  },
  {
   "cell_type": "code",
   "execution_count": 414,
   "metadata": {},
   "outputs": [
    {
     "name": "stdout",
     "output_type": "stream",
     "text": [
      "Processing Fold 0\n",
      "Processing Fold 1\n",
      "Processing Fold 2\n",
      "Processing Fold 3\n",
      "Processing Fold 4\n"
     ]
    }
   ],
   "source": [
    "all_mae_histories = []\n",
    "for i in range(k):\n",
    "    print('Processing Fold', i)\n",
    "    val_data = trainX_scaled[i * num_val_samples: (i + 1) * num_val_samples]\n",
    "    val_targets = trainY[i * num_val_samples: (i + 1) * num_val_samples]\n",
    "    partial_train_data = np.concatenate(\n",
    "        [trainX_scaled[:i * num_val_samples],\n",
    "         trainX_scaled[(i + 1) * num_val_samples:]],\n",
    "        axis=0)\n",
    "    partial_train_targets = np.concatenate(\n",
    "        [trainY[:i * num_val_samples],\n",
    "         trainY[(i + 1) * num_val_samples:]],\n",
    "        axis=0)\n",
    "\n",
    "    model = build_model()\n",
    "    history = model.fit(partial_train_data, partial_train_targets,\n",
    "                        validation_data=(val_data, val_targets),\n",
    "                        epochs=n_epochs, batch_size=n_batch_size, verbose=0)\n",
    "    mae_history = history.history['val_mae']\n",
    "    all_mae_histories.append(mae_history)"
   ]
  },
  {
   "cell_type": "code",
   "execution_count": 415,
   "metadata": {},
   "outputs": [
    {
     "data": {
      "text/plain": [
       "120"
      ]
     },
     "execution_count": 415,
     "metadata": {},
     "output_type": "execute_result"
    }
   ],
   "source": [
    "average_mae_history = [np.mean([x[i] for x in all_mae_histories]) for i in range(n_epochs)]\n",
    "\n",
    "len(average_mae_history)"
   ]
  },
  {
   "cell_type": "code",
   "execution_count": 416,
   "metadata": {},
   "outputs": [
    {
     "data": {
      "image/png": "[encoded data removed]",
      "text/plain": [
       "<Figure size 640x480 with 1 Axes>"
      ]
     },
     "metadata": {},
     "output_type": "display_data"
    }
   ],
   "source": [
    "plt.plot(range(1, len(average_mae_history) + 1), average_mae_history)\n",
    "plt.title('Validation MAE per Epoch')\n",
    "plt.xlabel('Epochs')\n",
    "plt.ylabel('Validation MAE')\n",
    "plt.show()"
   ]
  },
  {
   "cell_type": "code",
   "execution_count": 417,
   "metadata": {},
   "outputs": [
    {
     "name": "stderr",
     "output_type": "stream",
     "text": [
      "/Users/saraabouelella/anaconda3/envs/nrel311/lib/python3.11/site-packages/keras/src/engine/training.py:3103: UserWarning: You are saving your model as an HDF5 file via `model.save()`. This file format is considered legacy. We recommend using instead the native Keras format, e.g. `model.save('my_model.keras')`.\n",
      "  saving_api.save_model(\n"
     ]
    }
   ],
   "source": [
    "model_reloaded = load_model(checkpoint_no + '/' + model_name)\n",
    "\n",
    "# Saving the best model in the correct path and format\n",
    "root_directory = os.getcwd()\n",
    "checkpoint_dir = os.path.join(root_directory, checkpoint_no)\n",
    "model_name_temp = os.path.join(checkpoint_dir, model_name + '.h5')\n",
    "model_reloaded.save(model_name_temp)\n",
    "\n",
    "# Deletion of the automatically created folder under Model Checkpoint File.\n",
    "folder_name_temp = os.path.join(checkpoint_dir, model_name)\n",
    "shutil.rmtree(folder_name_temp, ignore_errors=True)\n",
    "best_model = load_model(model_name_temp)"
   ]
  },
  {
   "cell_type": "code",
   "execution_count": 418,
   "metadata": {},
   "outputs": [
    {
     "name": "stdout",
     "output_type": "stream",
     "text": [
      "24/24 [==============================] - 0s 463us/step - loss: 28434.2188 - mae: 113.5237\n",
      "\n",
      "Test MAE: 113.52374267578125\n"
     ]
    }
   ],
   "source": [
    "test_loss, test_mae = best_model.evaluate(testX_scaled, testY, steps=n_test_steps)\n",
    "print()\n",
    "print('Test MAE:', test_mae)"
   ]
  },
  {
   "cell_type": "code",
   "execution_count": 419,
   "metadata": {},
   "outputs": [
    {
     "name": "stdout",
     "output_type": "stream",
     "text": [
      "100/100 [==============================] - 0s 303us/step\n"
     ]
    },
    {
     "data": {
      "text/plain": [
       "array([[972.4818  ],\n",
       "       [  8.759973],\n",
       "       [-23.564064],\n",
       "       [148.35355 ],\n",
       "       [812.2432  ]], dtype=float32)"
      ]
     },
     "execution_count": 419,
     "metadata": {},
     "output_type": "execute_result"
    }
   ],
   "source": [
    "y_pred = model.predict(testX_scaled)\n",
    "y_pred[:5]"
   ]
  },
  {
   "cell_type": "code",
   "execution_count": 420,
   "metadata": {},
   "outputs": [
    {
     "data": {
      "text/html": [
       "<div>\n",
       "<style scoped>\n",
       "    .dataframe tbody tr th:only-of-type {\n",
       "        vertical-align: middle;\n",
       "    }\n",
       "\n",
       "    .dataframe tbody tr th {\n",
       "        vertical-align: top;\n",
       "    }\n",
       "\n",
       "    .dataframe thead th {\n",
       "        text-align: right;\n",
       "    }\n",
       "</style>\n",
       "<table border=\"1\" class=\"dataframe\">\n",
       "  <thead>\n",
       "    <tr style=\"text-align: right;\">\n",
       "      <th></th>\n",
       "      <th>Actual</th>\n",
       "      <th>Predicted</th>\n",
       "    </tr>\n",
       "  </thead>\n",
       "  <tbody>\n",
       "    <tr>\n",
       "      <th>0</th>\n",
       "      <td>1026.0</td>\n",
       "      <td>972.481812</td>\n",
       "    </tr>\n",
       "    <tr>\n",
       "      <th>1</th>\n",
       "      <td>0.0</td>\n",
       "      <td>8.759973</td>\n",
       "    </tr>\n",
       "    <tr>\n",
       "      <th>2</th>\n",
       "      <td>0.0</td>\n",
       "      <td>-23.564064</td>\n",
       "    </tr>\n",
       "    <tr>\n",
       "      <th>3</th>\n",
       "      <td>265.0</td>\n",
       "      <td>148.353546</td>\n",
       "    </tr>\n",
       "    <tr>\n",
       "      <th>4</th>\n",
       "      <td>964.0</td>\n",
       "      <td>812.243225</td>\n",
       "    </tr>\n",
       "    <tr>\n",
       "      <th>...</th>\n",
       "      <td>...</td>\n",
       "      <td>...</td>\n",
       "    </tr>\n",
       "    <tr>\n",
       "      <th>3172</th>\n",
       "      <td>1009.0</td>\n",
       "      <td>963.015381</td>\n",
       "    </tr>\n",
       "    <tr>\n",
       "      <th>3173</th>\n",
       "      <td>981.0</td>\n",
       "      <td>930.268372</td>\n",
       "    </tr>\n",
       "    <tr>\n",
       "      <th>3174</th>\n",
       "      <td>0.0</td>\n",
       "      <td>46.277935</td>\n",
       "    </tr>\n",
       "    <tr>\n",
       "      <th>3175</th>\n",
       "      <td>29.0</td>\n",
       "      <td>304.073792</td>\n",
       "    </tr>\n",
       "    <tr>\n",
       "      <th>3176</th>\n",
       "      <td>158.0</td>\n",
       "      <td>307.734741</td>\n",
       "    </tr>\n",
       "  </tbody>\n",
       "</table>\n",
       "<p>3177 rows × 2 columns</p>\n",
       "</div>"
      ],
      "text/plain": [
       "      Actual   Predicted\n",
       "0     1026.0  972.481812\n",
       "1        0.0    8.759973\n",
       "2        0.0  -23.564064\n",
       "3      265.0  148.353546\n",
       "4      964.0  812.243225\n",
       "...      ...         ...\n",
       "3172  1009.0  963.015381\n",
       "3173   981.0  930.268372\n",
       "3174     0.0   46.277935\n",
       "3175    29.0  304.073792\n",
       "3176   158.0  307.734741\n",
       "\n",
       "[3177 rows x 2 columns]"
      ]
     },
     "execution_count": 420,
     "metadata": {},
     "output_type": "execute_result"
    }
   ],
   "source": [
    "df_testY = pd.DataFrame(testY)\n",
    "df_y_pred = pd.DataFrame(y_pred)\n",
    "\n",
    "df_testY.reset_index(drop=True, inplace=True)\n",
    "df_y_pred.reset_index(drop=True, inplace=True)\n",
    "\n",
    "df_results = pd.concat([df_testY, df_y_pred], axis=1)\n",
    "df_results.columns = ['Actual', 'Predicted']\n",
    "\n",
    "df_results"
   ]
  },
  {
   "cell_type": "code",
   "execution_count": 421,
   "metadata": {},
   "outputs": [
    {
     "name": "stdout",
     "output_type": "stream",
     "text": [
      "Neural Network\n",
      "Mean Absolute Error: 110.24330474079349\n",
      "Mean Squared Error: 28400.58036797352\n",
      "Root Mean Squared Error: 168.52471737989512\n",
      "Mean Absolute Percentage Error: 7.191741995647432e+16\n",
      "=================================================================\n",
      "\n",
      "Linear Regression\n",
      "Mean Absolute Error: 121.09410653734832\n",
      "Mean Squared Error: 30894.657464090058\n",
      "Root Mean Squared Error: 175.76876134310686\n",
      "Mean Absolute Percentage Error: 9.689863255563592e+16\n",
      "=================================================================\n",
      "\n",
      "SVR\n",
      "Mean Absolute Error: 252.1271735758908\n",
      "Mean Squared Error: 88746.9671952672\n",
      "Root Mean Squared Error: 297.904292005448\n",
      "Mean Absolute Percentage Error: 2.4056939178843744e+17\n"
     ]
    }
   ],
   "source": [
    "print(\"Neural Network\")\n",
    "print('Mean Absolute Error:', metrics.mean_absolute_error(testY, y_pred))\n",
    "print('Mean Squared Error:', metrics.mean_squared_error(testY, y_pred))\n",
    "print('Root Mean Squared Error:', metrics.mean_squared_error(testY, y_pred, squared=False))\n",
    "print('Mean Absolute Percentage Error:', metrics.mean_absolute_percentage_error(testY, y_pred))\n",
    "print(\"=================================================================\\n\")\n",
    "\n",
    "print(\"Linear Regression\")\n",
    "print('Mean Absolute Error:', metrics.mean_absolute_error(testY, y_pred_linreg))\n",
    "print('Mean Squared Error:', metrics.mean_squared_error(testY, y_pred_linreg))\n",
    "print('Root Mean Squared Error:', metrics.mean_squared_error(testY, y_pred_linreg, squared=False))\n",
    "print('Mean Absolute Percentage Error:', metrics.mean_absolute_percentage_error(testY, y_pred_linreg))\n",
    "print(\"=================================================================\\n\")\n",
    "\n",
    "print(\"SVR\")\n",
    "print('Mean Absolute Error:', metrics.mean_absolute_error(testY, y_pred_svr))\n",
    "print('Mean Squared Error:', metrics.mean_squared_error(testY, y_pred_svr))\n",
    "print('Root Mean Squared Error:', metrics.mean_squared_error(testY, y_pred_svr, squared=False))\n",
    "print('Mean Absolute Percentage Error:', metrics.mean_absolute_percentage_error(testY, y_pred_svr))\n"
   ]
  },
  {
   "cell_type": "code",
   "execution_count": 443,
   "metadata": {},
   "outputs": [
    {
     "name": "stdout",
     "output_type": "stream",
     "text": [
      "DatetimeIndex(['2010-09-02 08:00:00', '2010-09-02 08:30:00',\n",
      "               '2010-09-02 09:00:00', '2010-09-02 09:30:00',\n",
      "               '2010-09-02 10:00:00', '2010-09-02 10:30:00',\n",
      "               '2010-09-02 11:00:00', '2010-09-02 11:30:00',\n",
      "               '2010-09-02 12:00:00', '2010-09-02 12:30:00',\n",
      "               ...\n",
      "               '2010-12-31 14:30:00', '2010-12-31 15:00:00',\n",
      "               '2010-12-31 15:30:00', '2010-12-31 16:00:00',\n",
      "               '2010-12-31 16:30:00', '2010-12-31 17:00:00',\n",
      "               '2010-12-31 17:30:00', '2010-12-31 18:00:00',\n",
      "               '2010-12-31 18:30:00', '2010-12-31 19:00:00'],\n",
      "              dtype='datetime64[ns]', length=3503, freq=None)\n"
     ]
    }
   ],
   "source": [
    "# make the time stamp matches the test Y\n",
    "shifted_df = df.iloc[8:, :]\n",
    "bad_df = shifted_df.isin(shifted_df.iloc[zero_index, :])\n",
    "df_zero_deleted = shifted_df[~bad_df].dropna()\n",
    "df_zero_deleted.shape\n",
    "timest = df_zero_deleted.index[-test_size:]\n",
    "print(timest)"
   ]
  },
  {
   "cell_type": "code",
   "execution_count": 450,
   "metadata": {},
   "outputs": [
    {
     "name": "stdout",
     "output_type": "stream",
     "text": [
      "(3503, 1)\n"
     ]
    },
    {
     "data": {
      "image/png": "[encoded data removed]",
      "text/plain": [
       "<Figure size 640x480 with 1 Axes>"
      ]
     },
     "metadata": {},
     "output_type": "display_data"
    }
   ],
   "source": [
    "test_size = len(Y_test)\n",
    "\n",
    "np.reshape(Y_test,Y_test.shape[0])\n",
    "print(Y_test.shape)\n",
    "k =20\n",
    "plt.plot(timest[:k], Y_test[:k], 'r', label='True')\n",
    "plt.plot(timest[:k], y_pred[:k], 'b', label='ANN Forcast')\n",
    "plt.plot(timest[:k], y_pred_svr[:k], 'y', label='SVR Forcast')\n",
    "plt.plot(timest[:k], y_pred_linreg[:k], 'g', label='LinearReg Forcast')\n",
    "plt.xticks(rotation=45, ha='right')\n",
    "plt.legend()\n",
    "plt.show()"
   ]
  },
  {
   "cell_type": "code",
   "execution_count": 463,
   "metadata": {},
   "outputs": [
    {
     "ename": "TypeError",
     "evalue": "'module' object is not callable",
     "output_type": "error",
     "traceback": [
      "\u001b[0;31m---------------------------------------------------------------------------\u001b[0m",
      "\u001b[0;31mTypeError\u001b[0m                                 Traceback (most recent call last)",
      "\u001b[1;32m/Users/saraabouelella/dev/Python/NREL-Data/read_data.ipynb Cell 38\u001b[0m line \u001b[0;36m5\n\u001b[1;32m      <a href='vscode-notebook-cell:/Users/saraabouelella/dev/Python/NREL-Data/read_data.ipynb#X63sZmlsZQ%3D%3D?line=1'>2</a>\u001b[0m \u001b[39mimport\u001b[39;00m \u001b[39mmatplotlib\u001b[39;00m\u001b[39m.\u001b[39;00m\u001b[39manimation\u001b[39;00m\n\u001b[1;32m      <a href='vscode-notebook-cell:/Users/saraabouelella/dev/Python/NREL-Data/read_data.ipynb#X63sZmlsZQ%3D%3D?line=3'>4</a>\u001b[0m fig \u001b[39m=\u001b[39m plt\u001b[39m.\u001b[39mfigure(figsize\u001b[39m=\u001b[39m(\u001b[39m27\u001b[39m, \u001b[39m20\u001b[39m))\n\u001b[0;32m----> <a href='vscode-notebook-cell:/Users/saraabouelella/dev/Python/NREL-Data/read_data.ipynb#X63sZmlsZQ%3D%3D?line=4'>5</a>\u001b[0m m \u001b[39m=\u001b[39m basemap(projection\u001b[39m=\u001b[39;49m\u001b[39m'\u001b[39;49m\u001b[39mmill\u001b[39;49m\u001b[39m'\u001b[39;49m, lon_0\u001b[39m=\u001b[39;49m\u001b[39m0\u001b[39;49m)\n\u001b[1;32m      <a href='vscode-notebook-cell:/Users/saraabouelella/dev/Python/NREL-Data/read_data.ipynb#X63sZmlsZQ%3D%3D?line=5'>6</a>\u001b[0m m\u001b[39m.\u001b[39mdrawcoastlines(color\u001b[39m=\u001b[39m\u001b[39m'\u001b[39m\u001b[39mr\u001b[39m\u001b[39m'\u001b[39m, linewidth\u001b[39m=\u001b[39m\u001b[39m1.0\u001b[39m)\n",
      "\u001b[0;31mTypeError\u001b[0m: 'module' object is not callable"
     ]
    },
    {
     "data": {
      "text/plain": [
       "<Figure size 2700x2000 with 0 Axes>"
      ]
     },
     "metadata": {},
     "output_type": "display_data"
    }
   ],
   "source": [
    "import basemap\n",
    "import matplotlib.animation\n",
    "\n",
    "fig = plt.figure(figsize=(27, 20))\n",
    "m = basemap(projection='mill', lon_0=0)\n",
    "m.drawcoastlines(color='r', linewidth=1.0)\n"
   ]
  }
 ],
 "metadata": {
  "kernelspec": {
   "display_name": "nreldata",
   "language": "python",
   "name": "python3"
  },
  "language_info": {
   "codemirror_mode": {
    "name": "ipython",
    "version": 3
   },
   "file_extension": ".py",
   "mimetype": "text/x-python",
   "name": "python",
   "nbconvert_exporter": "python",
   "pygments_lexer": "ipython3",
   "version": "3.11.5"
  }
 },
 "nbformat": 4,
 "nbformat_minor": 2
}
