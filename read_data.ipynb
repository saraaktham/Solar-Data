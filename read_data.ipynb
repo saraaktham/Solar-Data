{
 "cells": [
  {
   "cell_type": "code",
   "execution_count": 387,
   "metadata": {},
   "outputs": [],
   "source": [
    "import sys, os\n",
    "import pandas as pd\n",
    "import numpy as np\n",
    "\n",
    "from IPython.display import display"
   ]
  },
  {
   "cell_type": "code",
   "execution_count": 388,
   "metadata": {},
   "outputs": [],
   "source": [
    "# Declare all variables as strings. Spaces must be replaced with '+', i.e., change 'John Smith' to 'John+Smith'.\n",
    "# Define the lat, long of the location and the year\n",
    "\n",
    "p1_lat, p1_lon = 39.835694, -105.359097\n",
    "p2_lat, p2_lon = 39.855119, -105.297783\n",
    "p3_lat, p3_lon = 39.655210, -105.402332\n",
    "p4_lat, p4_lon = 39.965930, -105.440591\n",
    "\n",
    "# You must request an NSRDB api key from the link above\n",
    "api_key = '1gHoGjlIGeXbQOpiunnlRrJS9vYYb490MA4n9X7s'\n",
    "# Set the attributes to extract (e.g., dhi, ghi, etc.), separated by commas.\n",
    "attributes = 'air_temperature,solar_zenith_angle,dew_point,relative_humidity,surface_albedo,surface_pressure,total_precipitable_water,wind_speed,wind_direction,ghi,dhi,dni'\n",
    "   \n",
    "# Choose year of data\n",
    "year = '2010'\n",
    "# Set leap year to true or false. True will return leap day data if present, false will not.\n",
    "leap_year = 'false'\n",
    "# Set time interval in minutes, i.e., '30' is half hour intervals. Valid intervals are 30 & 60.\n",
    "interval = '30'\n",
    "# Specify Coordinated Universal Time (UTC), 'true' will use UTC, 'false' will use the local time zone of the data.\n",
    "# NOTE: In order to use the NSRDB data in SAM, you must specify UTC as 'false'. SAM requires the data to be in the\n",
    "# local time zone.\n",
    "utc = 'false'\n",
    "# Your full name, use '+' instead of spaces.\n",
    "your_name = 'Sara+Abouelella'\n",
    "# Your reason for using the NSRDB.\n",
    "reason_for_use = 'interview'\n",
    "# Your affiliation\n",
    "your_affiliation = 'student'\n",
    "# Your email address\n",
    "your_email = 'sabouelella3@gatech.edu'\n",
    "# Please join our mailing list so we can keep you up-to-date on new developments.\n",
    "mailing_list = 'false'\n",
    "\n",
    "# Declare url string\n",
    "url = 'https://developer.nrel.gov/api/nsrdb/v2/solar/psm3-download.csv?wkt=POINT({lon}%20{lat})&names={year}&leap_day={leap}&interval={interval}&utc={utc}&full_name={name}&email={email}&affiliation={affiliation}&mailing_list={mailing_list}&reason={reason}&api_key={api}&attributes={attr}'.format(year=year, lat=p4_lat, lon=p4_lon, leap=leap_year, interval=interval, utc=utc, name=your_name, email=your_email, mailing_list=mailing_list, affiliation=your_affiliation, reason=reason_for_use, api=api_key, attr=attributes)\n",
    "# Return just the first 2 lines to get metadata:\n",
    "info = pd.read_csv(url, nrows=1)\n",
    "# See metadata for specified properties, e.g., timezone and elevation\n",
    "timezone, elevation = info['Local Time Zone'], info['Elevation']"
   ]
  },
  {
   "cell_type": "code",
   "execution_count": 389,
   "metadata": {},
   "outputs": [
    {
     "data": {
      "text/html": [
       "<div>\n",
       "<style scoped>\n",
       "    .dataframe tbody tr th:only-of-type {\n",
       "        vertical-align: middle;\n",
       "    }\n",
       "\n",
       "    .dataframe tbody tr th {\n",
       "        vertical-align: top;\n",
       "    }\n",
       "\n",
       "    .dataframe thead th {\n",
       "        text-align: right;\n",
       "    }\n",
       "</style>\n",
       "<table border=\"1\" class=\"dataframe\">\n",
       "  <thead>\n",
       "    <tr style=\"text-align: right;\">\n",
       "      <th></th>\n",
       "      <th>Source</th>\n",
       "      <th>Location ID</th>\n",
       "      <th>City</th>\n",
       "      <th>State</th>\n",
       "      <th>Country</th>\n",
       "      <th>Latitude</th>\n",
       "      <th>Longitude</th>\n",
       "      <th>Time Zone</th>\n",
       "      <th>Elevation</th>\n",
       "      <th>Local Time Zone</th>\n",
       "      <th>...</th>\n",
       "      <th>Cloud Type 11</th>\n",
       "      <th>Cloud Type 12</th>\n",
       "      <th>Fill Flag 0</th>\n",
       "      <th>Fill Flag 1</th>\n",
       "      <th>Fill Flag 2</th>\n",
       "      <th>Fill Flag 3</th>\n",
       "      <th>Fill Flag 4</th>\n",
       "      <th>Fill Flag 5</th>\n",
       "      <th>Surface Albedo Units</th>\n",
       "      <th>Version</th>\n",
       "    </tr>\n",
       "  </thead>\n",
       "  <tbody>\n",
       "    <tr>\n",
       "      <th>0</th>\n",
       "      <td>NSRDB</td>\n",
       "      <td>148698</td>\n",
       "      <td>-</td>\n",
       "      <td>-</td>\n",
       "      <td>-</td>\n",
       "      <td>39.97</td>\n",
       "      <td>-105.46</td>\n",
       "      <td>-7</td>\n",
       "      <td>2529</td>\n",
       "      <td>-7</td>\n",
       "      <td>...</td>\n",
       "      <td>Dust</td>\n",
       "      <td>Smoke</td>\n",
       "      <td>NaN</td>\n",
       "      <td>Missing Image</td>\n",
       "      <td>Low Irradiance</td>\n",
       "      <td>Exceeds Clearsky</td>\n",
       "      <td>Missing CLoud Properties</td>\n",
       "      <td>Rayleigh Violation</td>\n",
       "      <td>NaN</td>\n",
       "      <td>3.0.6</td>\n",
       "    </tr>\n",
       "  </tbody>\n",
       "</table>\n",
       "<p>1 rows × 46 columns</p>\n",
       "</div>"
      ],
      "text/plain": [
       "  Source  Location ID City State Country  Latitude  Longitude  Time Zone  \\\n",
       "0  NSRDB       148698    -     -       -     39.97    -105.46         -7   \n",
       "\n",
       "   Elevation  Local Time Zone  ... Cloud Type 11 Cloud Type 12 Fill Flag 0  \\\n",
       "0       2529               -7  ...          Dust         Smoke         NaN   \n",
       "\n",
       "     Fill Flag 1     Fill Flag 2       Fill Flag 3               Fill Flag 4  \\\n",
       "0  Missing Image  Low Irradiance  Exceeds Clearsky  Missing CLoud Properties   \n",
       "\n",
       "          Fill Flag 5 Surface Albedo Units Version  \n",
       "0  Rayleigh Violation                  NaN   3.0.6  \n",
       "\n",
       "[1 rows x 46 columns]"
      ]
     },
     "execution_count": 389,
     "metadata": {},
     "output_type": "execute_result"
    }
   ],
   "source": [
    "# View metadata\n",
    "info"
   ]
  },
  {
   "cell_type": "code",
   "execution_count": 390,
   "metadata": {},
   "outputs": [
    {
     "name": "stdout",
     "output_type": "stream",
     "text": [
      "shape: (17520, 17)\n"
     ]
    },
    {
     "data": {
      "text/html": [
       "<div>\n",
       "<style scoped>\n",
       "    .dataframe tbody tr th:only-of-type {\n",
       "        vertical-align: middle;\n",
       "    }\n",
       "\n",
       "    .dataframe tbody tr th {\n",
       "        vertical-align: top;\n",
       "    }\n",
       "\n",
       "    .dataframe thead th {\n",
       "        text-align: right;\n",
       "    }\n",
       "</style>\n",
       "<table border=\"1\" class=\"dataframe\">\n",
       "  <thead>\n",
       "    <tr style=\"text-align: right;\">\n",
       "      <th></th>\n",
       "      <th>Year</th>\n",
       "      <th>Month</th>\n",
       "      <th>Day</th>\n",
       "      <th>Hour</th>\n",
       "      <th>Minute</th>\n",
       "      <th>Temperature</th>\n",
       "      <th>Solar Zenith Angle</th>\n",
       "      <th>Dew Point</th>\n",
       "      <th>Relative Humidity</th>\n",
       "      <th>Surface Albedo</th>\n",
       "      <th>Pressure</th>\n",
       "      <th>Precipitable Water</th>\n",
       "      <th>Wind Speed</th>\n",
       "      <th>Wind Direction</th>\n",
       "      <th>GHI</th>\n",
       "      <th>DHI</th>\n",
       "      <th>DNI</th>\n",
       "    </tr>\n",
       "  </thead>\n",
       "  <tbody>\n",
       "    <tr>\n",
       "      <th>2010-01-01 00:00:00</th>\n",
       "      <td>2010</td>\n",
       "      <td>1</td>\n",
       "      <td>1</td>\n",
       "      <td>0</td>\n",
       "      <td>0</td>\n",
       "      <td>-10</td>\n",
       "      <td>163.12</td>\n",
       "      <td>-16</td>\n",
       "      <td>59.53</td>\n",
       "      <td>0.866</td>\n",
       "      <td>750</td>\n",
       "      <td>0.479</td>\n",
       "      <td>3.8</td>\n",
       "      <td>267.3</td>\n",
       "      <td>0</td>\n",
       "      <td>0</td>\n",
       "      <td>0</td>\n",
       "    </tr>\n",
       "    <tr>\n",
       "      <th>2010-01-01 00:30:00</th>\n",
       "      <td>2010</td>\n",
       "      <td>1</td>\n",
       "      <td>1</td>\n",
       "      <td>0</td>\n",
       "      <td>30</td>\n",
       "      <td>-10</td>\n",
       "      <td>162.32</td>\n",
       "      <td>-16</td>\n",
       "      <td>55.02</td>\n",
       "      <td>0.866</td>\n",
       "      <td>750</td>\n",
       "      <td>0.486</td>\n",
       "      <td>3.8</td>\n",
       "      <td>267.3</td>\n",
       "      <td>0</td>\n",
       "      <td>0</td>\n",
       "      <td>0</td>\n",
       "    </tr>\n",
       "    <tr>\n",
       "      <th>2010-01-01 01:00:00</th>\n",
       "      <td>2010</td>\n",
       "      <td>1</td>\n",
       "      <td>1</td>\n",
       "      <td>1</td>\n",
       "      <td>0</td>\n",
       "      <td>-10</td>\n",
       "      <td>159.50</td>\n",
       "      <td>-16</td>\n",
       "      <td>55.62</td>\n",
       "      <td>0.866</td>\n",
       "      <td>750</td>\n",
       "      <td>0.493</td>\n",
       "      <td>3.9</td>\n",
       "      <td>268.8</td>\n",
       "      <td>0</td>\n",
       "      <td>0</td>\n",
       "      <td>0</td>\n",
       "    </tr>\n",
       "    <tr>\n",
       "      <th>2010-01-01 01:30:00</th>\n",
       "      <td>2010</td>\n",
       "      <td>1</td>\n",
       "      <td>1</td>\n",
       "      <td>1</td>\n",
       "      <td>30</td>\n",
       "      <td>-9</td>\n",
       "      <td>155.34</td>\n",
       "      <td>-16</td>\n",
       "      <td>55.63</td>\n",
       "      <td>0.866</td>\n",
       "      <td>750</td>\n",
       "      <td>0.501</td>\n",
       "      <td>3.9</td>\n",
       "      <td>268.8</td>\n",
       "      <td>0</td>\n",
       "      <td>0</td>\n",
       "      <td>0</td>\n",
       "    </tr>\n",
       "    <tr>\n",
       "      <th>2010-01-01 02:00:00</th>\n",
       "      <td>2010</td>\n",
       "      <td>1</td>\n",
       "      <td>1</td>\n",
       "      <td>2</td>\n",
       "      <td>0</td>\n",
       "      <td>-9</td>\n",
       "      <td>150.42</td>\n",
       "      <td>-15</td>\n",
       "      <td>57.88</td>\n",
       "      <td>0.866</td>\n",
       "      <td>750</td>\n",
       "      <td>0.509</td>\n",
       "      <td>3.9</td>\n",
       "      <td>270.0</td>\n",
       "      <td>0</td>\n",
       "      <td>0</td>\n",
       "      <td>0</td>\n",
       "    </tr>\n",
       "    <tr>\n",
       "      <th>2010-01-01 02:30:00</th>\n",
       "      <td>2010</td>\n",
       "      <td>1</td>\n",
       "      <td>1</td>\n",
       "      <td>2</td>\n",
       "      <td>30</td>\n",
       "      <td>-9</td>\n",
       "      <td>145.08</td>\n",
       "      <td>-15</td>\n",
       "      <td>53.54</td>\n",
       "      <td>0.866</td>\n",
       "      <td>750</td>\n",
       "      <td>0.516</td>\n",
       "      <td>3.8</td>\n",
       "      <td>270.0</td>\n",
       "      <td>0</td>\n",
       "      <td>0</td>\n",
       "      <td>0</td>\n",
       "    </tr>\n",
       "    <tr>\n",
       "      <th>2010-01-01 03:00:00</th>\n",
       "      <td>2010</td>\n",
       "      <td>1</td>\n",
       "      <td>1</td>\n",
       "      <td>3</td>\n",
       "      <td>0</td>\n",
       "      <td>-9</td>\n",
       "      <td>139.51</td>\n",
       "      <td>-14</td>\n",
       "      <td>57.22</td>\n",
       "      <td>0.866</td>\n",
       "      <td>750</td>\n",
       "      <td>0.523</td>\n",
       "      <td>3.8</td>\n",
       "      <td>270.0</td>\n",
       "      <td>0</td>\n",
       "      <td>0</td>\n",
       "      <td>0</td>\n",
       "    </tr>\n",
       "    <tr>\n",
       "      <th>2010-01-01 03:30:00</th>\n",
       "      <td>2010</td>\n",
       "      <td>1</td>\n",
       "      <td>1</td>\n",
       "      <td>3</td>\n",
       "      <td>30</td>\n",
       "      <td>-9</td>\n",
       "      <td>133.81</td>\n",
       "      <td>-14</td>\n",
       "      <td>57.23</td>\n",
       "      <td>0.866</td>\n",
       "      <td>750</td>\n",
       "      <td>0.527</td>\n",
       "      <td>3.7</td>\n",
       "      <td>270.0</td>\n",
       "      <td>0</td>\n",
       "      <td>0</td>\n",
       "      <td>0</td>\n",
       "    </tr>\n",
       "  </tbody>\n",
       "</table>\n",
       "</div>"
      ],
      "text/plain": [
       "                     Year  Month  Day  Hour  Minute  Temperature  \\\n",
       "2010-01-01 00:00:00  2010      1    1     0       0          -10   \n",
       "2010-01-01 00:30:00  2010      1    1     0      30          -10   \n",
       "2010-01-01 01:00:00  2010      1    1     1       0          -10   \n",
       "2010-01-01 01:30:00  2010      1    1     1      30           -9   \n",
       "2010-01-01 02:00:00  2010      1    1     2       0           -9   \n",
       "2010-01-01 02:30:00  2010      1    1     2      30           -9   \n",
       "2010-01-01 03:00:00  2010      1    1     3       0           -9   \n",
       "2010-01-01 03:30:00  2010      1    1     3      30           -9   \n",
       "\n",
       "                     Solar Zenith Angle  Dew Point  Relative Humidity  \\\n",
       "2010-01-01 00:00:00              163.12        -16              59.53   \n",
       "2010-01-01 00:30:00              162.32        -16              55.02   \n",
       "2010-01-01 01:00:00              159.50        -16              55.62   \n",
       "2010-01-01 01:30:00              155.34        -16              55.63   \n",
       "2010-01-01 02:00:00              150.42        -15              57.88   \n",
       "2010-01-01 02:30:00              145.08        -15              53.54   \n",
       "2010-01-01 03:00:00              139.51        -14              57.22   \n",
       "2010-01-01 03:30:00              133.81        -14              57.23   \n",
       "\n",
       "                     Surface Albedo  Pressure  Precipitable Water  Wind Speed  \\\n",
       "2010-01-01 00:00:00           0.866       750               0.479         3.8   \n",
       "2010-01-01 00:30:00           0.866       750               0.486         3.8   \n",
       "2010-01-01 01:00:00           0.866       750               0.493         3.9   \n",
       "2010-01-01 01:30:00           0.866       750               0.501         3.9   \n",
       "2010-01-01 02:00:00           0.866       750               0.509         3.9   \n",
       "2010-01-01 02:30:00           0.866       750               0.516         3.8   \n",
       "2010-01-01 03:00:00           0.866       750               0.523         3.8   \n",
       "2010-01-01 03:30:00           0.866       750               0.527         3.7   \n",
       "\n",
       "                     Wind Direction  GHI  DHI  DNI  \n",
       "2010-01-01 00:00:00           267.3    0    0    0  \n",
       "2010-01-01 00:30:00           267.3    0    0    0  \n",
       "2010-01-01 01:00:00           268.8    0    0    0  \n",
       "2010-01-01 01:30:00           268.8    0    0    0  \n",
       "2010-01-01 02:00:00           270.0    0    0    0  \n",
       "2010-01-01 02:30:00           270.0    0    0    0  \n",
       "2010-01-01 03:00:00           270.0    0    0    0  \n",
       "2010-01-01 03:30:00           270.0    0    0    0  "
      ]
     },
     "execution_count": 390,
     "metadata": {},
     "output_type": "execute_result"
    }
   ],
   "source": [
    "# Return all but first 2 lines of csv to get data:\n",
    "df = pd.read_csv('https://developer.nrel.gov/api/nsrdb/v2/solar/psm3-download.csv?wkt=POINT({lon}%20{lat})&names={year}&leap_day={leap}&interval={interval}&utc={utc}&full_name={name}&email={email}&affiliation={affiliation}&mailing_list={mailing_list}&reason={reason}&api_key={api}&attributes={attr}'.format(year=year, lat=p1_lat, lon=p1_lon, leap=leap_year, interval=interval, utc=utc, name=your_name, email=your_email, mailing_list=mailing_list, affiliation=your_affiliation, reason=reason_for_use, api=api_key, attr=attributes), skiprows=2)\n",
    "\n",
    "# Set the time index in the pandas dataframe:\n",
    "df = df.set_index(pd.date_range('1/1/{yr}'.format(yr=year), freq=interval+'Min', periods=525600/int(interval)))\n",
    "# df.set_index()\n",
    "# take a look\n",
    "print('shape:', df.shape)\n",
    "df.head(8)\n",
    "# print(df.iloc[2,:])"
   ]
  },
  {
   "cell_type": "code",
   "execution_count": 391,
   "metadata": {},
   "outputs": [
    {
     "data": {
      "text/html": [
       "<div>\n",
       "<style scoped>\n",
       "    .dataframe tbody tr th:only-of-type {\n",
       "        vertical-align: middle;\n",
       "    }\n",
       "\n",
       "    .dataframe tbody tr th {\n",
       "        vertical-align: top;\n",
       "    }\n",
       "\n",
       "    .dataframe thead th {\n",
       "        text-align: right;\n",
       "    }\n",
       "</style>\n",
       "<table border=\"1\" class=\"dataframe\">\n",
       "  <thead>\n",
       "    <tr style=\"text-align: right;\">\n",
       "      <th></th>\n",
       "      <th>Month</th>\n",
       "      <th>Day</th>\n",
       "      <th>Hour</th>\n",
       "      <th>Minute</th>\n",
       "      <th>Temperature</th>\n",
       "      <th>Solar Zenith Angle</th>\n",
       "      <th>Dew Point</th>\n",
       "      <th>Relative Humidity</th>\n",
       "      <th>Surface Albedo</th>\n",
       "      <th>Pressure</th>\n",
       "      <th>Precipitable Water</th>\n",
       "      <th>Wind Speed</th>\n",
       "      <th>Wind Direction</th>\n",
       "      <th>GHI</th>\n",
       "      <th>DHI</th>\n",
       "      <th>DNI</th>\n",
       "    </tr>\n",
       "  </thead>\n",
       "  <tbody>\n",
       "    <tr>\n",
       "      <th>2010-01-01 00:00:00</th>\n",
       "      <td>1</td>\n",
       "      <td>1</td>\n",
       "      <td>0</td>\n",
       "      <td>0</td>\n",
       "      <td>-10</td>\n",
       "      <td>163.12</td>\n",
       "      <td>-16</td>\n",
       "      <td>59.53</td>\n",
       "      <td>0.866</td>\n",
       "      <td>750</td>\n",
       "      <td>0.479</td>\n",
       "      <td>3.8</td>\n",
       "      <td>267.3</td>\n",
       "      <td>0</td>\n",
       "      <td>0</td>\n",
       "      <td>0</td>\n",
       "    </tr>\n",
       "    <tr>\n",
       "      <th>2010-01-01 00:30:00</th>\n",
       "      <td>1</td>\n",
       "      <td>1</td>\n",
       "      <td>0</td>\n",
       "      <td>30</td>\n",
       "      <td>-10</td>\n",
       "      <td>162.32</td>\n",
       "      <td>-16</td>\n",
       "      <td>55.02</td>\n",
       "      <td>0.866</td>\n",
       "      <td>750</td>\n",
       "      <td>0.486</td>\n",
       "      <td>3.8</td>\n",
       "      <td>267.3</td>\n",
       "      <td>0</td>\n",
       "      <td>0</td>\n",
       "      <td>0</td>\n",
       "    </tr>\n",
       "    <tr>\n",
       "      <th>2010-01-01 01:00:00</th>\n",
       "      <td>1</td>\n",
       "      <td>1</td>\n",
       "      <td>1</td>\n",
       "      <td>0</td>\n",
       "      <td>-10</td>\n",
       "      <td>159.50</td>\n",
       "      <td>-16</td>\n",
       "      <td>55.62</td>\n",
       "      <td>0.866</td>\n",
       "      <td>750</td>\n",
       "      <td>0.493</td>\n",
       "      <td>3.9</td>\n",
       "      <td>268.8</td>\n",
       "      <td>0</td>\n",
       "      <td>0</td>\n",
       "      <td>0</td>\n",
       "    </tr>\n",
       "    <tr>\n",
       "      <th>2010-01-01 01:30:00</th>\n",
       "      <td>1</td>\n",
       "      <td>1</td>\n",
       "      <td>1</td>\n",
       "      <td>30</td>\n",
       "      <td>-9</td>\n",
       "      <td>155.34</td>\n",
       "      <td>-16</td>\n",
       "      <td>55.63</td>\n",
       "      <td>0.866</td>\n",
       "      <td>750</td>\n",
       "      <td>0.501</td>\n",
       "      <td>3.9</td>\n",
       "      <td>268.8</td>\n",
       "      <td>0</td>\n",
       "      <td>0</td>\n",
       "      <td>0</td>\n",
       "    </tr>\n",
       "    <tr>\n",
       "      <th>2010-01-01 02:00:00</th>\n",
       "      <td>1</td>\n",
       "      <td>1</td>\n",
       "      <td>2</td>\n",
       "      <td>0</td>\n",
       "      <td>-9</td>\n",
       "      <td>150.42</td>\n",
       "      <td>-15</td>\n",
       "      <td>57.88</td>\n",
       "      <td>0.866</td>\n",
       "      <td>750</td>\n",
       "      <td>0.509</td>\n",
       "      <td>3.9</td>\n",
       "      <td>270.0</td>\n",
       "      <td>0</td>\n",
       "      <td>0</td>\n",
       "      <td>0</td>\n",
       "    </tr>\n",
       "  </tbody>\n",
       "</table>\n",
       "</div>"
      ],
      "text/plain": [
       "                     Month  Day  Hour  Minute  Temperature  \\\n",
       "2010-01-01 00:00:00      1    1     0       0          -10   \n",
       "2010-01-01 00:30:00      1    1     0      30          -10   \n",
       "2010-01-01 01:00:00      1    1     1       0          -10   \n",
       "2010-01-01 01:30:00      1    1     1      30           -9   \n",
       "2010-01-01 02:00:00      1    1     2       0           -9   \n",
       "\n",
       "                     Solar Zenith Angle  Dew Point  Relative Humidity  \\\n",
       "2010-01-01 00:00:00              163.12        -16              59.53   \n",
       "2010-01-01 00:30:00              162.32        -16              55.02   \n",
       "2010-01-01 01:00:00              159.50        -16              55.62   \n",
       "2010-01-01 01:30:00              155.34        -16              55.63   \n",
       "2010-01-01 02:00:00              150.42        -15              57.88   \n",
       "\n",
       "                     Surface Albedo  Pressure  Precipitable Water  Wind Speed  \\\n",
       "2010-01-01 00:00:00           0.866       750               0.479         3.8   \n",
       "2010-01-01 00:30:00           0.866       750               0.486         3.8   \n",
       "2010-01-01 01:00:00           0.866       750               0.493         3.9   \n",
       "2010-01-01 01:30:00           0.866       750               0.501         3.9   \n",
       "2010-01-01 02:00:00           0.866       750               0.509         3.9   \n",
       "\n",
       "                     Wind Direction  GHI  DHI  DNI  \n",
       "2010-01-01 00:00:00           267.3    0    0    0  \n",
       "2010-01-01 00:30:00           267.3    0    0    0  \n",
       "2010-01-01 01:00:00           268.8    0    0    0  \n",
       "2010-01-01 01:30:00           268.8    0    0    0  \n",
       "2010-01-01 02:00:00           270.0    0    0    0  "
      ]
     },
     "execution_count": 391,
     "metadata": {},
     "output_type": "execute_result"
    }
   ],
   "source": [
    "# df.insert(3, 'MonthDay', df['Month']*100+df['Day']*10+df['Minute'])\n",
    "dff = df.drop(columns=['Year'], axis=1)\n",
    "\n",
    "dff.head()"
   ]
  },
  {
   "cell_type": "code",
   "execution_count": 392,
   "metadata": {},
   "outputs": [
    {
     "data": {
      "image/png": "[encoded data removed]",
      "text/plain": [
       "<Figure size 640x480 with 2 Axes>"
      ]
     },
     "metadata": {},
     "output_type": "display_data"
    }
   ],
   "source": [
    "import matplotlib.pyplot as plt\n",
    "import seaborn as sns\n",
    "corr_matrix = abs(dff.corr())\n",
    "heatmap = sns.heatmap(abs(corr_matrix))\n",
    "plt.title('Correlation Heatmap')\n",
    "plt.show()"
   ]
  },
  {
   "cell_type": "code",
   "execution_count": 393,
   "metadata": {},
   "outputs": [
    {
     "data": {
      "text/html": [
       "<div>\n",
       "<style scoped>\n",
       "    .dataframe tbody tr th:only-of-type {\n",
       "        vertical-align: middle;\n",
       "    }\n",
       "\n",
       "    .dataframe tbody tr th {\n",
       "        vertical-align: top;\n",
       "    }\n",
       "\n",
       "    .dataframe thead th {\n",
       "        text-align: right;\n",
       "    }\n",
       "</style>\n",
       "<table border=\"1\" class=\"dataframe\">\n",
       "  <thead>\n",
       "    <tr style=\"text-align: right;\">\n",
       "      <th></th>\n",
       "      <th>Year</th>\n",
       "      <th>Month</th>\n",
       "      <th>Day</th>\n",
       "      <th>Hour</th>\n",
       "      <th>Minute</th>\n",
       "      <th>Temperature</th>\n",
       "      <th>Solar Zenith Angle</th>\n",
       "      <th>Dew Point</th>\n",
       "      <th>Relative Humidity</th>\n",
       "      <th>Surface Albedo</th>\n",
       "      <th>...</th>\n",
       "      <th>DHI</th>\n",
       "      <th>DNI</th>\n",
       "      <th>DNI after 0.5h</th>\n",
       "      <th>DNI after 1.0h</th>\n",
       "      <th>DNI after 1.5h</th>\n",
       "      <th>DNI after 2.0h</th>\n",
       "      <th>DNI after 2.5h</th>\n",
       "      <th>DNI after 3.0h</th>\n",
       "      <th>DNI after 3.5h</th>\n",
       "      <th>DNI after 4.0h</th>\n",
       "    </tr>\n",
       "  </thead>\n",
       "  <tbody>\n",
       "    <tr>\n",
       "      <th>2010-01-01 00:00:00</th>\n",
       "      <td>2010</td>\n",
       "      <td>1</td>\n",
       "      <td>1</td>\n",
       "      <td>0</td>\n",
       "      <td>0</td>\n",
       "      <td>-10</td>\n",
       "      <td>163.12</td>\n",
       "      <td>-16</td>\n",
       "      <td>59.53</td>\n",
       "      <td>0.866</td>\n",
       "      <td>...</td>\n",
       "      <td>0</td>\n",
       "      <td>0</td>\n",
       "      <td>NaN</td>\n",
       "      <td>NaN</td>\n",
       "      <td>NaN</td>\n",
       "      <td>NaN</td>\n",
       "      <td>NaN</td>\n",
       "      <td>NaN</td>\n",
       "      <td>NaN</td>\n",
       "      <td>NaN</td>\n",
       "    </tr>\n",
       "    <tr>\n",
       "      <th>2010-01-01 00:30:00</th>\n",
       "      <td>2010</td>\n",
       "      <td>1</td>\n",
       "      <td>1</td>\n",
       "      <td>0</td>\n",
       "      <td>30</td>\n",
       "      <td>-10</td>\n",
       "      <td>162.32</td>\n",
       "      <td>-16</td>\n",
       "      <td>55.02</td>\n",
       "      <td>0.866</td>\n",
       "      <td>...</td>\n",
       "      <td>0</td>\n",
       "      <td>0</td>\n",
       "      <td>0.0</td>\n",
       "      <td>NaN</td>\n",
       "      <td>NaN</td>\n",
       "      <td>NaN</td>\n",
       "      <td>NaN</td>\n",
       "      <td>NaN</td>\n",
       "      <td>NaN</td>\n",
       "      <td>NaN</td>\n",
       "    </tr>\n",
       "    <tr>\n",
       "      <th>2010-01-01 01:00:00</th>\n",
       "      <td>2010</td>\n",
       "      <td>1</td>\n",
       "      <td>1</td>\n",
       "      <td>1</td>\n",
       "      <td>0</td>\n",
       "      <td>-10</td>\n",
       "      <td>159.50</td>\n",
       "      <td>-16</td>\n",
       "      <td>55.62</td>\n",
       "      <td>0.866</td>\n",
       "      <td>...</td>\n",
       "      <td>0</td>\n",
       "      <td>0</td>\n",
       "      <td>0.0</td>\n",
       "      <td>0.0</td>\n",
       "      <td>NaN</td>\n",
       "      <td>NaN</td>\n",
       "      <td>NaN</td>\n",
       "      <td>NaN</td>\n",
       "      <td>NaN</td>\n",
       "      <td>NaN</td>\n",
       "    </tr>\n",
       "    <tr>\n",
       "      <th>2010-01-01 01:30:00</th>\n",
       "      <td>2010</td>\n",
       "      <td>1</td>\n",
       "      <td>1</td>\n",
       "      <td>1</td>\n",
       "      <td>30</td>\n",
       "      <td>-9</td>\n",
       "      <td>155.34</td>\n",
       "      <td>-16</td>\n",
       "      <td>55.63</td>\n",
       "      <td>0.866</td>\n",
       "      <td>...</td>\n",
       "      <td>0</td>\n",
       "      <td>0</td>\n",
       "      <td>0.0</td>\n",
       "      <td>0.0</td>\n",
       "      <td>0.0</td>\n",
       "      <td>NaN</td>\n",
       "      <td>NaN</td>\n",
       "      <td>NaN</td>\n",
       "      <td>NaN</td>\n",
       "      <td>NaN</td>\n",
       "    </tr>\n",
       "    <tr>\n",
       "      <th>2010-01-01 02:00:00</th>\n",
       "      <td>2010</td>\n",
       "      <td>1</td>\n",
       "      <td>1</td>\n",
       "      <td>2</td>\n",
       "      <td>0</td>\n",
       "      <td>-9</td>\n",
       "      <td>150.42</td>\n",
       "      <td>-15</td>\n",
       "      <td>57.88</td>\n",
       "      <td>0.866</td>\n",
       "      <td>...</td>\n",
       "      <td>0</td>\n",
       "      <td>0</td>\n",
       "      <td>0.0</td>\n",
       "      <td>0.0</td>\n",
       "      <td>0.0</td>\n",
       "      <td>0.0</td>\n",
       "      <td>NaN</td>\n",
       "      <td>NaN</td>\n",
       "      <td>NaN</td>\n",
       "      <td>NaN</td>\n",
       "    </tr>\n",
       "  </tbody>\n",
       "</table>\n",
       "<p>5 rows × 25 columns</p>\n",
       "</div>"
      ],
      "text/plain": [
       "                     Year  Month  Day  Hour  Minute  Temperature  \\\n",
       "2010-01-01 00:00:00  2010      1    1     0       0          -10   \n",
       "2010-01-01 00:30:00  2010      1    1     0      30          -10   \n",
       "2010-01-01 01:00:00  2010      1    1     1       0          -10   \n",
       "2010-01-01 01:30:00  2010      1    1     1      30           -9   \n",
       "2010-01-01 02:00:00  2010      1    1     2       0           -9   \n",
       "\n",
       "                     Solar Zenith Angle  Dew Point  Relative Humidity  \\\n",
       "2010-01-01 00:00:00              163.12        -16              59.53   \n",
       "2010-01-01 00:30:00              162.32        -16              55.02   \n",
       "2010-01-01 01:00:00              159.50        -16              55.62   \n",
       "2010-01-01 01:30:00              155.34        -16              55.63   \n",
       "2010-01-01 02:00:00              150.42        -15              57.88   \n",
       "\n",
       "                     Surface Albedo  ...  DHI  DNI  DNI after 0.5h  \\\n",
       "2010-01-01 00:00:00           0.866  ...    0    0             NaN   \n",
       "2010-01-01 00:30:00           0.866  ...    0    0             0.0   \n",
       "2010-01-01 01:00:00           0.866  ...    0    0             0.0   \n",
       "2010-01-01 01:30:00           0.866  ...    0    0             0.0   \n",
       "2010-01-01 02:00:00           0.866  ...    0    0             0.0   \n",
       "\n",
       "                     DNI after 1.0h  DNI after 1.5h  DNI after 2.0h  \\\n",
       "2010-01-01 00:00:00             NaN             NaN             NaN   \n",
       "2010-01-01 00:30:00             NaN             NaN             NaN   \n",
       "2010-01-01 01:00:00             0.0             NaN             NaN   \n",
       "2010-01-01 01:30:00             0.0             0.0             NaN   \n",
       "2010-01-01 02:00:00             0.0             0.0             0.0   \n",
       "\n",
       "                     DNI after 2.5h  DNI after 3.0h  DNI after 3.5h  \\\n",
       "2010-01-01 00:00:00             NaN             NaN             NaN   \n",
       "2010-01-01 00:30:00             NaN             NaN             NaN   \n",
       "2010-01-01 01:00:00             NaN             NaN             NaN   \n",
       "2010-01-01 01:30:00             NaN             NaN             NaN   \n",
       "2010-01-01 02:00:00             NaN             NaN             NaN   \n",
       "\n",
       "                     DNI after 4.0h  \n",
       "2010-01-01 00:00:00             NaN  \n",
       "2010-01-01 00:30:00             NaN  \n",
       "2010-01-01 01:00:00             NaN  \n",
       "2010-01-01 01:30:00             NaN  \n",
       "2010-01-01 02:00:00             NaN  \n",
       "\n",
       "[5 rows x 25 columns]"
      ]
     },
     "execution_count": 393,
     "metadata": {},
     "output_type": "execute_result"
    }
   ],
   "source": [
    "df['DNI after 0.5h'] = df[['DNI']].shift(1)\n",
    "df['DNI after 1.0h'] = df[['DNI']].shift(2)\n",
    "df['DNI after 1.5h'] = df[['DNI']].shift(3)\n",
    "df['DNI after 2.0h'] = df[['DNI']].shift(4)\n",
    "df['DNI after 2.5h'] = df[['DNI']].shift(5)\n",
    "df['DNI after 3.0h'] = df[['DNI']].shift(6)\n",
    "df['DNI after 3.5h'] = df[['DNI']].shift(7)\n",
    "df['DNI after 4.0h'] = df[['DNI']].shift(8)\n",
    "df.head()"
   ]
  },
  {
   "cell_type": "code",
   "execution_count": 394,
   "metadata": {},
   "outputs": [
    {
     "data": {
      "text/html": [
       "<div>\n",
       "<style scoped>\n",
       "    .dataframe tbody tr th:only-of-type {\n",
       "        vertical-align: middle;\n",
       "    }\n",
       "\n",
       "    .dataframe tbody tr th {\n",
       "        vertical-align: top;\n",
       "    }\n",
       "\n",
       "    .dataframe thead th {\n",
       "        text-align: right;\n",
       "    }\n",
       "</style>\n",
       "<table border=\"1\" class=\"dataframe\">\n",
       "  <thead>\n",
       "    <tr style=\"text-align: right;\">\n",
       "      <th></th>\n",
       "      <th>Temperature</th>\n",
       "      <th>Solar Zenith Angle</th>\n",
       "      <th>Dew Point</th>\n",
       "      <th>Relative Humidity</th>\n",
       "      <th>Surface Albedo</th>\n",
       "      <th>Pressure</th>\n",
       "      <th>Precipitable Water</th>\n",
       "      <th>Wind Speed</th>\n",
       "      <th>Wind Direction</th>\n",
       "      <th>GHI</th>\n",
       "      <th>DHI</th>\n",
       "      <th>DNI</th>\n",
       "      <th>DNI after 0.5h</th>\n",
       "      <th>DNI after 1.0h</th>\n",
       "      <th>DNI after 1.5h</th>\n",
       "      <th>DNI after 2.0h</th>\n",
       "      <th>DNI after 2.5h</th>\n",
       "      <th>DNI after 3.0h</th>\n",
       "      <th>DNI after 3.5h</th>\n",
       "      <th>DNI after 4.0h</th>\n",
       "    </tr>\n",
       "  </thead>\n",
       "  <tbody>\n",
       "    <tr>\n",
       "      <th>2010-01-01 00:00:00</th>\n",
       "      <td>-10</td>\n",
       "      <td>163.12</td>\n",
       "      <td>-16</td>\n",
       "      <td>59.53</td>\n",
       "      <td>0.866</td>\n",
       "      <td>750</td>\n",
       "      <td>0.479</td>\n",
       "      <td>3.8</td>\n",
       "      <td>267.3</td>\n",
       "      <td>0</td>\n",
       "      <td>0</td>\n",
       "      <td>0</td>\n",
       "      <td>NaN</td>\n",
       "      <td>NaN</td>\n",
       "      <td>NaN</td>\n",
       "      <td>NaN</td>\n",
       "      <td>NaN</td>\n",
       "      <td>NaN</td>\n",
       "      <td>NaN</td>\n",
       "      <td>NaN</td>\n",
       "    </tr>\n",
       "    <tr>\n",
       "      <th>2010-01-01 00:30:00</th>\n",
       "      <td>-10</td>\n",
       "      <td>162.32</td>\n",
       "      <td>-16</td>\n",
       "      <td>55.02</td>\n",
       "      <td>0.866</td>\n",
       "      <td>750</td>\n",
       "      <td>0.486</td>\n",
       "      <td>3.8</td>\n",
       "      <td>267.3</td>\n",
       "      <td>0</td>\n",
       "      <td>0</td>\n",
       "      <td>0</td>\n",
       "      <td>0.0</td>\n",
       "      <td>NaN</td>\n",
       "      <td>NaN</td>\n",
       "      <td>NaN</td>\n",
       "      <td>NaN</td>\n",
       "      <td>NaN</td>\n",
       "      <td>NaN</td>\n",
       "      <td>NaN</td>\n",
       "    </tr>\n",
       "    <tr>\n",
       "      <th>2010-01-01 01:00:00</th>\n",
       "      <td>-10</td>\n",
       "      <td>159.50</td>\n",
       "      <td>-16</td>\n",
       "      <td>55.62</td>\n",
       "      <td>0.866</td>\n",
       "      <td>750</td>\n",
       "      <td>0.493</td>\n",
       "      <td>3.9</td>\n",
       "      <td>268.8</td>\n",
       "      <td>0</td>\n",
       "      <td>0</td>\n",
       "      <td>0</td>\n",
       "      <td>0.0</td>\n",
       "      <td>0.0</td>\n",
       "      <td>NaN</td>\n",
       "      <td>NaN</td>\n",
       "      <td>NaN</td>\n",
       "      <td>NaN</td>\n",
       "      <td>NaN</td>\n",
       "      <td>NaN</td>\n",
       "    </tr>\n",
       "    <tr>\n",
       "      <th>2010-01-01 01:30:00</th>\n",
       "      <td>-9</td>\n",
       "      <td>155.34</td>\n",
       "      <td>-16</td>\n",
       "      <td>55.63</td>\n",
       "      <td>0.866</td>\n",
       "      <td>750</td>\n",
       "      <td>0.501</td>\n",
       "      <td>3.9</td>\n",
       "      <td>268.8</td>\n",
       "      <td>0</td>\n",
       "      <td>0</td>\n",
       "      <td>0</td>\n",
       "      <td>0.0</td>\n",
       "      <td>0.0</td>\n",
       "      <td>0.0</td>\n",
       "      <td>NaN</td>\n",
       "      <td>NaN</td>\n",
       "      <td>NaN</td>\n",
       "      <td>NaN</td>\n",
       "      <td>NaN</td>\n",
       "    </tr>\n",
       "    <tr>\n",
       "      <th>2010-01-01 02:00:00</th>\n",
       "      <td>-9</td>\n",
       "      <td>150.42</td>\n",
       "      <td>-15</td>\n",
       "      <td>57.88</td>\n",
       "      <td>0.866</td>\n",
       "      <td>750</td>\n",
       "      <td>0.509</td>\n",
       "      <td>3.9</td>\n",
       "      <td>270.0</td>\n",
       "      <td>0</td>\n",
       "      <td>0</td>\n",
       "      <td>0</td>\n",
       "      <td>0.0</td>\n",
       "      <td>0.0</td>\n",
       "      <td>0.0</td>\n",
       "      <td>0.0</td>\n",
       "      <td>NaN</td>\n",
       "      <td>NaN</td>\n",
       "      <td>NaN</td>\n",
       "      <td>NaN</td>\n",
       "    </tr>\n",
       "  </tbody>\n",
       "</table>\n",
       "</div>"
      ],
      "text/plain": [
       "                     Temperature  Solar Zenith Angle  Dew Point  \\\n",
       "2010-01-01 00:00:00          -10              163.12        -16   \n",
       "2010-01-01 00:30:00          -10              162.32        -16   \n",
       "2010-01-01 01:00:00          -10              159.50        -16   \n",
       "2010-01-01 01:30:00           -9              155.34        -16   \n",
       "2010-01-01 02:00:00           -9              150.42        -15   \n",
       "\n",
       "                     Relative Humidity  Surface Albedo  Pressure  \\\n",
       "2010-01-01 00:00:00              59.53           0.866       750   \n",
       "2010-01-01 00:30:00              55.02           0.866       750   \n",
       "2010-01-01 01:00:00              55.62           0.866       750   \n",
       "2010-01-01 01:30:00              55.63           0.866       750   \n",
       "2010-01-01 02:00:00              57.88           0.866       750   \n",
       "\n",
       "                     Precipitable Water  Wind Speed  Wind Direction  GHI  DHI  \\\n",
       "2010-01-01 00:00:00               0.479         3.8           267.3    0    0   \n",
       "2010-01-01 00:30:00               0.486         3.8           267.3    0    0   \n",
       "2010-01-01 01:00:00               0.493         3.9           268.8    0    0   \n",
       "2010-01-01 01:30:00               0.501         3.9           268.8    0    0   \n",
       "2010-01-01 02:00:00               0.509         3.9           270.0    0    0   \n",
       "\n",
       "                     DNI  DNI after 0.5h  DNI after 1.0h  DNI after 1.5h  \\\n",
       "2010-01-01 00:00:00    0             NaN             NaN             NaN   \n",
       "2010-01-01 00:30:00    0             0.0             NaN             NaN   \n",
       "2010-01-01 01:00:00    0             0.0             0.0             NaN   \n",
       "2010-01-01 01:30:00    0             0.0             0.0             0.0   \n",
       "2010-01-01 02:00:00    0             0.0             0.0             0.0   \n",
       "\n",
       "                     DNI after 2.0h  DNI after 2.5h  DNI after 3.0h  \\\n",
       "2010-01-01 00:00:00             NaN             NaN             NaN   \n",
       "2010-01-01 00:30:00             NaN             NaN             NaN   \n",
       "2010-01-01 01:00:00             NaN             NaN             NaN   \n",
       "2010-01-01 01:30:00             NaN             NaN             NaN   \n",
       "2010-01-01 02:00:00             0.0             NaN             NaN   \n",
       "\n",
       "                     DNI after 3.5h  DNI after 4.0h  \n",
       "2010-01-01 00:00:00             NaN             NaN  \n",
       "2010-01-01 00:30:00             NaN             NaN  \n",
       "2010-01-01 01:00:00             NaN             NaN  \n",
       "2010-01-01 01:30:00             NaN             NaN  \n",
       "2010-01-01 02:00:00             NaN             NaN  "
      ]
     },
     "execution_count": 394,
     "metadata": {},
     "output_type": "execute_result"
    }
   ],
   "source": [
    "sub_df = df.iloc[:, 5:]\n",
    "sub_df.head()"
   ]
  },
  {
   "cell_type": "code",
   "execution_count": 395,
   "metadata": {},
   "outputs": [
    {
     "data": {
      "image/png": "[encoded data removed]",
      "text/plain": [
       "<Figure size 640x480 with 2 Axes>"
      ]
     },
     "metadata": {},
     "output_type": "display_data"
    }
   ],
   "source": [
    "corr_matrix = abs(sub_df.corr()) \n",
    "dataplot = sns.heatmap(corr_matrix)\n",
    "# displaying heatmap\n",
    "plt.show()"
   ]
  },
  {
   "cell_type": "code",
   "execution_count": 396,
   "metadata": {},
   "outputs": [
    {
     "data": {
      "text/html": [
       "<div>\n",
       "<style scoped>\n",
       "    .dataframe tbody tr th:only-of-type {\n",
       "        vertical-align: middle;\n",
       "    }\n",
       "\n",
       "    .dataframe tbody tr th {\n",
       "        vertical-align: top;\n",
       "    }\n",
       "\n",
       "    .dataframe thead th {\n",
       "        text-align: right;\n",
       "    }\n",
       "</style>\n",
       "<table border=\"1\" class=\"dataframe\">\n",
       "  <thead>\n",
       "    <tr style=\"text-align: right;\">\n",
       "      <th></th>\n",
       "      <th>Temperature</th>\n",
       "      <th>Solar Zenith Angle</th>\n",
       "      <th>Relative Humidity</th>\n",
       "      <th>GHI</th>\n",
       "      <th>DHI</th>\n",
       "      <th>DNI</th>\n",
       "      <th>DNI after 0.5h</th>\n",
       "      <th>DNI after 1.0h</th>\n",
       "      <th>DNI after 1.5h</th>\n",
       "      <th>DNI after 2.0h</th>\n",
       "      <th>DNI after 2.5h</th>\n",
       "      <th>DNI after 3.0h</th>\n",
       "      <th>DNI after 3.5h</th>\n",
       "      <th>DNI after 4.0h</th>\n",
       "    </tr>\n",
       "  </thead>\n",
       "  <tbody>\n",
       "    <tr>\n",
       "      <th>2010-01-01 00:00:00</th>\n",
       "      <td>-10</td>\n",
       "      <td>163.12</td>\n",
       "      <td>59.53</td>\n",
       "      <td>0</td>\n",
       "      <td>0</td>\n",
       "      <td>0</td>\n",
       "      <td>NaN</td>\n",
       "      <td>NaN</td>\n",
       "      <td>NaN</td>\n",
       "      <td>NaN</td>\n",
       "      <td>NaN</td>\n",
       "      <td>NaN</td>\n",
       "      <td>NaN</td>\n",
       "      <td>NaN</td>\n",
       "    </tr>\n",
       "    <tr>\n",
       "      <th>2010-01-01 00:30:00</th>\n",
       "      <td>-10</td>\n",
       "      <td>162.32</td>\n",
       "      <td>55.02</td>\n",
       "      <td>0</td>\n",
       "      <td>0</td>\n",
       "      <td>0</td>\n",
       "      <td>0.0</td>\n",
       "      <td>NaN</td>\n",
       "      <td>NaN</td>\n",
       "      <td>NaN</td>\n",
       "      <td>NaN</td>\n",
       "      <td>NaN</td>\n",
       "      <td>NaN</td>\n",
       "      <td>NaN</td>\n",
       "    </tr>\n",
       "    <tr>\n",
       "      <th>2010-01-01 01:00:00</th>\n",
       "      <td>-10</td>\n",
       "      <td>159.50</td>\n",
       "      <td>55.62</td>\n",
       "      <td>0</td>\n",
       "      <td>0</td>\n",
       "      <td>0</td>\n",
       "      <td>0.0</td>\n",
       "      <td>0.0</td>\n",
       "      <td>NaN</td>\n",
       "      <td>NaN</td>\n",
       "      <td>NaN</td>\n",
       "      <td>NaN</td>\n",
       "      <td>NaN</td>\n",
       "      <td>NaN</td>\n",
       "    </tr>\n",
       "    <tr>\n",
       "      <th>2010-01-01 01:30:00</th>\n",
       "      <td>-9</td>\n",
       "      <td>155.34</td>\n",
       "      <td>55.63</td>\n",
       "      <td>0</td>\n",
       "      <td>0</td>\n",
       "      <td>0</td>\n",
       "      <td>0.0</td>\n",
       "      <td>0.0</td>\n",
       "      <td>0.0</td>\n",
       "      <td>NaN</td>\n",
       "      <td>NaN</td>\n",
       "      <td>NaN</td>\n",
       "      <td>NaN</td>\n",
       "      <td>NaN</td>\n",
       "    </tr>\n",
       "    <tr>\n",
       "      <th>2010-01-01 02:00:00</th>\n",
       "      <td>-9</td>\n",
       "      <td>150.42</td>\n",
       "      <td>57.88</td>\n",
       "      <td>0</td>\n",
       "      <td>0</td>\n",
       "      <td>0</td>\n",
       "      <td>0.0</td>\n",
       "      <td>0.0</td>\n",
       "      <td>0.0</td>\n",
       "      <td>0.0</td>\n",
       "      <td>NaN</td>\n",
       "      <td>NaN</td>\n",
       "      <td>NaN</td>\n",
       "      <td>NaN</td>\n",
       "    </tr>\n",
       "  </tbody>\n",
       "</table>\n",
       "</div>"
      ],
      "text/plain": [
       "                     Temperature  Solar Zenith Angle  Relative Humidity  GHI  \\\n",
       "2010-01-01 00:00:00          -10              163.12              59.53    0   \n",
       "2010-01-01 00:30:00          -10              162.32              55.02    0   \n",
       "2010-01-01 01:00:00          -10              159.50              55.62    0   \n",
       "2010-01-01 01:30:00           -9              155.34              55.63    0   \n",
       "2010-01-01 02:00:00           -9              150.42              57.88    0   \n",
       "\n",
       "                     DHI  DNI  DNI after 0.5h  DNI after 1.0h  DNI after 1.5h  \\\n",
       "2010-01-01 00:00:00    0    0             NaN             NaN             NaN   \n",
       "2010-01-01 00:30:00    0    0             0.0             NaN             NaN   \n",
       "2010-01-01 01:00:00    0    0             0.0             0.0             NaN   \n",
       "2010-01-01 01:30:00    0    0             0.0             0.0             0.0   \n",
       "2010-01-01 02:00:00    0    0             0.0             0.0             0.0   \n",
       "\n",
       "                     DNI after 2.0h  DNI after 2.5h  DNI after 3.0h  \\\n",
       "2010-01-01 00:00:00             NaN             NaN             NaN   \n",
       "2010-01-01 00:30:00             NaN             NaN             NaN   \n",
       "2010-01-01 01:00:00             NaN             NaN             NaN   \n",
       "2010-01-01 01:30:00             NaN             NaN             NaN   \n",
       "2010-01-01 02:00:00             0.0             NaN             NaN   \n",
       "\n",
       "                     DNI after 3.5h  DNI after 4.0h  \n",
       "2010-01-01 00:00:00             NaN             NaN  \n",
       "2010-01-01 00:30:00             NaN             NaN  \n",
       "2010-01-01 01:00:00             NaN             NaN  \n",
       "2010-01-01 01:30:00             NaN             NaN  \n",
       "2010-01-01 02:00:00             NaN             NaN  "
      ]
     },
     "execution_count": 396,
     "metadata": {},
     "output_type": "execute_result"
    }
   ],
   "source": [
    "sub_df.drop(['Dew Point', 'Surface Albedo', 'Pressure', 'Precipitable Water', 'Wind Speed', 'Wind Direction'], axis=1, inplace=True)\n",
    "sub_df.head()"
   ]
  },
  {
   "cell_type": "code",
   "execution_count": 397,
   "metadata": {},
   "outputs": [
    {
     "data": {
      "image/png": "[encoded data removed]",
      "text/plain": [
       "<Figure size 640x480 with 2 Axes>"
      ]
     },
     "metadata": {},
     "output_type": "display_data"
    }
   ],
   "source": [
    "corr_matrix = abs(sub_df.corr()) \n",
    "dataplot = sns.heatmap(corr_matrix)\n",
    "# displaying heatmap\n",
    "plt.show()"
   ]
  },
  {
   "cell_type": "code",
   "execution_count": 398,
   "metadata": {},
   "outputs": [
    {
     "name": "stdout",
     "output_type": "stream",
     "text": [
      "Feature array size:(17512, 48), Labels array size(17512, 1)\n"
     ]
    }
   ],
   "source": [
    "win_size = 8\n",
    "df_fetures = sub_df.iloc[:,:-8]\n",
    "\n",
    "X = np.zeros((df_fetures.shape[0] - win_size, win_size * df_fetures.shape[1]))\n",
    "Y = np.zeros((df_fetures.shape[0] - win_size, 1))\n",
    "\n",
    "print(\"Feature array size:{}, Labels array size{}\".format(X.shape, Y.shape))\n",
    "\n",
    "for i in range(X.shape[0]):\n",
    "    chunk_x = df_fetures.iloc[i:i+win_size, :].to_numpy()\n",
    "    chunk_y = df_fetures.iloc[i+win_size, -1]\n",
    "    X[i] = np.reshape(chunk_x, (1, df_fetures.shape[1] * win_size))\n",
    "    Y[i]= chunk_y\n",
    "    # if i == 12:\n",
    "    #     print(\"X = \", X[i])\n",
    "    #     print(\"Y = \", Y[i])"
   ]
  },
  {
   "cell_type": "code",
   "execution_count": 399,
   "metadata": {},
   "outputs": [
    {
     "name": "stdout",
     "output_type": "stream",
     "text": [
      "6925\n",
      "0.0\n",
      "Feature array size:(10587, 48), Labels array size(10587, 1)\n"
     ]
    }
   ],
   "source": [
    "# Remove the labels that we are sure they have DNI of 0\n",
    "zero_index = []\n",
    "for i in range(31, 50):\n",
    "    ## 31 means 7pm, and 50 means 5:30 am\n",
    "    zero_index = zero_index + list(range(i, Y.shape[0], 48))\n",
    "# zero1 = list(range(34, Y.shape[0], 48))    #10pm\n",
    "# zero2 = list(range(35, Y.shape[0], 48))    #11pm\n",
    "print(len(zero_index))\n",
    "print(np.sum(np.take(Y, zero_index)))\n",
    "\n",
    "Y = np.delete(Y, zero_index, axis=0)\n",
    "X = np.delete(X, zero_index, axis=0)\n",
    "\n",
    "print(\"Feature array size:{}, Labels array size{}\".format(X.shape, Y.shape))\n"
   ]
  },
  {
   "cell_type": "code",
   "execution_count": 400,
   "metadata": {},
   "outputs": [],
   "source": [
    "####################### This cell is for prediction not forcasting ############################\n",
    "# X = dff.iloc[:, :-1]\n",
    "# Y = dff.iloc[:, -1]\n",
    "# print(\"Features array size: \", X.shape)\n",
    "# print(\"Labels array size: \", Y.shape)"
   ]
  },
  {
   "cell_type": "code",
   "execution_count": 401,
   "metadata": {},
   "outputs": [
    {
     "name": "stdout",
     "output_type": "stream",
     "text": [
      "trainx size:  (7410, 48)\n",
      "testx size:  (3177, 48)\n",
      "==============\n",
      "trainy size:  (7410, 1)\n",
      "testy size:  (3177, 1)\n"
     ]
    }
   ],
   "source": [
    "from sklearn.model_selection import train_test_split\n",
    "from sklearn.preprocessing import StandardScaler\n",
    "\n",
    "train_ratio = 0.70\n",
    "# validation_ratio = 0.15\n",
    "test_ratio = 0.30\n",
    "\n",
    "trainX, testX, trainY, testY = train_test_split(X, Y, test_size= 1 - train_ratio)\n",
    "\n",
    "\n",
    "# valX, testX, valY, testY = train_test_split(testX, testY, test_size=test_ratio/(test_ratio + validation_ratio))\n",
    "# X_train, X_test, Y_train, Y_test = train_test_split(X, Y, test_size = 0.2, random_state = 0)\n",
    "\n",
    "sc=StandardScaler()\n",
    "scaler = sc.fit(trainX)\n",
    "\n",
    "trainX_scaled = scaler.transform(trainX)\n",
    "testX_scaled = scaler.transform(testX)\n",
    "\n",
    "print(\"trainx size: \", trainX_scaled.shape)\n",
    "print(\"testx size: \", testX_scaled.shape)\n",
    "print(\"==============\")\n",
    "print(\"trainy size: \", trainY.shape)\n",
    "print(\"testy size: \", testY.shape)\n"
   ]
  },
  {
   "cell_type": "code",
   "execution_count": 402,
   "metadata": {},
   "outputs": [
    {
     "name": "stdout",
     "output_type": "stream",
     "text": [
      "Mean Absolute Error: 121.09410653734832\n",
      "Mean Squared Error: 30894.657464090058\n",
      "Root Mean Squared Error: 175.76876134310686\n"
     ]
    }
   ],
   "source": [
    "# let's try linear regression first\n",
    "from sklearn import linear_model, metrics\n",
    "\n",
    "\n",
    "# Create linear regression object\n",
    "regr = linear_model.LinearRegression()\n",
    "\n",
    "# Train the model using the training sets\n",
    "regr.fit(trainX_scaled, trainY)\n",
    "\n",
    "# Make predictions using the testing set\n",
    "y_pred_linreg = regr.predict(testX_scaled)\n",
    "\n",
    "print('Mean Absolute Error:', metrics.mean_absolute_error(testY, y_pred_linreg))\n",
    "print('Mean Squared Error:', metrics.mean_squared_error(testY, y_pred_linreg))\n",
    "print('Root Mean Squared Error:', metrics.mean_squared_error(testY, y_pred_linreg, squared=False))\n"
   ]
  },
  {
   "cell_type": "code",
   "execution_count": 403,
   "metadata": {},
   "outputs": [
    {
     "name": "stderr",
     "output_type": "stream",
     "text": [
      "/Users/saraabouelella/anaconda3/envs/nrel311/lib/python3.11/site-packages/sklearn/utils/validation.py:1183: DataConversionWarning: A column-vector y was passed when a 1d array was expected. Please change the shape of y to (n_samples, ), for example using ravel().\n",
      "  y = column_or_1d(y, warn=True)\n"
     ]
    },
    {
     "name": "stdout",
     "output_type": "stream",
     "text": [
      "Mean Absolute Error: 252.1271735758908\n",
      "Mean Squared Error: 88746.9671952672\n",
      "Root Mean Squared Error: 297.904292005448\n"
     ]
    }
   ],
   "source": [
    "from sklearn.svm import SVR\n",
    "regressor = SVR(kernel='poly')\n",
    "regressor.fit(trainX_scaled,trainY)\n",
    "y_pred_svr = regressor.predict(testX_scaled)\n",
    "\n",
    "print('Mean Absolute Error:', metrics.mean_absolute_error(testY, y_pred_svr))\n",
    "print('Mean Squared Error:', metrics.mean_squared_error(testY, y_pred_svr))\n",
    "print('Root Mean Squared Error:', metrics.mean_squared_error(testY, y_pred_svr, squared=False))\n"
   ]
  },
  {
   "cell_type": "code",
   "execution_count": 604,
   "metadata": {},
   "outputs": [
    {
     "name": "stdout",
     "output_type": "stream",
     "text": [
      "Input Shape:48 \n",
      "Batch Size:200\n",
      "Steps per Epoch:37\n",
      "Validation Steps:13\n",
      "Test Steps:15\n",
      "Number of Epochs:150\n"
     ]
    }
   ],
   "source": [
    "input_shape = trainX.shape[1]\n",
    "n_batch_size = 200\n",
    "\n",
    "n_steps_per_epoch = int(trainX.shape[0] / n_batch_size)\n",
    "n_validation_steps = int(valX.shape[0] / n_batch_size)\n",
    "n_test_steps = int(testX.shape[0] / n_batch_size)\n",
    "n_epochs = 150\n",
    "\n",
    "\n",
    "print('Input Shape:{} '.format(input_shape))\n",
    "print('Batch Size:{}'.format(n_batch_size))\n",
    "print('Steps per Epoch:{}'.format(n_steps_per_epoch))\n",
    "print('Validation Steps:{}'.format(n_validation_steps))\n",
    "print('Test Steps:{}'.format(n_test_steps))\n",
    "print('Number of Epochs:{}'.format(n_epochs))\n"
   ]
  },
  {
   "cell_type": "code",
   "execution_count": 605,
   "metadata": {},
   "outputs": [
    {
     "name": "stdout",
     "output_type": "stream",
     "text": [
      "Model: \"sequential_78\"\n",
      "_________________________________________________________________\n",
      " Layer (type)                Output Shape              Param #   \n",
      "=================================================================\n",
      " dense_234 (Dense)           (None, 64)                3136      \n",
      "                                                                 \n",
      " dense_235 (Dense)           (None, 64)                4160      \n",
      "                                                                 \n",
      " dense_236 (Dense)           (None, 1)                 65        \n",
      "                                                                 \n",
      "=================================================================\n",
      "Total params: 7361 (28.75 KB)\n",
      "Trainable params: 7361 (28.75 KB)\n",
      "Non-trainable params: 0 (0.00 Byte)\n",
      "_________________________________________________________________\n"
     ]
    }
   ],
   "source": [
    "import os\n",
    "import shutil\n",
    "import pickle as pk\n",
    "\n",
    "from keras import models\n",
    "from keras import layers\n",
    "from keras.callbacks import EarlyStopping, ModelCheckpoint\n",
    "from keras.models import load_model\n",
    "\n",
    "from sklearn import metrics\n",
    "\n",
    "model = models.Sequential()\n",
    "model.add(layers.Dense(64, activation='relu', input_shape=(input_shape,)))\n",
    "model.add(layers.Dense(64, activation='relu'))\n",
    "model.add(layers.Dense(1))\n",
    "model.summary()"
   ]
  },
  {
   "cell_type": "code",
   "execution_count": 606,
   "metadata": {},
   "outputs": [
    {
     "name": "stdout",
     "output_type": "stream",
     "text": [
      "Epoch 1/150\n",
      " 1/37 [..............................] - ETA: 9s - loss: 287879.7500 - mae: 391.5909INFO:tensorflow:Assets written to: ./ckpt_1_ANN/dnl_forcast_ANN/assets\n"
     ]
    },
    {
     "name": "stderr",
     "output_type": "stream",
     "text": [
      "INFO:tensorflow:Assets written to: ./ckpt_1_ANN/dnl_forcast_ANN/assets\n"
     ]
    },
    {
     "name": "stdout",
     "output_type": "stream",
     "text": [
      "37/37 [==============================] - 1s 7ms/step - loss: 301297.0938 - mae: 399.4558 - val_loss: 184103.0469 - val_mae: 254.1794\n",
      "Epoch 2/150\n",
      " 1/37 [..............................] - ETA: 0s - loss: 166370.5000 - mae: 290.3693INFO:tensorflow:Assets written to: ./ckpt_1_ANN/dnl_forcast_ANN/assets\n"
     ]
    },
    {
     "name": "stderr",
     "output_type": "stream",
     "text": [
      "INFO:tensorflow:Assets written to: ./ckpt_1_ANN/dnl_forcast_ANN/assets\n"
     ]
    },
    {
     "name": "stdout",
     "output_type": "stream",
     "text": [
      "37/37 [==============================] - 0s 5ms/step - loss: 269297.5000 - mae: 381.6846 - val_loss: 150940.4531 - val_mae: 245.4701\n",
      "Epoch 3/150\n",
      " 1/37 [..............................] - ETA: 0s - loss: 259296.9531 - mae: 391.7997INFO:tensorflow:Assets written to: ./ckpt_1_ANN/dnl_forcast_ANN/assets\n"
     ]
    },
    {
     "name": "stderr",
     "output_type": "stream",
     "text": [
      "INFO:tensorflow:Assets written to: ./ckpt_1_ANN/dnl_forcast_ANN/assets\n"
     ]
    },
    {
     "name": "stdout",
     "output_type": "stream",
     "text": [
      "37/37 [==============================] - 0s 5ms/step - loss: 221470.8438 - mae: 356.5438 - val_loss: 116683.6406 - val_mae: 241.1518\n",
      "Epoch 4/150\n",
      " 1/37 [..............................] - ETA: 0s - loss: 150262.4531 - mae: 293.6445INFO:tensorflow:Assets written to: ./ckpt_1_ANN/dnl_forcast_ANN/assets\n"
     ]
    },
    {
     "name": "stderr",
     "output_type": "stream",
     "text": [
      "INFO:tensorflow:Assets written to: ./ckpt_1_ANN/dnl_forcast_ANN/assets\n"
     ]
    },
    {
     "name": "stdout",
     "output_type": "stream",
     "text": [
      "37/37 [==============================] - 0s 5ms/step - loss: 167419.4844 - mae: 320.0362 - val_loss: 101674.6797 - val_mae: 248.0712\n",
      "Epoch 5/150\n",
      " 1/37 [..............................] - ETA: 0s - loss: 168418.5938 - mae: 332.1783INFO:tensorflow:Assets written to: ./ckpt_1_ANN/dnl_forcast_ANN/assets\n"
     ]
    },
    {
     "name": "stderr",
     "output_type": "stream",
     "text": [
      "INFO:tensorflow:Assets written to: ./ckpt_1_ANN/dnl_forcast_ANN/assets\n"
     ]
    },
    {
     "name": "stdout",
     "output_type": "stream",
     "text": [
      "37/37 [==============================] - 0s 5ms/step - loss: 135337.6406 - mae: 297.7172 - val_loss: 91667.5312 - val_mae: 245.2229\n",
      "Epoch 6/150\n",
      " 1/37 [..............................] - ETA: 0s - loss: 124261.6406 - mae: 279.1406INFO:tensorflow:Assets written to: ./ckpt_1_ANN/dnl_forcast_ANN/assets\n"
     ]
    },
    {
     "name": "stderr",
     "output_type": "stream",
     "text": [
      "INFO:tensorflow:Assets written to: ./ckpt_1_ANN/dnl_forcast_ANN/assets\n"
     ]
    },
    {
     "name": "stdout",
     "output_type": "stream",
     "text": [
      "37/37 [==============================] - 0s 5ms/step - loss: 108921.1719 - mae: 267.8821 - val_loss: 79627.3047 - val_mae: 231.9901\n",
      "Epoch 7/150\n",
      " 1/37 [..............................] - ETA: 0s - loss: 88715.3516 - mae: 241.3123INFO:tensorflow:Assets written to: ./ckpt_1_ANN/dnl_forcast_ANN/assets\n"
     ]
    },
    {
     "name": "stderr",
     "output_type": "stream",
     "text": [
      "INFO:tensorflow:Assets written to: ./ckpt_1_ANN/dnl_forcast_ANN/assets\n"
     ]
    },
    {
     "name": "stdout",
     "output_type": "stream",
     "text": [
      "37/37 [==============================] - 0s 5ms/step - loss: 84948.9141 - mae: 237.0171 - val_loss: 63941.3359 - val_mae: 205.1300\n",
      "Epoch 8/150\n",
      " 1/37 [..............................] - ETA: 0s - loss: 79842.1484 - mae: 220.2293INFO:tensorflow:Assets written to: ./ckpt_1_ANN/dnl_forcast_ANN/assets\n"
     ]
    },
    {
     "name": "stderr",
     "output_type": "stream",
     "text": [
      "INFO:tensorflow:Assets written to: ./ckpt_1_ANN/dnl_forcast_ANN/assets\n"
     ]
    },
    {
     "name": "stdout",
     "output_type": "stream",
     "text": [
      "37/37 [==============================] - 0s 6ms/step - loss: 66505.3047 - mae: 205.6363 - val_loss: 54477.4336 - val_mae: 190.5464\n",
      "Epoch 9/150\n",
      " 1/37 [..............................] - ETA: 0s - loss: 64389.7891 - mae: 206.4117INFO:tensorflow:Assets written to: ./ckpt_1_ANN/dnl_forcast_ANN/assets\n"
     ]
    },
    {
     "name": "stderr",
     "output_type": "stream",
     "text": [
      "INFO:tensorflow:Assets written to: ./ckpt_1_ANN/dnl_forcast_ANN/assets\n"
     ]
    },
    {
     "name": "stdout",
     "output_type": "stream",
     "text": [
      "37/37 [==============================] - 0s 5ms/step - loss: 55276.8086 - mae: 182.7533 - val_loss: 50095.2109 - val_mae: 183.2782\n",
      "Epoch 10/150\n",
      " 1/37 [..............................] - ETA: 0s - loss: 47420.6797 - mae: 169.9777INFO:tensorflow:Assets written to: ./ckpt_1_ANN/dnl_forcast_ANN/assets\n"
     ]
    },
    {
     "name": "stderr",
     "output_type": "stream",
     "text": [
      "INFO:tensorflow:Assets written to: ./ckpt_1_ANN/dnl_forcast_ANN/assets\n"
     ]
    },
    {
     "name": "stdout",
     "output_type": "stream",
     "text": [
      "37/37 [==============================] - 0s 5ms/step - loss: 48877.2422 - mae: 168.4015 - val_loss: 48421.1836 - val_mae: 179.8522\n",
      "Epoch 11/150\n",
      " 1/37 [..............................] - ETA: 0s - loss: 52673.3906 - mae: 181.5134INFO:tensorflow:Assets written to: ./ckpt_1_ANN/dnl_forcast_ANN/assets\n"
     ]
    },
    {
     "name": "stderr",
     "output_type": "stream",
     "text": [
      "INFO:tensorflow:Assets written to: ./ckpt_1_ANN/dnl_forcast_ANN/assets\n"
     ]
    },
    {
     "name": "stdout",
     "output_type": "stream",
     "text": [
      "37/37 [==============================] - 0s 5ms/step - loss: 45748.1094 - mae: 164.3458 - val_loss: 47269.5078 - val_mae: 178.7186\n",
      "Epoch 12/150\n",
      "37/37 [==============================] - 0s 1ms/step - loss: 42700.2734 - mae: 157.5816 - val_loss: 50494.9336 - val_mae: 184.3125\n",
      "Epoch 13/150\n",
      "37/37 [==============================] - 0s 1ms/step - loss: 40560.0742 - mae: 152.3228 - val_loss: 49053.0273 - val_mae: 181.2152\n",
      "Epoch 14/150\n",
      "37/37 [==============================] - 0s 1ms/step - loss: 39513.2031 - mae: 149.9950 - val_loss: 47880.8203 - val_mae: 180.1636\n",
      "Epoch 15/150\n",
      "37/37 [==============================] - 0s 1ms/step - loss: 38190.6094 - mae: 146.5515 - val_loss: 50028.5469 - val_mae: 183.6143\n",
      "Epoch 16/150\n",
      " 1/37 [..............................] - ETA: 0s - loss: 42512.3008 - mae: 147.1198INFO:tensorflow:Assets written to: ./ckpt_1_ANN/dnl_forcast_ANN/assets\n"
     ]
    },
    {
     "name": "stderr",
     "output_type": "stream",
     "text": [
      "INFO:tensorflow:Assets written to: ./ckpt_1_ANN/dnl_forcast_ANN/assets\n"
     ]
    },
    {
     "name": "stdout",
     "output_type": "stream",
     "text": [
      "37/37 [==============================] - 0s 5ms/step - loss: 37703.5508 - mae: 143.5831 - val_loss: 46116.6016 - val_mae: 175.9758\n",
      "Epoch 17/150\n",
      "37/37 [==============================] - 0s 1ms/step - loss: 36488.8633 - mae: 141.0400 - val_loss: 46137.2266 - val_mae: 175.7720\n",
      "Epoch 18/150\n",
      "37/37 [==============================] - 0s 1ms/step - loss: 36142.8477 - mae: 139.3156 - val_loss: 46371.7148 - val_mae: 176.4318\n",
      "Epoch 19/150\n",
      " 1/37 [..............................] - ETA: 0s - loss: 27692.2168 - mae: 126.5466INFO:tensorflow:Assets written to: ./ckpt_1_ANN/dnl_forcast_ANN/assets\n"
     ]
    },
    {
     "name": "stderr",
     "output_type": "stream",
     "text": [
      "INFO:tensorflow:Assets written to: ./ckpt_1_ANN/dnl_forcast_ANN/assets\n"
     ]
    },
    {
     "name": "stdout",
     "output_type": "stream",
     "text": [
      "37/37 [==============================] - 0s 5ms/step - loss: 35403.7305 - mae: 137.9267 - val_loss: 44841.3789 - val_mae: 172.0651\n",
      "Epoch 20/150\n",
      " 1/37 [..............................] - ETA: 0s - loss: 29192.4707 - mae: 120.3485INFO:tensorflow:Assets written to: ./ckpt_1_ANN/dnl_forcast_ANN/assets\n"
     ]
    },
    {
     "name": "stderr",
     "output_type": "stream",
     "text": [
      "INFO:tensorflow:Assets written to: ./ckpt_1_ANN/dnl_forcast_ANN/assets\n"
     ]
    },
    {
     "name": "stdout",
     "output_type": "stream",
     "text": [
      "37/37 [==============================] - 0s 5ms/step - loss: 34731.1172 - mae: 135.1214 - val_loss: 44703.9141 - val_mae: 171.5323\n",
      "Epoch 21/150\n",
      "37/37 [==============================] - 0s 1ms/step - loss: 34578.1562 - mae: 133.4391 - val_loss: 46211.1445 - val_mae: 173.2698\n",
      "Epoch 22/150\n",
      " 1/37 [..............................] - ETA: 0s - loss: 44519.6406 - mae: 146.8336INFO:tensorflow:Assets written to: ./ckpt_1_ANN/dnl_forcast_ANN/assets\n"
     ]
    },
    {
     "name": "stderr",
     "output_type": "stream",
     "text": [
      "INFO:tensorflow:Assets written to: ./ckpt_1_ANN/dnl_forcast_ANN/assets\n"
     ]
    },
    {
     "name": "stdout",
     "output_type": "stream",
     "text": [
      "37/37 [==============================] - 0s 5ms/step - loss: 34450.7734 - mae: 133.5276 - val_loss: 44586.5586 - val_mae: 169.9940\n",
      "Epoch 23/150\n",
      " 1/37 [..............................] - ETA: 0s - loss: 35572.9258 - mae: 128.4947INFO:tensorflow:Assets written to: ./ckpt_1_ANN/dnl_forcast_ANN/assets\n"
     ]
    },
    {
     "name": "stderr",
     "output_type": "stream",
     "text": [
      "INFO:tensorflow:Assets written to: ./ckpt_1_ANN/dnl_forcast_ANN/assets\n"
     ]
    },
    {
     "name": "stdout",
     "output_type": "stream",
     "text": [
      "37/37 [==============================] - 0s 5ms/step - loss: 33696.4492 - mae: 130.7211 - val_loss: 44012.7070 - val_mae: 170.6588\n",
      "Epoch 24/150\n",
      " 1/37 [..............................] - ETA: 0s - loss: 42336.5000 - mae: 138.0805INFO:tensorflow:Assets written to: ./ckpt_1_ANN/dnl_forcast_ANN/assets\n"
     ]
    },
    {
     "name": "stderr",
     "output_type": "stream",
     "text": [
      "INFO:tensorflow:Assets written to: ./ckpt_1_ANN/dnl_forcast_ANN/assets\n"
     ]
    },
    {
     "name": "stdout",
     "output_type": "stream",
     "text": [
      "37/37 [==============================] - 0s 5ms/step - loss: 33599.0430 - mae: 130.2659 - val_loss: 43293.5273 - val_mae: 170.1713\n",
      "Epoch 25/150\n",
      " 1/37 [..............................] - ETA: 0s - loss: 37118.1484 - mae: 136.2103INFO:tensorflow:Assets written to: ./ckpt_1_ANN/dnl_forcast_ANN/assets\n"
     ]
    },
    {
     "name": "stderr",
     "output_type": "stream",
     "text": [
      "INFO:tensorflow:Assets written to: ./ckpt_1_ANN/dnl_forcast_ANN/assets\n"
     ]
    },
    {
     "name": "stdout",
     "output_type": "stream",
     "text": [
      "37/37 [==============================] - 0s 5ms/step - loss: 32425.7812 - mae: 127.2025 - val_loss: 42850.4414 - val_mae: 167.4742\n",
      "Epoch 26/150\n",
      " 1/37 [..............................] - ETA: 0s - loss: 37017.0312 - mae: 142.3056INFO:tensorflow:Assets written to: ./ckpt_1_ANN/dnl_forcast_ANN/assets\n"
     ]
    },
    {
     "name": "stderr",
     "output_type": "stream",
     "text": [
      "INFO:tensorflow:Assets written to: ./ckpt_1_ANN/dnl_forcast_ANN/assets\n"
     ]
    },
    {
     "name": "stdout",
     "output_type": "stream",
     "text": [
      "37/37 [==============================] - 0s 5ms/step - loss: 33126.5117 - mae: 128.4324 - val_loss: 42145.3516 - val_mae: 166.2999\n",
      "Epoch 27/150\n",
      "37/37 [==============================] - 0s 1ms/step - loss: 32145.6758 - mae: 125.4066 - val_loss: 43126.1875 - val_mae: 168.1866\n",
      "Epoch 28/150\n",
      "37/37 [==============================] - 0s 996us/step - loss: 33007.5312 - mae: 126.0113 - val_loss: 44200.0273 - val_mae: 172.1182\n",
      "Epoch 29/150\n",
      "37/37 [==============================] - 0s 1ms/step - loss: 31716.4062 - mae: 121.8207 - val_loss: 44565.1172 - val_mae: 167.6330\n",
      "Epoch 30/150\n",
      "37/37 [==============================] - 0s 1ms/step - loss: 31750.1621 - mae: 121.9269 - val_loss: 44259.2656 - val_mae: 167.7374\n",
      "Epoch 31/150\n",
      "37/37 [==============================] - 0s 997us/step - loss: 31041.9453 - mae: 120.5246 - val_loss: 42787.3320 - val_mae: 166.8144\n",
      "Epoch 32/150\n",
      " 1/37 [..............................] - ETA: 0s - loss: 29064.9219 - mae: 120.3630INFO:tensorflow:Assets written to: ./ckpt_1_ANN/dnl_forcast_ANN/assets\n"
     ]
    },
    {
     "name": "stderr",
     "output_type": "stream",
     "text": [
      "INFO:tensorflow:Assets written to: ./ckpt_1_ANN/dnl_forcast_ANN/assets\n"
     ]
    },
    {
     "name": "stdout",
     "output_type": "stream",
     "text": [
      "37/37 [==============================] - 0s 5ms/step - loss: 31493.5957 - mae: 119.6794 - val_loss: 42069.2617 - val_mae: 166.4297\n",
      "Epoch 33/150\n",
      " 1/37 [..............................] - ETA: 0s - loss: 24221.2773 - mae: 108.8068INFO:tensorflow:Assets written to: ./ckpt_1_ANN/dnl_forcast_ANN/assets\n"
     ]
    },
    {
     "name": "stderr",
     "output_type": "stream",
     "text": [
      "INFO:tensorflow:Assets written to: ./ckpt_1_ANN/dnl_forcast_ANN/assets\n"
     ]
    },
    {
     "name": "stdout",
     "output_type": "stream",
     "text": [
      "37/37 [==============================] - 0s 5ms/step - loss: 31324.2500 - mae: 118.7147 - val_loss: 40394.5820 - val_mae: 160.8726\n",
      "Epoch 34/150\n",
      " 1/37 [..............................] - ETA: 0s - loss: 36599.8320 - mae: 123.1283INFO:tensorflow:Assets written to: ./ckpt_1_ANN/dnl_forcast_ANN/assets\n"
     ]
    },
    {
     "name": "stderr",
     "output_type": "stream",
     "text": [
      "INFO:tensorflow:Assets written to: ./ckpt_1_ANN/dnl_forcast_ANN/assets\n"
     ]
    },
    {
     "name": "stdout",
     "output_type": "stream",
     "text": [
      "37/37 [==============================] - 0s 5ms/step - loss: 30562.0176 - mae: 117.9500 - val_loss: 38362.3047 - val_mae: 155.8402\n",
      "Epoch 35/150\n",
      "37/37 [==============================] - 0s 1ms/step - loss: 30873.3301 - mae: 118.0598 - val_loss: 43120.2070 - val_mae: 167.2907\n",
      "Epoch 36/150\n",
      "37/37 [==============================] - 0s 1ms/step - loss: 30627.0762 - mae: 116.9358 - val_loss: 41287.0547 - val_mae: 162.4452\n",
      "Epoch 37/150\n",
      "37/37 [==============================] - 0s 1ms/step - loss: 30570.9863 - mae: 116.1978 - val_loss: 48622.9219 - val_mae: 178.5435\n",
      "Epoch 38/150\n",
      "37/37 [==============================] - 0s 998us/step - loss: 30379.6777 - mae: 115.8756 - val_loss: 39891.0234 - val_mae: 152.6822\n",
      "Epoch 39/150\n",
      "37/37 [==============================] - 0s 993us/step - loss: 30267.2070 - mae: 114.8511 - val_loss: 41542.3945 - val_mae: 163.8323\n",
      "Epoch 40/150\n",
      "37/37 [==============================] - 0s 1ms/step - loss: 30260.9434 - mae: 115.0042 - val_loss: 40897.6328 - val_mae: 162.4094\n",
      "Epoch 41/150\n",
      "37/37 [==============================] - 0s 1ms/step - loss: 29569.8398 - mae: 113.4432 - val_loss: 44971.0938 - val_mae: 174.2959\n",
      "Epoch 42/150\n",
      "37/37 [==============================] - 0s 1ms/step - loss: 29784.2441 - mae: 113.7630 - val_loss: 42312.6484 - val_mae: 164.4959\n",
      "Epoch 43/150\n",
      "37/37 [==============================] - 0s 1ms/step - loss: 29784.2910 - mae: 114.3117 - val_loss: 43129.5391 - val_mae: 166.9186\n",
      "Epoch 44/150\n",
      "37/37 [==============================] - 0s 1ms/step - loss: 29540.2090 - mae: 112.5231 - val_loss: 42539.8516 - val_mae: 164.7209\n",
      "Epoch 45/150\n",
      "37/37 [==============================] - 0s 1ms/step - loss: 29711.5176 - mae: 112.7370 - val_loss: 41244.8320 - val_mae: 161.5223\n",
      "Epoch 46/150\n",
      "37/37 [==============================] - 0s 1ms/step - loss: 30066.5098 - mae: 113.9808 - val_loss: 41547.1953 - val_mae: 161.9152\n",
      "Epoch 47/150\n",
      "37/37 [==============================] - 0s 1000us/step - loss: 29103.0605 - mae: 111.1949 - val_loss: 39992.2695 - val_mae: 160.1738\n",
      "Epoch 48/150\n",
      "37/37 [==============================] - 0s 997us/step - loss: 29252.4668 - mae: 112.0833 - val_loss: 42618.9258 - val_mae: 162.5260\n",
      "Epoch 49/150\n",
      "37/37 [==============================] - 0s 1ms/step - loss: 29849.1445 - mae: 112.6202 - val_loss: 39358.4414 - val_mae: 160.9978\n",
      "Epoch 50/150\n",
      "37/37 [==============================] - 0s 992us/step - loss: 28647.4766 - mae: 110.5074 - val_loss: 40017.3750 - val_mae: 158.0684\n",
      "Epoch 51/150\n",
      "37/37 [==============================] - 0s 990us/step - loss: 29167.8379 - mae: 112.5748 - val_loss: 41627.0469 - val_mae: 162.9180\n",
      "Epoch 52/150\n",
      "37/37 [==============================] - 0s 968us/step - loss: 29144.0449 - mae: 111.5307 - val_loss: 42213.9766 - val_mae: 167.8028\n",
      "Epoch 53/150\n",
      "37/37 [==============================] - 0s 985us/step - loss: 28557.7520 - mae: 111.1653 - val_loss: 42975.8203 - val_mae: 166.2266\n",
      "Epoch 54/150\n",
      "37/37 [==============================] - 0s 967us/step - loss: 29354.7031 - mae: 112.5513 - val_loss: 43278.2227 - val_mae: 164.6993\n",
      "Epoch 55/150\n",
      "37/37 [==============================] - 0s 978us/step - loss: 28725.0938 - mae: 110.8512 - val_loss: 39484.5625 - val_mae: 160.1280\n",
      "Epoch 56/150\n",
      "37/37 [==============================] - 0s 995us/step - loss: 29373.9355 - mae: 110.7512 - val_loss: 42997.9922 - val_mae: 167.4370\n",
      "Epoch 57/150\n",
      "37/37 [==============================] - 0s 983us/step - loss: 28225.7266 - mae: 111.4979 - val_loss: 42510.1484 - val_mae: 164.5376\n",
      "Epoch 58/150\n",
      "37/37 [==============================] - 0s 1ms/step - loss: 29145.7891 - mae: 110.7390 - val_loss: 39590.7969 - val_mae: 159.4998\n",
      "Epoch 59/150\n",
      "37/37 [==============================] - 0s 998us/step - loss: 27661.7324 - mae: 108.7944 - val_loss: 38929.7539 - val_mae: 156.5658\n",
      "Epoch 60/150\n",
      "37/37 [==============================] - 0s 996us/step - loss: 28559.5977 - mae: 110.0825 - val_loss: 41293.5391 - val_mae: 163.3544\n",
      "Epoch 61/150\n",
      " 1/37 [..............................] - ETA: 0s - loss: 33243.7852 - mae: 115.9970INFO:tensorflow:Assets written to: ./ckpt_1_ANN/dnl_forcast_ANN/assets\n"
     ]
    },
    {
     "name": "stderr",
     "output_type": "stream",
     "text": [
      "INFO:tensorflow:Assets written to: ./ckpt_1_ANN/dnl_forcast_ANN/assets\n"
     ]
    },
    {
     "name": "stdout",
     "output_type": "stream",
     "text": [
      "37/37 [==============================] - 0s 5ms/step - loss: 28529.1680 - mae: 109.8775 - val_loss: 37979.4844 - val_mae: 155.5359\n",
      "Epoch 62/150\n",
      "37/37 [==============================] - 0s 1ms/step - loss: 28238.4805 - mae: 109.9016 - val_loss: 42158.5898 - val_mae: 163.0456\n",
      "Epoch 63/150\n",
      "37/37 [==============================] - 0s 969us/step - loss: 28595.9316 - mae: 110.4549 - val_loss: 38392.4844 - val_mae: 151.5712\n",
      "Epoch 64/150\n",
      "37/37 [==============================] - 0s 977us/step - loss: 28381.7559 - mae: 110.2496 - val_loss: 39239.0469 - val_mae: 155.4955\n",
      "Epoch 65/150\n",
      "37/37 [==============================] - 0s 993us/step - loss: 28576.5723 - mae: 109.5620 - val_loss: 41172.8477 - val_mae: 164.5177\n",
      "Epoch 66/150\n",
      " 1/37 [..............................] - ETA: 0s - loss: 29221.3359 - mae: 108.8420INFO:tensorflow:Assets written to: ./ckpt_1_ANN/dnl_forcast_ANN/assets\n"
     ]
    },
    {
     "name": "stderr",
     "output_type": "stream",
     "text": [
      "INFO:tensorflow:Assets written to: ./ckpt_1_ANN/dnl_forcast_ANN/assets\n"
     ]
    },
    {
     "name": "stdout",
     "output_type": "stream",
     "text": [
      "37/37 [==============================] - 0s 5ms/step - loss: 27122.2852 - mae: 107.5026 - val_loss: 37735.0664 - val_mae: 154.8740\n",
      "Epoch 67/150\n",
      "37/37 [==============================] - 0s 1ms/step - loss: 28574.7129 - mae: 109.7558 - val_loss: 42937.6289 - val_mae: 168.6454\n",
      "Epoch 68/150\n",
      "37/37 [==============================] - 0s 1ms/step - loss: 28769.9219 - mae: 109.8932 - val_loss: 40072.7109 - val_mae: 161.1722\n",
      "Epoch 69/150\n",
      "37/37 [==============================] - 0s 979us/step - loss: 28380.2012 - mae: 109.6499 - val_loss: 41906.1289 - val_mae: 164.2413\n",
      "Epoch 70/150\n",
      "37/37 [==============================] - 0s 1ms/step - loss: 28317.5195 - mae: 109.2149 - val_loss: 40901.1328 - val_mae: 164.1328\n",
      "Epoch 71/150\n",
      "37/37 [==============================] - 0s 991us/step - loss: 27449.0781 - mae: 107.5122 - val_loss: 41065.3125 - val_mae: 160.2747\n",
      "Epoch 72/150\n",
      "37/37 [==============================] - 0s 1ms/step - loss: 28252.9766 - mae: 109.6989 - val_loss: 38584.5273 - val_mae: 155.7594\n",
      "Epoch 73/150\n",
      "37/37 [==============================] - 0s 989us/step - loss: 27536.8906 - mae: 107.8004 - val_loss: 38297.1484 - val_mae: 155.6685\n",
      "Epoch 74/150\n",
      "37/37 [==============================] - 0s 1ms/step - loss: 28090.4375 - mae: 109.2361 - val_loss: 39529.6055 - val_mae: 161.0380\n",
      "Epoch 75/150\n",
      "37/37 [==============================] - 0s 1ms/step - loss: 28148.8887 - mae: 109.4656 - val_loss: 38415.6289 - val_mae: 157.7006\n",
      "Epoch 76/150\n",
      " 1/37 [..............................] - ETA: 0s - loss: 25913.5977 - mae: 110.8202INFO:tensorflow:Assets written to: ./ckpt_1_ANN/dnl_forcast_ANN/assets\n"
     ]
    },
    {
     "name": "stderr",
     "output_type": "stream",
     "text": [
      "INFO:tensorflow:Assets written to: ./ckpt_1_ANN/dnl_forcast_ANN/assets\n"
     ]
    },
    {
     "name": "stdout",
     "output_type": "stream",
     "text": [
      "37/37 [==============================] - 0s 5ms/step - loss: 27764.9629 - mae: 108.9132 - val_loss: 37691.7773 - val_mae: 151.9195\n",
      "Epoch 77/150\n",
      "37/37 [==============================] - 0s 1ms/step - loss: 27847.6543 - mae: 108.8431 - val_loss: 39641.1094 - val_mae: 159.3736\n",
      "Epoch 78/150\n",
      "37/37 [==============================] - 0s 990us/step - loss: 27772.6172 - mae: 108.3366 - val_loss: 39518.7227 - val_mae: 160.3936\n",
      "Epoch 79/150\n",
      "37/37 [==============================] - 0s 991us/step - loss: 28158.5918 - mae: 109.7391 - val_loss: 39429.3086 - val_mae: 159.6781\n",
      "Epoch 80/150\n",
      "37/37 [==============================] - 0s 981us/step - loss: 27470.6699 - mae: 108.7425 - val_loss: 40654.4727 - val_mae: 163.4047\n",
      "Epoch 81/150\n",
      "37/37 [==============================] - 0s 998us/step - loss: 27414.6016 - mae: 107.6698 - val_loss: 44048.5195 - val_mae: 173.5992\n",
      "Epoch 82/150\n",
      "37/37 [==============================] - 0s 1ms/step - loss: 27828.8867 - mae: 108.9416 - val_loss: 43186.0938 - val_mae: 169.3074\n",
      "Epoch 83/150\n",
      "37/37 [==============================] - 0s 991us/step - loss: 28540.0781 - mae: 110.3784 - val_loss: 40558.9414 - val_mae: 158.1731\n",
      "Epoch 84/150\n",
      "37/37 [==============================] - 0s 1ms/step - loss: 26664.1816 - mae: 105.8131 - val_loss: 41432.9961 - val_mae: 162.5829\n",
      "Epoch 85/150\n",
      "37/37 [==============================] - 0s 1ms/step - loss: 28334.2715 - mae: 109.4223 - val_loss: 38782.1562 - val_mae: 158.1288\n",
      "Epoch 86/150\n",
      "37/37 [==============================] - 0s 1000us/step - loss: 27374.4453 - mae: 108.2928 - val_loss: 41409.4062 - val_mae: 162.9295\n",
      "Epoch 87/150\n",
      "37/37 [==============================] - 0s 1ms/step - loss: 27873.9082 - mae: 107.9421 - val_loss: 41619.5391 - val_mae: 165.3958\n",
      "Epoch 88/150\n",
      "37/37 [==============================] - 0s 1ms/step - loss: 27178.7910 - mae: 107.6869 - val_loss: 41032.5117 - val_mae: 164.3998\n",
      "Epoch 89/150\n",
      "37/37 [==============================] - 0s 972us/step - loss: 28308.9434 - mae: 109.9117 - val_loss: 41117.5859 - val_mae: 163.3471\n",
      "Epoch 90/150\n",
      "37/37 [==============================] - 0s 1ms/step - loss: 27286.7441 - mae: 107.1956 - val_loss: 41470.9453 - val_mae: 166.6390\n",
      "Epoch 91/150\n",
      "37/37 [==============================] - 0s 1ms/step - loss: 26538.8887 - mae: 105.5157 - val_loss: 43614.4258 - val_mae: 170.1413\n",
      "Epoch 92/150\n",
      "37/37 [==============================] - 0s 957us/step - loss: 28013.7402 - mae: 109.4760 - val_loss: 41320.4922 - val_mae: 162.5834\n",
      "Epoch 93/150\n",
      "37/37 [==============================] - 0s 961us/step - loss: 27660.2480 - mae: 108.0486 - val_loss: 40385.8789 - val_mae: 163.4323\n",
      "Epoch 94/150\n",
      "37/37 [==============================] - 0s 974us/step - loss: 27063.7461 - mae: 105.4161 - val_loss: 43462.3516 - val_mae: 169.4122\n",
      "Epoch 95/150\n",
      "37/37 [==============================] - 0s 956us/step - loss: 28236.2559 - mae: 109.6847 - val_loss: 40977.9102 - val_mae: 163.0214\n",
      "Epoch 96/150\n",
      "37/37 [==============================] - 0s 992us/step - loss: 27162.1348 - mae: 107.1457 - val_loss: 37837.9766 - val_mae: 152.6682\n",
      "Epoch 97/150\n",
      "37/37 [==============================] - 0s 948us/step - loss: 27643.6230 - mae: 107.7182 - val_loss: 46590.2344 - val_mae: 179.6479\n",
      "Epoch 98/150\n",
      "37/37 [==============================] - 0s 984us/step - loss: 26770.3926 - mae: 107.1652 - val_loss: 41226.2109 - val_mae: 165.3943\n",
      "Epoch 99/150\n",
      "37/37 [==============================] - 0s 1ms/step - loss: 26524.9062 - mae: 105.6858 - val_loss: 42758.3516 - val_mae: 168.3965\n",
      "Epoch 100/150\n",
      "37/37 [==============================] - 0s 973us/step - loss: 27782.9707 - mae: 108.5676 - val_loss: 41120.1523 - val_mae: 162.5323\n",
      "Epoch 101/150\n",
      "37/37 [==============================] - 0s 968us/step - loss: 27435.5664 - mae: 107.4017 - val_loss: 41137.3984 - val_mae: 164.8428\n",
      "Epoch 102/150\n",
      "37/37 [==============================] - 0s 969us/step - loss: 28076.2227 - mae: 108.8227 - val_loss: 40640.0547 - val_mae: 161.1281\n",
      "Epoch 103/150\n",
      "37/37 [==============================] - 0s 954us/step - loss: 26877.4082 - mae: 106.7057 - val_loss: 40126.9336 - val_mae: 163.8147\n",
      "Epoch 104/150\n",
      "37/37 [==============================] - 0s 1ms/step - loss: 26570.0020 - mae: 106.5416 - val_loss: 41282.2812 - val_mae: 162.9493\n",
      "Epoch 105/150\n",
      "37/37 [==============================] - 0s 1ms/step - loss: 28087.6484 - mae: 108.8521 - val_loss: 41381.8008 - val_mae: 165.1553\n",
      "Epoch 106/150\n",
      "37/37 [==============================] - 0s 982us/step - loss: 26630.2754 - mae: 105.6784 - val_loss: 41877.0820 - val_mae: 163.5190\n",
      "Epoch 107/150\n",
      "37/37 [==============================] - 0s 997us/step - loss: 27056.6953 - mae: 106.7728 - val_loss: 40848.2852 - val_mae: 160.4156\n",
      "Epoch 108/150\n",
      "37/37 [==============================] - 0s 994us/step - loss: 27180.8398 - mae: 107.1382 - val_loss: 39160.9844 - val_mae: 159.1234\n",
      "Epoch 109/150\n",
      "37/37 [==============================] - 0s 976us/step - loss: 27020.9473 - mae: 106.6639 - val_loss: 43893.7930 - val_mae: 169.5895\n",
      "Epoch 110/150\n",
      "37/37 [==============================] - 0s 994us/step - loss: 27865.5039 - mae: 108.2650 - val_loss: 42550.3945 - val_mae: 168.6347\n",
      "Epoch 111/150\n",
      "37/37 [==============================] - 0s 982us/step - loss: 26642.1250 - mae: 106.0704 - val_loss: 39433.5586 - val_mae: 157.8630\n",
      "Epoch 112/150\n",
      "37/37 [==============================] - 0s 987us/step - loss: 27246.8418 - mae: 106.7722 - val_loss: 40538.8906 - val_mae: 160.8736\n",
      "Epoch 113/150\n",
      "37/37 [==============================] - 0s 988us/step - loss: 27007.3047 - mae: 106.4782 - val_loss: 39479.1211 - val_mae: 158.4337\n",
      "Epoch 114/150\n",
      "37/37 [==============================] - 0s 989us/step - loss: 27152.5488 - mae: 106.2356 - val_loss: 41964.7539 - val_mae: 169.1081\n",
      "Epoch 115/150\n",
      "37/37 [==============================] - 0s 979us/step - loss: 27078.8438 - mae: 106.7172 - val_loss: 44238.3789 - val_mae: 174.6129\n",
      "Epoch 116/150\n",
      "37/37 [==============================] - 0s 989us/step - loss: 26772.7520 - mae: 105.5846 - val_loss: 40720.0742 - val_mae: 164.1593\n",
      "Epoch 117/150\n",
      "37/37 [==============================] - 0s 985us/step - loss: 27326.2754 - mae: 107.2752 - val_loss: 40713.4883 - val_mae: 165.4512\n",
      "Epoch 118/150\n",
      "37/37 [==============================] - 0s 991us/step - loss: 27051.0859 - mae: 106.3566 - val_loss: 40701.0352 - val_mae: 163.1003\n",
      "Epoch 119/150\n",
      "37/37 [==============================] - 0s 970us/step - loss: 26945.0059 - mae: 106.0133 - val_loss: 41664.1719 - val_mae: 164.7860\n",
      "Epoch 120/150\n",
      "37/37 [==============================] - 0s 988us/step - loss: 26754.9043 - mae: 106.1930 - val_loss: 43471.3672 - val_mae: 169.9754\n",
      "Epoch 121/150\n",
      "37/37 [==============================] - 0s 992us/step - loss: 26861.8887 - mae: 105.5821 - val_loss: 42460.3750 - val_mae: 165.9149\n",
      "Epoch 122/150\n",
      "37/37 [==============================] - 0s 980us/step - loss: 26255.3379 - mae: 105.1434 - val_loss: 39561.0391 - val_mae: 160.2088\n",
      "Epoch 123/150\n",
      "37/37 [==============================] - 0s 971us/step - loss: 27392.1914 - mae: 106.3176 - val_loss: 40585.0898 - val_mae: 162.0021\n",
      "Epoch 124/150\n",
      "37/37 [==============================] - 0s 989us/step - loss: 27878.7598 - mae: 108.6612 - val_loss: 42206.6680 - val_mae: 167.8324\n",
      "Epoch 125/150\n",
      "37/37 [==============================] - 0s 974us/step - loss: 25617.7402 - mae: 103.4966 - val_loss: 41835.2969 - val_mae: 164.2131\n",
      "Epoch 126/150\n",
      "37/37 [==============================] - 0s 995us/step - loss: 27132.5664 - mae: 105.6575 - val_loss: 42077.4883 - val_mae: 166.0778\n",
      "Epoch 127/150\n",
      "37/37 [==============================] - 0s 970us/step - loss: 26699.8652 - mae: 106.0894 - val_loss: 41737.1914 - val_mae: 167.7418\n",
      "Epoch 128/150\n",
      "37/37 [==============================] - 0s 984us/step - loss: 27026.1816 - mae: 106.1147 - val_loss: 41024.2266 - val_mae: 161.4939\n",
      "Epoch 129/150\n",
      "37/37 [==============================] - 0s 999us/step - loss: 27147.7109 - mae: 106.4567 - val_loss: 41132.5156 - val_mae: 164.6298\n",
      "Epoch 130/150\n",
      "37/37 [==============================] - 0s 996us/step - loss: 25653.0156 - mae: 103.6992 - val_loss: 42909.2227 - val_mae: 164.9960\n",
      "Epoch 131/150\n",
      "37/37 [==============================] - 0s 976us/step - loss: 27768.1094 - mae: 107.2369 - val_loss: 41018.0234 - val_mae: 162.9449\n",
      "Epoch 132/150\n",
      "37/37 [==============================] - 0s 999us/step - loss: 25771.2969 - mae: 103.4600 - val_loss: 41348.0195 - val_mae: 164.9245\n",
      "Epoch 133/150\n",
      "37/37 [==============================] - 0s 982us/step - loss: 28063.2031 - mae: 108.6851 - val_loss: 42211.9062 - val_mae: 162.5180\n",
      "Epoch 134/150\n",
      "37/37 [==============================] - 0s 993us/step - loss: 25917.0352 - mae: 103.7078 - val_loss: 42913.3672 - val_mae: 168.4684\n",
      "Epoch 135/150\n",
      "37/37 [==============================] - 0s 991us/step - loss: 26269.6035 - mae: 104.8374 - val_loss: 42813.5742 - val_mae: 166.9288\n",
      "Epoch 136/150\n",
      "37/37 [==============================] - 0s 984us/step - loss: 27202.7305 - mae: 105.7404 - val_loss: 41010.0195 - val_mae: 162.9295\n",
      "Epoch 137/150\n",
      "37/37 [==============================] - 0s 994us/step - loss: 26077.6895 - mae: 104.4948 - val_loss: 41839.3906 - val_mae: 165.6181\n",
      "Epoch 138/150\n",
      "37/37 [==============================] - 0s 978us/step - loss: 26841.3574 - mae: 105.1571 - val_loss: 39152.7930 - val_mae: 156.8951\n",
      "Epoch 139/150\n",
      "37/37 [==============================] - 0s 991us/step - loss: 26066.0469 - mae: 105.1040 - val_loss: 42069.6172 - val_mae: 166.3924\n",
      "Epoch 140/150\n",
      "37/37 [==============================] - 0s 976us/step - loss: 27197.3438 - mae: 107.0305 - val_loss: 43234.7383 - val_mae: 167.1161\n",
      "Epoch 141/150\n",
      "37/37 [==============================] - 0s 964us/step - loss: 27109.6797 - mae: 105.6115 - val_loss: 42307.1992 - val_mae: 167.4403\n",
      "Epoch 142/150\n",
      "37/37 [==============================] - 0s 990us/step - loss: 26001.6602 - mae: 104.6084 - val_loss: 38200.6445 - val_mae: 156.3644\n",
      "Epoch 143/150\n",
      "37/37 [==============================] - 0s 994us/step - loss: 26602.0352 - mae: 103.9614 - val_loss: 42226.0664 - val_mae: 166.7543\n",
      "Epoch 144/150\n",
      "37/37 [==============================] - 0s 996us/step - loss: 26792.9941 - mae: 105.6719 - val_loss: 44256.8633 - val_mae: 171.1079\n",
      "Epoch 145/150\n",
      "37/37 [==============================] - 0s 990us/step - loss: 26480.2754 - mae: 104.5820 - val_loss: 42736.7031 - val_mae: 169.6428\n",
      "Epoch 146/150\n",
      "37/37 [==============================] - 0s 984us/step - loss: 26035.9902 - mae: 103.8411 - val_loss: 45743.3164 - val_mae: 175.1821\n",
      "Epoch 147/150\n",
      "37/37 [==============================] - 0s 2ms/step - loss: 26953.4141 - mae: 106.2003 - val_loss: 40889.9648 - val_mae: 164.3163\n",
      "Epoch 148/150\n",
      "37/37 [==============================] - 0s 1ms/step - loss: 26580.7617 - mae: 105.0030 - val_loss: 42204.9219 - val_mae: 167.2155\n",
      "Epoch 149/150\n",
      "37/37 [==============================] - 0s 986us/step - loss: 26372.1211 - mae: 105.1374 - val_loss: 42447.2188 - val_mae: 167.4741\n",
      "Epoch 150/150\n",
      "37/37 [==============================] - 0s 987us/step - loss: 26645.9238 - mae: 105.0859 - val_loss: 41546.1719 - val_mae: 164.2135\n"
     ]
    }
   ],
   "source": [
    "model.compile(loss='mse', optimizer='rmsprop', metrics=['mae'])\n",
    "# Prepare a directory to store all the checkpoints.\n",
    "checkpoint_no = 'ckpt_1_ANN'\n",
    "model_name = 'dnl_forcast_ANN'\n",
    "checkpoint_dir = './'+ checkpoint_no\n",
    "if not os.path.exists(checkpoint_dir):\n",
    "    os.makedirs(checkpoint_dir)\n",
    "\n",
    "keras_callbacks = [ModelCheckpoint(filepath = checkpoint_dir + '/' + model_name, monitor='val_loss', save_best_only=True, mode='auto')]\n",
    "\n",
    "history = model.fit(trainX_scaled,\n",
    "                    trainY,\n",
    "                    steps_per_epoch=n_steps_per_epoch,\n",
    "                    epochs=n_epochs,\n",
    "                    batch_size=n_batch_size,\n",
    "                    validation_data=(valX_scaled, valY),\n",
    "                    validation_steps=n_validation_steps,\n",
    "                    callbacks=[keras_callbacks])"
   ]
  },
  {
   "cell_type": "code",
   "execution_count": 607,
   "metadata": {},
   "outputs": [
    {
     "data": {
      "text/html": [
       "<div>\n",
       "<style scoped>\n",
       "    .dataframe tbody tr th:only-of-type {\n",
       "        vertical-align: middle;\n",
       "    }\n",
       "\n",
       "    .dataframe tbody tr th {\n",
       "        vertical-align: top;\n",
       "    }\n",
       "\n",
       "    .dataframe thead th {\n",
       "        text-align: right;\n",
       "    }\n",
       "</style>\n",
       "<table border=\"1\" class=\"dataframe\">\n",
       "  <thead>\n",
       "    <tr style=\"text-align: right;\">\n",
       "      <th></th>\n",
       "      <th>epoch</th>\n",
       "      <th>loss</th>\n",
       "      <th>mae</th>\n",
       "      <th>val_loss</th>\n",
       "      <th>val_mae</th>\n",
       "    </tr>\n",
       "  </thead>\n",
       "  <tbody>\n",
       "    <tr>\n",
       "      <th>0</th>\n",
       "      <td>1</td>\n",
       "      <td>301297.093750</td>\n",
       "      <td>399.455780</td>\n",
       "      <td>184103.046875</td>\n",
       "      <td>254.179443</td>\n",
       "    </tr>\n",
       "    <tr>\n",
       "      <th>1</th>\n",
       "      <td>2</td>\n",
       "      <td>269297.500000</td>\n",
       "      <td>381.684631</td>\n",
       "      <td>150940.453125</td>\n",
       "      <td>245.470139</td>\n",
       "    </tr>\n",
       "    <tr>\n",
       "      <th>2</th>\n",
       "      <td>3</td>\n",
       "      <td>221470.843750</td>\n",
       "      <td>356.543762</td>\n",
       "      <td>116683.640625</td>\n",
       "      <td>241.151779</td>\n",
       "    </tr>\n",
       "    <tr>\n",
       "      <th>3</th>\n",
       "      <td>4</td>\n",
       "      <td>167419.484375</td>\n",
       "      <td>320.036163</td>\n",
       "      <td>101674.679688</td>\n",
       "      <td>248.071228</td>\n",
       "    </tr>\n",
       "    <tr>\n",
       "      <th>4</th>\n",
       "      <td>5</td>\n",
       "      <td>135337.640625</td>\n",
       "      <td>297.717194</td>\n",
       "      <td>91667.531250</td>\n",
       "      <td>245.222855</td>\n",
       "    </tr>\n",
       "  </tbody>\n",
       "</table>\n",
       "</div>"
      ],
      "text/plain": [
       "   epoch           loss         mae       val_loss     val_mae\n",
       "0      1  301297.093750  399.455780  184103.046875  254.179443\n",
       "1      2  269297.500000  381.684631  150940.453125  245.470139\n",
       "2      3  221470.843750  356.543762  116683.640625  241.151779\n",
       "3      4  167419.484375  320.036163  101674.679688  248.071228\n",
       "4      5  135337.640625  297.717194   91667.531250  245.222855"
      ]
     },
     "execution_count": 607,
     "metadata": {},
     "output_type": "execute_result"
    }
   ],
   "source": [
    "hist_df = pd.DataFrame(history.history)\n",
    "hist_df['epoch'] = hist_df.index + 1\n",
    "cols = list(hist_df.columns)\n",
    "cols = [cols[-1]] + cols[:-1]\n",
    "hist_df = hist_df[cols]\n",
    "hist_df.to_csv(checkpoint_no + '/' + 'history_df_' + model_name + '.csv')\n",
    "hist_df.head()"
   ]
  },
  {
   "cell_type": "code",
   "execution_count": 608,
   "metadata": {},
   "outputs": [
    {
     "data": {
      "text/html": [
       "<div>\n",
       "<style scoped>\n",
       "    .dataframe tbody tr th:only-of-type {\n",
       "        vertical-align: middle;\n",
       "    }\n",
       "\n",
       "    .dataframe tbody tr th {\n",
       "        vertical-align: top;\n",
       "    }\n",
       "\n",
       "    .dataframe thead th {\n",
       "        text-align: right;\n",
       "    }\n",
       "</style>\n",
       "<table border=\"1\" class=\"dataframe\">\n",
       "  <thead>\n",
       "    <tr style=\"text-align: right;\">\n",
       "      <th></th>\n",
       "      <th>epoch</th>\n",
       "      <th>loss</th>\n",
       "      <th>mae</th>\n",
       "      <th>val_loss</th>\n",
       "      <th>val_mae</th>\n",
       "    </tr>\n",
       "  </thead>\n",
       "  <tbody>\n",
       "    <tr>\n",
       "      <th>75</th>\n",
       "      <td>76</td>\n",
       "      <td>27764.962891</td>\n",
       "      <td>108.913231</td>\n",
       "      <td>37691.777344</td>\n",
       "      <td>151.91954</td>\n",
       "    </tr>\n",
       "  </tbody>\n",
       "</table>\n",
       "</div>"
      ],
      "text/plain": [
       "    epoch          loss         mae      val_loss    val_mae\n",
       "75     76  27764.962891  108.913231  37691.777344  151.91954"
      ]
     },
     "execution_count": 608,
     "metadata": {},
     "output_type": "execute_result"
    }
   ],
   "source": [
    "values_of_best_model = hist_df[hist_df.val_loss == hist_df.val_loss.min()]\n",
    "values_of_best_model"
   ]
  },
  {
   "cell_type": "code",
   "execution_count": 609,
   "metadata": {},
   "outputs": [],
   "source": [
    "pk.dump(scaler, open(checkpoint_no + '/' + 'scaler.pkl', 'wb'))"
   ]
  },
  {
   "cell_type": "code",
   "execution_count": 610,
   "metadata": {},
   "outputs": [
    {
     "data": {
      "image/png": "[encoded data removed]",
      "text/plain": [
       "<Figure size 640x480 with 1 Axes>"
      ]
     },
     "metadata": {},
     "output_type": "display_data"
    },
    {
     "data": {
      "image/png": "[encoded data removed]",
      "text/plain": [
       "<Figure size 640x480 with 1 Axes>"
      ]
     },
     "metadata": {},
     "output_type": "display_data"
    }
   ],
   "source": [
    "mae = history.history['mae']\n",
    "val_mae = history.history['val_mae']\n",
    "loss = history.history['loss']\n",
    "val_loss = history.history['val_loss']\n",
    "\n",
    "epochs = range(1, len(mae) + 1)\n",
    "\n",
    "plt.plot(epochs, mae, 'bo', label='Training MAE')\n",
    "plt.plot(epochs, val_mae, 'b', label='Validation MAE')\n",
    "plt.title('Training and validation MAE')\n",
    "plt.legend()\n",
    "\n",
    "plt.figure()\n",
    "\n",
    "plt.plot(epochs, loss, 'bo', label='Training loss')\n",
    "plt.plot(epochs, val_loss, 'b', label='Validation loss')\n",
    "plt.title('Training and validation loss')\n",
    "plt.legend()\n",
    "\n",
    "plt.show()"
   ]
  },
  {
   "cell_type": "code",
   "execution_count": 625,
   "metadata": {},
   "outputs": [],
   "source": [
    "def build_model():\n",
    "    model = models.Sequential()\n",
    "    model.add(layers.Dense(64, activation='relu',\n",
    "                           input_shape=(input_shape,)))\n",
    "    model.add(layers.Dense(64, activation='relu'))\n",
    "    model.add(layers.Dense(64, activation='relu'))\n",
    "    model.add(layers.Dense(1))\n",
    "    model.compile(loss='mse', optimizer='rmsprop', metrics=['mae'])\n",
    "    return model"
   ]
  },
  {
   "cell_type": "code",
   "execution_count": 626,
   "metadata": {},
   "outputs": [
    {
     "name": "stdout",
     "output_type": "stream",
     "text": [
      "Processing Fold 0\n",
      "MAE: 104.9290542602539\n",
      "========================\n",
      "Processing Fold 1\n",
      "MAE: 108.23926544189453\n",
      "========================\n",
      "Processing Fold 2\n",
      "MAE: 107.94243621826172\n",
      "========================\n",
      "Processing Fold 3\n",
      "MAE: 106.24188995361328\n",
      "========================\n",
      "Processing Fold 4\n",
      "MAE: 115.6300048828125\n",
      "========================\n"
     ]
    }
   ],
   "source": [
    "k = 5\n",
    "num_val_samples = len(trainX) // k\n",
    "all_scores = []\n",
    "for i in range(k):\n",
    "    print('Processing Fold', i)\n",
    "    val_data = trainX_scaled[i * num_val_samples: (i + 1) * num_val_samples]\n",
    "    val_targets = trainY[i * num_val_samples: (i + 1) * num_val_samples]\n",
    "\n",
    "    partial_train_data = np.concatenate(\n",
    "        [trainX_scaled[:i * num_val_samples],\n",
    "         trainX_scaled[(i + 1) * num_val_samples:]],\n",
    "        axis=0)\n",
    "    partial_train_targets = np.concatenate(\n",
    "        [trainY[:i * num_val_samples],\n",
    "         trainY[(i + 1) * num_val_samples:]],\n",
    "        axis=0)\n",
    "\n",
    "    model = build_model()\n",
    "    model.fit(partial_train_data, partial_train_targets,\n",
    "              epochs=n_epochs, batch_size=n_batch_size, verbose=0)\n",
    "    val_mse, val_mae = model.evaluate(val_data, val_targets, verbose=0)\n",
    "    all_scores.append(val_mae)\n",
    "    print('MAE: ' + str(val_mae))\n",
    "    print('========================')\n"
   ]
  },
  {
   "cell_type": "code",
   "execution_count": 627,
   "metadata": {},
   "outputs": [
    {
     "name": "stdout",
     "output_type": "stream",
     "text": [
      "Fold 0: MAE of 104.9290542602539\n",
      "Fold 1: MAE of 108.23926544189453\n",
      "Fold 2: MAE of 107.94243621826172\n",
      "Fold 3: MAE of 106.24188995361328\n",
      "Fold 4: MAE of 115.6300048828125\n",
      "Mean MAE of all folds: 108.59653015136719\n"
     ]
    }
   ],
   "source": [
    "for i, val in enumerate(all_scores):\n",
    "    print('Fold ' + str(i) +': ' + 'MAE of', val)\n",
    "\n",
    "print('Mean MAE of all folds: ' + str(np.mean(all_scores)))"
   ]
  },
  {
   "cell_type": "code",
   "execution_count": 628,
   "metadata": {},
   "outputs": [
    {
     "name": "stdout",
     "output_type": "stream",
     "text": [
      "Processing Fold 0\n",
      "Processing Fold 1\n",
      "Processing Fold 2\n",
      "Processing Fold 3\n",
      "Processing Fold 4\n"
     ]
    }
   ],
   "source": [
    "all_mae_histories = []\n",
    "for i in range(k):\n",
    "    print('Processing Fold', i)\n",
    "    val_data = trainX_scaled[i * num_val_samples: (i + 1) * num_val_samples]\n",
    "    val_targets = trainY[i * num_val_samples: (i + 1) * num_val_samples]\n",
    "    partial_train_data = np.concatenate(\n",
    "        [trainX_scaled[:i * num_val_samples],\n",
    "         trainX_scaled[(i + 1) * num_val_samples:]],\n",
    "        axis=0)\n",
    "    partial_train_targets = np.concatenate(\n",
    "        [trainY[:i * num_val_samples],\n",
    "         trainY[(i + 1) * num_val_samples:]],\n",
    "        axis=0)\n",
    "\n",
    "    model = build_model()\n",
    "    history = model.fit(partial_train_data, partial_train_targets,\n",
    "                        validation_data=(val_data, val_targets),\n",
    "                        epochs=n_epochs, batch_size=n_batch_size, verbose=0)\n",
    "    mae_history = history.history['val_mae']\n",
    "    all_mae_histories.append(mae_history)"
   ]
  },
  {
   "cell_type": "code",
   "execution_count": 629,
   "metadata": {},
   "outputs": [
    {
     "data": {
      "text/plain": [
       "150"
      ]
     },
     "execution_count": 629,
     "metadata": {},
     "output_type": "execute_result"
    }
   ],
   "source": [
    "average_mae_history = [np.mean([x[i] for x in all_mae_histories]) for i in range(n_epochs)]\n",
    "\n",
    "len(average_mae_history)"
   ]
  },
  {
   "cell_type": "code",
   "execution_count": 630,
   "metadata": {},
   "outputs": [
    {
     "data": {
      "image/png": "[encoded data removed]",
      "text/plain": [
       "<Figure size 640x480 with 1 Axes>"
      ]
     },
     "metadata": {},
     "output_type": "display_data"
    }
   ],
   "source": [
    "plt.plot(range(1, len(average_mae_history) + 1), average_mae_history)\n",
    "plt.title('Validation MAE per Epoch')\n",
    "plt.xlabel('Epochs')\n",
    "plt.ylabel('Validation MAE')\n",
    "plt.show()"
   ]
  },
  {
   "cell_type": "code",
   "execution_count": 633,
   "metadata": {},
   "outputs": [
    {
     "ename": "OSError",
     "evalue": "No file or directory found at ckpt_1_ANN/dnl_forcast_ANN",
     "output_type": "error",
     "traceback": [
      "\u001b[0;31m---------------------------------------------------------------------------\u001b[0m",
      "\u001b[0;31mOSError\u001b[0m                                   Traceback (most recent call last)",
      "\u001b[1;32m/Users/saraabouelella/dev/Python/NREL-Data/read_data.ipynb Cell 31\u001b[0m line \u001b[0;36m1\n\u001b[0;32m----> <a href='vscode-notebook-cell:/Users/saraabouelella/dev/Python/NREL-Data/read_data.ipynb#X31sZmlsZQ%3D%3D?line=0'>1</a>\u001b[0m model_reloaded \u001b[39m=\u001b[39m load_model(checkpoint_no \u001b[39m+\u001b[39;49m \u001b[39m'\u001b[39;49m\u001b[39m/\u001b[39;49m\u001b[39m'\u001b[39;49m \u001b[39m+\u001b[39;49m model_name)\n\u001b[1;32m      <a href='vscode-notebook-cell:/Users/saraabouelella/dev/Python/NREL-Data/read_data.ipynb#X31sZmlsZQ%3D%3D?line=2'>3</a>\u001b[0m \u001b[39m# Saving the best model in the correct path and format\u001b[39;00m\n\u001b[1;32m      <a href='vscode-notebook-cell:/Users/saraabouelella/dev/Python/NREL-Data/read_data.ipynb#X31sZmlsZQ%3D%3D?line=3'>4</a>\u001b[0m root_directory \u001b[39m=\u001b[39m os\u001b[39m.\u001b[39mgetcwd()\n",
      "File \u001b[0;32m~/anaconda3/envs/nrel311/lib/python3.11/site-packages/keras/src/saving/saving_api.py:262\u001b[0m, in \u001b[0;36mload_model\u001b[0;34m(filepath, custom_objects, compile, safe_mode, **kwargs)\u001b[0m\n\u001b[1;32m    254\u001b[0m     \u001b[39mreturn\u001b[39;00m saving_lib\u001b[39m.\u001b[39mload_model(\n\u001b[1;32m    255\u001b[0m         filepath,\n\u001b[1;32m    256\u001b[0m         custom_objects\u001b[39m=\u001b[39mcustom_objects,\n\u001b[1;32m    257\u001b[0m         \u001b[39mcompile\u001b[39m\u001b[39m=\u001b[39m\u001b[39mcompile\u001b[39m,\n\u001b[1;32m    258\u001b[0m         safe_mode\u001b[39m=\u001b[39msafe_mode,\n\u001b[1;32m    259\u001b[0m     )\n\u001b[1;32m    261\u001b[0m \u001b[39m# Legacy case.\u001b[39;00m\n\u001b[0;32m--> 262\u001b[0m \u001b[39mreturn\u001b[39;00m legacy_sm_saving_lib\u001b[39m.\u001b[39;49mload_model(\n\u001b[1;32m    263\u001b[0m     filepath, custom_objects\u001b[39m=\u001b[39;49mcustom_objects, \u001b[39mcompile\u001b[39;49m\u001b[39m=\u001b[39;49m\u001b[39mcompile\u001b[39;49m, \u001b[39m*\u001b[39;49m\u001b[39m*\u001b[39;49mkwargs\n\u001b[1;32m    264\u001b[0m )\n",
      "File \u001b[0;32m~/anaconda3/envs/nrel311/lib/python3.11/site-packages/keras/src/utils/traceback_utils.py:70\u001b[0m, in \u001b[0;36mfilter_traceback.<locals>.error_handler\u001b[0;34m(*args, **kwargs)\u001b[0m\n\u001b[1;32m     67\u001b[0m     filtered_tb \u001b[39m=\u001b[39m _process_traceback_frames(e\u001b[39m.\u001b[39m__traceback__)\n\u001b[1;32m     68\u001b[0m     \u001b[39m# To get the full stack trace, call:\u001b[39;00m\n\u001b[1;32m     69\u001b[0m     \u001b[39m# `tf.debugging.disable_traceback_filtering()`\u001b[39;00m\n\u001b[0;32m---> 70\u001b[0m     \u001b[39mraise\u001b[39;00m e\u001b[39m.\u001b[39mwith_traceback(filtered_tb) \u001b[39mfrom\u001b[39;00m \u001b[39mNone\u001b[39;00m\n\u001b[1;32m     71\u001b[0m \u001b[39mfinally\u001b[39;00m:\n\u001b[1;32m     72\u001b[0m     \u001b[39mdel\u001b[39;00m filtered_tb\n",
      "File \u001b[0;32m~/anaconda3/envs/nrel311/lib/python3.11/site-packages/keras/src/saving/legacy/save.py:234\u001b[0m, in \u001b[0;36mload_model\u001b[0;34m(filepath, custom_objects, compile, options)\u001b[0m\n\u001b[1;32m    232\u001b[0m \u001b[39mif\u001b[39;00m \u001b[39misinstance\u001b[39m(filepath_str, \u001b[39mstr\u001b[39m):\n\u001b[1;32m    233\u001b[0m     \u001b[39mif\u001b[39;00m \u001b[39mnot\u001b[39;00m tf\u001b[39m.\u001b[39mio\u001b[39m.\u001b[39mgfile\u001b[39m.\u001b[39mexists(filepath_str):\n\u001b[0;32m--> 234\u001b[0m         \u001b[39mraise\u001b[39;00m \u001b[39mIOError\u001b[39;00m(\n\u001b[1;32m    235\u001b[0m             \u001b[39mf\u001b[39m\u001b[39m\"\u001b[39m\u001b[39mNo file or directory found at \u001b[39m\u001b[39m{\u001b[39;00mfilepath_str\u001b[39m}\u001b[39;00m\u001b[39m\"\u001b[39m\n\u001b[1;32m    236\u001b[0m         )\n\u001b[1;32m    238\u001b[0m     \u001b[39mif\u001b[39;00m tf\u001b[39m.\u001b[39mio\u001b[39m.\u001b[39mgfile\u001b[39m.\u001b[39misdir(filepath_str):\n\u001b[1;32m    239\u001b[0m         \u001b[39mreturn\u001b[39;00m saved_model_load\u001b[39m.\u001b[39mload(\n\u001b[1;32m    240\u001b[0m             filepath_str, \u001b[39mcompile\u001b[39m, options\n\u001b[1;32m    241\u001b[0m         )\n",
      "\u001b[0;31mOSError\u001b[0m: No file or directory found at ckpt_1_ANN/dnl_forcast_ANN"
     ]
    }
   ],
   "source": [
    "model_reloaded = load_model(checkpoint_no + '/' + model_name)\n",
    "\n",
    "# Saving the best model in the correct path and format\n",
    "root_directory = os.getcwd()\n",
    "checkpoint_dir = os.path.join(root_directory, checkpoint_no)\n",
    "model_name_temp = os.path.join(checkpoint_dir, model_name + '.h5')\n",
    "model_reloaded.save(model_name_temp)\n",
    "\n",
    "# Deletion of the automatically created folder under Model Checkpoint File.\n",
    "folder_name_temp = os.path.join(checkpoint_dir, model_name)\n",
    "shutil.rmtree(folder_name_temp, ignore_errors=True)\n",
    "best_model = load_model(model_name_temp)"
   ]
  },
  {
   "cell_type": "code",
   "execution_count": 634,
   "metadata": {},
   "outputs": [
    {
     "name": "stdout",
     "output_type": "stream",
     "text": [
      "15/15 [==============================] - 0s 587us/step - loss: 29121.5410 - mae: 112.3406\n",
      "\n",
      "Test MAE: 112.340576171875\n"
     ]
    }
   ],
   "source": [
    "test_loss, test_mae = best_model.evaluate(testX_scaled, testY, steps=n_test_steps)\n",
    "print()\n",
    "print('Test MAE:', test_mae)"
   ]
  },
  {
   "cell_type": "code",
   "execution_count": 635,
   "metadata": {},
   "outputs": [
    {
     "name": "stdout",
     "output_type": "stream",
     "text": [
      "100/100 [==============================] - 0s 331us/step\n"
     ]
    },
    {
     "data": {
      "text/plain": [
       "array([[956.19037 ],\n",
       "       [-15.93206 ],\n",
       "       [-28.181282],\n",
       "       [293.3748  ],\n",
       "       [825.45374 ]], dtype=float32)"
      ]
     },
     "execution_count": 635,
     "metadata": {},
     "output_type": "execute_result"
    }
   ],
   "source": [
    "y_pred = model.predict(testX_scaled)\n",
    "y_pred[:5]"
   ]
  },
  {
   "cell_type": "code",
   "execution_count": 636,
   "metadata": {},
   "outputs": [
    {
     "data": {
      "text/html": [
       "<div>\n",
       "<style scoped>\n",
       "    .dataframe tbody tr th:only-of-type {\n",
       "        vertical-align: middle;\n",
       "    }\n",
       "\n",
       "    .dataframe tbody tr th {\n",
       "        vertical-align: top;\n",
       "    }\n",
       "\n",
       "    .dataframe thead th {\n",
       "        text-align: right;\n",
       "    }\n",
       "</style>\n",
       "<table border=\"1\" class=\"dataframe\">\n",
       "  <thead>\n",
       "    <tr style=\"text-align: right;\">\n",
       "      <th></th>\n",
       "      <th>Actual</th>\n",
       "      <th>Predicted</th>\n",
       "    </tr>\n",
       "  </thead>\n",
       "  <tbody>\n",
       "    <tr>\n",
       "      <th>0</th>\n",
       "      <td>1026.0</td>\n",
       "      <td>956.190369</td>\n",
       "    </tr>\n",
       "    <tr>\n",
       "      <th>1</th>\n",
       "      <td>0.0</td>\n",
       "      <td>-15.932060</td>\n",
       "    </tr>\n",
       "    <tr>\n",
       "      <th>2</th>\n",
       "      <td>0.0</td>\n",
       "      <td>-28.181282</td>\n",
       "    </tr>\n",
       "    <tr>\n",
       "      <th>3</th>\n",
       "      <td>265.0</td>\n",
       "      <td>293.374786</td>\n",
       "    </tr>\n",
       "    <tr>\n",
       "      <th>4</th>\n",
       "      <td>964.0</td>\n",
       "      <td>825.453735</td>\n",
       "    </tr>\n",
       "    <tr>\n",
       "      <th>...</th>\n",
       "      <td>...</td>\n",
       "      <td>...</td>\n",
       "    </tr>\n",
       "    <tr>\n",
       "      <th>3172</th>\n",
       "      <td>1009.0</td>\n",
       "      <td>989.803833</td>\n",
       "    </tr>\n",
       "    <tr>\n",
       "      <th>3173</th>\n",
       "      <td>981.0</td>\n",
       "      <td>925.768188</td>\n",
       "    </tr>\n",
       "    <tr>\n",
       "      <th>3174</th>\n",
       "      <td>0.0</td>\n",
       "      <td>-1.433221</td>\n",
       "    </tr>\n",
       "    <tr>\n",
       "      <th>3175</th>\n",
       "      <td>29.0</td>\n",
       "      <td>188.792389</td>\n",
       "    </tr>\n",
       "    <tr>\n",
       "      <th>3176</th>\n",
       "      <td>158.0</td>\n",
       "      <td>267.790649</td>\n",
       "    </tr>\n",
       "  </tbody>\n",
       "</table>\n",
       "<p>3177 rows × 2 columns</p>\n",
       "</div>"
      ],
      "text/plain": [
       "      Actual   Predicted\n",
       "0     1026.0  956.190369\n",
       "1        0.0  -15.932060\n",
       "2        0.0  -28.181282\n",
       "3      265.0  293.374786\n",
       "4      964.0  825.453735\n",
       "...      ...         ...\n",
       "3172  1009.0  989.803833\n",
       "3173   981.0  925.768188\n",
       "3174     0.0   -1.433221\n",
       "3175    29.0  188.792389\n",
       "3176   158.0  267.790649\n",
       "\n",
       "[3177 rows x 2 columns]"
      ]
     },
     "execution_count": 636,
     "metadata": {},
     "output_type": "execute_result"
    }
   ],
   "source": [
    "df_testY = pd.DataFrame(testY)\n",
    "df_y_pred = pd.DataFrame(y_pred)\n",
    "\n",
    "df_testY.reset_index(drop=True, inplace=True)\n",
    "df_y_pred.reset_index(drop=True, inplace=True)\n",
    "\n",
    "df_results = pd.concat([df_testY, df_y_pred], axis=1)\n",
    "df_results.columns = ['Actual', 'Predicted']\n",
    "\n",
    "df_results"
   ]
  },
  {
   "cell_type": "code",
   "execution_count": null,
   "metadata": {},
   "outputs": [],
   "source": []
  },
  {
   "cell_type": "code",
   "execution_count": 637,
   "metadata": {},
   "outputs": [
    {
     "name": "stdout",
     "output_type": "stream",
     "text": [
      "Neural Network\n",
      "Mean Absolute Error: 110.7631924237832\n",
      "Mean Squared Error: 29200.070978267722\n",
      "Root Mean Squared Error: 170.8802825906714\n",
      "Mean Absolute Percentage Error: 6.623092454945491e+16\n",
      "=================================================================\n",
      "\n",
      "Linear Regression\n",
      "Mean Absolute Error: 121.09410653734832\n",
      "Mean Squared Error: 30894.657464090058\n",
      "Root Mean Squared Error: 175.76876134310686\n",
      "Mean Absolute Percentage Error: 9.689863255563592e+16\n",
      "=================================================================\n",
      "\n",
      "SVR\n",
      "Mean Absolute Error: 252.1271735758908\n",
      "Mean Squared Error: 88746.9671952672\n",
      "Root Mean Squared Error: 297.904292005448\n",
      "Mean Absolute Percentage Error: 2.4056939178843744e+17\n"
     ]
    }
   ],
   "source": [
    "print(\"Neural Network\")\n",
    "print('Mean Absolute Error:', metrics.mean_absolute_error(testY, y_pred))\n",
    "print('Mean Squared Error:', metrics.mean_squared_error(testY, y_pred))\n",
    "print('Root Mean Squared Error:', metrics.mean_squared_error(testY, y_pred, squared=False))\n",
    "print('Mean Absolute Percentage Error:', metrics.mean_absolute_percentage_error(testY, y_pred))\n",
    "print(\"=================================================================\\n\")\n",
    "\n",
    "print(\"Linear Regression\")\n",
    "print('Mean Absolute Error:', metrics.mean_absolute_error(testY, y_pred_linreg))\n",
    "print('Mean Squared Error:', metrics.mean_squared_error(testY, y_pred_linreg))\n",
    "print('Root Mean Squared Error:', metrics.mean_squared_error(testY, y_pred_linreg, squared=False))\n",
    "print('Mean Absolute Percentage Error:', metrics.mean_absolute_percentage_error(testY, y_pred_linreg))\n",
    "print(\"=================================================================\\n\")\n",
    "\n",
    "print(\"SVR\")\n",
    "print('Mean Absolute Error:', metrics.mean_absolute_error(testY, y_pred_svr))\n",
    "print('Mean Squared Error:', metrics.mean_squared_error(testY, y_pred_svr))\n",
    "print('Root Mean Squared Error:', metrics.mean_squared_error(testY, y_pred_svr, squared=False))\n",
    "print('Mean Absolute Percentage Error:', metrics.mean_absolute_percentage_error(testY, y_pred_svr))\n"
   ]
  },
  {
   "cell_type": "code",
   "execution_count": 638,
   "metadata": {},
   "outputs": [
    {
     "name": "stdout",
     "output_type": "stream",
     "text": [
      "DatetimeIndex(['2010-09-02 08:00:00', '2010-09-02 08:30:00',\n",
      "               '2010-09-02 09:00:00', '2010-09-02 09:30:00',\n",
      "               '2010-09-02 10:00:00', '2010-09-02 10:30:00',\n",
      "               '2010-09-02 11:00:00', '2010-09-02 11:30:00',\n",
      "               '2010-09-02 12:00:00', '2010-09-02 12:30:00',\n",
      "               ...\n",
      "               '2010-12-31 14:30:00', '2010-12-31 15:00:00',\n",
      "               '2010-12-31 15:30:00', '2010-12-31 16:00:00',\n",
      "               '2010-12-31 16:30:00', '2010-12-31 17:00:00',\n",
      "               '2010-12-31 17:30:00', '2010-12-31 18:00:00',\n",
      "               '2010-12-31 18:30:00', '2010-12-31 19:00:00'],\n",
      "              dtype='datetime64[ns]', length=3503, freq=None)\n"
     ]
    }
   ],
   "source": [
    "# make the time stamp matches the test Y\n",
    "shifted_df = df.iloc[8:, :]\n",
    "bad_df = shifted_df.isin(shifted_df.iloc[zero_index, :])\n",
    "df_zero_deleted = shifted_df[~bad_df].dropna()\n",
    "df_zero_deleted.shape\n",
    "timest = df_zero_deleted.index[-test_size:]\n",
    "print(timest)"
   ]
  },
  {
   "cell_type": "code",
   "execution_count": 639,
   "metadata": {},
   "outputs": [
    {
     "name": "stdout",
     "output_type": "stream",
     "text": [
      "min error  60.14506650290319\n",
      "position of best day  27\n"
     ]
    },
    {
     "data": {
      "text/plain": [
       "771"
      ]
     },
     "execution_count": 639,
     "metadata": {},
     "output_type": "execute_result"
    }
   ],
   "source": [
    "#get the best day!\n",
    "k = 22\n",
    "day_long = 28\n",
    "day1 = y_pred[:k]\n",
    "err =[]\n",
    "err.append(metrics.mean_absolute_error(testY[:k], y_pred[:k]))\n",
    "for i in range(k, y_pred.shape[0], day_long):\n",
    "    err.append(metrics.mean_absolute_error(testY[i:i+day_long], y_pred[i:i+day_long]))\n",
    "print(\"min error \", min(err))\n",
    "print(\"position of best day \", err.index(min(err)))\n",
    "day_ind = 28 * (err.index(min(err))) + 15\n",
    "day_ind\n"
   ]
  },
  {
   "cell_type": "code",
   "execution_count": 640,
   "metadata": {},
   "outputs": [
    {
     "name": "stdout",
     "output_type": "stream",
     "text": [
      "(3503, 1)\n"
     ]
    },
    {
     "data": {
      "image/png": "[encoded data removed]",
      "text/plain": [
       "<Figure size 640x480 with 1 Axes>"
      ]
     },
     "metadata": {},
     "output_type": "display_data"
    }
   ],
   "source": [
    "test_size = len(Y_test)\n",
    "\n",
    "np.reshape(Y_test,Y_test.shape[0])\n",
    "print(Y_test.shape)\n",
    "\n",
    "plt.plot(timest[day_ind:day_ind+day_long], Y_test[day_ind:day_ind+day_long], 'r', label='True')\n",
    "plt.plot(timest[day_ind:day_ind+day_long], y_pred[day_ind:day_ind+day_long], 'b', label='ANN Forcast')\n",
    "# plt.plot(timest[day_ind:day_ind+day_long], y_pred_svr[day_ind:day_ind+day_long], 'y', label='SVR Forcast')\n",
    "# plt.plot(timest[day_ind:day_ind+day_long], y_pred_linreg[day_ind:day_ind+day_long], 'g', label='LinearReg Forcast')\n",
    "plt.xticks(rotation=45, ha='right')\n",
    "plt.legend()\n",
    "plt.show()"
   ]
  },
  {
   "cell_type": "code",
   "execution_count": 547,
   "metadata": {},
   "outputs": [
    {
     "data": {
      "image/png": "[encoded data removed]",
      "text/plain": [
       "<Figure size 640x480 with 1 Axes>"
      ]
     },
     "metadata": {},
     "output_type": "display_data"
    }
   ],
   "source": [
    "from mpl_toolkits.basemap import Basemap\n",
    "import matplotlib.pyplot as plt\n",
    "fig = plt.figure() \n",
    "m = Basemap(projection='merc', lat_0 = p1_lat, lon_0 = p1_lon,\n",
    "    resolution = 'h', area_thresh = 0.1,\n",
    "    llcrnrlon=-110, llcrnrlat=36,\n",
    "    urcrnrlon=-101, urcrnrlat=42)\n",
    "\n",
    "m.bluemarble()\n",
    "m.drawstates()\n",
    "m.drawcounties()\n",
    "x,y = m(p1_lon, p1_lat)\n",
    "# m.plot(x,y, 'bo', markersize=5)\n",
    "\n",
    "# plt.show()"
   ]
  },
  {
   "cell_type": "code",
   "execution_count": 574,
   "metadata": {},
   "outputs": [],
   "source": [
    "import pickle\n",
    "y_pred_list = list(np.reshape(y_pred,y_pred.shape[0]))\n",
    "# print(y_pred_list)\n",
    "\n",
    "with open(\"pred_nn\", \"wb\") as fp:   #Pickling\n",
    "    pickle.dump(y_pred_list, fp)"
   ]
  },
  {
   "cell_type": "code",
   "execution_count": 572,
   "metadata": {},
   "outputs": [
    {
     "data": {
      "image/png": "[encoded data removed]",
      "text/plain": [
       "<Figure size 640x480 with 1 Axes>"
      ]
     },
     "metadata": {},
     "output_type": "display_data"
    }
   ],
   "source": [
    "################# Skip this cell, it worked better in a sperete file ####################\n",
    "import matplotlib.animation as animation \n",
    "from matplotlib.animation import PillowWriter\n",
    "\n",
    "point = m.plot(x, y, 'ro', markersize=5)[0]\n",
    "\n",
    "def init(): \n",
    "    point.set_markersize(0)\n",
    "    return point,\n",
    "\n",
    "# animation function.  This is called sequentially\n",
    "def animate(i):\n",
    "    s = 0.05 * i\n",
    "    # point.set_linewidth(s)\n",
    "    # m = Basemap(projection='merc', lat_0 = p1_lat, lon_0 = p1_lon, resolution = 'h', area_thresh = 0.1, llcrnrlon=-110, llcrnrlat=36, urcrnrlon=-101, urcrnrlat=42)\n",
    "    point.set_markersize(s)\n",
    "    return point, \n",
    "    # m.bluemarble()\n",
    "    # m.drawstates()\n",
    "    # m.drawcounties()\n",
    "    \n",
    "    # x,y = m(p1_lon, p1_lat)\n",
    "    # m.plot(x, y, 'yo', markersize=s)\n",
    "\n",
    "anim = animation.FuncAnimation(plt.gcf(), animate, init_func = init, frames = y_pred_list, interval = 20, blit = True)\n",
    "# writer = PillowWriter(fps=30)\n",
    "# anim.save(\"myMap.gif\", writer=writer)\n",
    "\n",
    "# plt.tight_layout()\n",
    "plt.show()\n",
    "# anim.save('animatedMap.mp4', writer = 'sa', fps = 30)"
   ]
  },
  {
   "cell_type": "code",
   "execution_count": null,
   "metadata": {},
   "outputs": [],
   "source": []
  }
 ],
 "metadata": {
  "kernelspec": {
   "display_name": "nreldata",
   "language": "python",
   "name": "python3"
  },
  "language_info": {
   "codemirror_mode": {
    "name": "ipython",
    "version": 3
   },
   "file_extension": ".py",
   "mimetype": "text/x-python",
   "name": "python",
   "nbconvert_exporter": "python",
   "pygments_lexer": "ipython3",
   "version": "3.11.5"
  }
 },
 "nbformat": 4,
 "nbformat_minor": 2
}
